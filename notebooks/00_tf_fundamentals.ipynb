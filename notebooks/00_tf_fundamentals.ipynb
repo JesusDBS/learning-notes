{
  "nbformat": 4,
  "nbformat_minor": 0,
  "metadata": {
    "colab": {
      "provenance": [],
      "toc_visible": true,
      "authorship_tag": "ABX9TyO8QVpSXMNc2j4S5oTIdasB",
      "include_colab_link": true
    },
    "kernelspec": {
      "name": "python3",
      "display_name": "Python 3"
    },
    "language_info": {
      "name": "python"
    },
    "gpuClass": "standard"
  },
  "cells": [
    {
      "cell_type": "markdown",
      "metadata": {
        "id": "view-in-github",
        "colab_type": "text"
      },
      "source": [
        "<a href=\"https://colab.research.google.com/github/JesusDBS/learning-notes/blob/main/notebooks/00_tf_fundamentals.ipynb\" target=\"_parent\"><img src=\"https://colab.research.google.com/assets/colab-badge.svg\" alt=\"Open In Colab\"/></a>"
      ]
    },
    {
      "cell_type": "markdown",
      "source": [
        "# This notebook covers the basic usage of tensorflow\n",
        "\n",
        "Specifically:\n",
        "* Introduction to tensors\n",
        "* Getting information from tensors\n",
        "* Manipulating tensors\n",
        "* Tensors & NumPy\n",
        "* Using @tf.function (a way to speed up regular Python functions)\n"
      ],
      "metadata": {
        "id": "tbITWSo701_P"
      }
    },
    {
      "cell_type": "markdown",
      "source": [
        "## Introduction to Tensors"
      ],
      "metadata": {
        "id": "BJZSGYg-1DAO"
      }
    },
    {
      "cell_type": "code",
      "source": [
        "# Import Tensorflow\n",
        "import tensorflow as tf\n",
        "print(tf.__version__)"
      ],
      "metadata": {
        "colab": {
          "base_uri": "https://localhost:8080/"
        },
        "id": "dD557-Bb1Dyt",
        "outputId": "79450dcd-e5cb-43a4-d171-2ccd8d70f81d"
      },
      "execution_count": null,
      "outputs": [
        {
          "output_type": "stream",
          "name": "stdout",
          "text": [
            "2.11.0\n"
          ]
        }
      ]
    },
    {
      "cell_type": "code",
      "source": [
        "# Create tensors with tf.constant()\n",
        "scalar = tf.constant(8)\n",
        "scalar"
      ],
      "metadata": {
        "colab": {
          "base_uri": "https://localhost:8080/"
        },
        "id": "gc0ZzEHJ2h5H",
        "outputId": "0a484e6f-c68b-4abb-f235-8d78ae2980c4"
      },
      "execution_count": null,
      "outputs": [
        {
          "output_type": "execute_result",
          "data": {
            "text/plain": [
              "<tf.Tensor: shape=(), dtype=int32, numpy=8>"
            ]
          },
          "metadata": {},
          "execution_count": 181
        }
      ]
    },
    {
      "cell_type": "code",
      "source": [
        "# Check the number of dimensions of a tensor (ndim stands for number of dimensions)\n",
        "scalar.ndim"
      ],
      "metadata": {
        "colab": {
          "base_uri": "https://localhost:8080/"
        },
        "id": "nMUM7Yea3Gbg",
        "outputId": "00f74249-d984-4287-c3d4-640c5b5d5655"
      },
      "execution_count": null,
      "outputs": [
        {
          "output_type": "execute_result",
          "data": {
            "text/plain": [
              "0"
            ]
          },
          "metadata": {},
          "execution_count": 182
        }
      ]
    },
    {
      "cell_type": "code",
      "source": [
        "# Create a vector\n",
        "vector = tf.constant([10, 10])\n",
        "vector"
      ],
      "metadata": {
        "colab": {
          "base_uri": "https://localhost:8080/"
        },
        "id": "-1PZZ90-4dmf",
        "outputId": "6f968067-4b80-419c-b835-fb92e7254b6a"
      },
      "execution_count": null,
      "outputs": [
        {
          "output_type": "execute_result",
          "data": {
            "text/plain": [
              "<tf.Tensor: shape=(2,), dtype=int32, numpy=array([10, 10], dtype=int32)>"
            ]
          },
          "metadata": {},
          "execution_count": 183
        }
      ]
    },
    {
      "cell_type": "code",
      "source": [
        "# Check the dimensions of a vector\n",
        "vector.ndim"
      ],
      "metadata": {
        "colab": {
          "base_uri": "https://localhost:8080/"
        },
        "id": "BigRjQui47Lj",
        "outputId": "b2e875b5-fb68-4bae-e8a9-4566ee907867"
      },
      "execution_count": null,
      "outputs": [
        {
          "output_type": "execute_result",
          "data": {
            "text/plain": [
              "1"
            ]
          },
          "metadata": {},
          "execution_count": 184
        }
      ]
    },
    {
      "cell_type": "code",
      "source": [
        "# Create a matrix (has more than 1 dim)\n",
        "matrix = tf.constant([[10, 7],[7, 10]])\n",
        "matrix"
      ],
      "metadata": {
        "colab": {
          "base_uri": "https://localhost:8080/"
        },
        "id": "xCMX8qA_5Qg3",
        "outputId": "ccad4b70-1d18-498c-b05f-c15f631ab41b"
      },
      "execution_count": null,
      "outputs": [
        {
          "output_type": "execute_result",
          "data": {
            "text/plain": [
              "<tf.Tensor: shape=(2, 2), dtype=int32, numpy=\n",
              "array([[10,  7],\n",
              "       [ 7, 10]], dtype=int32)>"
            ]
          },
          "metadata": {},
          "execution_count": 185
        }
      ]
    },
    {
      "cell_type": "code",
      "source": [
        "matrix.ndim"
      ],
      "metadata": {
        "colab": {
          "base_uri": "https://localhost:8080/"
        },
        "id": "RVWAZ3HW5u0n",
        "outputId": "b2790b70-d85e-468b-e0d2-5611869796a5"
      },
      "execution_count": null,
      "outputs": [
        {
          "output_type": "execute_result",
          "data": {
            "text/plain": [
              "2"
            ]
          },
          "metadata": {},
          "execution_count": 186
        }
      ]
    },
    {
      "cell_type": "code",
      "source": [
        "second_matrix = tf.constant([[10., 7.],[3., 2.], [8., 9.]], dtype=tf.float16) #specify the data type with dtype parameter\n",
        "second_matrix #The higher the number of precision, the more exact these numbers are stored on your PC"
      ],
      "metadata": {
        "colab": {
          "base_uri": "https://localhost:8080/"
        },
        "id": "CNwgYvjR6DD2",
        "outputId": "be75ef22-84e0-436d-d548-f75f6d45b17f"
      },
      "execution_count": null,
      "outputs": [
        {
          "output_type": "execute_result",
          "data": {
            "text/plain": [
              "<tf.Tensor: shape=(3, 2), dtype=float16, numpy=\n",
              "array([[10.,  7.],\n",
              "       [ 3.,  2.],\n",
              "       [ 8.,  9.]], dtype=float16)>"
            ]
          },
          "metadata": {},
          "execution_count": 187
        }
      ]
    },
    {
      "cell_type": "code",
      "source": [
        "# Lets create a tensor\n",
        "tensor = tf.constant([[[1,2,3],\n",
        "                      [4,5,6]],\n",
        "                      [[7,8,9],\n",
        "                       [10, 11, 12]],\n",
        "                      [[13,14,15],\n",
        "                       [16,17,18]]])\n",
        "tensor"
      ],
      "metadata": {
        "colab": {
          "base_uri": "https://localhost:8080/"
        },
        "id": "D5Nby-Ka8pRS",
        "outputId": "dd562673-cabd-46f7-b625-515fa1fa3389"
      },
      "execution_count": null,
      "outputs": [
        {
          "output_type": "execute_result",
          "data": {
            "text/plain": [
              "<tf.Tensor: shape=(3, 2, 3), dtype=int32, numpy=\n",
              "array([[[ 1,  2,  3],\n",
              "        [ 4,  5,  6]],\n",
              "\n",
              "       [[ 7,  8,  9],\n",
              "        [10, 11, 12]],\n",
              "\n",
              "       [[13, 14, 15],\n",
              "        [16, 17, 18]]], dtype=int32)>"
            ]
          },
          "metadata": {},
          "execution_count": 188
        }
      ]
    },
    {
      "cell_type": "code",
      "source": [
        "tensor.ndim"
      ],
      "metadata": {
        "colab": {
          "base_uri": "https://localhost:8080/"
        },
        "id": "dUSTQoav907O",
        "outputId": "d13d44fc-fb4e-4a2d-d04e-172be209b5c8"
      },
      "execution_count": null,
      "outputs": [
        {
          "output_type": "execute_result",
          "data": {
            "text/plain": [
              "3"
            ]
          },
          "metadata": {},
          "execution_count": 189
        }
      ]
    },
    {
      "cell_type": "markdown",
      "source": [
        "What I've created so far:\n",
        "\n",
        "* Scalar: a single number\n",
        "* Vector: a number with direction (e.g wind speed and direction)\n",
        "* Matrix: a 2-dimensional array of numbers\n",
        "* Tensor: an n-dimensional array of numbers (when n can be any number, a 0-dimensional tensor is a scalar, a 1-dimensional tensor is a vector)"
      ],
      "metadata": {
        "id": "gEgECMt3-XjA"
      }
    },
    {
      "cell_type": "markdown",
      "source": [
        "### Creating tensors with `tf.Variable`"
      ],
      "metadata": {
        "id": "rXSDlcVpSpvT"
      }
    },
    {
      "cell_type": "code",
      "source": [
        "changeable_tensor= tf.Variable([10, 7])\n",
        "unchangeable_tensor= tf.constant([10, 7])\n",
        "changeable_tensor, unchangeable_tensor"
      ],
      "metadata": {
        "colab": {
          "base_uri": "https://localhost:8080/"
        },
        "id": "VeSgU-ArS-ep",
        "outputId": "77b6dacd-bf09-46fc-ed87-b914f0709956"
      },
      "execution_count": null,
      "outputs": [
        {
          "output_type": "execute_result",
          "data": {
            "text/plain": [
              "(<tf.Variable 'Variable:0' shape=(2,) dtype=int32, numpy=array([10,  7], dtype=int32)>,\n",
              " <tf.Tensor: shape=(2,), dtype=int32, numpy=array([10,  7], dtype=int32)>)"
            ]
          },
          "metadata": {},
          "execution_count": 190
        }
      ]
    },
    {
      "cell_type": "code",
      "source": [
        "# Trying to change one of the elements in our changeable tensor\n",
        "# changeable_tensor[0] = 7"
      ],
      "metadata": {
        "id": "C4X3CsjSUJNi"
      },
      "execution_count": null,
      "outputs": []
    },
    {
      "cell_type": "code",
      "source": [
        "# Trying with .assign method\n",
        "changeable_tensor[0].assign(7)\n",
        "changeable_tensor"
      ],
      "metadata": {
        "id": "cE6mZD98V_fE",
        "colab": {
          "base_uri": "https://localhost:8080/"
        },
        "outputId": "7910a4b4-7dcf-41e5-ff62-8ac4f0d51ca3"
      },
      "execution_count": null,
      "outputs": [
        {
          "output_type": "execute_result",
          "data": {
            "text/plain": [
              "<tf.Variable 'Variable:0' shape=(2,) dtype=int32, numpy=array([7, 7], dtype=int32)>"
            ]
          },
          "metadata": {},
          "execution_count": 192
        }
      ]
    },
    {
      "cell_type": "code",
      "source": [
        "# Trying change a value in unchangable tensor\n",
        "# unchangeable_tensor[0] = 7"
      ],
      "metadata": {
        "id": "U0zmQXkiWlG7"
      },
      "execution_count": null,
      "outputs": []
    },
    {
      "cell_type": "markdown",
      "source": [
        "### Creating random tensors\n",
        "\n",
        "Random tensors are tensors of some arbitrary size which contain random numbers"
      ],
      "metadata": {
        "id": "7z_NstWVXo8C"
      }
    },
    {
      "cell_type": "code",
      "source": [
        "# Create tow random (but the same) tensors\n",
        "# Those are actually pseudo random numbers\n",
        "random_1 = tf.random.Generator.from_seed(42) #set seed for reproducibility\n",
        "random_1 = random_1.normal(shape=(3,2))\n",
        "random_2 = tf.random.Generator.from_seed(42)\n",
        "random_2 = random_2.normal(shape=(3,2))\n",
        "\n",
        "# Are they equal?\n",
        "random_1, random_2, random_1 == random_2"
      ],
      "metadata": {
        "id": "NMADodS6rPGB",
        "colab": {
          "base_uri": "https://localhost:8080/"
        },
        "outputId": "0553b85b-20a1-43bd-f12c-11f85a4b9f44"
      },
      "execution_count": null,
      "outputs": [
        {
          "output_type": "execute_result",
          "data": {
            "text/plain": [
              "(<tf.Tensor: shape=(3, 2), dtype=float32, numpy=\n",
              " array([[-0.7565803 , -0.06854702],\n",
              "        [ 0.07595026, -1.2573844 ],\n",
              "        [-0.23193763, -1.8107855 ]], dtype=float32)>,\n",
              " <tf.Tensor: shape=(3, 2), dtype=float32, numpy=\n",
              " array([[-0.7565803 , -0.06854702],\n",
              "        [ 0.07595026, -1.2573844 ],\n",
              "        [-0.23193763, -1.8107855 ]], dtype=float32)>,\n",
              " <tf.Tensor: shape=(3, 2), dtype=bool, numpy=\n",
              " array([[ True,  True],\n",
              "        [ True,  True],\n",
              "        [ True,  True]])>)"
            ]
          },
          "metadata": {},
          "execution_count": 194
        }
      ]
    },
    {
      "cell_type": "markdown",
      "source": [
        "### Shuffle the order of elements in a tensor"
      ],
      "metadata": {
        "id": "a50CY3Ilu6WY"
      }
    },
    {
      "cell_type": "code",
      "source": [
        "# Shuffle a tensor (valuable for when you want to shuffle your data so the inherent order doesn't affect the learning)\n",
        "not_shuffled = tf.constant([[10, 7],\n",
        "                            [3, 4],\n",
        "                            [2, 5]])\n",
        "not_shuffled"
      ],
      "metadata": {
        "id": "mM60oQRxvA7_",
        "colab": {
          "base_uri": "https://localhost:8080/"
        },
        "outputId": "58dbff50-b9c7-469f-abfc-df0e3acc4818"
      },
      "execution_count": null,
      "outputs": [
        {
          "output_type": "execute_result",
          "data": {
            "text/plain": [
              "<tf.Tensor: shape=(3, 2), dtype=int32, numpy=\n",
              "array([[10,  7],\n",
              "       [ 3,  4],\n",
              "       [ 2,  5]], dtype=int32)>"
            ]
          },
          "metadata": {},
          "execution_count": 195
        }
      ]
    },
    {
      "cell_type": "code",
      "source": [
        "# Shuffeling tensor\n",
        "tf.random.set_seed(42)\n",
        "tf.random.shuffle(not_shuffled, seed=42)"
      ],
      "metadata": {
        "id": "2iYRSy_HxbbI",
        "colab": {
          "base_uri": "https://localhost:8080/"
        },
        "outputId": "7c313fb5-cd9f-4f58-909e-824c2d2175cb"
      },
      "execution_count": null,
      "outputs": [
        {
          "output_type": "execute_result",
          "data": {
            "text/plain": [
              "<tf.Tensor: shape=(3, 2), dtype=int32, numpy=\n",
              "array([[10,  7],\n",
              "       [ 3,  4],\n",
              "       [ 2,  5]], dtype=int32)>"
            ]
          },
          "metadata": {},
          "execution_count": 196
        }
      ]
    },
    {
      "cell_type": "markdown",
      "source": [
        "### Other way to make tensors"
      ],
      "metadata": {
        "id": "yApHpuWuE6CC"
      }
    },
    {
      "cell_type": "code",
      "source": [
        "# Create a tensor of all ones\n",
        "tf.ones([10, 7])"
      ],
      "metadata": {
        "id": "SSnWwlKuE-xY",
        "colab": {
          "base_uri": "https://localhost:8080/"
        },
        "outputId": "91b28b87-7e4a-42a1-de67-3132ac2328e7"
      },
      "execution_count": null,
      "outputs": [
        {
          "output_type": "execute_result",
          "data": {
            "text/plain": [
              "<tf.Tensor: shape=(10, 7), dtype=float32, numpy=\n",
              "array([[1., 1., 1., 1., 1., 1., 1.],\n",
              "       [1., 1., 1., 1., 1., 1., 1.],\n",
              "       [1., 1., 1., 1., 1., 1., 1.],\n",
              "       [1., 1., 1., 1., 1., 1., 1.],\n",
              "       [1., 1., 1., 1., 1., 1., 1.],\n",
              "       [1., 1., 1., 1., 1., 1., 1.],\n",
              "       [1., 1., 1., 1., 1., 1., 1.],\n",
              "       [1., 1., 1., 1., 1., 1., 1.],\n",
              "       [1., 1., 1., 1., 1., 1., 1.],\n",
              "       [1., 1., 1., 1., 1., 1., 1.]], dtype=float32)>"
            ]
          },
          "metadata": {},
          "execution_count": 197
        }
      ]
    },
    {
      "cell_type": "code",
      "source": [
        "# Create a tensor of all zeros\n",
        "tf.zeros([10, 7])"
      ],
      "metadata": {
        "id": "6cEo49xmFihS",
        "colab": {
          "base_uri": "https://localhost:8080/"
        },
        "outputId": "80cfd69b-ebad-4b6d-a415-f3b6c8ca1b92"
      },
      "execution_count": null,
      "outputs": [
        {
          "output_type": "execute_result",
          "data": {
            "text/plain": [
              "<tf.Tensor: shape=(10, 7), dtype=float32, numpy=\n",
              "array([[0., 0., 0., 0., 0., 0., 0.],\n",
              "       [0., 0., 0., 0., 0., 0., 0.],\n",
              "       [0., 0., 0., 0., 0., 0., 0.],\n",
              "       [0., 0., 0., 0., 0., 0., 0.],\n",
              "       [0., 0., 0., 0., 0., 0., 0.],\n",
              "       [0., 0., 0., 0., 0., 0., 0.],\n",
              "       [0., 0., 0., 0., 0., 0., 0.],\n",
              "       [0., 0., 0., 0., 0., 0., 0.],\n",
              "       [0., 0., 0., 0., 0., 0., 0.],\n",
              "       [0., 0., 0., 0., 0., 0., 0.]], dtype=float32)>"
            ]
          },
          "metadata": {},
          "execution_count": 198
        }
      ]
    },
    {
      "cell_type": "markdown",
      "source": [
        "### Turn Numpy arrays into tensors\n",
        "\n",
        "The main difference between NumPy arrays and TensorFlow tensors is that tensors can be run on a GPU (much faster for numerical computing)."
      ],
      "metadata": {
        "id": "kEc2Mfh1F1T4"
      }
    },
    {
      "cell_type": "code",
      "source": [
        "#You can also turn NumPy arrays into tensors\n",
        "import numpy as np\n",
        "\n",
        "#X = tf.constant(some_matrix) #capitl for matrix or tensor\n",
        "#y = tf.constant(vector) #non-capital for vector"
      ],
      "metadata": {
        "id": "IYsV1UmOGT1e"
      },
      "execution_count": null,
      "outputs": []
    },
    {
      "cell_type": "code",
      "source": [
        "numpy_A = np.arange(1,25,dtype=np.int32) #Create numpy array between 1 nd 25\n",
        "numpy_A"
      ],
      "metadata": {
        "id": "HPzGDbuzG3TN",
        "colab": {
          "base_uri": "https://localhost:8080/"
        },
        "outputId": "72b521a3-4afc-45ad-ec09-cb4c9d3f4179"
      },
      "execution_count": null,
      "outputs": [
        {
          "output_type": "execute_result",
          "data": {
            "text/plain": [
              "array([ 1,  2,  3,  4,  5,  6,  7,  8,  9, 10, 11, 12, 13, 14, 15, 16, 17,\n",
              "       18, 19, 20, 21, 22, 23, 24], dtype=int32)"
            ]
          },
          "metadata": {},
          "execution_count": 200
        }
      ]
    },
    {
      "cell_type": "code",
      "source": [
        "A = tf.constant(numpy_A)\n",
        "A"
      ],
      "metadata": {
        "id": "Lsf_psYgHvqy",
        "colab": {
          "base_uri": "https://localhost:8080/"
        },
        "outputId": "5819b226-dd2a-486a-bff6-ce83d7b557ea"
      },
      "execution_count": null,
      "outputs": [
        {
          "output_type": "execute_result",
          "data": {
            "text/plain": [
              "<tf.Tensor: shape=(24,), dtype=int32, numpy=\n",
              "array([ 1,  2,  3,  4,  5,  6,  7,  8,  9, 10, 11, 12, 13, 14, 15, 16, 17,\n",
              "       18, 19, 20, 21, 22, 23, 24], dtype=int32)>"
            ]
          },
          "metadata": {},
          "execution_count": 201
        }
      ]
    },
    {
      "cell_type": "code",
      "source": [
        "A = tf.constant(numpy_A, shape=(2, 3, 4)) #The multiplication of 2, 3, and 4 is 24 (the original shape of the vector)\n",
        "A"
      ],
      "metadata": {
        "id": "p1K5S5ePIUny",
        "colab": {
          "base_uri": "https://localhost:8080/"
        },
        "outputId": "45c6bd72-2bf7-4989-b2e1-58e84f010704"
      },
      "execution_count": null,
      "outputs": [
        {
          "output_type": "execute_result",
          "data": {
            "text/plain": [
              "<tf.Tensor: shape=(2, 3, 4), dtype=int32, numpy=\n",
              "array([[[ 1,  2,  3,  4],\n",
              "        [ 5,  6,  7,  8],\n",
              "        [ 9, 10, 11, 12]],\n",
              "\n",
              "       [[13, 14, 15, 16],\n",
              "        [17, 18, 19, 20],\n",
              "        [21, 22, 23, 24]]], dtype=int32)>"
            ]
          },
          "metadata": {},
          "execution_count": 202
        }
      ]
    },
    {
      "cell_type": "code",
      "source": [
        "A = tf.constant(numpy_A, shape=(2, 3, 2, 2))\n",
        "A"
      ],
      "metadata": {
        "colab": {
          "base_uri": "https://localhost:8080/"
        },
        "id": "TIyK3jl6ItRs",
        "outputId": "e72e8912-59b6-4b91-ea4f-8e7e68707bc5"
      },
      "execution_count": null,
      "outputs": [
        {
          "output_type": "execute_result",
          "data": {
            "text/plain": [
              "<tf.Tensor: shape=(2, 3, 2, 2), dtype=int32, numpy=\n",
              "array([[[[ 1,  2],\n",
              "         [ 3,  4]],\n",
              "\n",
              "        [[ 5,  6],\n",
              "         [ 7,  8]],\n",
              "\n",
              "        [[ 9, 10],\n",
              "         [11, 12]]],\n",
              "\n",
              "\n",
              "       [[[13, 14],\n",
              "         [15, 16]],\n",
              "\n",
              "        [[17, 18],\n",
              "         [19, 20]],\n",
              "\n",
              "        [[21, 22],\n",
              "         [23, 24]]]], dtype=int32)>"
            ]
          },
          "metadata": {},
          "execution_count": 203
        }
      ]
    },
    {
      "cell_type": "markdown",
      "source": [
        "### Getting information from Tensors\n",
        "\n",
        "When dealing with tensors you probably want to be aware of the following attributes:\n",
        "* Shape\n",
        "* Rank\n",
        "* Axis or dimension\n",
        "* Size"
      ],
      "metadata": {
        "id": "V8B6YeCzYES0"
      }
    },
    {
      "cell_type": "code",
      "source": [
        "# Create  rank 4 tensor (4 dimensions)\n",
        "rank_4_tensor = tf.zeros(shape=[2, 3, 4, 5])\n",
        "rank_4_tensor"
      ],
      "metadata": {
        "colab": {
          "base_uri": "https://localhost:8080/"
        },
        "id": "uW5U6uzqYWCL",
        "outputId": "29477827-be5d-4e4f-a2a0-22ab0c43b4c5"
      },
      "execution_count": null,
      "outputs": [
        {
          "output_type": "execute_result",
          "data": {
            "text/plain": [
              "<tf.Tensor: shape=(2, 3, 4, 5), dtype=float32, numpy=\n",
              "array([[[[0., 0., 0., 0., 0.],\n",
              "         [0., 0., 0., 0., 0.],\n",
              "         [0., 0., 0., 0., 0.],\n",
              "         [0., 0., 0., 0., 0.]],\n",
              "\n",
              "        [[0., 0., 0., 0., 0.],\n",
              "         [0., 0., 0., 0., 0.],\n",
              "         [0., 0., 0., 0., 0.],\n",
              "         [0., 0., 0., 0., 0.]],\n",
              "\n",
              "        [[0., 0., 0., 0., 0.],\n",
              "         [0., 0., 0., 0., 0.],\n",
              "         [0., 0., 0., 0., 0.],\n",
              "         [0., 0., 0., 0., 0.]]],\n",
              "\n",
              "\n",
              "       [[[0., 0., 0., 0., 0.],\n",
              "         [0., 0., 0., 0., 0.],\n",
              "         [0., 0., 0., 0., 0.],\n",
              "         [0., 0., 0., 0., 0.]],\n",
              "\n",
              "        [[0., 0., 0., 0., 0.],\n",
              "         [0., 0., 0., 0., 0.],\n",
              "         [0., 0., 0., 0., 0.],\n",
              "         [0., 0., 0., 0., 0.]],\n",
              "\n",
              "        [[0., 0., 0., 0., 0.],\n",
              "         [0., 0., 0., 0., 0.],\n",
              "         [0., 0., 0., 0., 0.],\n",
              "         [0., 0., 0., 0., 0.]]]], dtype=float32)>"
            ]
          },
          "metadata": {},
          "execution_count": 204
        }
      ]
    },
    {
      "cell_type": "code",
      "source": [
        "rank_4_tensor[0]"
      ],
      "metadata": {
        "colab": {
          "base_uri": "https://localhost:8080/"
        },
        "id": "mEujI44waFtU",
        "outputId": "d03c794b-ec18-4a8b-cf17-b4c2b87cf01a"
      },
      "execution_count": null,
      "outputs": [
        {
          "output_type": "execute_result",
          "data": {
            "text/plain": [
              "<tf.Tensor: shape=(3, 4, 5), dtype=float32, numpy=\n",
              "array([[[0., 0., 0., 0., 0.],\n",
              "        [0., 0., 0., 0., 0.],\n",
              "        [0., 0., 0., 0., 0.],\n",
              "        [0., 0., 0., 0., 0.]],\n",
              "\n",
              "       [[0., 0., 0., 0., 0.],\n",
              "        [0., 0., 0., 0., 0.],\n",
              "        [0., 0., 0., 0., 0.],\n",
              "        [0., 0., 0., 0., 0.]],\n",
              "\n",
              "       [[0., 0., 0., 0., 0.],\n",
              "        [0., 0., 0., 0., 0.],\n",
              "        [0., 0., 0., 0., 0.],\n",
              "        [0., 0., 0., 0., 0.]]], dtype=float32)>"
            ]
          },
          "metadata": {},
          "execution_count": 205
        }
      ]
    },
    {
      "cell_type": "code",
      "source": [
        "rank_4_tensor.shape, rank_4_tensor.ndim, tf.size(rank_4_tensor)"
      ],
      "metadata": {
        "colab": {
          "base_uri": "https://localhost:8080/"
        },
        "id": "cXtsFSqcaS7G",
        "outputId": "51270d88-9148-4407-b3cc-bff4f4140528"
      },
      "execution_count": null,
      "outputs": [
        {
          "output_type": "execute_result",
          "data": {
            "text/plain": [
              "(TensorShape([2, 3, 4, 5]), 4, <tf.Tensor: shape=(), dtype=int32, numpy=120>)"
            ]
          },
          "metadata": {},
          "execution_count": 206
        }
      ]
    },
    {
      "cell_type": "code",
      "source": [
        "# Get various attributes of our tensor\n",
        "print(\"Datatype of every element:\", rank_4_tensor.dtype)\n",
        "print(\"Number of dimensions (rank):\", rank_4_tensor.ndim)\n",
        "print(\"Shape of tensor:\", rank_4_tensor.shape)\n",
        "print(\"Elements along the 0 axis:\", rank_4_tensor.shape[0])\n",
        "print(\"Elements along the last axis:\", rank_4_tensor.shape[-1])\n",
        "print(\"Total number of elemnts in our tensor:\", tf.size(rank_4_tensor))\n",
        "print(\"Total number of elemnts in our tensor:\", tf.size(rank_4_tensor).numpy())"
      ],
      "metadata": {
        "colab": {
          "base_uri": "https://localhost:8080/"
        },
        "id": "FlBZnyENbJMM",
        "outputId": "9d73e904-df7b-4f6e-f692-eca2350ae10d"
      },
      "execution_count": null,
      "outputs": [
        {
          "output_type": "stream",
          "name": "stdout",
          "text": [
            "Datatype of every element: <dtype: 'float32'>\n",
            "Number of dimensions (rank): 4\n",
            "Shape of tensor: (2, 3, 4, 5)\n",
            "Elements along the 0 axis: 2\n",
            "Elements along the last axis: 5\n",
            "Total number of elemnts in our tensor: tf.Tensor(120, shape=(), dtype=int32)\n",
            "Total number of elemnts in our tensor: 120\n"
          ]
        }
      ]
    },
    {
      "cell_type": "markdown",
      "source": [
        "### Idexing tensors\n",
        "\n",
        "Tensors can be indexed just like Python lists."
      ],
      "metadata": {
        "id": "ssmRwzQjzPOs"
      }
    },
    {
      "cell_type": "code",
      "source": [
        "some_list = [1, 2, 3, 4]\n",
        "some_list[:2]"
      ],
      "metadata": {
        "colab": {
          "base_uri": "https://localhost:8080/"
        },
        "id": "Lnzh18gRzo7C",
        "outputId": "f7afdcda-c489-40ba-8a44-68093d28b66a"
      },
      "execution_count": null,
      "outputs": [
        {
          "output_type": "execute_result",
          "data": {
            "text/plain": [
              "[1, 2]"
            ]
          },
          "metadata": {},
          "execution_count": 208
        }
      ]
    },
    {
      "cell_type": "code",
      "source": [
        "# Get the first 2 elements of each dimension\n",
        "rank_4_tensor[:2, :2, :2, :2]"
      ],
      "metadata": {
        "colab": {
          "base_uri": "https://localhost:8080/"
        },
        "id": "DAxGQldEzaml",
        "outputId": "5678093a-d1dd-4a50-f22a-4ace8d00ef90"
      },
      "execution_count": null,
      "outputs": [
        {
          "output_type": "execute_result",
          "data": {
            "text/plain": [
              "<tf.Tensor: shape=(2, 2, 2, 2), dtype=float32, numpy=\n",
              "array([[[[0., 0.],\n",
              "         [0., 0.]],\n",
              "\n",
              "        [[0., 0.],\n",
              "         [0., 0.]]],\n",
              "\n",
              "\n",
              "       [[[0., 0.],\n",
              "         [0., 0.]],\n",
              "\n",
              "        [[0., 0.],\n",
              "         [0., 0.]]]], dtype=float32)>"
            ]
          },
          "metadata": {},
          "execution_count": 209
        }
      ]
    },
    {
      "cell_type": "code",
      "source": [
        "# get the first element from each dimension from each index except for the final one\n",
        "rank_4_tensor[:1, :1, :1]"
      ],
      "metadata": {
        "colab": {
          "base_uri": "https://localhost:8080/"
        },
        "id": "qfwdI0E70eQS",
        "outputId": "0c27e831-ee3a-4ba8-abf2-19afb747b45e"
      },
      "execution_count": null,
      "outputs": [
        {
          "output_type": "execute_result",
          "data": {
            "text/plain": [
              "<tf.Tensor: shape=(1, 1, 1, 5), dtype=float32, numpy=array([[[[0., 0., 0., 0., 0.]]]], dtype=float32)>"
            ]
          },
          "metadata": {},
          "execution_count": 210
        }
      ]
    },
    {
      "cell_type": "code",
      "source": [
        "rank_4_tensor[:1, :1, :, :1]"
      ],
      "metadata": {
        "colab": {
          "base_uri": "https://localhost:8080/"
        },
        "id": "uV_P1Fy91SKD",
        "outputId": "5d1c55e0-61a6-4132-d9d2-0c25cae6ec5a"
      },
      "execution_count": null,
      "outputs": [
        {
          "output_type": "execute_result",
          "data": {
            "text/plain": [
              "<tf.Tensor: shape=(1, 1, 4, 1), dtype=float32, numpy=\n",
              "array([[[[0.],\n",
              "         [0.],\n",
              "         [0.],\n",
              "         [0.]]]], dtype=float32)>"
            ]
          },
          "metadata": {},
          "execution_count": 211
        }
      ]
    },
    {
      "cell_type": "code",
      "source": [
        "# Create a rank 2 tensor (2 dimensions)\n",
        "rank_2_tensor = tf.constant([[1, 2, 3, 4],[5, 6, 7, 8]])\n",
        "rank_2_tensor, rank_2_tensor.ndim, rank_2_tensor.shape"
      ],
      "metadata": {
        "colab": {
          "base_uri": "https://localhost:8080/"
        },
        "id": "P270JWbv1g8Z",
        "outputId": "b2b974f6-add3-4737-c715-5c7d26120771"
      },
      "execution_count": null,
      "outputs": [
        {
          "output_type": "execute_result",
          "data": {
            "text/plain": [
              "(<tf.Tensor: shape=(2, 4), dtype=int32, numpy=\n",
              " array([[1, 2, 3, 4],\n",
              "        [5, 6, 7, 8]], dtype=int32)>, 2, TensorShape([2, 4]))"
            ]
          },
          "metadata": {},
          "execution_count": 212
        }
      ]
    },
    {
      "cell_type": "code",
      "source": [
        "# Get the last item of each of row our rank 2 tensor\n",
        "rank_2_tensor[:, -1]"
      ],
      "metadata": {
        "colab": {
          "base_uri": "https://localhost:8080/"
        },
        "id": "L77o0jWv2Ux8",
        "outputId": "b96ce87b-56db-46d6-e3c1-ef55514580e0"
      },
      "execution_count": null,
      "outputs": [
        {
          "output_type": "execute_result",
          "data": {
            "text/plain": [
              "<tf.Tensor: shape=(2,), dtype=int32, numpy=array([4, 8], dtype=int32)>"
            ]
          },
          "metadata": {},
          "execution_count": 213
        }
      ]
    },
    {
      "cell_type": "code",
      "source": [
        "#Add in extra dimension to our rank 2 tensor\n",
        "rank_3_tensor = rank_2_tensor[..., tf.newaxis]\n",
        "rank_3_tensor"
      ],
      "metadata": {
        "colab": {
          "base_uri": "https://localhost:8080/"
        },
        "id": "j_ytLRIQ2beu",
        "outputId": "1f8eb45a-a3f6-4c65-93ac-dc7448a6fd0b"
      },
      "execution_count": null,
      "outputs": [
        {
          "output_type": "execute_result",
          "data": {
            "text/plain": [
              "<tf.Tensor: shape=(2, 4, 1), dtype=int32, numpy=\n",
              "array([[[1],\n",
              "        [2],\n",
              "        [3],\n",
              "        [4]],\n",
              "\n",
              "       [[5],\n",
              "        [6],\n",
              "        [7],\n",
              "        [8]]], dtype=int32)>"
            ]
          },
          "metadata": {},
          "execution_count": 214
        }
      ]
    },
    {
      "cell_type": "code",
      "source": [
        "#Alternative to tf.newaxis\n",
        "tf.expand_dims(rank_2_tensor, axis=-1)"
      ],
      "metadata": {
        "colab": {
          "base_uri": "https://localhost:8080/"
        },
        "id": "CxEdBPym4ppF",
        "outputId": "cf1fe878-1b9a-4741-93da-a0c1b5935d58"
      },
      "execution_count": null,
      "outputs": [
        {
          "output_type": "execute_result",
          "data": {
            "text/plain": [
              "<tf.Tensor: shape=(2, 4, 1), dtype=int32, numpy=\n",
              "array([[[1],\n",
              "        [2],\n",
              "        [3],\n",
              "        [4]],\n",
              "\n",
              "       [[5],\n",
              "        [6],\n",
              "        [7],\n",
              "        [8]]], dtype=int32)>"
            ]
          },
          "metadata": {},
          "execution_count": 215
        }
      ]
    },
    {
      "cell_type": "code",
      "source": [
        "tf.expand_dims(rank_2_tensor, axis=0)"
      ],
      "metadata": {
        "colab": {
          "base_uri": "https://localhost:8080/"
        },
        "id": "sMGBv_y15Cm5",
        "outputId": "8f1e2acb-d76f-4fde-8bc7-9ab250a5dd92"
      },
      "execution_count": null,
      "outputs": [
        {
          "output_type": "execute_result",
          "data": {
            "text/plain": [
              "<tf.Tensor: shape=(1, 2, 4), dtype=int32, numpy=\n",
              "array([[[1, 2, 3, 4],\n",
              "        [5, 6, 7, 8]]], dtype=int32)>"
            ]
          },
          "metadata": {},
          "execution_count": 216
        }
      ]
    },
    {
      "cell_type": "code",
      "source": [
        "rank_2_tensor"
      ],
      "metadata": {
        "colab": {
          "base_uri": "https://localhost:8080/"
        },
        "id": "yjJB0IBx5YmJ",
        "outputId": "6b497a29-b6f1-47a9-9106-64c4308282b3"
      },
      "execution_count": null,
      "outputs": [
        {
          "output_type": "execute_result",
          "data": {
            "text/plain": [
              "<tf.Tensor: shape=(2, 4), dtype=int32, numpy=\n",
              "array([[1, 2, 3, 4],\n",
              "       [5, 6, 7, 8]], dtype=int32)>"
            ]
          },
          "metadata": {},
          "execution_count": 217
        }
      ]
    },
    {
      "cell_type": "markdown",
      "source": [
        "### Manipulating tensors (tensor operations)\n",
        "\n",
        "**Basics operations**\n",
        "\n",
        "`+, -, *, /`"
      ],
      "metadata": {
        "id": "sh6uO2BV5s5H"
      }
    },
    {
      "cell_type": "code",
      "source": [
        "# you can add values to a tensor using the addition operators\n",
        "tensor = tf.constant([[10, 7], [3, 4]])\n",
        "tensor, tensor.ndim"
      ],
      "metadata": {
        "colab": {
          "base_uri": "https://localhost:8080/"
        },
        "id": "HoYeXW5Z5xr5",
        "outputId": "648b856f-a20f-49f4-8d35-f9aedd6a47af"
      },
      "execution_count": null,
      "outputs": [
        {
          "output_type": "execute_result",
          "data": {
            "text/plain": [
              "(<tf.Tensor: shape=(2, 2), dtype=int32, numpy=\n",
              " array([[10,  7],\n",
              "        [ 3,  4]], dtype=int32)>, 2)"
            ]
          },
          "metadata": {},
          "execution_count": 218
        }
      ]
    },
    {
      "cell_type": "code",
      "source": [
        "tensor + 10"
      ],
      "metadata": {
        "colab": {
          "base_uri": "https://localhost:8080/"
        },
        "id": "cgX7XOZs7KPO",
        "outputId": "30ddd111-84fd-4582-fad1-274a2d240b21"
      },
      "execution_count": null,
      "outputs": [
        {
          "output_type": "execute_result",
          "data": {
            "text/plain": [
              "<tf.Tensor: shape=(2, 2), dtype=int32, numpy=\n",
              "array([[20, 17],\n",
              "       [13, 14]], dtype=int32)>"
            ]
          },
          "metadata": {},
          "execution_count": 219
        }
      ]
    },
    {
      "cell_type": "code",
      "source": [
        "tensor * 10"
      ],
      "metadata": {
        "colab": {
          "base_uri": "https://localhost:8080/"
        },
        "id": "lqXX6moA7iNw",
        "outputId": "8ce6b68d-f5e1-4ccd-f591-07443eba6426"
      },
      "execution_count": null,
      "outputs": [
        {
          "output_type": "execute_result",
          "data": {
            "text/plain": [
              "<tf.Tensor: shape=(2, 2), dtype=int32, numpy=\n",
              "array([[100,  70],\n",
              "       [ 30,  40]], dtype=int32)>"
            ]
          },
          "metadata": {},
          "execution_count": 220
        }
      ]
    },
    {
      "cell_type": "code",
      "source": [
        "# We can use the tensorflow built-in function too\n",
        "tf.multiply(tensor, 10)"
      ],
      "metadata": {
        "colab": {
          "base_uri": "https://localhost:8080/"
        },
        "id": "doC2KdSG7vrk",
        "outputId": "d5873d28-5918-4080-da09-9f7c989ab7a1"
      },
      "execution_count": null,
      "outputs": [
        {
          "output_type": "execute_result",
          "data": {
            "text/plain": [
              "<tf.Tensor: shape=(2, 2), dtype=int32, numpy=\n",
              "array([[100,  70],\n",
              "       [ 30,  40]], dtype=int32)>"
            ]
          },
          "metadata": {},
          "execution_count": 221
        }
      ]
    },
    {
      "cell_type": "markdown",
      "source": [
        "**Matrix multiplication**\n",
        "\n",
        "In machine learning, matrix multiplication is one of the most common tensor operations.\n",
        "\n",
        "There are two rules our tensors (or matrices) need to fulfil if we're going to matrix multiply them:\n",
        "\n",
        "1. The inner dimensions must match\n",
        "2. The resulting matrix has the shape of the outer dimensions"
      ],
      "metadata": {
        "id": "ywyCuub78Uov"
      }
    },
    {
      "cell_type": "code",
      "source": [
        "#Matrix multiplication in tensorflow\n",
        "tensor_1 = tf.constant([1, 2])\n",
        "tensor_2 = tf.constant([[1, 2],[3, 4]])\n",
        "tensor_1, tensor_2"
      ],
      "metadata": {
        "colab": {
          "base_uri": "https://localhost:8080/"
        },
        "id": "cGxeTeJK8Y03",
        "outputId": "628306e7-0e1d-4546-f4da-097b9b8e40e3"
      },
      "execution_count": null,
      "outputs": [
        {
          "output_type": "execute_result",
          "data": {
            "text/plain": [
              "(<tf.Tensor: shape=(2,), dtype=int32, numpy=array([1, 2], dtype=int32)>,\n",
              " <tf.Tensor: shape=(2, 2), dtype=int32, numpy=\n",
              " array([[1, 2],\n",
              "        [3, 4]], dtype=int32)>)"
            ]
          },
          "metadata": {},
          "execution_count": 222
        }
      ]
    },
    {
      "cell_type": "code",
      "source": [
        "tensor_1 = tf.expand_dims(tensor_1, axis=0)\n",
        "tensor_1"
      ],
      "metadata": {
        "colab": {
          "base_uri": "https://localhost:8080/"
        },
        "id": "SXMR4RsF_Bee",
        "outputId": "0b893b6f-b572-4486-8690-8f0100e5ad5c"
      },
      "execution_count": null,
      "outputs": [
        {
          "output_type": "execute_result",
          "data": {
            "text/plain": [
              "<tf.Tensor: shape=(1, 2), dtype=int32, numpy=array([[1, 2]], dtype=int32)>"
            ]
          },
          "metadata": {},
          "execution_count": 223
        }
      ]
    },
    {
      "cell_type": "code",
      "source": [
        "tf.matmul(tensor_1, tensor_2)"
      ],
      "metadata": {
        "colab": {
          "base_uri": "https://localhost:8080/"
        },
        "id": "4l3JnDYl-4Jy",
        "outputId": "e52c8088-722b-4058-ee2c-41f0ab277a23"
      },
      "execution_count": null,
      "outputs": [
        {
          "output_type": "execute_result",
          "data": {
            "text/plain": [
              "<tf.Tensor: shape=(1, 2), dtype=int32, numpy=array([[ 7, 10]], dtype=int32)>"
            ]
          },
          "metadata": {},
          "execution_count": 224
        }
      ]
    },
    {
      "cell_type": "code",
      "source": [
        "tensor_1 * tensor_2 #Different kind of multiplication"
      ],
      "metadata": {
        "colab": {
          "base_uri": "https://localhost:8080/"
        },
        "id": "fyth-0IY_jLH",
        "outputId": "0a5a7636-42bb-4c79-d073-1bd373020a28"
      },
      "execution_count": null,
      "outputs": [
        {
          "output_type": "execute_result",
          "data": {
            "text/plain": [
              "<tf.Tensor: shape=(2, 2), dtype=int32, numpy=\n",
              "array([[1, 4],\n",
              "       [3, 8]], dtype=int32)>"
            ]
          },
          "metadata": {},
          "execution_count": 225
        }
      ]
    },
    {
      "cell_type": "code",
      "source": [
        "tensor_a = tf.constant([[1, 2, 5],\n",
        "                        [7, 2, 1],\n",
        "                        [3, 3, 3]])\n",
        "tensor_b = tf.constant([[3, 5],\n",
        "                        [6, 7],\n",
        "                        [1, 8]])\n",
        "tensor_a, tensor_b"
      ],
      "metadata": {
        "colab": {
          "base_uri": "https://localhost:8080/"
        },
        "id": "7zp4iFLyABRb",
        "outputId": "8dd3f1ee-2abd-4ae3-952f-80b30a91a0c0"
      },
      "execution_count": null,
      "outputs": [
        {
          "output_type": "execute_result",
          "data": {
            "text/plain": [
              "(<tf.Tensor: shape=(3, 3), dtype=int32, numpy=\n",
              " array([[1, 2, 5],\n",
              "        [7, 2, 1],\n",
              "        [3, 3, 3]], dtype=int32)>,\n",
              " <tf.Tensor: shape=(3, 2), dtype=int32, numpy=\n",
              " array([[3, 5],\n",
              "        [6, 7],\n",
              "        [1, 8]], dtype=int32)>)"
            ]
          },
          "metadata": {},
          "execution_count": 226
        }
      ]
    },
    {
      "cell_type": "code",
      "source": [
        "tf.matmul(tensor_a, tensor_b)"
      ],
      "metadata": {
        "colab": {
          "base_uri": "https://localhost:8080/"
        },
        "id": "3nMC2dxuAjPx",
        "outputId": "e374086c-157e-458d-ef51-781220a8833f"
      },
      "execution_count": null,
      "outputs": [
        {
          "output_type": "execute_result",
          "data": {
            "text/plain": [
              "<tf.Tensor: shape=(3, 2), dtype=int32, numpy=\n",
              "array([[20, 59],\n",
              "       [34, 57],\n",
              "       [30, 60]], dtype=int32)>"
            ]
          },
          "metadata": {},
          "execution_count": 227
        }
      ]
    },
    {
      "cell_type": "code",
      "source": [
        "tensor_a @ tensor_b #@ in python is used for matrix multiplication"
      ],
      "metadata": {
        "colab": {
          "base_uri": "https://localhost:8080/"
        },
        "id": "Ud7JkEs1AwM9",
        "outputId": "f58fbe77-6390-4980-9154-8bbdafd48943"
      },
      "execution_count": null,
      "outputs": [
        {
          "output_type": "execute_result",
          "data": {
            "text/plain": [
              "<tf.Tensor: shape=(3, 2), dtype=int32, numpy=\n",
              "array([[20, 59],\n",
              "       [34, 57],\n",
              "       [30, 60]], dtype=int32)>"
            ]
          },
          "metadata": {},
          "execution_count": 228
        }
      ]
    },
    {
      "cell_type": "code",
      "source": [
        "# Create a tensor with shape (3, 2)\n",
        "X = tf.constant([[1, 2],\n",
        "                 [3, 4],\n",
        "                 [5, 6]])\n",
        "# Create another tensor with shape (3, 2)\n",
        "Y = tf.constant([[7, 8],\n",
        "                 [9, 10],\n",
        "                 [11, 12]])\n",
        "X, Y"
      ],
      "metadata": {
        "colab": {
          "base_uri": "https://localhost:8080/"
        },
        "id": "bhk6gqU_A5W_",
        "outputId": "3f6dbd41-6c10-45df-8d75-85ecfbce12ba"
      },
      "execution_count": null,
      "outputs": [
        {
          "output_type": "execute_result",
          "data": {
            "text/plain": [
              "(<tf.Tensor: shape=(3, 2), dtype=int32, numpy=\n",
              " array([[1, 2],\n",
              "        [3, 4],\n",
              "        [5, 6]], dtype=int32)>, <tf.Tensor: shape=(3, 2), dtype=int32, numpy=\n",
              " array([[ 7,  8],\n",
              "        [ 9, 10],\n",
              "        [11, 12]], dtype=int32)>)"
            ]
          },
          "metadata": {},
          "execution_count": 229
        }
      ]
    },
    {
      "cell_type": "markdown",
      "source": [
        "**You can´t multiply matrices with mistmatching dimensions!**"
      ],
      "metadata": {
        "id": "6IlGj7jcCa9m"
      }
    },
    {
      "cell_type": "code",
      "source": [
        "# Changing the Y dimensions\n",
        "Y_h = tf.reshape(Y, shape=(2, 3))\n",
        "Y_h"
      ],
      "metadata": {
        "colab": {
          "base_uri": "https://localhost:8080/"
        },
        "id": "R4fqL6zeDsfZ",
        "outputId": "09a49a79-848e-4099-eb2f-da59d0d72bcb"
      },
      "execution_count": null,
      "outputs": [
        {
          "output_type": "execute_result",
          "data": {
            "text/plain": [
              "<tf.Tensor: shape=(2, 3), dtype=int32, numpy=\n",
              "array([[ 7,  8,  9],\n",
              "       [10, 11, 12]], dtype=int32)>"
            ]
          },
          "metadata": {},
          "execution_count": 230
        }
      ]
    },
    {
      "cell_type": "code",
      "source": [
        "X.shape, tf.reshape(Y, shape=(2, 3)).shape"
      ],
      "metadata": {
        "colab": {
          "base_uri": "https://localhost:8080/"
        },
        "id": "Uausd47zQyDS",
        "outputId": "f6c015f3-d0bb-4319-fd7e-1f7c11b6a48e"
      },
      "execution_count": null,
      "outputs": [
        {
          "output_type": "execute_result",
          "data": {
            "text/plain": [
              "(TensorShape([3, 2]), TensorShape([2, 3]))"
            ]
          },
          "metadata": {},
          "execution_count": 231
        }
      ]
    },
    {
      "cell_type": "code",
      "source": [
        "X @ Y_h"
      ],
      "metadata": {
        "colab": {
          "base_uri": "https://localhost:8080/"
        },
        "id": "1s6rJ6q4Qeq-",
        "outputId": "2310cfc6-0908-41fe-fa11-3a2d2cac178f"
      },
      "execution_count": null,
      "outputs": [
        {
          "output_type": "execute_result",
          "data": {
            "text/plain": [
              "<tf.Tensor: shape=(3, 3), dtype=int32, numpy=\n",
              "array([[ 27,  30,  33],\n",
              "       [ 61,  68,  75],\n",
              "       [ 95, 106, 117]], dtype=int32)>"
            ]
          },
          "metadata": {},
          "execution_count": 232
        }
      ]
    },
    {
      "cell_type": "code",
      "source": [
        "# tf.matmul(X, Y)"
      ],
      "metadata": {
        "id": "ZHHU4l5vRKxE"
      },
      "execution_count": null,
      "outputs": []
    },
    {
      "cell_type": "code",
      "source": [
        "tf.matmul(tf.reshape(X, shape=(2, 3)), Y)"
      ],
      "metadata": {
        "colab": {
          "base_uri": "https://localhost:8080/"
        },
        "id": "-7n8APsmTLWU",
        "outputId": "112a6c2e-c5d6-490a-9e27-dd46bad65007"
      },
      "execution_count": null,
      "outputs": [
        {
          "output_type": "execute_result",
          "data": {
            "text/plain": [
              "<tf.Tensor: shape=(2, 2), dtype=int32, numpy=\n",
              "array([[ 58,  64],\n",
              "       [139, 154]], dtype=int32)>"
            ]
          },
          "metadata": {},
          "execution_count": 234
        }
      ]
    },
    {
      "cell_type": "code",
      "source": [
        "# We can do the same with transpose\n",
        "X, tf.transpose(X), tf.reshape(X, shape=(2, 3))"
      ],
      "metadata": {
        "colab": {
          "base_uri": "https://localhost:8080/"
        },
        "id": "vtRB7F2JRrC8",
        "outputId": "94c99432-60ca-4ad3-e599-8fc9c9b9be88"
      },
      "execution_count": null,
      "outputs": [
        {
          "output_type": "execute_result",
          "data": {
            "text/plain": [
              "(<tf.Tensor: shape=(3, 2), dtype=int32, numpy=\n",
              " array([[1, 2],\n",
              "        [3, 4],\n",
              "        [5, 6]], dtype=int32)>, <tf.Tensor: shape=(2, 3), dtype=int32, numpy=\n",
              " array([[1, 3, 5],\n",
              "        [2, 4, 6]], dtype=int32)>, <tf.Tensor: shape=(2, 3), dtype=int32, numpy=\n",
              " array([[1, 2, 3],\n",
              "        [4, 5, 6]], dtype=int32)>)"
            ]
          },
          "metadata": {},
          "execution_count": 235
        }
      ]
    },
    {
      "cell_type": "code",
      "source": [
        "# Try matrix multiplication with transpose rather than reshape\n",
        "tf.matmul(tf.transpose(X), Y)"
      ],
      "metadata": {
        "colab": {
          "base_uri": "https://localhost:8080/"
        },
        "id": "REB0PoJNS6eU",
        "outputId": "26eaec5c-7200-401b-aaf8-0eecea9e94d9"
      },
      "execution_count": null,
      "outputs": [
        {
          "output_type": "execute_result",
          "data": {
            "text/plain": [
              "<tf.Tensor: shape=(2, 2), dtype=int32, numpy=\n",
              "array([[ 89,  98],\n",
              "       [116, 128]], dtype=int32)>"
            ]
          },
          "metadata": {},
          "execution_count": 236
        }
      ]
    },
    {
      "cell_type": "markdown",
      "source": [
        "**The dot product**\n",
        "\n",
        "Matrix multiplication is also referred as dot np.product\n",
        "\n",
        "you can perform matrix multiplication using:\n",
        "\n",
        "* `tf.matmul()`\n",
        "* `tf.tensordot()`"
      ],
      "metadata": {
        "id": "RSPW9nVEdPd1"
      }
    },
    {
      "cell_type": "code",
      "source": [
        "# Perform the dot product on X and Y (requires X or Y to be transposed)\n",
        "tf.tensordot(tf.transpose(X), Y, axes=1)"
      ],
      "metadata": {
        "colab": {
          "base_uri": "https://localhost:8080/"
        },
        "id": "uVD9iPfUdU5R",
        "outputId": "8958e969-4c7b-4edd-8427-6f9b74f870aa"
      },
      "execution_count": null,
      "outputs": [
        {
          "output_type": "execute_result",
          "data": {
            "text/plain": [
              "<tf.Tensor: shape=(2, 2), dtype=int32, numpy=\n",
              "array([[ 89,  98],\n",
              "       [116, 128]], dtype=int32)>"
            ]
          },
          "metadata": {},
          "execution_count": 237
        }
      ]
    },
    {
      "cell_type": "code",
      "source": [
        "# Perform matrix multiplication between X and Y (reshaped)\n",
        "tf.matmul(X, tf.reshape(Y, shape=(2, 3)))"
      ],
      "metadata": {
        "colab": {
          "base_uri": "https://localhost:8080/"
        },
        "id": "omTemBmWfP9H",
        "outputId": "3b9538f4-223d-446d-fe71-138e769fdf78"
      },
      "execution_count": null,
      "outputs": [
        {
          "output_type": "execute_result",
          "data": {
            "text/plain": [
              "<tf.Tensor: shape=(3, 3), dtype=int32, numpy=\n",
              "array([[ 27,  30,  33],\n",
              "       [ 61,  68,  75],\n",
              "       [ 95, 106, 117]], dtype=int32)>"
            ]
          },
          "metadata": {},
          "execution_count": 238
        }
      ]
    },
    {
      "cell_type": "code",
      "source": [
        "# Check the value of Y, reshape Y and transposed Y\n",
        "print(\"Normal Y:\")\n",
        "print(Y, \"\\n\")\n",
        "\n",
        "print(\"Y reshaped to (2, 3):\")\n",
        "print(tf.reshape(Y, (2, 3)), \"\\n\")\n",
        "\n",
        "print(\"Y transposed to (2, 3):\")\n",
        "print(tf.transpose(Y))"
      ],
      "metadata": {
        "colab": {
          "base_uri": "https://localhost:8080/"
        },
        "id": "r7fjLZGkgC0_",
        "outputId": "002f0a0d-ca79-4c08-91d3-861f6219dd78"
      },
      "execution_count": null,
      "outputs": [
        {
          "output_type": "stream",
          "name": "stdout",
          "text": [
            "Normal Y:\n",
            "tf.Tensor(\n",
            "[[ 7  8]\n",
            " [ 9 10]\n",
            " [11 12]], shape=(3, 2), dtype=int32) \n",
            "\n",
            "Y reshaped to (2, 3):\n",
            "tf.Tensor(\n",
            "[[ 7  8  9]\n",
            " [10 11 12]], shape=(2, 3), dtype=int32) \n",
            "\n",
            "Y transposed to (2, 3):\n",
            "tf.Tensor(\n",
            "[[ 7  9 11]\n",
            " [ 8 10 12]], shape=(2, 3), dtype=int32)\n"
          ]
        }
      ]
    },
    {
      "cell_type": "markdown",
      "source": [
        "**Generally when performing matrix multiplication if one of them doesn't line up, transpose one of them will be needed to satisfy the dot product rules**"
      ],
      "metadata": {
        "id": "RJjAn-BviYyG"
      }
    },
    {
      "cell_type": "markdown",
      "source": [
        "### Changing the datatype of a tensor"
      ],
      "metadata": {
        "id": "QG_Svjxki582"
      }
    },
    {
      "cell_type": "code",
      "source": [
        "tf.__version__"
      ],
      "metadata": {
        "colab": {
          "base_uri": "https://localhost:8080/"
        },
        "id": "BuL5ZEm8jw7H",
        "outputId": "99ca1a17-0857-4b5f-f520-f715c8707060"
      },
      "execution_count": null,
      "outputs": [
        {
          "output_type": "execute_result",
          "data": {
            "text/plain": [
              "'2.11.0'"
            ],
            "application/vnd.google.colaboratory.intrinsic+json": {
              "type": "string"
            }
          },
          "metadata": {},
          "execution_count": 240
        }
      ]
    },
    {
      "cell_type": "code",
      "source": [
        "#Create a new tensor with default dtype float.32\n",
        "B = tf.constant([1.7, 7.4])\n",
        "B.dtype"
      ],
      "metadata": {
        "colab": {
          "base_uri": "https://localhost:8080/"
        },
        "id": "PHGffcMni9Ye",
        "outputId": "33e38737-64a7-4cc2-dd91-f5ed5f85163a"
      },
      "execution_count": null,
      "outputs": [
        {
          "output_type": "execute_result",
          "data": {
            "text/plain": [
              "tf.float32"
            ]
          },
          "metadata": {},
          "execution_count": 241
        }
      ]
    },
    {
      "cell_type": "code",
      "source": [
        "C = tf.constant([7, 10])\n",
        "C.dtype"
      ],
      "metadata": {
        "colab": {
          "base_uri": "https://localhost:8080/"
        },
        "id": "S_T1D_zBjkkv",
        "outputId": "6eed7b13-b67f-4b91-bc58-1c2a21e3355a"
      },
      "execution_count": null,
      "outputs": [
        {
          "output_type": "execute_result",
          "data": {
            "text/plain": [
              "tf.int32"
            ]
          },
          "metadata": {},
          "execution_count": 242
        }
      ]
    },
    {
      "cell_type": "code",
      "source": [
        "# Change from float32 to float16 (reduced precision, less memory)\n",
        "B = tf.cast(B, dtype=tf.float16)\n",
        "B"
      ],
      "metadata": {
        "colab": {
          "base_uri": "https://localhost:8080/"
        },
        "id": "2TTUXDdtl8O4",
        "outputId": "5f51247f-c9b7-4a4d-9a8d-599274a42d12"
      },
      "execution_count": null,
      "outputs": [
        {
          "output_type": "execute_result",
          "data": {
            "text/plain": [
              "<tf.Tensor: shape=(2,), dtype=float16, numpy=array([1.7, 7.4], dtype=float16)>"
            ]
          },
          "metadata": {},
          "execution_count": 243
        }
      ]
    },
    {
      "cell_type": "code",
      "source": [
        "# Change from int32 to float32\n",
        "E = tf.cast(C, dtype=tf.int16)\n",
        "E"
      ],
      "metadata": {
        "colab": {
          "base_uri": "https://localhost:8080/"
        },
        "id": "QMnqLVj4mev1",
        "outputId": "75d8cbcd-fa37-48b2-979e-b0888bff0e63"
      },
      "execution_count": null,
      "outputs": [
        {
          "output_type": "execute_result",
          "data": {
            "text/plain": [
              "<tf.Tensor: shape=(2,), dtype=int16, numpy=array([ 7, 10], dtype=int16)>"
            ]
          },
          "metadata": {},
          "execution_count": 244
        }
      ]
    },
    {
      "cell_type": "markdown",
      "source": [
        "### Aggregatin tensors\n",
        "\n",
        "Aggregating tensors = condensing them from multiple values down to a smaller amount of values"
      ],
      "metadata": {
        "id": "O-6XRYsHnOXq"
      }
    },
    {
      "cell_type": "code",
      "source": [
        "# Get the absolute values\n",
        "D = tf.constant([-7, -10])\n",
        "D"
      ],
      "metadata": {
        "colab": {
          "base_uri": "https://localhost:8080/"
        },
        "id": "GHYcBs7onSR_",
        "outputId": "d7d0b1dd-f022-45d4-e07e-4da1d44fa737"
      },
      "execution_count": null,
      "outputs": [
        {
          "output_type": "execute_result",
          "data": {
            "text/plain": [
              "<tf.Tensor: shape=(2,), dtype=int32, numpy=array([ -7, -10], dtype=int32)>"
            ]
          },
          "metadata": {},
          "execution_count": 245
        }
      ]
    },
    {
      "cell_type": "code",
      "source": [
        "tf.abs(D)"
      ],
      "metadata": {
        "colab": {
          "base_uri": "https://localhost:8080/"
        },
        "id": "ej1dhCVZEIDf",
        "outputId": "b585a102-5cc1-471a-b7a7-3a65dc449210"
      },
      "execution_count": null,
      "outputs": [
        {
          "output_type": "execute_result",
          "data": {
            "text/plain": [
              "<tf.Tensor: shape=(2,), dtype=int32, numpy=array([ 7, 10], dtype=int32)>"
            ]
          },
          "metadata": {},
          "execution_count": 246
        }
      ]
    },
    {
      "cell_type": "markdown",
      "source": [
        "Let's go through the following forms of aggregtion:\n",
        "* Get the minimun\n",
        "* Get the maximun\n",
        "* Get the mean of a tensor\n",
        "* Get the sum of a tensor"
      ],
      "metadata": {
        "id": "zOoQP1DTEe1N"
      }
    },
    {
      "cell_type": "code",
      "source": [
        "E = tf.constant(np.random.randint(0, 100, size=50))\n",
        "E"
      ],
      "metadata": {
        "colab": {
          "base_uri": "https://localhost:8080/"
        },
        "id": "fW4xhjXeE3aD",
        "outputId": "d1975131-6ac6-4628-b797-351926cb8815"
      },
      "execution_count": null,
      "outputs": [
        {
          "output_type": "execute_result",
          "data": {
            "text/plain": [
              "<tf.Tensor: shape=(50,), dtype=int64, numpy=\n",
              "array([78, 43, 95, 40, 81, 95, 97, 11, 32, 88, 47, 62, 21, 71, 40, 61, 30,\n",
              "       17,  0, 80, 76, 64, 91, 50, 66, 13, 12, 34, 77, 85, 22, 82, 77, 64,\n",
              "       90, 32, 69, 67, 44, 19, 65, 79, 82, 24, 55, 14,  8, 20, 12, 69])>"
            ]
          },
          "metadata": {},
          "execution_count": 247
        }
      ]
    },
    {
      "cell_type": "code",
      "source": [
        "tf.size(E), E.shape, E.ndim"
      ],
      "metadata": {
        "colab": {
          "base_uri": "https://localhost:8080/"
        },
        "id": "aySGbTfzFeIL",
        "outputId": "c52b56fd-6160-4b69-a560-4a543b5a8982"
      },
      "execution_count": null,
      "outputs": [
        {
          "output_type": "execute_result",
          "data": {
            "text/plain": [
              "(<tf.Tensor: shape=(), dtype=int32, numpy=50>, TensorShape([50]), 1)"
            ]
          },
          "metadata": {},
          "execution_count": 248
        }
      ]
    },
    {
      "cell_type": "code",
      "source": [
        "#Find the minimun\n",
        "tf.reduce_min(E)"
      ],
      "metadata": {
        "colab": {
          "base_uri": "https://localhost:8080/"
        },
        "id": "eMkbnF5qFv1b",
        "outputId": "fddeddcf-d4c1-4c72-c2f5-6f87feddfc21"
      },
      "execution_count": null,
      "outputs": [
        {
          "output_type": "execute_result",
          "data": {
            "text/plain": [
              "<tf.Tensor: shape=(), dtype=int64, numpy=0>"
            ]
          },
          "metadata": {},
          "execution_count": 249
        }
      ]
    },
    {
      "cell_type": "code",
      "source": [
        "#Find the maximun\n",
        "tf.reduce_max(E)"
      ],
      "metadata": {
        "colab": {
          "base_uri": "https://localhost:8080/"
        },
        "id": "Jv2Ph8pmGBjc",
        "outputId": "1edb46a1-ec40-48ea-a990-3d78d9b31035"
      },
      "execution_count": null,
      "outputs": [
        {
          "output_type": "execute_result",
          "data": {
            "text/plain": [
              "<tf.Tensor: shape=(), dtype=int64, numpy=97>"
            ]
          },
          "metadata": {},
          "execution_count": 250
        }
      ]
    },
    {
      "cell_type": "code",
      "source": [
        "#Find the mean\n",
        "tf.reduce_mean(E)"
      ],
      "metadata": {
        "colab": {
          "base_uri": "https://localhost:8080/"
        },
        "id": "2Eu6cpcRGRYL",
        "outputId": "ee2e23cc-2a0e-4b93-ab84-5d5339837339"
      },
      "execution_count": null,
      "outputs": [
        {
          "output_type": "execute_result",
          "data": {
            "text/plain": [
              "<tf.Tensor: shape=(), dtype=int64, numpy=53>"
            ]
          },
          "metadata": {},
          "execution_count": 251
        }
      ]
    },
    {
      "cell_type": "code",
      "source": [
        "#Find the sum\n",
        "tf.reduce_sum(E)"
      ],
      "metadata": {
        "colab": {
          "base_uri": "https://localhost:8080/"
        },
        "id": "dt_amzzwGaVr",
        "outputId": "5b1849f4-25b0-409e-e588-ba84166b8879"
      },
      "execution_count": null,
      "outputs": [
        {
          "output_type": "execute_result",
          "data": {
            "text/plain": [
              "<tf.Tensor: shape=(), dtype=int64, numpy=2651>"
            ]
          },
          "metadata": {},
          "execution_count": 252
        }
      ]
    },
    {
      "cell_type": "code",
      "source": [
        "#Find the variance\n",
        "import tensorflow_probability as tfp"
      ],
      "metadata": {
        "id": "AR_kP6sQG33Z"
      },
      "execution_count": null,
      "outputs": []
    },
    {
      "cell_type": "code",
      "source": [
        "tfp.stats.variance(E)"
      ],
      "metadata": {
        "colab": {
          "base_uri": "https://localhost:8080/"
        },
        "id": "lH1blr_NHogr",
        "outputId": "876054cc-dcc7-42e2-c3f0-1807a8fea163"
      },
      "execution_count": null,
      "outputs": [
        {
          "output_type": "execute_result",
          "data": {
            "text/plain": [
              "<tf.Tensor: shape=(), dtype=int64, numpy=804>"
            ]
          },
          "metadata": {},
          "execution_count": 254
        }
      ]
    },
    {
      "cell_type": "code",
      "source": [
        "tf.math.reduce_variance(tf.cast(E, dtype=tf.float32))"
      ],
      "metadata": {
        "colab": {
          "base_uri": "https://localhost:8080/"
        },
        "id": "GHs8fhjbJTw8",
        "outputId": "d62bfda5-e2f6-468b-8fff-1307f9d92c3d"
      },
      "execution_count": null,
      "outputs": [
        {
          "output_type": "execute_result",
          "data": {
            "text/plain": [
              "<tf.Tensor: shape=(), dtype=float32, numpy=804.45953>"
            ]
          },
          "metadata": {},
          "execution_count": 255
        }
      ]
    },
    {
      "cell_type": "code",
      "source": [
        "#Find the standard deviation\n",
        "tf.math.reduce_std(tf.cast(E, dtype=tf.float32))"
      ],
      "metadata": {
        "colab": {
          "base_uri": "https://localhost:8080/"
        },
        "id": "A4SiLfc9IJ78",
        "outputId": "1948737f-9fbf-42d7-a0e1-3c88524e1be9"
      },
      "execution_count": null,
      "outputs": [
        {
          "output_type": "execute_result",
          "data": {
            "text/plain": [
              "<tf.Tensor: shape=(), dtype=float32, numpy=28.362995>"
            ]
          },
          "metadata": {},
          "execution_count": 256
        }
      ]
    },
    {
      "cell_type": "markdown",
      "source": [
        "### Find the positional maximum and minimum"
      ],
      "metadata": {
        "id": "91zEml0vIxZs"
      }
    },
    {
      "cell_type": "code",
      "source": [
        "tf.random.set_seed(42)\n",
        "F = tf.random.uniform(shape=[50])\n",
        "F"
      ],
      "metadata": {
        "colab": {
          "base_uri": "https://localhost:8080/"
        },
        "id": "XH56AaKZI4Jr",
        "outputId": "a510221c-3065-4f11-d056-6a6bf969179d"
      },
      "execution_count": null,
      "outputs": [
        {
          "output_type": "execute_result",
          "data": {
            "text/plain": [
              "<tf.Tensor: shape=(50,), dtype=float32, numpy=\n",
              "array([0.6645621 , 0.44100678, 0.3528825 , 0.46448255, 0.03366041,\n",
              "       0.68467236, 0.74011743, 0.8724445 , 0.22632635, 0.22319686,\n",
              "       0.3103881 , 0.7223358 , 0.13318717, 0.5480639 , 0.5746088 ,\n",
              "       0.8996835 , 0.00946367, 0.5212307 , 0.6345445 , 0.1993283 ,\n",
              "       0.72942245, 0.54583454, 0.10756552, 0.6767061 , 0.6602763 ,\n",
              "       0.33695042, 0.60141766, 0.21062577, 0.8527372 , 0.44062173,\n",
              "       0.9485276 , 0.23752594, 0.81179297, 0.5263394 , 0.494308  ,\n",
              "       0.21612847, 0.8457197 , 0.8718841 , 0.3083862 , 0.6868038 ,\n",
              "       0.23764038, 0.7817228 , 0.9671384 , 0.06870162, 0.79873943,\n",
              "       0.66028714, 0.5871513 , 0.16461694, 0.7381023 , 0.32054043],\n",
              "      dtype=float32)>"
            ]
          },
          "metadata": {},
          "execution_count": 257
        }
      ]
    },
    {
      "cell_type": "code",
      "source": [
        "#Find the positional maximum\n",
        "tf.argmax(F)"
      ],
      "metadata": {
        "colab": {
          "base_uri": "https://localhost:8080/"
        },
        "id": "kTspbI7aKL3M",
        "outputId": "6fd54530-1295-4e2e-c7ee-89686bd14d35"
      },
      "execution_count": null,
      "outputs": [
        {
          "output_type": "execute_result",
          "data": {
            "text/plain": [
              "<tf.Tensor: shape=(), dtype=int64, numpy=42>"
            ]
          },
          "metadata": {},
          "execution_count": 258
        }
      ]
    },
    {
      "cell_type": "code",
      "source": [
        "F[tf.argmax(F)]"
      ],
      "metadata": {
        "colab": {
          "base_uri": "https://localhost:8080/"
        },
        "id": "FmzA6EHmKsdM",
        "outputId": "11ed189b-5162-445f-ea34-590d3e758647"
      },
      "execution_count": null,
      "outputs": [
        {
          "output_type": "execute_result",
          "data": {
            "text/plain": [
              "<tf.Tensor: shape=(), dtype=float32, numpy=0.9671384>"
            ]
          },
          "metadata": {},
          "execution_count": 259
        }
      ]
    },
    {
      "cell_type": "code",
      "source": [
        "tf.reduce_max(F)"
      ],
      "metadata": {
        "colab": {
          "base_uri": "https://localhost:8080/"
        },
        "id": "YOD2RwS7K15m",
        "outputId": "f3eb485d-11f9-41b9-d43a-c4eb34f9ab76"
      },
      "execution_count": null,
      "outputs": [
        {
          "output_type": "execute_result",
          "data": {
            "text/plain": [
              "<tf.Tensor: shape=(), dtype=float32, numpy=0.9671384>"
            ]
          },
          "metadata": {},
          "execution_count": 260
        }
      ]
    },
    {
      "cell_type": "code",
      "source": [
        "F[tf.argmax(F)] == tf.reduce_max(F)"
      ],
      "metadata": {
        "colab": {
          "base_uri": "https://localhost:8080/"
        },
        "id": "WXuwwpSYK9Zb",
        "outputId": "3d4b6777-ff40-4321-de40-bf78997f4feb"
      },
      "execution_count": null,
      "outputs": [
        {
          "output_type": "execute_result",
          "data": {
            "text/plain": [
              "<tf.Tensor: shape=(), dtype=bool, numpy=True>"
            ]
          },
          "metadata": {},
          "execution_count": 261
        }
      ]
    },
    {
      "cell_type": "code",
      "source": [
        "tf.reduce_min(F)"
      ],
      "metadata": {
        "colab": {
          "base_uri": "https://localhost:8080/"
        },
        "id": "9LebSl8mLP0D",
        "outputId": "3f887c25-eec5-42d0-c82a-a7db228e716a"
      },
      "execution_count": null,
      "outputs": [
        {
          "output_type": "execute_result",
          "data": {
            "text/plain": [
              "<tf.Tensor: shape=(), dtype=float32, numpy=0.009463668>"
            ]
          },
          "metadata": {},
          "execution_count": 262
        }
      ]
    },
    {
      "cell_type": "code",
      "source": [
        "tf.argmin(F)"
      ],
      "metadata": {
        "colab": {
          "base_uri": "https://localhost:8080/"
        },
        "id": "_L6wJpkZLUFM",
        "outputId": "26686401-43e4-4551-95e6-07e47a5a8331"
      },
      "execution_count": null,
      "outputs": [
        {
          "output_type": "execute_result",
          "data": {
            "text/plain": [
              "<tf.Tensor: shape=(), dtype=int64, numpy=16>"
            ]
          },
          "metadata": {},
          "execution_count": 263
        }
      ]
    },
    {
      "cell_type": "code",
      "source": [
        "F[tf.argmin(F)]"
      ],
      "metadata": {
        "colab": {
          "base_uri": "https://localhost:8080/"
        },
        "id": "GC0eqHMLLdxE",
        "outputId": "e6865dfb-a0fa-42af-d89f-a90460dbc1da"
      },
      "execution_count": null,
      "outputs": [
        {
          "output_type": "execute_result",
          "data": {
            "text/plain": [
              "<tf.Tensor: shape=(), dtype=float32, numpy=0.009463668>"
            ]
          },
          "metadata": {},
          "execution_count": 264
        }
      ]
    },
    {
      "cell_type": "code",
      "source": [
        "F[tf.argmin(F)] == tf.reduce_min(F)"
      ],
      "metadata": {
        "colab": {
          "base_uri": "https://localhost:8080/"
        },
        "id": "IK6BkiGwLh78",
        "outputId": "cd7235e0-6b29-4aad-a1e8-c3721a82511b"
      },
      "execution_count": null,
      "outputs": [
        {
          "output_type": "execute_result",
          "data": {
            "text/plain": [
              "<tf.Tensor: shape=(), dtype=bool, numpy=True>"
            ]
          },
          "metadata": {},
          "execution_count": 265
        }
      ]
    },
    {
      "cell_type": "markdown",
      "source": [
        "### Squeezing a tensor (removing all single dimensions)"
      ],
      "metadata": {
        "id": "3pZyu9R5Mv8k"
      }
    },
    {
      "cell_type": "code",
      "source": [
        "tf.random.set_seed(42)\n",
        "G = tf.constant(tf.random.uniform(shape=[50]), shape=(1, 1, 1, 1, 50))\n",
        "G"
      ],
      "metadata": {
        "colab": {
          "base_uri": "https://localhost:8080/"
        },
        "id": "dlPEITE3M04D",
        "outputId": "bcbcb8ac-4316-4017-ebd2-f379fc6f7acc"
      },
      "execution_count": null,
      "outputs": [
        {
          "output_type": "execute_result",
          "data": {
            "text/plain": [
              "<tf.Tensor: shape=(1, 1, 1, 1, 50), dtype=float32, numpy=\n",
              "array([[[[[0.6645621 , 0.44100678, 0.3528825 , 0.46448255, 0.03366041,\n",
              "           0.68467236, 0.74011743, 0.8724445 , 0.22632635, 0.22319686,\n",
              "           0.3103881 , 0.7223358 , 0.13318717, 0.5480639 , 0.5746088 ,\n",
              "           0.8996835 , 0.00946367, 0.5212307 , 0.6345445 , 0.1993283 ,\n",
              "           0.72942245, 0.54583454, 0.10756552, 0.6767061 , 0.6602763 ,\n",
              "           0.33695042, 0.60141766, 0.21062577, 0.8527372 , 0.44062173,\n",
              "           0.9485276 , 0.23752594, 0.81179297, 0.5263394 , 0.494308  ,\n",
              "           0.21612847, 0.8457197 , 0.8718841 , 0.3083862 , 0.6868038 ,\n",
              "           0.23764038, 0.7817228 , 0.9671384 , 0.06870162, 0.79873943,\n",
              "           0.66028714, 0.5871513 , 0.16461694, 0.7381023 , 0.32054043]]]]],\n",
              "      dtype=float32)>"
            ]
          },
          "metadata": {},
          "execution_count": 266
        }
      ]
    },
    {
      "cell_type": "code",
      "source": [
        "G.shape"
      ],
      "metadata": {
        "colab": {
          "base_uri": "https://localhost:8080/"
        },
        "id": "i_zUFAPDNMLj",
        "outputId": "863e6760-655d-4b4b-eb1d-a701edc76784"
      },
      "execution_count": null,
      "outputs": [
        {
          "output_type": "execute_result",
          "data": {
            "text/plain": [
              "TensorShape([1, 1, 1, 1, 50])"
            ]
          },
          "metadata": {},
          "execution_count": 267
        }
      ]
    },
    {
      "cell_type": "code",
      "source": [
        "G_squeezed = tf.squeeze(G)\n",
        "G_squeezed"
      ],
      "metadata": {
        "colab": {
          "base_uri": "https://localhost:8080/"
        },
        "id": "ccPMs6J_NZet",
        "outputId": "f443f43a-a92c-44d3-fb5a-1413810205d7"
      },
      "execution_count": null,
      "outputs": [
        {
          "output_type": "execute_result",
          "data": {
            "text/plain": [
              "<tf.Tensor: shape=(50,), dtype=float32, numpy=\n",
              "array([0.6645621 , 0.44100678, 0.3528825 , 0.46448255, 0.03366041,\n",
              "       0.68467236, 0.74011743, 0.8724445 , 0.22632635, 0.22319686,\n",
              "       0.3103881 , 0.7223358 , 0.13318717, 0.5480639 , 0.5746088 ,\n",
              "       0.8996835 , 0.00946367, 0.5212307 , 0.6345445 , 0.1993283 ,\n",
              "       0.72942245, 0.54583454, 0.10756552, 0.6767061 , 0.6602763 ,\n",
              "       0.33695042, 0.60141766, 0.21062577, 0.8527372 , 0.44062173,\n",
              "       0.9485276 , 0.23752594, 0.81179297, 0.5263394 , 0.494308  ,\n",
              "       0.21612847, 0.8457197 , 0.8718841 , 0.3083862 , 0.6868038 ,\n",
              "       0.23764038, 0.7817228 , 0.9671384 , 0.06870162, 0.79873943,\n",
              "       0.66028714, 0.5871513 , 0.16461694, 0.7381023 , 0.32054043],\n",
              "      dtype=float32)>"
            ]
          },
          "metadata": {},
          "execution_count": 268
        }
      ]
    },
    {
      "cell_type": "markdown",
      "source": [
        "### One-hot encoding tensors"
      ],
      "metadata": {
        "id": "N9y-bUYlOmEU"
      }
    },
    {
      "cell_type": "code",
      "source": [
        "# Create a list of indices\n",
        "some_list = [0, 1, 2, 3] #could be red, gree, blue, pruple\n",
        "depth = 4\n",
        "tf.one_hot(some_list, depth=depth)"
      ],
      "metadata": {
        "colab": {
          "base_uri": "https://localhost:8080/"
        },
        "id": "TWhWwiC1Op9D",
        "outputId": "39bf77c9-e4e6-48c5-d598-6e76ac7a0903"
      },
      "execution_count": null,
      "outputs": [
        {
          "output_type": "execute_result",
          "data": {
            "text/plain": [
              "<tf.Tensor: shape=(4, 4), dtype=float32, numpy=\n",
              "array([[1., 0., 0., 0.],\n",
              "       [0., 1., 0., 0.],\n",
              "       [0., 0., 1., 0.],\n",
              "       [0., 0., 0., 1.]], dtype=float32)>"
            ]
          },
          "metadata": {},
          "execution_count": 269
        }
      ]
    },
    {
      "cell_type": "code",
      "source": [
        "tf.one_hot(some_list, depth=depth, on_value='ON', off_value='OFF')"
      ],
      "metadata": {
        "colab": {
          "base_uri": "https://localhost:8080/"
        },
        "id": "t9cwhUSYQFkw",
        "outputId": "d6d72b05-d72d-496b-c3f2-0c163aea2f9f"
      },
      "execution_count": null,
      "outputs": [
        {
          "output_type": "execute_result",
          "data": {
            "text/plain": [
              "<tf.Tensor: shape=(4, 4), dtype=string, numpy=\n",
              "array([[b'ON', b'OFF', b'OFF', b'OFF'],\n",
              "       [b'OFF', b'ON', b'OFF', b'OFF'],\n",
              "       [b'OFF', b'OFF', b'ON', b'OFF'],\n",
              "       [b'OFF', b'OFF', b'OFF', b'ON']], dtype=object)>"
            ]
          },
          "metadata": {},
          "execution_count": 270
        }
      ]
    },
    {
      "cell_type": "markdown",
      "source": [
        "### Squaring, log, square root"
      ],
      "metadata": {
        "id": "7YqnxadKQoEE"
      }
    },
    {
      "cell_type": "code",
      "source": [
        "H = tf.range(1,10)\n",
        "H"
      ],
      "metadata": {
        "colab": {
          "base_uri": "https://localhost:8080/"
        },
        "id": "zJzhMS4nQsUC",
        "outputId": "278b2d51-4c1e-4650-a83d-c960103cddd0"
      },
      "execution_count": null,
      "outputs": [
        {
          "output_type": "execute_result",
          "data": {
            "text/plain": [
              "<tf.Tensor: shape=(9,), dtype=int32, numpy=array([1, 2, 3, 4, 5, 6, 7, 8, 9], dtype=int32)>"
            ]
          },
          "metadata": {},
          "execution_count": 271
        }
      ]
    },
    {
      "cell_type": "code",
      "source": [
        "tf.square(H)"
      ],
      "metadata": {
        "colab": {
          "base_uri": "https://localhost:8080/"
        },
        "id": "JL7nYVNpQzTN",
        "outputId": "7360d30c-39c9-43a6-d032-2a8cde446344"
      },
      "execution_count": null,
      "outputs": [
        {
          "output_type": "execute_result",
          "data": {
            "text/plain": [
              "<tf.Tensor: shape=(9,), dtype=int32, numpy=array([ 1,  4,  9, 16, 25, 36, 49, 64, 81], dtype=int32)>"
            ]
          },
          "metadata": {},
          "execution_count": 272
        }
      ]
    },
    {
      "cell_type": "code",
      "source": [
        "tf.math.log(tf.cast(H, dtype=tf.float32))"
      ],
      "metadata": {
        "colab": {
          "base_uri": "https://localhost:8080/"
        },
        "id": "tKQFybT6Q3dN",
        "outputId": "3d3ac2f8-fd1d-49e1-eb1c-6bc454f13f49"
      },
      "execution_count": null,
      "outputs": [
        {
          "output_type": "execute_result",
          "data": {
            "text/plain": [
              "<tf.Tensor: shape=(9,), dtype=float32, numpy=\n",
              "array([0.       , 0.6931472, 1.0986123, 1.3862944, 1.609438 , 1.7917595,\n",
              "       1.9459102, 2.0794415, 2.1972246], dtype=float32)>"
            ]
          },
          "metadata": {},
          "execution_count": 273
        }
      ]
    },
    {
      "cell_type": "code",
      "source": [
        "tf.math.sqrt(tf.cast(H, dtype=tf.float32))"
      ],
      "metadata": {
        "colab": {
          "base_uri": "https://localhost:8080/"
        },
        "id": "Rk4D1z07RK4V",
        "outputId": "a8ea4927-1e40-4d29-be88-17fcc2c90b42"
      },
      "execution_count": null,
      "outputs": [
        {
          "output_type": "execute_result",
          "data": {
            "text/plain": [
              "<tf.Tensor: shape=(9,), dtype=float32, numpy=\n",
              "array([1.       , 1.4142135, 1.7320508, 2.       , 2.236068 , 2.4494898,\n",
              "       2.6457512, 2.828427 , 3.       ], dtype=float32)>"
            ]
          },
          "metadata": {},
          "execution_count": 274
        }
      ]
    },
    {
      "cell_type": "markdown",
      "source": [
        "### Tensors and NumPy\n",
        "\n",
        "Tensorflow interacts beautifully win NumPy arrays"
      ],
      "metadata": {
        "id": "i798dEEeSe2P"
      }
    },
    {
      "cell_type": "code",
      "source": [
        "J = tf.constant(np.array([3., 7., 10.]))\n",
        "J"
      ],
      "metadata": {
        "colab": {
          "base_uri": "https://localhost:8080/"
        },
        "id": "9r6LmNuISvU1",
        "outputId": "3ede106d-c740-4ebd-fa30-a18f2f9a6d88"
      },
      "execution_count": null,
      "outputs": [
        {
          "output_type": "execute_result",
          "data": {
            "text/plain": [
              "<tf.Tensor: shape=(3,), dtype=float64, numpy=array([ 3.,  7., 10.])>"
            ]
          },
          "metadata": {},
          "execution_count": 275
        }
      ]
    },
    {
      "cell_type": "code",
      "source": [
        "#Convert tensor back to numpy array\n",
        "np.array(J)"
      ],
      "metadata": {
        "colab": {
          "base_uri": "https://localhost:8080/"
        },
        "id": "VY7ab79YS8Pl",
        "outputId": "1554c3af-21b4-4f98-cc3a-bbdfe2d43b1a"
      },
      "execution_count": null,
      "outputs": [
        {
          "output_type": "execute_result",
          "data": {
            "text/plain": [
              "array([ 3.,  7., 10.])"
            ]
          },
          "metadata": {},
          "execution_count": 276
        }
      ]
    },
    {
      "cell_type": "code",
      "source": [
        "J.numpy()"
      ],
      "metadata": {
        "colab": {
          "base_uri": "https://localhost:8080/"
        },
        "id": "Y9LquN-HTGMf",
        "outputId": "af14bc32-e43f-4aa3-b98d-686b13e90f30"
      },
      "execution_count": null,
      "outputs": [
        {
          "output_type": "execute_result",
          "data": {
            "text/plain": [
              "array([ 3.,  7., 10.])"
            ]
          },
          "metadata": {},
          "execution_count": 277
        }
      ]
    },
    {
      "cell_type": "code",
      "source": [
        "# The default types of each are sightly different\n",
        "numpy_J = tf.constant(np.array([3., 7., 10.]))\n",
        "tensor_J = tf.constant([3., 7., 10.])\n",
        "\n",
        "numpy_J.dtype, tensor_J.dtype"
      ],
      "metadata": {
        "colab": {
          "base_uri": "https://localhost:8080/"
        },
        "id": "tHSPhWQ0TMul",
        "outputId": "d5e921ad-94dc-4d09-c374-847f95f43fcb"
      },
      "execution_count": null,
      "outputs": [
        {
          "output_type": "execute_result",
          "data": {
            "text/plain": [
              "(tf.float64, tf.float32)"
            ]
          },
          "metadata": {},
          "execution_count": 278
        }
      ]
    },
    {
      "cell_type": "markdown",
      "source": [
        "### Finding access to GPUs"
      ],
      "metadata": {
        "id": "yDYhBhrlU40-"
      }
    },
    {
      "cell_type": "code",
      "source": [
        "tf.test.is_gpu_available()"
      ],
      "metadata": {
        "colab": {
          "base_uri": "https://localhost:8080/"
        },
        "id": "5cACD1zWU9a9",
        "outputId": "4d8d13e9-e724-4361-f471-a46699e52203"
      },
      "execution_count": null,
      "outputs": [
        {
          "output_type": "execute_result",
          "data": {
            "text/plain": [
              "False"
            ]
          },
          "metadata": {},
          "execution_count": 279
        }
      ]
    },
    {
      "cell_type": "code",
      "source": [
        "import tensorflow as tf\n",
        "tf.config.list_physical_devices()"
      ],
      "metadata": {
        "colab": {
          "base_uri": "https://localhost:8080/"
        },
        "id": "zSUwtM_cVSPV",
        "outputId": "3f8c4f69-c51b-49a1-b80b-17bd3c5e79b0"
      },
      "execution_count": null,
      "outputs": [
        {
          "output_type": "execute_result",
          "data": {
            "text/plain": [
              "[PhysicalDevice(name='/physical_device:CPU:0', device_type='CPU')]"
            ]
          },
          "metadata": {},
          "execution_count": 280
        }
      ]
    },
    {
      "cell_type": "code",
      "source": [
        "tf.config.list_physical_devices('GPU')"
      ],
      "metadata": {
        "colab": {
          "base_uri": "https://localhost:8080/"
        },
        "id": "41DcCNOwWY8X",
        "outputId": "8304769a-a6b2-4ca5-caf7-e50b4df2ccdc"
      },
      "execution_count": null,
      "outputs": [
        {
          "output_type": "execute_result",
          "data": {
            "text/plain": [
              "[]"
            ]
          },
          "metadata": {},
          "execution_count": 281
        }
      ]
    },
    {
      "cell_type": "code",
      "source": [
        "!nvidia-smi"
      ],
      "metadata": {
        "id": "oEMpbJITWgW_",
        "outputId": "fb505ef0-7c40-4c9b-c29b-613880c34d04",
        "colab": {
          "base_uri": "https://localhost:8080/"
        }
      },
      "execution_count": null,
      "outputs": [
        {
          "output_type": "stream",
          "name": "stdout",
          "text": [
            "NVIDIA-SMI has failed because it couldn't communicate with the NVIDIA driver. Make sure that the latest NVIDIA driver is installed and running.\n",
            "\n"
          ]
        }
      ]
    },
    {
      "cell_type": "markdown",
      "source": [
        "### 00 Tensorflow Fundamentals Exercises"
      ],
      "metadata": {
        "id": "Fm5PTv-Z4YvQ"
      }
    },
    {
      "cell_type": "markdown",
      "source": [
        "1. Create a vector, scalar, matrix and tensor with values of your choosing using `tf.constant().`"
      ],
      "metadata": {
        "id": "SxIoNvtV4fQO"
      }
    },
    {
      "cell_type": "code",
      "source": [
        "s = tf.constant(8)\n",
        "v = tf.constant([10, 20, 30])\n",
        "M = tf.constant([[1, 2, 3],\n",
        "                 [4, 5, 6]])\n",
        "T = tf.constant([[[1, 2, 3],\n",
        "                 [4, 5, 6]],\n",
        "\n",
        "                 [[7, 8, 9],\n",
        "                 [10, 11, 12]],\n",
        "\n",
        "                 [[13, 14, 15],\n",
        "                  [16, 17, 18]]])\n",
        "print(\"This is a scalar:\")\n",
        "print(s,\"\\n\")\n",
        "\n",
        "print(\"This is a vector:\")\n",
        "print(v,\"\\n\")\n",
        "\n",
        "print(\"This is a matrix\")\n",
        "print(M, \"\\n\")\n",
        "\n",
        "print(\"This is Tensor\")\n",
        "print(T, \"\\n\")"
      ],
      "metadata": {
        "colab": {
          "base_uri": "https://localhost:8080/"
        },
        "id": "FjTxRTRs4oi9",
        "outputId": "0f444382-3fb7-4b64-9579-c77a9279c251"
      },
      "execution_count": null,
      "outputs": [
        {
          "output_type": "stream",
          "name": "stdout",
          "text": [
            "This is a scalar:\n",
            "tf.Tensor(8, shape=(), dtype=int32) \n",
            "\n",
            "This is a vector:\n",
            "tf.Tensor([10 20 30], shape=(3,), dtype=int32) \n",
            "\n",
            "This is a matrix\n",
            "tf.Tensor(\n",
            "[[1 2 3]\n",
            " [4 5 6]], shape=(2, 3), dtype=int32) \n",
            "\n",
            "This is Tensor\n",
            "tf.Tensor(\n",
            "[[[ 1  2  3]\n",
            "  [ 4  5  6]]\n",
            "\n",
            " [[ 7  8  9]\n",
            "  [10 11 12]]\n",
            "\n",
            " [[13 14 15]\n",
            "  [16 17 18]]], shape=(3, 2, 3), dtype=int32) \n",
            "\n"
          ]
        }
      ]
    },
    {
      "cell_type": "markdown",
      "source": [
        "2. Find the shape, rank and size of the tensors you created in 1."
      ],
      "metadata": {
        "id": "oSTTEVh45epN"
      }
    },
    {
      "cell_type": "code",
      "source": [
        "def properties_pretty_printed(T: tf.Tensor, nl=False):\n",
        "  print(\"This is the shape of the Tensor: \", T.shape)\n",
        "  print(\"This is the rank of the Tensor: \", T.ndim)\n",
        "  print(\"This is the size of the Tensor: \", tf.size(T))\n",
        "\n",
        "  if nl:\n",
        "    print(\"\\n\")\n",
        "\n",
        "def print_by_list(tensor_list: list):\n",
        "  if not isinstance(tensor_list, list):\n",
        "    tensor_list = [tensor_list]\n",
        "\n",
        "  for n, tensor in enumerate(tensor_list):\n",
        "    if isinstance(tensor, tf.Tensor):\n",
        "      if n == len(tensor_list)-1:\n",
        "        properties_pretty_printed(tensor)\n",
        "      else:\n",
        "        properties_pretty_printed(tensor, nl=True)\n",
        "    else:\n",
        "      raise TypeError(\"All the elements of the list must be tensors\")"
      ],
      "metadata": {
        "id": "xHbRBQxk7IR9"
      },
      "execution_count": null,
      "outputs": []
    },
    {
      "cell_type": "code",
      "source": [
        "tensor_list = [s, v, M, T,]\n",
        "print_by_list(tensor_list)"
      ],
      "metadata": {
        "colab": {
          "base_uri": "https://localhost:8080/"
        },
        "id": "_P0lppMT9YTK",
        "outputId": "125aab25-f8c1-4154-ad7a-8764127c441f"
      },
      "execution_count": null,
      "outputs": [
        {
          "output_type": "stream",
          "name": "stdout",
          "text": [
            "This is the shape of the Tensor:  ()\n",
            "This is the rank of the Tensor:  0\n",
            "This is the size of the Tensor:  tf.Tensor(1, shape=(), dtype=int32)\n",
            "\n",
            "\n",
            "This is the shape of the Tensor:  (3,)\n",
            "This is the rank of the Tensor:  1\n",
            "This is the size of the Tensor:  tf.Tensor(3, shape=(), dtype=int32)\n",
            "\n",
            "\n",
            "This is the shape of the Tensor:  (2, 3)\n",
            "This is the rank of the Tensor:  2\n",
            "This is the size of the Tensor:  tf.Tensor(6, shape=(), dtype=int32)\n",
            "\n",
            "\n",
            "This is the shape of the Tensor:  (3, 2, 3)\n",
            "This is the rank of the Tensor:  3\n",
            "This is the size of the Tensor:  tf.Tensor(18, shape=(), dtype=int32)\n"
          ]
        }
      ]
    },
    {
      "cell_type": "markdown",
      "source": [
        "3. Create two tensors containing random values between 0 and 1 with shape `[5, 300].`"
      ],
      "metadata": {
        "id": "c6qbDM5p8xEC"
      }
    },
    {
      "cell_type": "code",
      "source": [
        "tensor_random_1 = tf.random.Generator.from_seed(42)\n",
        "tensor_random_1 = tensor_random_1.uniform(shape=(5, 300))\n",
        "tensor_random_2 = tf.random.Generator.from_seed(42)\n",
        "tensor_random_2 = tensor_random_2.uniform(shape=(5, 300))\n",
        "print(\"This is tensor 1:\")\n",
        "print(tensor_random_1, \"\\n\")\n",
        "print(\"This is tensor 2:\")\n",
        "print(tensor_random_2, \"\\n\")"
      ],
      "metadata": {
        "colab": {
          "base_uri": "https://localhost:8080/"
        },
        "id": "hL4zGy8VArzm",
        "outputId": "15d0c3dc-5b41-42d3-ee5f-a182dba2454a"
      },
      "execution_count": null,
      "outputs": [
        {
          "output_type": "stream",
          "name": "stdout",
          "text": [
            "This is tensor 1:\n",
            "tf.Tensor(\n",
            "[[0.7493447  0.73561966 0.45230794 ... 0.5816356  0.5627874  0.7491298 ]\n",
            " [0.6438937  0.6938418  0.04408407 ... 0.04825139 0.5099728  0.26470542]\n",
            " [0.21373153 0.6683699  0.78474844 ... 0.19658887 0.22030771 0.3766911 ]\n",
            " [0.68190825 0.29304636 0.5415933  ... 0.37111604 0.76053166 0.7538099 ]\n",
            " [0.8011551  0.48830473 0.13867617 ... 0.20301867 0.8378159  0.19984365]], shape=(5, 300), dtype=float32) \n",
            "\n",
            "This is tensor 2:\n",
            "tf.Tensor(\n",
            "[[0.7493447  0.73561966 0.45230794 ... 0.5816356  0.5627874  0.7491298 ]\n",
            " [0.6438937  0.6938418  0.04408407 ... 0.04825139 0.5099728  0.26470542]\n",
            " [0.21373153 0.6683699  0.78474844 ... 0.19658887 0.22030771 0.3766911 ]\n",
            " [0.68190825 0.29304636 0.5415933  ... 0.37111604 0.76053166 0.7538099 ]\n",
            " [0.8011551  0.48830473 0.13867617 ... 0.20301867 0.8378159  0.19984365]], shape=(5, 300), dtype=float32) \n",
            "\n"
          ]
        }
      ]
    },
    {
      "cell_type": "markdown",
      "source": [
        "4. Multiply the two tensors you created in 3 using matrix multiplication."
      ],
      "metadata": {
        "id": "GJpYFmpgGg-I"
      }
    },
    {
      "cell_type": "code",
      "source": [
        "tensor_random_1 @ tf.transpose(tensor_random_2)"
      ],
      "metadata": {
        "colab": {
          "base_uri": "https://localhost:8080/"
        },
        "id": "rU8cJKgjGxWV",
        "outputId": "e184647a-be5e-4d64-fe4f-fe5515000911"
      },
      "execution_count": null,
      "outputs": [
        {
          "output_type": "execute_result",
          "data": {
            "text/plain": [
              "<tf.Tensor: shape=(5, 5), dtype=float32, numpy=\n",
              "array([[101.66054 ,  73.4119  ,  75.69495 ,  77.3254  ,  76.02343 ],\n",
              "       [ 73.4119  ,  96.01821 ,  68.701004,  71.45271 ,  74.41574 ],\n",
              "       [ 75.69495 ,  68.701004,  97.2023  ,  75.038734,  72.08196 ],\n",
              "       [ 77.3254  ,  71.45271 ,  75.038734,  98.26957 ,  74.205154],\n",
              "       [ 76.02343 ,  74.41574 ,  72.08196 ,  74.205154,  99.33444 ]],\n",
              "      dtype=float32)>"
            ]
          },
          "metadata": {},
          "execution_count": 287
        }
      ]
    },
    {
      "cell_type": "code",
      "source": [
        "tf.matmul(tensor_random_1, tf.transpose(tensor_random_1))"
      ],
      "metadata": {
        "colab": {
          "base_uri": "https://localhost:8080/"
        },
        "id": "PrhbAYXgG-uV",
        "outputId": "156e7b6e-2dd8-410e-a88d-f8190bb3b112"
      },
      "execution_count": null,
      "outputs": [
        {
          "output_type": "execute_result",
          "data": {
            "text/plain": [
              "<tf.Tensor: shape=(5, 5), dtype=float32, numpy=\n",
              "array([[101.66054 ,  73.4119  ,  75.69495 ,  77.3254  ,  76.02343 ],\n",
              "       [ 73.4119  ,  96.01821 ,  68.701004,  71.45271 ,  74.41574 ],\n",
              "       [ 75.69495 ,  68.701004,  97.2023  ,  75.038734,  72.08196 ],\n",
              "       [ 77.3254  ,  71.45271 ,  75.038734,  98.26957 ,  74.205154],\n",
              "       [ 76.02343 ,  74.41574 ,  72.08196 ,  74.205154,  99.33444 ]],\n",
              "      dtype=float32)>"
            ]
          },
          "metadata": {},
          "execution_count": 288
        }
      ]
    },
    {
      "cell_type": "code",
      "source": [
        "tensor_random_1 * tensor_random_2"
      ],
      "metadata": {
        "colab": {
          "base_uri": "https://localhost:8080/"
        },
        "id": "PWTob0LTHNJ9",
        "outputId": "909da366-5587-4c16-ca5e-1343d5f145f6"
      },
      "execution_count": null,
      "outputs": [
        {
          "output_type": "execute_result",
          "data": {
            "text/plain": [
              "<tf.Tensor: shape=(5, 300), dtype=float32, numpy=\n",
              "array([[0.5615175 , 0.54113626, 0.20458247, ..., 0.33829996, 0.31672966,\n",
              "        0.56119543],\n",
              "       [0.41459912, 0.48141646, 0.00194341, ..., 0.0023282 , 0.26007226,\n",
              "        0.07006896],\n",
              "       [0.04568117, 0.4467183 , 0.6158301 , ..., 0.03864719, 0.04853548,\n",
              "        0.14189619],\n",
              "       [0.46499887, 0.08587617, 0.2933233 , ..., 0.13772711, 0.5784084 ,\n",
              "        0.56822944],\n",
              "       [0.64184946, 0.23844151, 0.01923108, ..., 0.04121658, 0.70193547,\n",
              "        0.03993748]], dtype=float32)>"
            ]
          },
          "metadata": {},
          "execution_count": 289
        }
      ]
    },
    {
      "cell_type": "markdown",
      "source": [
        "5. Multiply the two tensors you created in 3 using dot product."
      ],
      "metadata": {
        "id": "KqPGewgUHTtF"
      }
    },
    {
      "cell_type": "code",
      "source": [
        "tf.tensordot(tensor_random_1, tf.transpose(tensor_random_2), axes=1)"
      ],
      "metadata": {
        "colab": {
          "base_uri": "https://localhost:8080/"
        },
        "id": "95FopunYHdEN",
        "outputId": "db23a7a6-27fd-4474-b22f-2830bffa1c31"
      },
      "execution_count": null,
      "outputs": [
        {
          "output_type": "execute_result",
          "data": {
            "text/plain": [
              "<tf.Tensor: shape=(5, 5), dtype=float32, numpy=\n",
              "array([[101.66054 ,  73.4119  ,  75.69495 ,  77.3254  ,  76.02343 ],\n",
              "       [ 73.4119  ,  96.01821 ,  68.701004,  71.45271 ,  74.41574 ],\n",
              "       [ 75.69495 ,  68.701004,  97.2023  ,  75.038734,  72.08196 ],\n",
              "       [ 77.3254  ,  71.45271 ,  75.038734,  98.26957 ,  74.205154],\n",
              "       [ 76.02343 ,  74.41574 ,  72.08196 ,  74.205154,  99.33444 ]],\n",
              "      dtype=float32)>"
            ]
          },
          "metadata": {},
          "execution_count": 290
        }
      ]
    },
    {
      "cell_type": "markdown",
      "source": [
        "Create a tensor with random values between 0 and 1 with shape `[224, 224, 3].`"
      ],
      "metadata": {
        "id": "Z3QV4_kEIneb"
      }
    },
    {
      "cell_type": "code",
      "source": [
        "tensor_random_3 = tf.random.Generator.from_seed(42)\n",
        "tensor_random_3 = tensor_random_3.uniform(shape=(224, 224, 3))\n",
        "tensor_random_3"
      ],
      "metadata": {
        "colab": {
          "base_uri": "https://localhost:8080/"
        },
        "id": "SRhJKOQBI9Uz",
        "outputId": "963c87e9-65b0-41f0-ed42-07006dde2915"
      },
      "execution_count": null,
      "outputs": [
        {
          "output_type": "execute_result",
          "data": {
            "text/plain": [
              "<tf.Tensor: shape=(224, 224, 3), dtype=float32, numpy=\n",
              "array([[[0.7493447 , 0.73561966, 0.45230794],\n",
              "        [0.49039817, 0.1889317 , 0.52027524],\n",
              "        [0.8736881 , 0.46921718, 0.63932586],\n",
              "        ...,\n",
              "        [0.8035464 , 0.8265822 , 0.84540355],\n",
              "        [0.16108847, 0.48667014, 0.6170937 ],\n",
              "        [0.22355545, 0.93454087, 0.5319209 ]],\n",
              "\n",
              "       [[0.7508148 , 0.46019256, 0.14229465],\n",
              "        [0.10500956, 0.72874916, 0.89662087],\n",
              "        [0.85220826, 0.76973283, 0.11408448],\n",
              "        ...,\n",
              "        [0.38387823, 0.72712064, 0.7561674 ],\n",
              "        [0.70352066, 0.22680473, 0.24423313],\n",
              "        [0.39240444, 0.32533252, 0.39407527]],\n",
              "\n",
              "       [[0.74291146, 0.54543686, 0.32094967],\n",
              "        [0.6671035 , 0.8900143 , 0.64271927],\n",
              "        [0.5317905 , 0.21345353, 0.71189904],\n",
              "        ...,\n",
              "        [0.53968227, 0.7233304 , 0.7900686 ],\n",
              "        [0.99334645, 0.857829  , 0.67977047],\n",
              "        [0.8087704 , 0.06597769, 0.62171316]],\n",
              "\n",
              "       ...,\n",
              "\n",
              "       [[0.84861326, 0.6271888 , 0.7023717 ],\n",
              "        [0.46894228, 0.4787085 , 0.1912539 ],\n",
              "        [0.39595473, 0.5948347 , 0.6859689 ],\n",
              "        ...,\n",
              "        [0.55004704, 0.81996536, 0.6626886 ],\n",
              "        [0.30092347, 0.3980503 , 0.17080736],\n",
              "        [0.9393351 , 0.3430456 , 0.15847623]],\n",
              "\n",
              "       [[0.07707131, 0.57546544, 0.841964  ],\n",
              "        [0.4417436 , 0.88804233, 0.8017428 ],\n",
              "        [0.6850492 , 0.70381224, 0.38806987],\n",
              "        ...,\n",
              "        [0.01135123, 0.46678603, 0.1724801 ],\n",
              "        [0.6351286 , 0.471022  , 0.22208214],\n",
              "        [0.5487895 , 0.9890213 , 0.12894046]],\n",
              "\n",
              "       [[0.712723  , 0.740348  , 0.8293475 ],\n",
              "        [0.15965354, 0.2230674 , 0.02333987],\n",
              "        [0.7165916 , 0.8322334 , 0.33391452],\n",
              "        ...,\n",
              "        [0.8585105 , 0.13414657, 0.3103006 ],\n",
              "        [0.74841535, 0.5148909 , 0.25076163],\n",
              "        [0.5981357 , 0.20435822, 0.66445065]]], dtype=float32)>"
            ]
          },
          "metadata": {},
          "execution_count": 291
        }
      ]
    },
    {
      "cell_type": "code",
      "source": [
        "tensor_random_3[0]"
      ],
      "metadata": {
        "colab": {
          "base_uri": "https://localhost:8080/"
        },
        "id": "OsfycdoOLqd0",
        "outputId": "70c817d4-37cd-4765-d2dd-2a029adfecc6"
      },
      "execution_count": null,
      "outputs": [
        {
          "output_type": "execute_result",
          "data": {
            "text/plain": [
              "<tf.Tensor: shape=(224, 3), dtype=float32, numpy=\n",
              "array([[7.49344707e-01, 7.35619664e-01, 4.52307940e-01],\n",
              "       [4.90398169e-01, 1.88931704e-01, 5.20275235e-01],\n",
              "       [8.73688102e-01, 4.69217181e-01, 6.39325857e-01],\n",
              "       [6.46711707e-01, 9.62467551e-01, 4.10091639e-01],\n",
              "       [8.65407467e-01, 8.86297822e-01, 2.77957320e-01],\n",
              "       [8.85776281e-01, 2.17984200e-01, 2.91151166e-01],\n",
              "       [3.95386219e-02, 8.13679099e-01, 8.13985229e-01],\n",
              "       [5.21806836e-01, 1.24969244e-01, 5.48848271e-01],\n",
              "       [7.75577307e-01, 6.18440270e-01, 2.49362230e-01],\n",
              "       [8.93418431e-01, 2.84228444e-01, 7.03326464e-01],\n",
              "       [2.62213707e-01, 4.43216205e-01, 4.66464996e-01],\n",
              "       [5.98187447e-02, 4.00982022e-01, 6.92923546e-01],\n",
              "       [1.28468394e-01, 2.27703691e-01, 3.36912155e-01],\n",
              "       [5.32913804e-01, 5.91432571e-01, 2.17382431e-01],\n",
              "       [5.32207489e-01, 5.14833927e-02, 3.95141840e-02],\n",
              "       [4.18668747e-01, 7.89399147e-01, 4.38427925e-02],\n",
              "       [9.69558358e-01, 4.91161823e-01, 3.70619893e-01],\n",
              "       [3.35353971e-01, 2.76083946e-02, 9.97575045e-01],\n",
              "       [5.21727562e-01, 2.03071713e-01, 7.18254685e-01],\n",
              "       [8.42635751e-01, 9.54259515e-01, 9.01121855e-01],\n",
              "       [6.28392935e-01, 8.61945152e-02, 5.67992806e-01],\n",
              "       [2.87636757e-01, 1.88289165e-01, 6.65871501e-01],\n",
              "       [6.19020820e-01, 4.42273617e-02, 4.96266246e-01],\n",
              "       [6.47486091e-01, 3.55768204e-01, 3.20338845e-01],\n",
              "       [3.37050080e-01, 7.39106178e-01, 1.65120959e-01],\n",
              "       [4.15558577e-01, 7.86382437e-01, 4.58994150e-01],\n",
              "       [4.26863432e-01, 5.63044071e-01, 4.11505699e-02],\n",
              "       [7.53201485e-01, 1.83152437e-01, 3.08075547e-01],\n",
              "       [3.04829359e-01, 8.61170292e-02, 7.52608299e-01],\n",
              "       [4.24153566e-01, 7.87750483e-01, 1.16114974e-01],\n",
              "       [3.52550864e-01, 5.07188559e-01, 1.64677382e-01],\n",
              "       [5.41088939e-01, 5.76573610e-01, 1.68442845e-01],\n",
              "       [8.00760388e-01, 3.44830275e-01, 3.07359338e-01],\n",
              "       [9.70076919e-01, 4.33365822e-01, 5.18296361e-01],\n",
              "       [8.55557203e-01, 2.19624281e-01, 7.60911942e-01],\n",
              "       [4.76288795e-02, 5.13163328e-01, 9.73395944e-01],\n",
              "       [3.33419442e-01, 3.15231085e-02, 2.88746119e-01],\n",
              "       [5.87360263e-01, 7.56696939e-01, 7.06017375e-01],\n",
              "       [5.58879495e-01, 4.00889039e-01, 8.37752104e-01],\n",
              "       [7.65117526e-01, 5.40292382e-01, 5.24455547e-01],\n",
              "       [8.96540880e-01, 4.25384402e-01, 6.82416081e-01],\n",
              "       [1.74996018e-01, 4.16320086e-01, 8.32150817e-01],\n",
              "       [3.13665986e-01, 1.51262522e-01, 2.36098886e-01],\n",
              "       [5.64518452e-01, 4.46495652e-01, 4.10264969e-01],\n",
              "       [6.08333230e-01, 5.09733558e-01, 3.10433745e-01],\n",
              "       [7.89377689e-02, 5.77834249e-01, 1.62368536e-01],\n",
              "       [6.30970001e-01, 7.25486279e-01, 8.39304805e-01],\n",
              "       [8.98837566e-01, 6.49808764e-01, 9.60505009e-02],\n",
              "       [6.56076670e-02, 6.03095889e-01, 5.26180625e-01],\n",
              "       [2.92635918e-01, 3.68281722e-01, 9.12535071e-01],\n",
              "       [9.31175709e-01, 8.09977770e-01, 8.88977766e-01],\n",
              "       [3.82083178e-01, 4.65142846e-01, 2.66865969e-01],\n",
              "       [5.73928833e-01, 9.30582523e-01, 9.70721245e-01],\n",
              "       [2.64991999e-01, 4.85143661e-01, 6.49457455e-01],\n",
              "       [8.07428360e-02, 3.53314877e-02, 6.63435936e-01],\n",
              "       [5.92087388e-01, 8.98425341e-01, 4.52042580e-01],\n",
              "       [5.90034723e-02, 5.44488430e-01, 6.23618364e-02],\n",
              "       [4.81557846e-03, 5.48979044e-02, 3.07458758e-01],\n",
              "       [8.17090273e-02, 5.90901375e-02, 6.01173401e-01],\n",
              "       [4.26206231e-01, 3.02485704e-01, 7.69348621e-01],\n",
              "       [5.63108444e-01, 2.56145000e-03, 9.40343738e-01],\n",
              "       [3.06286216e-01, 4.06481862e-01, 8.96602154e-01],\n",
              "       [9.32305813e-01, 1.35862827e-02, 7.46304393e-01],\n",
              "       [3.28771114e-01, 8.99905443e-01, 8.09021950e-01],\n",
              "       [7.59546638e-01, 2.04555273e-01, 8.08117151e-01],\n",
              "       [5.64546466e-01, 2.03002334e-01, 7.50399470e-01],\n",
              "       [8.57069492e-02, 4.88344789e-01, 3.36872101e-01],\n",
              "       [8.95933509e-01, 6.86717153e-01, 8.49706292e-01],\n",
              "       [1.05042696e-01, 3.61919403e-04, 6.54100657e-01],\n",
              "       [6.72282577e-01, 5.89845419e-01, 4.95882750e-01],\n",
              "       [7.05579758e-01, 1.95441484e-01, 2.47545242e-01],\n",
              "       [3.11454177e-01, 4.42113876e-01, 1.86583042e-01],\n",
              "       [4.90740657e-01, 9.96545911e-01, 1.74491763e-01],\n",
              "       [1.87495708e-01, 2.75751472e-01, 6.17192864e-01],\n",
              "       [9.82719183e-01, 4.27630305e-01, 8.46298575e-01],\n",
              "       [5.48286080e-01, 9.57981348e-01, 6.60828471e-01],\n",
              "       [2.17421055e-01, 9.03727651e-01, 3.92754674e-01],\n",
              "       [1.53796792e-01, 6.66196585e-01, 7.46905804e-01],\n",
              "       [8.76932502e-01, 8.47741604e-01, 2.27097869e-01],\n",
              "       [4.92568731e-01, 7.68266797e-01, 8.00980330e-01],\n",
              "       [7.78487921e-01, 7.24929929e-01, 8.97543430e-01],\n",
              "       [7.96359420e-01, 6.21215582e-01, 2.03082561e-02],\n",
              "       [6.32070303e-01, 5.60293555e-01, 6.36326432e-01],\n",
              "       [3.85902882e-01, 4.48339820e-01, 2.55981803e-01],\n",
              "       [7.47539520e-01, 5.41517019e-01, 5.74975491e-01],\n",
              "       [6.21496439e-01, 8.33830833e-01, 9.28115368e-01],\n",
              "       [8.80505323e-01, 9.16660547e-01, 1.97221518e-01],\n",
              "       [6.63902521e-01, 1.87229037e-01, 3.30751419e-01],\n",
              "       [6.11428022e-02, 6.99357867e-01, 7.01827884e-01],\n",
              "       [9.55088496e-01, 1.93581581e-01, 6.25373960e-01],\n",
              "       [9.68810320e-02, 1.90933704e-01, 9.95196939e-01],\n",
              "       [6.07128739e-01, 1.73160076e-01, 9.79130864e-01],\n",
              "       [6.47869587e-01, 8.70389223e-01, 1.96049452e-01],\n",
              "       [3.44129801e-01, 1.68384314e-01, 7.88887382e-01],\n",
              "       [2.25628495e-01, 9.53404307e-01, 6.27882242e-01],\n",
              "       [6.37251377e-01, 8.45229030e-01, 4.33319449e-01],\n",
              "       [2.52809167e-01, 4.89997387e-01, 9.77957129e-01],\n",
              "       [2.95132518e-01, 9.57270384e-01, 5.48553228e-01],\n",
              "       [2.73534179e-01, 8.52200627e-01, 4.69247937e-01],\n",
              "       [5.81635594e-01, 5.62787414e-01, 7.49129772e-01],\n",
              "       [6.43893719e-01, 6.93841815e-01, 4.40840721e-02],\n",
              "       [7.33171701e-01, 6.12288117e-01, 9.17946458e-01],\n",
              "       [4.21768308e-01, 6.74637198e-01, 1.11785054e-01],\n",
              "       [8.09991956e-01, 3.82505298e-01, 7.05549598e-01],\n",
              "       [6.97555542e-02, 8.61291885e-01, 9.53653574e-01],\n",
              "       [8.28199387e-02, 6.39983416e-02, 7.67901540e-01],\n",
              "       [8.55257988e-01, 2.82037616e-01, 5.76131105e-01],\n",
              "       [1.42989039e-01, 1.16001725e-01, 4.93099689e-01],\n",
              "       [6.56470656e-01, 3.02831173e-01, 1.85237408e-01],\n",
              "       [5.84622502e-01, 3.64908457e-01, 3.29106688e-01],\n",
              "       [9.57714915e-01, 4.89637136e-01, 9.36804652e-01],\n",
              "       [7.81248808e-01, 7.58358002e-01, 6.13970041e-01],\n",
              "       [5.47740102e-01, 6.78745985e-01, 9.10363197e-02],\n",
              "       [6.02796793e-01, 2.35409498e-01, 7.96340942e-01],\n",
              "       [1.65887117e-01, 7.65264392e-01, 9.04393077e-01],\n",
              "       [9.19514894e-02, 2.54562616e-01, 2.16833830e-01],\n",
              "       [5.71044207e-01, 5.56876659e-01, 9.54649091e-01],\n",
              "       [3.82575989e-02, 6.70026064e-01, 9.42217231e-01],\n",
              "       [3.09792638e-01, 1.96549535e-01, 7.67192960e-01],\n",
              "       [7.30242014e-01, 9.89778757e-01, 3.24876308e-01],\n",
              "       [1.24974608e-01, 1.16591811e-01, 2.82835484e-01],\n",
              "       [5.52634835e-01, 5.88920474e-01, 1.37348533e-01],\n",
              "       [6.58203840e-01, 9.20577049e-02, 5.29483914e-01],\n",
              "       [9.71890926e-01, 3.50409746e-02, 5.15094995e-02],\n",
              "       [7.91793585e-01, 9.49786186e-01, 8.82357121e-01],\n",
              "       [9.01154041e-01, 9.53615904e-01, 8.44738245e-01],\n",
              "       [5.78749180e-03, 1.51498675e-01, 7.61863828e-01],\n",
              "       [2.52805114e-01, 7.39336133e-01, 2.51967669e-01],\n",
              "       [9.13506627e-01, 4.08275008e-01, 7.68211484e-01],\n",
              "       [5.90164661e-02, 7.76539445e-01, 1.43046260e-01],\n",
              "       [1.36660814e-01, 9.14246321e-01, 5.13266444e-01],\n",
              "       [8.87671709e-02, 9.13594007e-01, 5.90474010e-01],\n",
              "       [3.52340937e-01, 4.06608105e-01, 6.78184628e-01],\n",
              "       [8.16463470e-01, 6.02767467e-02, 2.76312113e-01],\n",
              "       [3.91912937e-01, 5.52372694e-01, 1.14883542e-01],\n",
              "       [4.36314940e-01, 5.67206383e-01, 1.30097866e-01],\n",
              "       [2.12638140e-01, 3.07680964e-01, 1.04762316e-02],\n",
              "       [7.63033390e-01, 1.58250093e-01, 8.85398149e-01],\n",
              "       [1.78751707e-01, 1.78220630e-01, 9.38792109e-01],\n",
              "       [6.66505456e-01, 9.87321734e-01, 8.00853968e-01],\n",
              "       [8.98830652e-01, 6.28710866e-01, 4.40552473e-01],\n",
              "       [6.39401197e-01, 7.32512236e-01, 6.62579417e-01],\n",
              "       [6.34365916e-01, 1.48814082e-01, 4.90960121e-01],\n",
              "       [5.04374743e-01, 6.11003280e-01, 7.94353604e-01],\n",
              "       [2.05730438e-01, 5.44288397e-01, 1.04708314e-01],\n",
              "       [4.38844323e-01, 1.92128420e-01, 4.09207821e-01],\n",
              "       [6.35196924e-01, 9.51265574e-01, 4.92482781e-01],\n",
              "       [9.10133123e-02, 1.48003101e-02, 6.89604878e-01],\n",
              "       [3.14602137e-01, 2.80398369e-01, 2.38562346e-01],\n",
              "       [2.95794010e-02, 4.91982222e-01, 6.65767312e-01],\n",
              "       [8.86132121e-01, 1.88423753e-01, 2.43371725e-02],\n",
              "       [6.35854483e-01, 1.71126723e-01, 9.31745052e-01],\n",
              "       [3.17196369e-01, 6.64994717e-01, 1.20001674e-01],\n",
              "       [8.90844584e-01, 2.03059554e-01, 8.33489895e-02],\n",
              "       [2.31789231e-01, 5.80689311e-01, 4.15572524e-01],\n",
              "       [4.52924490e-01, 9.84164119e-01, 1.26467466e-01],\n",
              "       [3.75427485e-01, 4.63752627e-01, 8.08687210e-01],\n",
              "       [1.73090339e-01, 3.85355949e-03, 7.36825943e-01],\n",
              "       [6.46525979e-01, 4.57174182e-01, 7.22187757e-02],\n",
              "       [7.17934489e-01, 8.02645683e-02, 8.27675700e-01],\n",
              "       [9.83177185e-01, 1.74443364e-01, 8.15380573e-01],\n",
              "       [9.05452728e-01, 1.79395556e-01, 4.08538461e-01],\n",
              "       [6.57565713e-01, 5.13861537e-01, 1.85301781e-01],\n",
              "       [1.42071247e-01, 3.46394777e-02, 2.06320882e-01],\n",
              "       [3.71236324e-01, 9.25052524e-01, 9.18359756e-01],\n",
              "       [4.39707279e-01, 9.76675987e-01, 8.94673586e-01],\n",
              "       [9.74739790e-01, 7.01199174e-01, 7.36133933e-01],\n",
              "       [4.36063290e-01, 7.53683329e-01, 1.35310888e-02],\n",
              "       [2.82360196e-01, 9.27937031e-02, 2.42446899e-01],\n",
              "       [9.22140360e-01, 1.31866693e-01, 1.88951254e-01],\n",
              "       [1.34690166e-01, 2.99161077e-01, 2.28805542e-01],\n",
              "       [2.31078863e-02, 3.04269195e-01, 7.83049703e-01],\n",
              "       [2.17733979e-01, 1.24598026e-01, 7.45694399e-01],\n",
              "       [8.77449274e-01, 7.11264610e-01, 2.45118737e-01],\n",
              "       [3.05400848e-01, 3.74382496e-01, 3.10861707e-01],\n",
              "       [6.08785152e-02, 8.82828236e-02, 4.72279787e-01],\n",
              "       [8.81868243e-01, 4.15364265e-01, 4.72230911e-01],\n",
              "       [2.03911304e-01, 5.72645664e-03, 5.18087387e-01],\n",
              "       [1.83956623e-01, 6.63875341e-02, 5.20534754e-01],\n",
              "       [1.87132120e-01, 2.93059230e-01, 7.24267006e-01],\n",
              "       [6.26546144e-02, 6.09106064e-01, 7.62386322e-02],\n",
              "       [8.96561146e-01, 7.28512049e-01, 3.82499337e-01],\n",
              "       [5.20542502e-01, 9.13105249e-01, 5.60314298e-01],\n",
              "       [7.26307034e-01, 6.60045743e-01, 4.63523626e-01],\n",
              "       [5.25757313e-01, 9.38228726e-01, 6.49787188e-01],\n",
              "       [1.85165524e-01, 7.97731161e-01, 3.66117835e-01],\n",
              "       [8.97995234e-02, 4.70872402e-01, 5.74277878e-01],\n",
              "       [5.24458528e-01, 4.75291848e-01, 4.40469980e-01],\n",
              "       [9.32110548e-01, 4.71123576e-01, 7.37151027e-01],\n",
              "       [2.97820807e-01, 3.57619524e-01, 6.34885550e-01],\n",
              "       [3.78914356e-01, 4.50658917e-01, 8.77957344e-01],\n",
              "       [4.95272756e-01, 2.28523254e-01, 7.75783777e-01],\n",
              "       [3.29116702e-01, 4.57225680e-01, 6.71446323e-01],\n",
              "       [8.31161022e-01, 7.67258048e-01, 1.25636458e-01],\n",
              "       [4.28790450e-01, 6.77357435e-01, 2.79272318e-01],\n",
              "       [8.86237264e-01, 3.71247530e-01, 1.89423561e-01],\n",
              "       [4.93362784e-01, 2.99982905e-01, 5.93057752e-01],\n",
              "       [5.65419912e-01, 1.63576245e-01, 5.64816594e-01],\n",
              "       [9.01837230e-01, 9.01939273e-01, 9.85144973e-01],\n",
              "       [4.82513905e-02, 5.09972811e-01, 2.64705420e-01],\n",
              "       [2.13731527e-01, 6.68369889e-01, 7.84748435e-01],\n",
              "       [5.37747264e-01, 6.16435766e-01, 6.50204420e-01],\n",
              "       [1.14671469e-01, 9.61620331e-01, 5.44995070e-01],\n",
              "       [9.30484056e-01, 9.01104927e-01, 2.25932598e-02],\n",
              "       [1.29343271e-02, 3.67108345e-01, 8.18080306e-01],\n",
              "       [7.00070977e-01, 8.38449001e-02, 7.60457993e-01],\n",
              "       [1.66948199e-01, 1.35867834e-01, 7.57271767e-01],\n",
              "       [8.61608267e-01, 5.05566001e-01, 8.62157226e-01],\n",
              "       [6.24234915e-01, 5.66741586e-01, 8.93396139e-02],\n",
              "       [8.29177260e-01, 2.92154193e-01, 9.28244472e-01],\n",
              "       [6.36184216e-01, 8.72981071e-01, 2.15127468e-01],\n",
              "       [9.21447158e-01, 8.06065202e-01, 8.44948053e-01],\n",
              "       [1.67498827e-01, 3.35429192e-01, 4.53074336e-01],\n",
              "       [1.83662176e-01, 7.06244349e-01, 2.70362258e-01],\n",
              "       [9.23019767e-01, 5.29795170e-01, 1.65922403e-01],\n",
              "       [9.31557536e-01, 9.31712389e-02, 4.06380296e-01],\n",
              "       [9.69330549e-01, 8.25786829e-01, 2.51475930e-01],\n",
              "       [9.74375248e-01, 3.13862443e-01, 6.10805988e-01],\n",
              "       [5.95329881e-01, 9.60569739e-01, 8.08902979e-01],\n",
              "       [2.79627919e-01, 3.90410066e-01, 6.75732017e-01],\n",
              "       [6.94146276e-01, 8.67078424e-01, 9.77144241e-01],\n",
              "       [8.03546429e-01, 8.26582193e-01, 8.45403552e-01],\n",
              "       [1.61088467e-01, 4.86670136e-01, 6.17093682e-01],\n",
              "       [2.23555446e-01, 9.34540868e-01, 5.31920910e-01]], dtype=float32)>"
            ]
          },
          "metadata": {},
          "execution_count": 292
        }
      ]
    },
    {
      "cell_type": "markdown",
      "source": [
        "7. Find the min and max values of the tensor you created in 6 along the first axis."
      ],
      "metadata": {
        "id": "J5xxbfTpJ3zb"
      }
    },
    {
      "cell_type": "code",
      "source": [
        "tf.reduce_max(tensor_random_3, axis=0)"
      ],
      "metadata": {
        "colab": {
          "base_uri": "https://localhost:8080/"
        },
        "id": "L7GUCYsmJ9Dg",
        "outputId": "ce35ad13-ebe8-4979-9945-fd7accba8f5d"
      },
      "execution_count": null,
      "outputs": [
        {
          "output_type": "execute_result",
          "data": {
            "text/plain": [
              "<tf.Tensor: shape=(224, 3), dtype=float32, numpy=\n",
              "array([[0.99618435, 0.98762584, 0.9980433 ],\n",
              "       [0.9952135 , 0.99883556, 0.99686027],\n",
              "       [0.9946785 , 0.99178827, 0.9999734 ],\n",
              "       [0.98847675, 0.9987333 , 0.99251914],\n",
              "       [0.99908113, 0.99813354, 0.9987514 ],\n",
              "       [0.9995972 , 0.9918057 , 0.9936507 ],\n",
              "       [0.996528  , 0.99225354, 0.99470997],\n",
              "       [0.9992938 , 0.998433  , 0.9907274 ],\n",
              "       [0.99991727, 0.9985622 , 0.9995769 ],\n",
              "       [0.9973265 , 0.9939188 , 0.98792326],\n",
              "       [0.99959576, 0.9974675 , 0.9745352 ],\n",
              "       [0.98768175, 0.99975455, 0.98718727],\n",
              "       [0.99806726, 0.999974  , 0.9972402 ],\n",
              "       [0.9985361 , 0.99618876, 0.9912269 ],\n",
              "       [0.99842477, 0.99512637, 0.9981767 ],\n",
              "       [0.9973539 , 0.99861526, 0.99648666],\n",
              "       [0.98746395, 0.9944526 , 0.9986727 ],\n",
              "       [0.99964285, 0.99563706, 0.99757504],\n",
              "       [0.9980036 , 0.99927306, 0.99555767],\n",
              "       [0.98547363, 0.99981403, 0.98033845],\n",
              "       [0.9992262 , 0.99628043, 0.9895811 ],\n",
              "       [0.9952471 , 0.9981283 , 0.9982346 ],\n",
              "       [0.99894834, 0.99921834, 0.99289954],\n",
              "       [0.99506426, 0.99625516, 0.9998566 ],\n",
              "       [0.99927354, 0.99708176, 0.9997742 ],\n",
              "       [0.99773014, 0.99571717, 0.99789715],\n",
              "       [0.9979876 , 0.9947729 , 0.9957628 ],\n",
              "       [0.99728954, 0.99829125, 0.99621046],\n",
              "       [0.9989215 , 0.99132764, 0.990654  ],\n",
              "       [0.9926287 , 0.994792  , 0.99181306],\n",
              "       [0.99762046, 0.99143326, 0.9970449 ],\n",
              "       [0.9903867 , 0.9930513 , 0.99735105],\n",
              "       [0.9924364 , 0.9974501 , 0.9991996 ],\n",
              "       [0.98257077, 0.9999223 , 0.9813243 ],\n",
              "       [0.9955826 , 0.99968433, 0.99850476],\n",
              "       [0.9996716 , 0.9954902 , 0.99834466],\n",
              "       [0.9950923 , 0.9932064 , 0.99871385],\n",
              "       [0.9965416 , 0.9995166 , 0.9943036 ],\n",
              "       [0.99462366, 0.9979433 , 0.9976562 ],\n",
              "       [0.9994019 , 0.99108946, 0.99833953],\n",
              "       [0.99844265, 0.99590945, 0.99856997],\n",
              "       [0.98511386, 0.9913721 , 0.9888983 ],\n",
              "       [0.9959681 , 0.99904823, 0.99524605],\n",
              "       [0.99557066, 0.99691033, 0.9946896 ],\n",
              "       [0.99971724, 0.9975997 , 0.99962664],\n",
              "       [0.9985559 , 0.99749756, 0.99731183],\n",
              "       [0.992048  , 0.9990927 , 0.9967091 ],\n",
              "       [0.99644387, 0.99687326, 0.99493515],\n",
              "       [0.99754655, 0.98588586, 0.9903277 ],\n",
              "       [0.99872065, 0.99513173, 0.98438203],\n",
              "       [0.9995059 , 0.993168  , 0.9996033 ],\n",
              "       [0.9994273 , 0.9990382 , 0.9943845 ],\n",
              "       [0.99943817, 0.99705124, 0.9992124 ],\n",
              "       [0.9997059 , 0.9984517 , 0.9998188 ],\n",
              "       [0.9992697 , 0.9959179 , 0.9979434 ],\n",
              "       [0.99763846, 0.9979583 , 0.9989712 ],\n",
              "       [0.99569714, 0.99578965, 0.9895308 ],\n",
              "       [0.9968257 , 0.9984528 , 0.99340963],\n",
              "       [0.9994751 , 0.99595845, 0.9848585 ],\n",
              "       [0.99232113, 0.9927838 , 0.9940295 ],\n",
              "       [0.9922446 , 0.9990078 , 0.9888153 ],\n",
              "       [0.99908733, 0.99743414, 0.9964336 ],\n",
              "       [0.99850905, 0.99815965, 0.9976195 ],\n",
              "       [0.99645185, 0.99441075, 0.99632025],\n",
              "       [0.99993503, 0.99897635, 0.99855864],\n",
              "       [0.9983984 , 0.99980366, 0.9925264 ],\n",
              "       [0.9958879 , 0.99980986, 0.99264574],\n",
              "       [0.99274206, 0.9907298 , 0.99592054],\n",
              "       [0.99520075, 0.99349666, 0.99338436],\n",
              "       [0.9993963 , 0.99440026, 0.99420595],\n",
              "       [0.9994148 , 0.9947276 , 0.9945768 ],\n",
              "       [0.9958056 , 0.9998753 , 0.9998107 ],\n",
              "       [0.99838924, 0.9965459 , 0.9956565 ],\n",
              "       [0.9969926 , 0.99745834, 0.9977542 ],\n",
              "       [0.9827192 , 0.99558485, 0.9891052 ],\n",
              "       [0.9946412 , 0.99842656, 0.98786473],\n",
              "       [0.9993837 , 0.99885726, 0.9938115 ],\n",
              "       [0.9930494 , 0.9929936 , 0.9992511 ],\n",
              "       [0.9884758 , 0.9974706 , 0.99165165],\n",
              "       [0.9947027 , 0.9854901 , 0.98426604],\n",
              "       [0.99449384, 0.9970615 , 0.9899516 ],\n",
              "       [0.99778223, 0.9997225 , 0.9980526 ],\n",
              "       [0.99338746, 0.99538183, 0.99834526],\n",
              "       [0.9897047 , 0.9973203 , 0.99998736],\n",
              "       [0.9922167 , 0.99157834, 0.98338044],\n",
              "       [0.9983071 , 0.99984837, 0.99855196],\n",
              "       [0.9991536 , 0.997507  , 0.99915457],\n",
              "       [0.9926833 , 0.9967661 , 0.99905205],\n",
              "       [0.99902093, 0.99039006, 0.9912131 ],\n",
              "       [0.9977114 , 0.97728693, 0.9998146 ],\n",
              "       [0.9811988 , 0.9964783 , 0.99519694],\n",
              "       [0.9958936 , 0.9927896 , 0.9986242 ],\n",
              "       [0.9951087 , 0.9983388 , 0.99899113],\n",
              "       [0.99315083, 0.99781823, 0.9940363 ],\n",
              "       [0.9969183 , 0.9974495 , 0.99590266],\n",
              "       [0.9925959 , 0.9985467 , 0.99874485],\n",
              "       [0.9912734 , 0.9989557 , 0.98085153],\n",
              "       [0.98853016, 0.9994043 , 0.9960569 ],\n",
              "       [0.9916837 , 0.99532413, 0.99502707],\n",
              "       [0.9773437 , 0.9998462 , 0.99734306],\n",
              "       [0.99709785, 0.9943572 , 0.9988018 ],\n",
              "       [0.99874234, 0.9926375 , 0.99589276],\n",
              "       [0.9981526 , 0.99438703, 0.9908503 ],\n",
              "       [0.99713707, 0.9977828 , 0.9933338 ],\n",
              "       [0.99951947, 0.99714017, 0.99398196],\n",
              "       [0.99272   , 0.99939287, 0.9992118 ],\n",
              "       [0.99936354, 0.994259  , 0.99141395],\n",
              "       [0.9984541 , 0.99802995, 0.99926054],\n",
              "       [0.99925387, 0.99943376, 0.99174595],\n",
              "       [0.9973581 , 0.9996793 , 0.99768317],\n",
              "       [0.99706125, 0.9967803 , 0.9989219 ],\n",
              "       [0.9925386 , 0.9950478 , 0.99874187],\n",
              "       [0.9962847 , 0.998211  , 0.9969939 ],\n",
              "       [0.9990175 , 0.99020827, 0.9868407 ],\n",
              "       [0.9990642 , 0.99352133, 0.9970275 ],\n",
              "       [0.99366343, 0.99880886, 0.99451363],\n",
              "       [0.99291265, 0.9955542 , 0.99511206],\n",
              "       [0.9955847 , 0.9972758 , 0.9932157 ],\n",
              "       [0.9938843 , 0.9976573 , 0.9982437 ],\n",
              "       [0.99946296, 0.99632776, 0.97445035],\n",
              "       [0.9977586 , 0.9938096 , 0.99914   ],\n",
              "       [0.99728703, 0.99985015, 0.9879731 ],\n",
              "       [0.99695957, 0.9992682 , 0.9948288 ],\n",
              "       [0.9874227 , 0.9971943 , 0.99824286],\n",
              "       [0.9978219 , 0.9995661 , 0.9986433 ],\n",
              "       [0.99220884, 0.9994252 , 0.99624777],\n",
              "       [0.99516964, 0.9837159 , 0.9927279 ],\n",
              "       [0.99724746, 0.99700665, 0.99808764],\n",
              "       [0.9995775 , 0.99659383, 0.99986434],\n",
              "       [0.9942347 , 0.99366987, 0.998451  ],\n",
              "       [0.99661326, 0.99923563, 0.99749446],\n",
              "       [0.9955239 , 0.9991684 , 0.99548554],\n",
              "       [0.9932964 , 0.9968419 , 0.99601054],\n",
              "       [0.9919356 , 0.99924767, 0.98629856],\n",
              "       [0.9992769 , 0.99647784, 0.9974313 ],\n",
              "       [0.9925865 , 0.99330676, 0.99787915],\n",
              "       [0.9957905 , 0.9966072 , 0.9959519 ],\n",
              "       [0.9963646 , 0.9942335 , 0.9964793 ],\n",
              "       [0.9981551 , 0.99983835, 0.99871063],\n",
              "       [0.995499  , 0.98732173, 0.99997437],\n",
              "       [0.99183786, 0.9808657 , 0.9984244 ],\n",
              "       [0.9973401 , 0.9959223 , 0.9972241 ],\n",
              "       [0.9917562 , 0.9989437 , 0.9933926 ],\n",
              "       [0.99821186, 0.99107146, 0.9991803 ],\n",
              "       [0.9968517 , 0.99719095, 0.9965857 ],\n",
              "       [0.9980756 , 0.990903  , 0.98312116],\n",
              "       [0.9986552 , 0.99714255, 0.9963652 ],\n",
              "       [0.99520504, 0.9984964 , 0.98737407],\n",
              "       [0.9956951 , 0.99347484, 0.9994886 ],\n",
              "       [0.9986141 , 0.9954257 , 0.98923016],\n",
              "       [0.99273205, 0.9987198 , 0.9982647 ],\n",
              "       [0.99879813, 0.99738026, 0.99589455],\n",
              "       [0.993606  , 0.9996346 , 0.9963263 ],\n",
              "       [0.99671817, 0.99416375, 0.9890169 ],\n",
              "       [0.9981328 , 0.99939346, 0.99268043],\n",
              "       [0.9998183 , 0.9962609 , 0.99674153],\n",
              "       [0.99847233, 0.9951979 , 0.99831843],\n",
              "       [0.9984845 , 0.9967618 , 0.99675953],\n",
              "       [0.9922044 , 0.99187374, 0.98594093],\n",
              "       [0.99640703, 0.99776936, 0.9763398 ],\n",
              "       [0.9991739 , 0.9958149 , 0.9896203 ],\n",
              "       [0.99381065, 0.99866843, 0.99757135],\n",
              "       [0.9947661 , 0.99671733, 0.9987445 ],\n",
              "       [0.9984585 , 0.9963136 , 0.99020183],\n",
              "       [0.99965274, 0.9989102 , 0.9983119 ],\n",
              "       [0.9988674 , 0.998821  , 0.9989517 ],\n",
              "       [0.9985968 , 0.97436666, 0.99431396],\n",
              "       [0.9970095 , 0.99853206, 0.99896383],\n",
              "       [0.9977313 , 0.99334013, 0.99760485],\n",
              "       [0.9990319 , 0.9996089 , 0.99478364],\n",
              "       [0.9911444 , 0.99441075, 0.99661505],\n",
              "       [0.99809813, 0.9926827 , 0.9995719 ],\n",
              "       [0.9956801 , 0.9967693 , 0.99954224],\n",
              "       [0.9977541 , 0.9972    , 0.9990027 ],\n",
              "       [0.9982648 , 0.9992579 , 0.9985553 ],\n",
              "       [0.99186885, 0.99888575, 0.9934647 ],\n",
              "       [0.9912293 , 0.9966396 , 0.9985434 ],\n",
              "       [0.99923503, 0.99443376, 0.9996861 ],\n",
              "       [0.9923061 , 0.99669564, 0.9902879 ],\n",
              "       [0.99032223, 0.9841515 , 0.99046326],\n",
              "       [0.98537195, 0.9998348 , 0.9995611 ],\n",
              "       [0.9953301 , 0.9977908 , 0.991963  ],\n",
              "       [0.99730563, 0.98849785, 0.9934114 ],\n",
              "       [0.99440336, 0.97209   , 0.9984752 ],\n",
              "       [0.98705816, 0.9976375 , 0.99844265],\n",
              "       [0.9999194 , 0.99979365, 0.9981246 ],\n",
              "       [0.99122334, 0.9972496 , 0.9996747 ],\n",
              "       [0.9939393 , 0.99714386, 0.99525976],\n",
              "       [0.99389374, 0.99449635, 0.9980078 ],\n",
              "       [0.9990629 , 0.99955606, 0.99419796],\n",
              "       [0.9837754 , 0.9945946 , 0.9969233 ],\n",
              "       [0.99956465, 0.9918114 , 0.99771535],\n",
              "       [0.99567425, 0.99123955, 0.9963796 ],\n",
              "       [0.9908657 , 0.99844086, 0.9931569 ],\n",
              "       [0.98309624, 0.9999405 , 0.9944035 ],\n",
              "       [0.99781775, 0.99816334, 0.99978507],\n",
              "       [0.9993156 , 0.9913312 , 0.99683166],\n",
              "       [0.99980223, 0.9991684 , 0.9939456 ],\n",
              "       [0.99960005, 0.98357034, 0.9958861 ],\n",
              "       [0.9950242 , 0.99515796, 0.99251354],\n",
              "       [0.9945102 , 0.9995167 , 0.9998131 ],\n",
              "       [0.9950572 , 0.98107934, 0.9982102 ],\n",
              "       [0.99991846, 0.99306893, 0.99567354],\n",
              "       [0.9992876 , 0.99888706, 0.9900621 ],\n",
              "       [0.99511564, 0.9918685 , 0.9920341 ],\n",
              "       [0.9927776 , 0.9950119 , 0.9992192 ],\n",
              "       [0.998929  , 0.990656  , 0.995453  ],\n",
              "       [0.99888635, 0.99796844, 0.99816036],\n",
              "       [0.9996736 , 0.99755394, 0.99622786],\n",
              "       [0.99478006, 0.9903387 , 0.99234474],\n",
              "       [0.9968927 , 0.99264467, 0.9971777 ],\n",
              "       [0.99533176, 0.998557  , 0.9996762 ],\n",
              "       [0.99612725, 0.9976537 , 0.9952899 ],\n",
              "       [0.9995085 , 0.99982643, 0.9998642 ],\n",
              "       [0.994033  , 0.99938905, 0.9813303 ],\n",
              "       [0.996099  , 0.99938905, 0.99625134],\n",
              "       [0.9980184 , 0.9924756 , 0.9932761 ],\n",
              "       [0.99850047, 0.9882078 , 0.9932163 ],\n",
              "       [0.9911771 , 0.99227595, 0.99729633],\n",
              "       [0.9999603 , 0.9955195 , 0.98970973],\n",
              "       [0.9986472 , 0.9909557 , 0.99176204],\n",
              "       [0.9961504 , 0.99983335, 0.99967587],\n",
              "       [0.99714744, 0.9927472 , 0.98985195],\n",
              "       [0.9998008 , 0.9983746 , 0.9950534 ]], dtype=float32)>"
            ]
          },
          "metadata": {},
          "execution_count": 293
        }
      ]
    },
    {
      "cell_type": "markdown",
      "source": [
        "8. Created a tensor with random values of shape `[1, 224, 224, 3]` then squeeze it to change the shape to `[224, 224, 3].`"
      ],
      "metadata": {
        "id": "NYLoF3ljJ8bz"
      }
    },
    {
      "cell_type": "code",
      "source": [
        "tensor_random_4 = tf.random.Generator.from_seed(42)\n",
        "tensor_random_4 = tensor_random_4.uniform(shape=(1, 224, 224, 3))\n",
        "print(\"This is tensor 4:\")\n",
        "print(tensor_random_4, \"\\n\")\n",
        "print_by_list(tensor_random_4)"
      ],
      "metadata": {
        "colab": {
          "base_uri": "https://localhost:8080/"
        },
        "id": "yCiqsFZnMDQ4",
        "outputId": "50898043-662e-4848-d760-cdd68a291455"
      },
      "execution_count": null,
      "outputs": [
        {
          "output_type": "stream",
          "name": "stdout",
          "text": [
            "This is tensor 4:\n",
            "tf.Tensor(\n",
            "[[[[0.7493447  0.73561966 0.45230794]\n",
            "   [0.49039817 0.1889317  0.52027524]\n",
            "   [0.8736881  0.46921718 0.63932586]\n",
            "   ...\n",
            "   [0.8035464  0.8265822  0.84540355]\n",
            "   [0.16108847 0.48667014 0.6170937 ]\n",
            "   [0.22355545 0.93454087 0.5319209 ]]\n",
            "\n",
            "  [[0.7508148  0.46019256 0.14229465]\n",
            "   [0.10500956 0.72874916 0.89662087]\n",
            "   [0.85220826 0.76973283 0.11408448]\n",
            "   ...\n",
            "   [0.38387823 0.72712064 0.7561674 ]\n",
            "   [0.70352066 0.22680473 0.24423313]\n",
            "   [0.39240444 0.32533252 0.39407527]]\n",
            "\n",
            "  [[0.74291146 0.54543686 0.32094967]\n",
            "   [0.6671035  0.8900143  0.64271927]\n",
            "   [0.5317905  0.21345353 0.71189904]\n",
            "   ...\n",
            "   [0.53968227 0.7233304  0.7900686 ]\n",
            "   [0.99334645 0.857829   0.67977047]\n",
            "   [0.8087704  0.06597769 0.62171316]]\n",
            "\n",
            "  ...\n",
            "\n",
            "  [[0.84861326 0.6271888  0.7023717 ]\n",
            "   [0.46894228 0.4787085  0.1912539 ]\n",
            "   [0.39595473 0.5948347  0.6859689 ]\n",
            "   ...\n",
            "   [0.55004704 0.81996536 0.6626886 ]\n",
            "   [0.30092347 0.3980503  0.17080736]\n",
            "   [0.9393351  0.3430456  0.15847623]]\n",
            "\n",
            "  [[0.07707131 0.57546544 0.841964  ]\n",
            "   [0.4417436  0.88804233 0.8017428 ]\n",
            "   [0.6850492  0.70381224 0.38806987]\n",
            "   ...\n",
            "   [0.01135123 0.46678603 0.1724801 ]\n",
            "   [0.6351286  0.471022   0.22208214]\n",
            "   [0.5487895  0.9890213  0.12894046]]\n",
            "\n",
            "  [[0.712723   0.740348   0.8293475 ]\n",
            "   [0.15965354 0.2230674  0.02333987]\n",
            "   [0.7165916  0.8322334  0.33391452]\n",
            "   ...\n",
            "   [0.8585105  0.13414657 0.3103006 ]\n",
            "   [0.74841535 0.5148909  0.25076163]\n",
            "   [0.5981357  0.20435822 0.66445065]]]], shape=(1, 224, 224, 3), dtype=float32) \n",
            "\n",
            "This is the shape of the Tensor:  (1, 224, 224, 3)\n",
            "This is the rank of the Tensor:  4\n",
            "This is the size of the Tensor:  tf.Tensor(150528, shape=(), dtype=int32)\n"
          ]
        }
      ]
    },
    {
      "cell_type": "code",
      "source": [
        "tf.squeeze(tensor_random_4)"
      ],
      "metadata": {
        "colab": {
          "base_uri": "https://localhost:8080/"
        },
        "id": "EIsqA0wDO3z0",
        "outputId": "ad7e5af5-efaa-40ce-f62c-7c6ef287e131"
      },
      "execution_count": null,
      "outputs": [
        {
          "output_type": "execute_result",
          "data": {
            "text/plain": [
              "<tf.Tensor: shape=(224, 224, 3), dtype=float32, numpy=\n",
              "array([[[0.7493447 , 0.73561966, 0.45230794],\n",
              "        [0.49039817, 0.1889317 , 0.52027524],\n",
              "        [0.8736881 , 0.46921718, 0.63932586],\n",
              "        ...,\n",
              "        [0.8035464 , 0.8265822 , 0.84540355],\n",
              "        [0.16108847, 0.48667014, 0.6170937 ],\n",
              "        [0.22355545, 0.93454087, 0.5319209 ]],\n",
              "\n",
              "       [[0.7508148 , 0.46019256, 0.14229465],\n",
              "        [0.10500956, 0.72874916, 0.89662087],\n",
              "        [0.85220826, 0.76973283, 0.11408448],\n",
              "        ...,\n",
              "        [0.38387823, 0.72712064, 0.7561674 ],\n",
              "        [0.70352066, 0.22680473, 0.24423313],\n",
              "        [0.39240444, 0.32533252, 0.39407527]],\n",
              "\n",
              "       [[0.74291146, 0.54543686, 0.32094967],\n",
              "        [0.6671035 , 0.8900143 , 0.64271927],\n",
              "        [0.5317905 , 0.21345353, 0.71189904],\n",
              "        ...,\n",
              "        [0.53968227, 0.7233304 , 0.7900686 ],\n",
              "        [0.99334645, 0.857829  , 0.67977047],\n",
              "        [0.8087704 , 0.06597769, 0.62171316]],\n",
              "\n",
              "       ...,\n",
              "\n",
              "       [[0.84861326, 0.6271888 , 0.7023717 ],\n",
              "        [0.46894228, 0.4787085 , 0.1912539 ],\n",
              "        [0.39595473, 0.5948347 , 0.6859689 ],\n",
              "        ...,\n",
              "        [0.55004704, 0.81996536, 0.6626886 ],\n",
              "        [0.30092347, 0.3980503 , 0.17080736],\n",
              "        [0.9393351 , 0.3430456 , 0.15847623]],\n",
              "\n",
              "       [[0.07707131, 0.57546544, 0.841964  ],\n",
              "        [0.4417436 , 0.88804233, 0.8017428 ],\n",
              "        [0.6850492 , 0.70381224, 0.38806987],\n",
              "        ...,\n",
              "        [0.01135123, 0.46678603, 0.1724801 ],\n",
              "        [0.6351286 , 0.471022  , 0.22208214],\n",
              "        [0.5487895 , 0.9890213 , 0.12894046]],\n",
              "\n",
              "       [[0.712723  , 0.740348  , 0.8293475 ],\n",
              "        [0.15965354, 0.2230674 , 0.02333987],\n",
              "        [0.7165916 , 0.8322334 , 0.33391452],\n",
              "        ...,\n",
              "        [0.8585105 , 0.13414657, 0.3103006 ],\n",
              "        [0.74841535, 0.5148909 , 0.25076163],\n",
              "        [0.5981357 , 0.20435822, 0.66445065]]], dtype=float32)>"
            ]
          },
          "metadata": {},
          "execution_count": 295
        }
      ]
    },
    {
      "cell_type": "markdown",
      "source": [
        "10. Create a tensor with shape `[10]` using your own choice of values, then find the index which has the maximum value."
      ],
      "metadata": {
        "id": "Qo2TxMyDPh9F"
      }
    },
    {
      "cell_type": "code",
      "source": [
        "tensor_9 = tf.constant(np.arange(1,11))\n",
        "print(tensor_9, \"\\n\")\n",
        "print_by_list(tensor_9)"
      ],
      "metadata": {
        "colab": {
          "base_uri": "https://localhost:8080/"
        },
        "id": "GvJbhjQnPqht",
        "outputId": "44f3505f-3959-4300-c9f0-21272c92b94e"
      },
      "execution_count": null,
      "outputs": [
        {
          "output_type": "stream",
          "name": "stdout",
          "text": [
            "tf.Tensor([ 1  2  3  4  5  6  7  8  9 10], shape=(10,), dtype=int64) \n",
            "\n",
            "This is the shape of the Tensor:  (10,)\n",
            "This is the rank of the Tensor:  1\n",
            "This is the size of the Tensor:  tf.Tensor(10, shape=(), dtype=int32)\n"
          ]
        }
      ]
    },
    {
      "cell_type": "code",
      "source": [
        "tf.argmax(tensor_9), tensor_9[tf.argmax(tensor_9)]"
      ],
      "metadata": {
        "colab": {
          "base_uri": "https://localhost:8080/"
        },
        "id": "VkAIMy16QK11",
        "outputId": "bcb0b9e2-7a68-43df-f46a-276cfd135088"
      },
      "execution_count": null,
      "outputs": [
        {
          "output_type": "execute_result",
          "data": {
            "text/plain": [
              "(<tf.Tensor: shape=(), dtype=int64, numpy=9>,\n",
              " <tf.Tensor: shape=(), dtype=int64, numpy=10>)"
            ]
          },
          "metadata": {},
          "execution_count": 297
        }
      ]
    },
    {
      "cell_type": "markdown",
      "source": [
        "10. One-hot encode the tensor you created in 9."
      ],
      "metadata": {
        "id": "i-2qxb8iQgyV"
      }
    },
    {
      "cell_type": "code",
      "source": [
        "print(\"This is the original tensor:\")\n",
        "print(tensor_9, \"\\n\")\n",
        "print(\"This is the tensor encoded:\")\n",
        "tf.one_hot(tensor_9, depth=tf.size(tensor_9).numpy())"
      ],
      "metadata": {
        "colab": {
          "base_uri": "https://localhost:8080/"
        },
        "id": "ICziRq3HQi4c",
        "outputId": "9c022e5d-66f7-4ba0-9ba2-a56dd043bc9c"
      },
      "execution_count": null,
      "outputs": [
        {
          "output_type": "stream",
          "name": "stdout",
          "text": [
            "This is the original tensor:\n",
            "tf.Tensor([ 1  2  3  4  5  6  7  8  9 10], shape=(10,), dtype=int64) \n",
            "\n",
            "This is the tensor encoded:\n"
          ]
        },
        {
          "output_type": "execute_result",
          "data": {
            "text/plain": [
              "<tf.Tensor: shape=(10, 10), dtype=float32, numpy=\n",
              "array([[0., 1., 0., 0., 0., 0., 0., 0., 0., 0.],\n",
              "       [0., 0., 1., 0., 0., 0., 0., 0., 0., 0.],\n",
              "       [0., 0., 0., 1., 0., 0., 0., 0., 0., 0.],\n",
              "       [0., 0., 0., 0., 1., 0., 0., 0., 0., 0.],\n",
              "       [0., 0., 0., 0., 0., 1., 0., 0., 0., 0.],\n",
              "       [0., 0., 0., 0., 0., 0., 1., 0., 0., 0.],\n",
              "       [0., 0., 0., 0., 0., 0., 0., 1., 0., 0.],\n",
              "       [0., 0., 0., 0., 0., 0., 0., 0., 1., 0.],\n",
              "       [0., 0., 0., 0., 0., 0., 0., 0., 0., 1.],\n",
              "       [0., 0., 0., 0., 0., 0., 0., 0., 0., 0.]], dtype=float32)>"
            ]
          },
          "metadata": {},
          "execution_count": 301
        }
      ]
    }
  ]
}