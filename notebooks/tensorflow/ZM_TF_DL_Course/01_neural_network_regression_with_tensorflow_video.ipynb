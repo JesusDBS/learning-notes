{
  "nbformat": 4,
  "nbformat_minor": 0,
  "metadata": {
    "colab": {
      "provenance": [],
      "toc_visible": true,
      "authorship_tag": "ABX9TyMk7PJbv22GOqJbb4rBILiq",
      "include_colab_link": true
    },
    "kernelspec": {
      "name": "python3",
      "display_name": "Python 3"
    },
    "language_info": {
      "name": "python"
    }
  },
  "cells": [
    {
      "cell_type": "markdown",
      "metadata": {
        "id": "view-in-github",
        "colab_type": "text"
      },
      "source": [
        "<a href=\"https://colab.research.google.com/github/JesusDBS/learning-notes/blob/main/notebooks/01_neural_network_regression_with_tensorflow_video.ipynb\" target=\"_parent\"><img src=\"https://colab.research.google.com/assets/colab-badge.svg\" alt=\"Open In Colab\"/></a>"
      ]
    },
    {
      "cell_type": "markdown",
      "source": [
        "# Introduction to Regression with Neural Networks in TensorFlow"
      ],
      "metadata": {
        "id": "dhc6zs8fRznT"
      }
    },
    {
      "cell_type": "code",
      "source": [
        "#Import TensorFlow\n",
        "import tensorflow as tf\n",
        "print(tf.__version__)"
      ],
      "metadata": {
        "colab": {
          "base_uri": "https://localhost:8080/"
        },
        "id": "GjGHQqBLdIdg",
        "outputId": "86fb6f0e-2d79-4a09-d620-5e85a2383fdf"
      },
      "execution_count": null,
      "outputs": [
        {
          "output_type": "stream",
          "name": "stdout",
          "text": [
            "2.11.0\n"
          ]
        }
      ]
    },
    {
      "cell_type": "markdown",
      "source": [
        "## Creating data to view and fit"
      ],
      "metadata": {
        "id": "zgf2d20Rdfzr"
      }
    },
    {
      "cell_type": "code",
      "source": [
        "import numpy as np\n",
        "import matplotlib.pyplot as plt\n",
        "\n",
        "#Create features\n",
        "X = np.array([-7.0, -4.0, -1.0, 2.0, 5.0, 8.0, 11.0, 14.0])\n",
        "\n",
        "#Create labels\n",
        "y = np.array([3.0, 6.0, 9.0, 12.0, 15.0, 18.10, 21.0, 24.0])\n",
        "\n",
        "#Vizualize it:\n",
        "plt.scatter(X, y)"
      ],
      "metadata": {
        "colab": {
          "base_uri": "https://localhost:8080/",
          "height": 286
        },
        "id": "IKE8qCvYdsJx",
        "outputId": "c732357a-220d-437c-a999-f35ecc758bfb"
      },
      "execution_count": null,
      "outputs": [
        {
          "output_type": "execute_result",
          "data": {
            "text/plain": [
              "<matplotlib.collections.PathCollection at 0x7fe2e8abefd0>"
            ]
          },
          "metadata": {},
          "execution_count": 2
        },
        {
          "output_type": "display_data",
          "data": {
            "text/plain": [
              "<Figure size 432x288 with 1 Axes>"
            ],
            "image/png": "[encoded data removed]"
          },
          "metadata": {
            "needs_background": "light"
          }
        }
      ]
    },
    {
      "cell_type": "code",
      "source": [
        "# Try to figure it out what kind of relation is between varibles\n",
        "y == X + 10"
      ],
      "metadata": {
        "colab": {
          "base_uri": "https://localhost:8080/"
        },
        "id": "qqaLofste2G3",
        "outputId": "ebdedcec-9eb7-4a7b-8593-32132e6642b0"
      },
      "execution_count": null,
      "outputs": [
        {
          "output_type": "execute_result",
          "data": {
            "text/plain": [
              "array([ True,  True,  True,  True,  True, False,  True,  True])"
            ]
          },
          "metadata": {},
          "execution_count": 3
        }
      ]
    },
    {
      "cell_type": "markdown",
      "source": [
        "## Input and output shapes"
      ],
      "metadata": {
        "id": "qOwrDb33fKxY"
      }
    },
    {
      "cell_type": "code",
      "source": [
        "# Create a demo tensor for our housing price prediction problem\n",
        "house_info = tf.constant([\"bedroom\", \"bathroom\", \"garage\"])\n",
        "house_price = tf.constant([939700])\n",
        "house_info, house_price"
      ],
      "metadata": {
        "colab": {
          "base_uri": "https://localhost:8080/"
        },
        "id": "oPAParRlfPNe",
        "outputId": "3fd4f3c5-cd31-4f13-a2bc-cb085b5b27a4"
      },
      "execution_count": null,
      "outputs": [
        {
          "output_type": "execute_result",
          "data": {
            "text/plain": [
              "(<tf.Tensor: shape=(3,), dtype=string, numpy=array([b'bedroom', b'bathroom', b'garage'], dtype=object)>,\n",
              " <tf.Tensor: shape=(1,), dtype=int32, numpy=array([939700], dtype=int32)>)"
            ]
          },
          "metadata": {},
          "execution_count": 4
        }
      ]
    },
    {
      "cell_type": "code",
      "source": [
        "input_shape = X.shape\n",
        "output_shape = y.shape\n",
        "input_shape, output_shape"
      ],
      "metadata": {
        "colab": {
          "base_uri": "https://localhost:8080/"
        },
        "id": "q9JSgS1-gEyF",
        "outputId": "2b94a597-0acf-4819-cc3d-36619085ddc7"
      },
      "execution_count": null,
      "outputs": [
        {
          "output_type": "execute_result",
          "data": {
            "text/plain": [
              "((8,), (8,))"
            ]
          },
          "metadata": {},
          "execution_count": 5
        }
      ]
    },
    {
      "cell_type": "code",
      "source": [
        "X[0], y[0], X[1], y[1]"
      ],
      "metadata": {
        "colab": {
          "base_uri": "https://localhost:8080/"
        },
        "id": "GRZahDRlgIJD",
        "outputId": "45d4dd88-4d3a-4073-daf2-b2a11b02ff15"
      },
      "execution_count": null,
      "outputs": [
        {
          "output_type": "execute_result",
          "data": {
            "text/plain": [
              "(-7.0, 3.0, -4.0, 6.0)"
            ]
          },
          "metadata": {},
          "execution_count": 6
        }
      ]
    },
    {
      "cell_type": "code",
      "source": [
        "# Turn NumPy arrays into tensors\n",
        "X = tf.cast(tf.constant(X), dtype=tf.float32)\n",
        "y = tf.cast(tf.constant(y), dtype=tf.float32)\n",
        "X, y"
      ],
      "metadata": {
        "colab": {
          "base_uri": "https://localhost:8080/"
        },
        "id": "3lhO1Tpoj5Sp",
        "outputId": "b47e1cb9-87d6-40d5-9f4c-8f50f305ed55"
      },
      "execution_count": null,
      "outputs": [
        {
          "output_type": "execute_result",
          "data": {
            "text/plain": [
              "(<tf.Tensor: shape=(8,), dtype=float32, numpy=array([-7., -4., -1.,  2.,  5.,  8., 11., 14.], dtype=float32)>,\n",
              " <tf.Tensor: shape=(8,), dtype=float32, numpy=array([ 3. ,  6. ,  9. , 12. , 15. , 18.1, 21. , 24. ], dtype=float32)>)"
            ]
          },
          "metadata": {},
          "execution_count": 7
        }
      ]
    },
    {
      "cell_type": "markdown",
      "source": [
        "from keras.api._v2.keras import Model\n",
        "## Steps in modeling with TensorFlow\n",
        "\n",
        "1. **Creating a model** - define the input and the output layers, as well as the hidden layers of a deep learning Model.\n",
        "2. **Compiling a model** - define the loss function (in other words, the function which tells our model how wrong is) and the optimazer (tells our model how to improve the patterns its learning) and evalution metrics (what we can use to interpret the performance of our model).\n",
        "3. **Fitting a model** - letting the model try to find patterns between X & y (features and labels)."
      ],
      "metadata": {
        "id": "8wCLCILmk861"
      }
    },
    {
      "cell_type": "code",
      "source": [
        "tf.random.set_seed(42)\n",
        "\n",
        "# 1.Create a models using the Sequential API\n",
        "model = tf.keras.Sequential([\n",
        "    tf.keras.layers.Dense(1),\n",
        "    tf.keras.layers.Dense(1)\n",
        "])\n",
        "\n",
        "# 2.Compile the model\n",
        "model.compile(loss=tf.keras.losses.mae, #mean aboslute error\n",
        "              optimizer=tf.keras.optimizers.SGD(), #stochastic gradient descent\n",
        "              metrics=[\"mae\"])\n",
        "\n",
        "# 3.Fit the model\n",
        "model.fit(tf.expand_dims(X, axis=-1), y, epochs=5)"
      ],
      "metadata": {
        "colab": {
          "base_uri": "https://localhost:8080/"
        },
        "id": "j1BJ20CsmDp-",
        "outputId": "67175bc4-330d-49cf-e81c-82cc248d58e4"
      },
      "execution_count": null,
      "outputs": [
        {
          "output_type": "stream",
          "name": "stdout",
          "text": [
            "Epoch 1/5\n",
            "1/1 [==============================] - 2s 2s/step - loss: 21.0385 - mae: 21.0385\n",
            "Epoch 2/5\n",
            "1/1 [==============================] - 0s 42ms/step - loss: 19.9171 - mae: 19.9171\n",
            "Epoch 3/5\n",
            "1/1 [==============================] - 0s 30ms/step - loss: 19.1200 - mae: 19.1200\n",
            "Epoch 4/5\n",
            "1/1 [==============================] - 0s 12ms/step - loss: 18.3989 - mae: 18.3989\n",
            "Epoch 5/5\n",
            "1/1 [==============================] - 0s 17ms/step - loss: 17.7454 - mae: 17.7454\n"
          ]
        },
        {
          "output_type": "execute_result",
          "data": {
            "text/plain": [
              "<keras.callbacks.History at 0x7fe2e13394f0>"
            ]
          },
          "metadata": {},
          "execution_count": 8
        }
      ]
    },
    {
      "cell_type": "code",
      "source": [
        "# Check out X and y\n",
        "X, y"
      ],
      "metadata": {
        "colab": {
          "base_uri": "https://localhost:8080/"
        },
        "id": "liwnSrZrqZow",
        "outputId": "d67e99e0-ea52-4818-8d4b-acbb3bf09835"
      },
      "execution_count": null,
      "outputs": [
        {
          "output_type": "execute_result",
          "data": {
            "text/plain": [
              "(<tf.Tensor: shape=(8,), dtype=float32, numpy=array([-7., -4., -1.,  2.,  5.,  8., 11., 14.], dtype=float32)>,\n",
              " <tf.Tensor: shape=(8,), dtype=float32, numpy=array([ 3. ,  6. ,  9. , 12. , 15. , 18.1, 21. , 24. ], dtype=float32)>)"
            ]
          },
          "metadata": {},
          "execution_count": 9
        }
      ]
    },
    {
      "cell_type": "code",
      "source": [
        "# Try and make a prediction with the model\n",
        "y_pred = model.predict([17.0])\n",
        "y_pred"
      ],
      "metadata": {
        "colab": {
          "base_uri": "https://localhost:8080/"
        },
        "id": "q8TED5OMqEj6",
        "outputId": "5cd40f29-fb8b-474b-fd9b-131ea397353b"
      },
      "execution_count": null,
      "outputs": [
        {
          "output_type": "stream",
          "name": "stdout",
          "text": [
            "1/1 [==============================] - 1s 607ms/step\n"
          ]
        },
        {
          "output_type": "execute_result",
          "data": {
            "text/plain": [
              "array([[-14.344521]], dtype=float32)"
            ]
          },
          "metadata": {},
          "execution_count": 10
        }
      ]
    },
    {
      "cell_type": "code",
      "source": [
        "y_pred + 7.4489"
      ],
      "metadata": {
        "colab": {
          "base_uri": "https://localhost:8080/"
        },
        "id": "jSZ9svmNrKll",
        "outputId": "5a0d37aa-07ce-4a7d-f817-11e58b815537"
      },
      "execution_count": null,
      "outputs": [
        {
          "output_type": "execute_result",
          "data": {
            "text/plain": [
              "array([[-6.8956203]], dtype=float32)"
            ]
          },
          "metadata": {},
          "execution_count": 11
        }
      ]
    },
    {
      "cell_type": "markdown",
      "source": [
        "### Improveing our model.\n",
        "\n",
        "We can improve our model, by altering the steps we took to create a model.\n",
        "\n",
        "1. **Creating a model** - here we might add more layers, increase the number of hidden units (all called neurons) within each of the hidden layers, change the activation function of each layer.\n",
        "\n",
        "2. **Compiling a model** - here we might change the optimization function or perphas the **learning rate** of the optimization function.\n",
        "\n",
        "3. **Fitting a model** - here we might fit a model for more **epochs** (leave it training for longer) or on more data (give the model more examples to learn from)."
      ],
      "metadata": {
        "id": "FCbJ3-5Urhre"
      }
    },
    {
      "cell_type": "code",
      "source": [
        "# Lets rebuild our model\n",
        "model = tf.keras.Sequential([\n",
        "    tf.keras.layers.Dense(1)\n",
        "])\n",
        "\n",
        "model.compile(loss=tf.keras.losses.mae,\n",
        "              optimizer=tf.keras.optimizers.SGD(),\n",
        "              metrics=[\"mae\"])\n",
        "\n",
        "# This time we train for longer time\n",
        "model.fit(tf.expand_dims(X, axis=-1), y, epochs=100)"
      ],
      "metadata": {
        "colab": {
          "base_uri": "https://localhost:8080/"
        },
        "id": "kk5sIPNltQxW",
        "outputId": "61ed75a2-3433-4b61-b8fd-82f97f7647ec"
      },
      "execution_count": null,
      "outputs": [
        {
          "output_type": "stream",
          "name": "stdout",
          "text": [
            "Epoch 1/100\n",
            "1/1 [==============================] - 2s 2s/step - loss: 7.5125 - mae: 7.5125\n",
            "Epoch 2/100\n",
            "1/1 [==============================] - 0s 41ms/step - loss: 7.5069 - mae: 7.5069\n",
            "Epoch 3/100\n",
            "1/1 [==============================] - 0s 32ms/step - loss: 7.5013 - mae: 7.5013\n",
            "Epoch 4/100\n",
            "1/1 [==============================] - 0s 20ms/step - loss: 7.4956 - mae: 7.4956\n",
            "Epoch 5/100\n",
            "1/1 [==============================] - 0s 19ms/step - loss: 7.4900 - mae: 7.4900\n",
            "Epoch 6/100\n",
            "1/1 [==============================] - 0s 28ms/step - loss: 7.4844 - mae: 7.4844\n",
            "Epoch 7/100\n",
            "1/1 [==============================] - 0s 35ms/step - loss: 7.4788 - mae: 7.4788\n",
            "Epoch 8/100\n",
            "1/1 [==============================] - 0s 31ms/step - loss: 7.4731 - mae: 7.4731\n",
            "Epoch 9/100\n",
            "1/1 [==============================] - 0s 28ms/step - loss: 7.4675 - mae: 7.4675\n",
            "Epoch 10/100\n",
            "1/1 [==============================] - 0s 43ms/step - loss: 7.4619 - mae: 7.4619\n",
            "Epoch 11/100\n",
            "1/1 [==============================] - 0s 39ms/step - loss: 7.4562 - mae: 7.4562\n",
            "Epoch 12/100\n",
            "1/1 [==============================] - 0s 41ms/step - loss: 7.4506 - mae: 7.4506\n",
            "Epoch 13/100\n",
            "1/1 [==============================] - 0s 31ms/step - loss: 7.4450 - mae: 7.4450\n",
            "Epoch 14/100\n",
            "1/1 [==============================] - 0s 31ms/step - loss: 7.4394 - mae: 7.4394\n",
            "Epoch 15/100\n",
            "1/1 [==============================] - 0s 18ms/step - loss: 7.4338 - mae: 7.4338\n",
            "Epoch 16/100\n",
            "1/1 [==============================] - 0s 18ms/step - loss: 7.4281 - mae: 7.4281\n",
            "Epoch 17/100\n",
            "1/1 [==============================] - 0s 25ms/step - loss: 7.4225 - mae: 7.4225\n",
            "Epoch 18/100\n",
            "1/1 [==============================] - 0s 22ms/step - loss: 7.4169 - mae: 7.4169\n",
            "Epoch 19/100\n",
            "1/1 [==============================] - 0s 22ms/step - loss: 7.4113 - mae: 7.4113\n",
            "Epoch 20/100\n",
            "1/1 [==============================] - 0s 61ms/step - loss: 7.4056 - mae: 7.4056\n",
            "Epoch 21/100\n",
            "1/1 [==============================] - 0s 37ms/step - loss: 7.4000 - mae: 7.4000\n",
            "Epoch 22/100\n",
            "1/1 [==============================] - 0s 16ms/step - loss: 7.3944 - mae: 7.3944\n",
            "Epoch 23/100\n",
            "1/1 [==============================] - 0s 105ms/step - loss: 7.3888 - mae: 7.3888\n",
            "Epoch 24/100\n",
            "1/1 [==============================] - 0s 106ms/step - loss: 7.3831 - mae: 7.3831\n",
            "Epoch 25/100\n",
            "1/1 [==============================] - 0s 66ms/step - loss: 7.3775 - mae: 7.3775\n",
            "Epoch 26/100\n",
            "1/1 [==============================] - 0s 74ms/step - loss: 7.3719 - mae: 7.3719\n",
            "Epoch 27/100\n",
            "1/1 [==============================] - 0s 92ms/step - loss: 7.3663 - mae: 7.3663\n",
            "Epoch 28/100\n",
            "1/1 [==============================] - 0s 50ms/step - loss: 7.3606 - mae: 7.3606\n",
            "Epoch 29/100\n",
            "1/1 [==============================] - 0s 68ms/step - loss: 7.3550 - mae: 7.3550\n",
            "Epoch 30/100\n",
            "1/1 [==============================] - 0s 96ms/step - loss: 7.3494 - mae: 7.3494\n",
            "Epoch 31/100\n",
            "1/1 [==============================] - 0s 47ms/step - loss: 7.3438 - mae: 7.3438\n",
            "Epoch 32/100\n",
            "1/1 [==============================] - 0s 40ms/step - loss: 7.3381 - mae: 7.3381\n",
            "Epoch 33/100\n",
            "1/1 [==============================] - 0s 62ms/step - loss: 7.3325 - mae: 7.3325\n",
            "Epoch 34/100\n",
            "1/1 [==============================] - 0s 46ms/step - loss: 7.3269 - mae: 7.3269\n",
            "Epoch 35/100\n",
            "1/1 [==============================] - 0s 34ms/step - loss: 7.3212 - mae: 7.3212\n",
            "Epoch 36/100\n",
            "1/1 [==============================] - 0s 18ms/step - loss: 7.3156 - mae: 7.3156\n",
            "Epoch 37/100\n",
            "1/1 [==============================] - 0s 20ms/step - loss: 7.3100 - mae: 7.3100\n",
            "Epoch 38/100\n",
            "1/1 [==============================] - 0s 17ms/step - loss: 7.3044 - mae: 7.3044\n",
            "Epoch 39/100\n",
            "1/1 [==============================] - 0s 15ms/step - loss: 7.2987 - mae: 7.2987\n",
            "Epoch 40/100\n",
            "1/1 [==============================] - 0s 38ms/step - loss: 7.2931 - mae: 7.2931\n",
            "Epoch 41/100\n",
            "1/1 [==============================] - 0s 40ms/step - loss: 7.2875 - mae: 7.2875\n",
            "Epoch 42/100\n",
            "1/1 [==============================] - 0s 35ms/step - loss: 7.2819 - mae: 7.2819\n",
            "Epoch 43/100\n",
            "1/1 [==============================] - 0s 30ms/step - loss: 7.2763 - mae: 7.2763\n",
            "Epoch 44/100\n",
            "1/1 [==============================] - 0s 31ms/step - loss: 7.2706 - mae: 7.2706\n",
            "Epoch 45/100\n",
            "1/1 [==============================] - 0s 27ms/step - loss: 7.2650 - mae: 7.2650\n",
            "Epoch 46/100\n",
            "1/1 [==============================] - 0s 21ms/step - loss: 7.2594 - mae: 7.2594\n",
            "Epoch 47/100\n",
            "1/1 [==============================] - 0s 13ms/step - loss: 7.2537 - mae: 7.2537\n",
            "Epoch 48/100\n",
            "1/1 [==============================] - 0s 36ms/step - loss: 7.2481 - mae: 7.2481\n",
            "Epoch 49/100\n",
            "1/1 [==============================] - 0s 57ms/step - loss: 7.2425 - mae: 7.2425\n",
            "Epoch 50/100\n",
            "1/1 [==============================] - 0s 47ms/step - loss: 7.2369 - mae: 7.2369\n",
            "Epoch 51/100\n",
            "1/1 [==============================] - 0s 33ms/step - loss: 7.2312 - mae: 7.2312\n",
            "Epoch 52/100\n",
            "1/1 [==============================] - 0s 40ms/step - loss: 7.2256 - mae: 7.2256\n",
            "Epoch 53/100\n",
            "1/1 [==============================] - 0s 71ms/step - loss: 7.2200 - mae: 7.2200\n",
            "Epoch 54/100\n",
            "1/1 [==============================] - 0s 22ms/step - loss: 7.2144 - mae: 7.2144\n",
            "Epoch 55/100\n",
            "1/1 [==============================] - 0s 21ms/step - loss: 7.2088 - mae: 7.2088\n",
            "Epoch 56/100\n",
            "1/1 [==============================] - 0s 27ms/step - loss: 7.2031 - mae: 7.2031\n",
            "Epoch 57/100\n",
            "1/1 [==============================] - 0s 55ms/step - loss: 7.1975 - mae: 7.1975\n",
            "Epoch 58/100\n",
            "1/1 [==============================] - 0s 24ms/step - loss: 7.1919 - mae: 7.1919\n",
            "Epoch 59/100\n",
            "1/1 [==============================] - 0s 44ms/step - loss: 7.1863 - mae: 7.1863\n",
            "Epoch 60/100\n",
            "1/1 [==============================] - 0s 33ms/step - loss: 7.1806 - mae: 7.1806\n",
            "Epoch 61/100\n",
            "1/1 [==============================] - 0s 83ms/step - loss: 7.1750 - mae: 7.1750\n",
            "Epoch 62/100\n",
            "1/1 [==============================] - 0s 42ms/step - loss: 7.1694 - mae: 7.1694\n",
            "Epoch 63/100\n",
            "1/1 [==============================] - 0s 33ms/step - loss: 7.1638 - mae: 7.1638\n",
            "Epoch 64/100\n",
            "1/1 [==============================] - 0s 30ms/step - loss: 7.1581 - mae: 7.1581\n",
            "Epoch 65/100\n",
            "1/1 [==============================] - 0s 30ms/step - loss: 7.1525 - mae: 7.1525\n",
            "Epoch 66/100\n",
            "1/1 [==============================] - 0s 46ms/step - loss: 7.1469 - mae: 7.1469\n",
            "Epoch 67/100\n",
            "1/1 [==============================] - 0s 49ms/step - loss: 7.1413 - mae: 7.1413\n",
            "Epoch 68/100\n",
            "1/1 [==============================] - 0s 25ms/step - loss: 7.1356 - mae: 7.1356\n",
            "Epoch 69/100\n",
            "1/1 [==============================] - 0s 40ms/step - loss: 7.1300 - mae: 7.1300\n",
            "Epoch 70/100\n",
            "1/1 [==============================] - 0s 28ms/step - loss: 7.1244 - mae: 7.1244\n",
            "Epoch 71/100\n",
            "1/1 [==============================] - 0s 54ms/step - loss: 7.1188 - mae: 7.1188\n",
            "Epoch 72/100\n",
            "1/1 [==============================] - 0s 48ms/step - loss: 7.1131 - mae: 7.1131\n",
            "Epoch 73/100\n",
            "1/1 [==============================] - 0s 96ms/step - loss: 7.1075 - mae: 7.1075\n",
            "Epoch 74/100\n",
            "1/1 [==============================] - 0s 54ms/step - loss: 7.1019 - mae: 7.1019\n",
            "Epoch 75/100\n",
            "1/1 [==============================] - 0s 31ms/step - loss: 7.0963 - mae: 7.0963\n",
            "Epoch 76/100\n",
            "1/1 [==============================] - 0s 52ms/step - loss: 7.0906 - mae: 7.0906\n",
            "Epoch 77/100\n",
            "1/1 [==============================] - 0s 83ms/step - loss: 7.0850 - mae: 7.0850\n",
            "Epoch 78/100\n",
            "1/1 [==============================] - 0s 55ms/step - loss: 7.0794 - mae: 7.0794\n",
            "Epoch 79/100\n",
            "1/1 [==============================] - 0s 37ms/step - loss: 7.0738 - mae: 7.0738\n",
            "Epoch 80/100\n",
            "1/1 [==============================] - 0s 69ms/step - loss: 7.0681 - mae: 7.0681\n",
            "Epoch 81/100\n",
            "1/1 [==============================] - 0s 44ms/step - loss: 7.0625 - mae: 7.0625\n",
            "Epoch 82/100\n",
            "1/1 [==============================] - 0s 61ms/step - loss: 7.0569 - mae: 7.0569\n",
            "Epoch 83/100\n",
            "1/1 [==============================] - 0s 42ms/step - loss: 7.0513 - mae: 7.0513\n",
            "Epoch 84/100\n",
            "1/1 [==============================] - 0s 47ms/step - loss: 7.0456 - mae: 7.0456\n",
            "Epoch 85/100\n",
            "1/1 [==============================] - 0s 27ms/step - loss: 7.0400 - mae: 7.0400\n",
            "Epoch 86/100\n",
            "1/1 [==============================] - 0s 39ms/step - loss: 7.0344 - mae: 7.0344\n",
            "Epoch 87/100\n",
            "1/1 [==============================] - 0s 33ms/step - loss: 7.0288 - mae: 7.0288\n",
            "Epoch 88/100\n",
            "1/1 [==============================] - 0s 38ms/step - loss: 7.0231 - mae: 7.0231\n",
            "Epoch 89/100\n",
            "1/1 [==============================] - 0s 43ms/step - loss: 7.0175 - mae: 7.0175\n",
            "Epoch 90/100\n",
            "1/1 [==============================] - 0s 25ms/step - loss: 7.0119 - mae: 7.0119\n",
            "Epoch 91/100\n",
            "1/1 [==============================] - 0s 21ms/step - loss: 7.0063 - mae: 7.0063\n",
            "Epoch 92/100\n",
            "1/1 [==============================] - 0s 23ms/step - loss: 7.0006 - mae: 7.0006\n",
            "Epoch 93/100\n",
            "1/1 [==============================] - 0s 17ms/step - loss: 6.9950 - mae: 6.9950\n",
            "Epoch 94/100\n",
            "1/1 [==============================] - 0s 31ms/step - loss: 6.9894 - mae: 6.9894\n",
            "Epoch 95/100\n",
            "1/1 [==============================] - 0s 49ms/step - loss: 6.9838 - mae: 6.9838\n",
            "Epoch 96/100\n",
            "1/1 [==============================] - 0s 91ms/step - loss: 6.9781 - mae: 6.9781\n",
            "Epoch 97/100\n",
            "1/1 [==============================] - 0s 101ms/step - loss: 6.9725 - mae: 6.9725\n",
            "Epoch 98/100\n",
            "1/1 [==============================] - 0s 98ms/step - loss: 6.9669 - mae: 6.9669\n",
            "Epoch 99/100\n",
            "1/1 [==============================] - 0s 55ms/step - loss: 6.9613 - mae: 6.9613\n",
            "Epoch 100/100\n",
            "1/1 [==============================] - 0s 99ms/step - loss: 6.9556 - mae: 6.9556\n"
          ]
        },
        {
          "output_type": "execute_result",
          "data": {
            "text/plain": [
              "<keras.callbacks.History at 0x7fe2e1c1e040>"
            ]
          },
          "metadata": {},
          "execution_count": 12
        }
      ]
    },
    {
      "cell_type": "code",
      "source": [
        "X, y"
      ],
      "metadata": {
        "colab": {
          "base_uri": "https://localhost:8080/"
        },
        "id": "-7srE2GjtWZx",
        "outputId": "a87dbda9-ceb4-4b3d-bff5-5fcb8279c110"
      },
      "execution_count": null,
      "outputs": [
        {
          "output_type": "execute_result",
          "data": {
            "text/plain": [
              "(<tf.Tensor: shape=(8,), dtype=float32, numpy=array([-7., -4., -1.,  2.,  5.,  8., 11., 14.], dtype=float32)>,\n",
              " <tf.Tensor: shape=(8,), dtype=float32, numpy=array([ 3. ,  6. ,  9. , 12. , 15. , 18.1, 21. , 24. ], dtype=float32)>)"
            ]
          },
          "metadata": {},
          "execution_count": 13
        }
      ]
    },
    {
      "cell_type": "code",
      "source": [
        "y_pred = model.predict([17.0])\n",
        "y_pred"
      ],
      "metadata": {
        "colab": {
          "base_uri": "https://localhost:8080/"
        },
        "id": "Jk7OZEu8tGXT",
        "outputId": "f2af439c-0c53-4f36-99bc-faf90de0ebd9"
      },
      "execution_count": null,
      "outputs": [
        {
          "output_type": "stream",
          "name": "stdout",
          "text": [
            "1/1 [==============================] - 0s 275ms/step\n"
          ]
        },
        {
          "output_type": "execute_result",
          "data": {
            "text/plain": [
              "array([[30.071096]], dtype=float32)"
            ]
          },
          "metadata": {},
          "execution_count": 14
        }
      ]
    },
    {
      "cell_type": "code",
      "source": [
        "# Lets rebuild our model\n",
        "model = tf.keras.Sequential([\n",
        "    tf.keras.layers.Dense(1)\n",
        "])\n",
        "\n",
        "model.compile(loss=tf.keras.losses.mae,\n",
        "              optimizer=tf.keras.optimizers.Adam(),\n",
        "              metrics=[\"mae\"])\n",
        "\n",
        "# This time we train for longer time\n",
        "model.fit(tf.expand_dims(X, axis=-1), y, epochs=100)"
      ],
      "metadata": {
        "colab": {
          "base_uri": "https://localhost:8080/"
        },
        "id": "9f4zdYtptzrg",
        "outputId": "ff1979fa-61d1-45fe-d382-5c0691dc3806"
      },
      "execution_count": null,
      "outputs": [
        {
          "output_type": "stream",
          "name": "stdout",
          "text": [
            "Epoch 1/100\n",
            "1/1 [==============================] - 3s 3s/step - loss: 16.7783 - mae: 16.7783\n",
            "Epoch 2/100\n",
            "1/1 [==============================] - 0s 23ms/step - loss: 16.7723 - mae: 16.7723\n",
            "Epoch 3/100\n",
            "1/1 [==============================] - 0s 39ms/step - loss: 16.7663 - mae: 16.7663\n",
            "Epoch 4/100\n",
            "1/1 [==============================] - 0s 31ms/step - loss: 16.7603 - mae: 16.7603\n",
            "Epoch 5/100\n",
            "1/1 [==============================] - 0s 24ms/step - loss: 16.7543 - mae: 16.7543\n",
            "Epoch 6/100\n",
            "1/1 [==============================] - 0s 29ms/step - loss: 16.7483 - mae: 16.7483\n",
            "Epoch 7/100\n",
            "1/1 [==============================] - 0s 44ms/step - loss: 16.7423 - mae: 16.7423\n",
            "Epoch 8/100\n",
            "1/1 [==============================] - 0s 56ms/step - loss: 16.7363 - mae: 16.7363\n",
            "Epoch 9/100\n",
            "1/1 [==============================] - 0s 17ms/step - loss: 16.7303 - mae: 16.7303\n",
            "Epoch 10/100\n",
            "1/1 [==============================] - 0s 17ms/step - loss: 16.7243 - mae: 16.7243\n",
            "Epoch 11/100\n",
            "1/1 [==============================] - 0s 14ms/step - loss: 16.7183 - mae: 16.7183\n",
            "Epoch 12/100\n",
            "1/1 [==============================] - 0s 39ms/step - loss: 16.7123 - mae: 16.7123\n",
            "Epoch 13/100\n",
            "1/1 [==============================] - 0s 21ms/step - loss: 16.7063 - mae: 16.7063\n",
            "Epoch 14/100\n",
            "1/1 [==============================] - 0s 26ms/step - loss: 16.7003 - mae: 16.7003\n",
            "Epoch 15/100\n",
            "1/1 [==============================] - 0s 52ms/step - loss: 16.6943 - mae: 16.6943\n",
            "Epoch 16/100\n",
            "1/1 [==============================] - 0s 72ms/step - loss: 16.6883 - mae: 16.6883\n",
            "Epoch 17/100\n",
            "1/1 [==============================] - 0s 12ms/step - loss: 16.6823 - mae: 16.6823\n",
            "Epoch 18/100\n",
            "1/1 [==============================] - 0s 12ms/step - loss: 16.6763 - mae: 16.6763\n",
            "Epoch 19/100\n",
            "1/1 [==============================] - 0s 97ms/step - loss: 16.6703 - mae: 16.6703\n",
            "Epoch 20/100\n",
            "1/1 [==============================] - 0s 78ms/step - loss: 16.6643 - mae: 16.6643\n",
            "Epoch 21/100\n",
            "1/1 [==============================] - 0s 39ms/step - loss: 16.6583 - mae: 16.6583\n",
            "Epoch 22/100\n",
            "1/1 [==============================] - 0s 35ms/step - loss: 16.6523 - mae: 16.6523\n",
            "Epoch 23/100\n",
            "1/1 [==============================] - 0s 47ms/step - loss: 16.6463 - mae: 16.6463\n",
            "Epoch 24/100\n",
            "1/1 [==============================] - 0s 34ms/step - loss: 16.6403 - mae: 16.6403\n",
            "Epoch 25/100\n",
            "1/1 [==============================] - 0s 43ms/step - loss: 16.6343 - mae: 16.6343\n",
            "Epoch 26/100\n",
            "1/1 [==============================] - 0s 33ms/step - loss: 16.6283 - mae: 16.6283\n",
            "Epoch 27/100\n",
            "1/1 [==============================] - 0s 79ms/step - loss: 16.6223 - mae: 16.6223\n",
            "Epoch 28/100\n",
            "1/1 [==============================] - 0s 68ms/step - loss: 16.6163 - mae: 16.6163\n",
            "Epoch 29/100\n",
            "1/1 [==============================] - 0s 43ms/step - loss: 16.6103 - mae: 16.6103\n",
            "Epoch 30/100\n",
            "1/1 [==============================] - 0s 93ms/step - loss: 16.6043 - mae: 16.6043\n",
            "Epoch 31/100\n",
            "1/1 [==============================] - 0s 38ms/step - loss: 16.5983 - mae: 16.5983\n",
            "Epoch 32/100\n",
            "1/1 [==============================] - 0s 54ms/step - loss: 16.5923 - mae: 16.5923\n",
            "Epoch 33/100\n",
            "1/1 [==============================] - 0s 92ms/step - loss: 16.5863 - mae: 16.5863\n",
            "Epoch 34/100\n",
            "1/1 [==============================] - 0s 87ms/step - loss: 16.5803 - mae: 16.5803\n",
            "Epoch 35/100\n",
            "1/1 [==============================] - 0s 64ms/step - loss: 16.5743 - mae: 16.5743\n",
            "Epoch 36/100\n",
            "1/1 [==============================] - 0s 56ms/step - loss: 16.5683 - mae: 16.5683\n",
            "Epoch 37/100\n",
            "1/1 [==============================] - 0s 42ms/step - loss: 16.5623 - mae: 16.5623\n",
            "Epoch 38/100\n",
            "1/1 [==============================] - 0s 51ms/step - loss: 16.5563 - mae: 16.5563\n",
            "Epoch 39/100\n",
            "1/1 [==============================] - 0s 52ms/step - loss: 16.5503 - mae: 16.5503\n",
            "Epoch 40/100\n",
            "1/1 [==============================] - 0s 57ms/step - loss: 16.5443 - mae: 16.5443\n",
            "Epoch 41/100\n",
            "1/1 [==============================] - 0s 79ms/step - loss: 16.5383 - mae: 16.5383\n",
            "Epoch 42/100\n",
            "1/1 [==============================] - 0s 64ms/step - loss: 16.5323 - mae: 16.5323\n",
            "Epoch 43/100\n",
            "1/1 [==============================] - 0s 34ms/step - loss: 16.5263 - mae: 16.5263\n",
            "Epoch 44/100\n",
            "1/1 [==============================] - 0s 25ms/step - loss: 16.5203 - mae: 16.5203\n",
            "Epoch 45/100\n",
            "1/1 [==============================] - 0s 24ms/step - loss: 16.5143 - mae: 16.5143\n",
            "Epoch 46/100\n",
            "1/1 [==============================] - 0s 25ms/step - loss: 16.5083 - mae: 16.5083\n",
            "Epoch 47/100\n",
            "1/1 [==============================] - 0s 22ms/step - loss: 16.5023 - mae: 16.5023\n",
            "Epoch 48/100\n",
            "1/1 [==============================] - 0s 14ms/step - loss: 16.4963 - mae: 16.4963\n",
            "Epoch 49/100\n",
            "1/1 [==============================] - 0s 11ms/step - loss: 16.4903 - mae: 16.4903\n",
            "Epoch 50/100\n",
            "1/1 [==============================] - 0s 12ms/step - loss: 16.4843 - mae: 16.4843\n",
            "Epoch 51/100\n",
            "1/1 [==============================] - 0s 12ms/step - loss: 16.4783 - mae: 16.4783\n",
            "Epoch 52/100\n",
            "1/1 [==============================] - 0s 13ms/step - loss: 16.4723 - mae: 16.4723\n",
            "Epoch 53/100\n",
            "1/1 [==============================] - 0s 16ms/step - loss: 16.4663 - mae: 16.4663\n",
            "Epoch 54/100\n",
            "1/1 [==============================] - 0s 16ms/step - loss: 16.4603 - mae: 16.4603\n",
            "Epoch 55/100\n",
            "1/1 [==============================] - 0s 16ms/step - loss: 16.4543 - mae: 16.4543\n",
            "Epoch 56/100\n",
            "1/1 [==============================] - 0s 23ms/step - loss: 16.4483 - mae: 16.4483\n",
            "Epoch 57/100\n",
            "1/1 [==============================] - 0s 21ms/step - loss: 16.4423 - mae: 16.4423\n",
            "Epoch 58/100\n",
            "1/1 [==============================] - 0s 21ms/step - loss: 16.4363 - mae: 16.4363\n",
            "Epoch 59/100\n",
            "1/1 [==============================] - 0s 28ms/step - loss: 16.4303 - mae: 16.4303\n",
            "Epoch 60/100\n",
            "1/1 [==============================] - 0s 21ms/step - loss: 16.4243 - mae: 16.4243\n",
            "Epoch 61/100\n",
            "1/1 [==============================] - 0s 11ms/step - loss: 16.4183 - mae: 16.4183\n",
            "Epoch 62/100\n",
            "1/1 [==============================] - 0s 15ms/step - loss: 16.4123 - mae: 16.4123\n",
            "Epoch 63/100\n",
            "1/1 [==============================] - 0s 20ms/step - loss: 16.4063 - mae: 16.4063\n",
            "Epoch 64/100\n",
            "1/1 [==============================] - 0s 19ms/step - loss: 16.4003 - mae: 16.4003\n",
            "Epoch 65/100\n",
            "1/1 [==============================] - 0s 15ms/step - loss: 16.3943 - mae: 16.3943\n",
            "Epoch 66/100\n",
            "1/1 [==============================] - 0s 19ms/step - loss: 16.3883 - mae: 16.3883\n",
            "Epoch 67/100\n",
            "1/1 [==============================] - 0s 20ms/step - loss: 16.3823 - mae: 16.3823\n",
            "Epoch 68/100\n",
            "1/1 [==============================] - 0s 16ms/step - loss: 16.3763 - mae: 16.3763\n",
            "Epoch 69/100\n",
            "1/1 [==============================] - 0s 14ms/step - loss: 16.3703 - mae: 16.3703\n",
            "Epoch 70/100\n",
            "1/1 [==============================] - 0s 16ms/step - loss: 16.3643 - mae: 16.3643\n",
            "Epoch 71/100\n",
            "1/1 [==============================] - 0s 14ms/step - loss: 16.3583 - mae: 16.3583\n",
            "Epoch 72/100\n",
            "1/1 [==============================] - 0s 14ms/step - loss: 16.3523 - mae: 16.3523\n",
            "Epoch 73/100\n",
            "1/1 [==============================] - 0s 10ms/step - loss: 16.3463 - mae: 16.3463\n",
            "Epoch 74/100\n",
            "1/1 [==============================] - 0s 15ms/step - loss: 16.3403 - mae: 16.3403\n",
            "Epoch 75/100\n",
            "1/1 [==============================] - 0s 14ms/step - loss: 16.3343 - mae: 16.3343\n",
            "Epoch 76/100\n",
            "1/1 [==============================] - 0s 13ms/step - loss: 16.3283 - mae: 16.3283\n",
            "Epoch 77/100\n",
            "1/1 [==============================] - 0s 17ms/step - loss: 16.3223 - mae: 16.3223\n",
            "Epoch 78/100\n",
            "1/1 [==============================] - 0s 17ms/step - loss: 16.3163 - mae: 16.3163\n",
            "Epoch 79/100\n",
            "1/1 [==============================] - 0s 20ms/step - loss: 16.3103 - mae: 16.3103\n",
            "Epoch 80/100\n",
            "1/1 [==============================] - 0s 17ms/step - loss: 16.3043 - mae: 16.3043\n",
            "Epoch 81/100\n",
            "1/1 [==============================] - 0s 19ms/step - loss: 16.2983 - mae: 16.2983\n",
            "Epoch 82/100\n",
            "1/1 [==============================] - 0s 13ms/step - loss: 16.2923 - mae: 16.2923\n",
            "Epoch 83/100\n",
            "1/1 [==============================] - 0s 18ms/step - loss: 16.2863 - mae: 16.2863\n",
            "Epoch 84/100\n",
            "1/1 [==============================] - 0s 15ms/step - loss: 16.2803 - mae: 16.2803\n",
            "Epoch 85/100\n",
            "1/1 [==============================] - 0s 15ms/step - loss: 16.2743 - mae: 16.2743\n",
            "Epoch 86/100\n",
            "1/1 [==============================] - 0s 16ms/step - loss: 16.2683 - mae: 16.2683\n",
            "Epoch 87/100\n",
            "1/1 [==============================] - 0s 14ms/step - loss: 16.2623 - mae: 16.2623\n",
            "Epoch 88/100\n",
            "1/1 [==============================] - 0s 13ms/step - loss: 16.2563 - mae: 16.2563\n",
            "Epoch 89/100\n",
            "1/1 [==============================] - 0s 17ms/step - loss: 16.2503 - mae: 16.2503\n",
            "Epoch 90/100\n",
            "1/1 [==============================] - 0s 19ms/step - loss: 16.2443 - mae: 16.2443\n",
            "Epoch 91/100\n",
            "1/1 [==============================] - 0s 16ms/step - loss: 16.2383 - mae: 16.2383\n",
            "Epoch 92/100\n",
            "1/1 [==============================] - 0s 17ms/step - loss: 16.2323 - mae: 16.2323\n",
            "Epoch 93/100\n",
            "1/1 [==============================] - 0s 18ms/step - loss: 16.2263 - mae: 16.2263\n",
            "Epoch 94/100\n",
            "1/1 [==============================] - 0s 18ms/step - loss: 16.2203 - mae: 16.2203\n",
            "Epoch 95/100\n",
            "1/1 [==============================] - 0s 14ms/step - loss: 16.2143 - mae: 16.2143\n",
            "Epoch 96/100\n",
            "1/1 [==============================] - 0s 17ms/step - loss: 16.2083 - mae: 16.2083\n",
            "Epoch 97/100\n",
            "1/1 [==============================] - 0s 24ms/step - loss: 16.2023 - mae: 16.2023\n",
            "Epoch 98/100\n",
            "1/1 [==============================] - 0s 16ms/step - loss: 16.1963 - mae: 16.1963\n",
            "Epoch 99/100\n",
            "1/1 [==============================] - 0s 14ms/step - loss: 16.1903 - mae: 16.1903\n",
            "Epoch 100/100\n",
            "1/1 [==============================] - 0s 12ms/step - loss: 16.1843 - mae: 16.1843\n"
          ]
        },
        {
          "output_type": "execute_result",
          "data": {
            "text/plain": [
              "<keras.callbacks.History at 0x7fe2e1b23b50>"
            ]
          },
          "metadata": {},
          "execution_count": 15
        }
      ]
    },
    {
      "cell_type": "code",
      "source": [
        "#Adding more hidden layers\n",
        "model = tf.keras.Sequential([\n",
        "    tf.keras.layers.Dense(50, activation=None),\n",
        "    tf.keras.layers.Dense(1)\n",
        "])\n",
        "\n",
        "model.compile(loss=\"mae\",\n",
        "              optimizer=tf.keras.optimizers.Adam(learning_rate=0.01),\n",
        "              metrics=[\"mae\"])\n",
        "\n",
        "model.fit(tf.expand_dims(X, axis=-1), y, epochs=100)"
      ],
      "metadata": {
        "colab": {
          "base_uri": "https://localhost:8080/"
        },
        "id": "HYHaG2Nft7x3",
        "outputId": "6710ddb4-d045-4dde-9702-b757a219bcfb"
      },
      "execution_count": null,
      "outputs": [
        {
          "output_type": "stream",
          "name": "stdout",
          "text": [
            "Epoch 1/100\n",
            "1/1 [==============================] - 1s 765ms/step - loss: 14.1278 - mae: 14.1278\n",
            "Epoch 2/100\n",
            "1/1 [==============================] - 0s 15ms/step - loss: 13.4763 - mae: 13.4763\n",
            "Epoch 3/100\n",
            "1/1 [==============================] - 0s 11ms/step - loss: 12.8265 - mae: 12.8265\n",
            "Epoch 4/100\n",
            "1/1 [==============================] - 0s 12ms/step - loss: 12.1773 - mae: 12.1773\n",
            "Epoch 5/100\n",
            "1/1 [==============================] - 0s 12ms/step - loss: 11.5274 - mae: 11.5274\n",
            "Epoch 6/100\n",
            "1/1 [==============================] - 0s 14ms/step - loss: 10.8747 - mae: 10.8747\n",
            "Epoch 7/100\n",
            "1/1 [==============================] - 0s 12ms/step - loss: 10.2164 - mae: 10.2164\n",
            "Epoch 8/100\n",
            "1/1 [==============================] - 0s 12ms/step - loss: 9.5497 - mae: 9.5497\n",
            "Epoch 9/100\n",
            "1/1 [==============================] - 0s 13ms/step - loss: 8.8715 - mae: 8.8715\n",
            "Epoch 10/100\n",
            "1/1 [==============================] - 0s 11ms/step - loss: 8.1785 - mae: 8.1785\n",
            "Epoch 11/100\n",
            "1/1 [==============================] - 0s 12ms/step - loss: 7.4675 - mae: 7.4675\n",
            "Epoch 12/100\n",
            "1/1 [==============================] - 0s 11ms/step - loss: 6.7353 - mae: 6.7353\n",
            "Epoch 13/100\n",
            "1/1 [==============================] - 0s 10ms/step - loss: 6.6158 - mae: 6.6158\n",
            "Epoch 14/100\n",
            "1/1 [==============================] - 0s 10ms/step - loss: 6.9382 - mae: 6.9382\n",
            "Epoch 15/100\n",
            "1/1 [==============================] - 0s 9ms/step - loss: 7.1589 - mae: 7.1589\n",
            "Epoch 16/100\n",
            "1/1 [==============================] - 0s 12ms/step - loss: 7.3748 - mae: 7.3748\n",
            "Epoch 17/100\n",
            "1/1 [==============================] - 0s 11ms/step - loss: 7.4415 - mae: 7.4415\n",
            "Epoch 18/100\n",
            "1/1 [==============================] - 0s 10ms/step - loss: 7.3363 - mae: 7.3363\n",
            "Epoch 19/100\n",
            "1/1 [==============================] - 0s 9ms/step - loss: 7.0990 - mae: 7.0990\n",
            "Epoch 20/100\n",
            "1/1 [==============================] - 0s 10ms/step - loss: 6.8313 - mae: 6.8313\n",
            "Epoch 21/100\n",
            "1/1 [==============================] - 0s 12ms/step - loss: 6.5978 - mae: 6.5978\n",
            "Epoch 22/100\n",
            "1/1 [==============================] - 0s 10ms/step - loss: 6.3503 - mae: 6.3503\n",
            "Epoch 23/100\n",
            "1/1 [==============================] - 0s 10ms/step - loss: 6.0922 - mae: 6.0922\n",
            "Epoch 24/100\n",
            "1/1 [==============================] - 0s 10ms/step - loss: 5.9890 - mae: 5.9890\n",
            "Epoch 25/100\n",
            "1/1 [==============================] - 0s 14ms/step - loss: 5.9515 - mae: 5.9515\n",
            "Epoch 26/100\n",
            "1/1 [==============================] - 0s 10ms/step - loss: 6.0535 - mae: 6.0535\n",
            "Epoch 27/100\n",
            "1/1 [==============================] - 0s 10ms/step - loss: 6.1195 - mae: 6.1195\n",
            "Epoch 28/100\n",
            "1/1 [==============================] - 0s 9ms/step - loss: 6.0876 - mae: 6.0876\n",
            "Epoch 29/100\n",
            "1/1 [==============================] - 0s 10ms/step - loss: 5.9697 - mae: 5.9697\n",
            "Epoch 30/100\n",
            "1/1 [==============================] - 0s 17ms/step - loss: 5.7739 - mae: 5.7739\n",
            "Epoch 31/100\n",
            "1/1 [==============================] - 0s 11ms/step - loss: 5.5061 - mae: 5.5061\n",
            "Epoch 32/100\n",
            "1/1 [==============================] - 0s 11ms/step - loss: 5.3881 - mae: 5.3881\n",
            "Epoch 33/100\n",
            "1/1 [==============================] - 0s 14ms/step - loss: 5.2696 - mae: 5.2696\n",
            "Epoch 34/100\n",
            "1/1 [==============================] - 0s 10ms/step - loss: 5.2840 - mae: 5.2840\n",
            "Epoch 35/100\n",
            "1/1 [==============================] - 0s 10ms/step - loss: 5.2909 - mae: 5.2909\n",
            "Epoch 36/100\n",
            "1/1 [==============================] - 0s 11ms/step - loss: 5.2565 - mae: 5.2565\n",
            "Epoch 37/100\n",
            "1/1 [==============================] - 0s 10ms/step - loss: 5.1833 - mae: 5.1833\n",
            "Epoch 38/100\n",
            "1/1 [==============================] - 0s 12ms/step - loss: 5.0742 - mae: 5.0742\n",
            "Epoch 39/100\n",
            "1/1 [==============================] - 0s 11ms/step - loss: 4.9318 - mae: 4.9318\n",
            "Epoch 40/100\n",
            "1/1 [==============================] - 0s 10ms/step - loss: 4.7589 - mae: 4.7589\n",
            "Epoch 41/100\n",
            "1/1 [==============================] - 0s 10ms/step - loss: 4.5579 - mae: 4.5579\n",
            "Epoch 42/100\n",
            "1/1 [==============================] - 0s 12ms/step - loss: 4.3427 - mae: 4.3427\n",
            "Epoch 43/100\n",
            "1/1 [==============================] - 0s 12ms/step - loss: 4.2446 - mae: 4.2446\n",
            "Epoch 44/100\n",
            "1/1 [==============================] - 0s 14ms/step - loss: 4.1369 - mae: 4.1369\n",
            "Epoch 45/100\n",
            "1/1 [==============================] - 0s 15ms/step - loss: 4.0396 - mae: 4.0396\n",
            "Epoch 46/100\n",
            "1/1 [==============================] - 0s 14ms/step - loss: 3.9078 - mae: 3.9078\n",
            "Epoch 47/100\n",
            "1/1 [==============================] - 0s 10ms/step - loss: 3.7220 - mae: 3.7220\n",
            "Epoch 48/100\n",
            "1/1 [==============================] - 0s 12ms/step - loss: 3.5548 - mae: 3.5548\n",
            "Epoch 49/100\n",
            "1/1 [==============================] - 0s 13ms/step - loss: 3.3790 - mae: 3.3790\n",
            "Epoch 50/100\n",
            "1/1 [==============================] - 0s 10ms/step - loss: 3.2504 - mae: 3.2504\n",
            "Epoch 51/100\n",
            "1/1 [==============================] - 0s 10ms/step - loss: 3.1100 - mae: 3.1100\n",
            "Epoch 52/100\n",
            "1/1 [==============================] - 0s 11ms/step - loss: 2.9193 - mae: 2.9193\n",
            "Epoch 53/100\n",
            "1/1 [==============================] - 0s 10ms/step - loss: 2.6802 - mae: 2.6802\n",
            "Epoch 54/100\n",
            "1/1 [==============================] - 0s 11ms/step - loss: 2.4829 - mae: 2.4829\n",
            "Epoch 55/100\n",
            "1/1 [==============================] - 0s 11ms/step - loss: 2.3146 - mae: 2.3146\n",
            "Epoch 56/100\n",
            "1/1 [==============================] - 0s 9ms/step - loss: 2.0974 - mae: 2.0974\n",
            "Epoch 57/100\n",
            "1/1 [==============================] - 0s 11ms/step - loss: 1.8365 - mae: 1.8365\n",
            "Epoch 58/100\n",
            "1/1 [==============================] - 0s 11ms/step - loss: 1.6568 - mae: 1.6568\n",
            "Epoch 59/100\n",
            "1/1 [==============================] - 0s 11ms/step - loss: 1.4566 - mae: 1.4566\n",
            "Epoch 60/100\n",
            "1/1 [==============================] - 0s 16ms/step - loss: 1.1907 - mae: 1.1907\n",
            "Epoch 61/100\n",
            "1/1 [==============================] - 0s 11ms/step - loss: 0.8613 - mae: 0.8613\n",
            "Epoch 62/100\n",
            "1/1 [==============================] - 0s 10ms/step - loss: 0.6727 - mae: 0.6727\n",
            "Epoch 63/100\n",
            "1/1 [==============================] - 0s 10ms/step - loss: 0.4286 - mae: 0.4286\n",
            "Epoch 64/100\n",
            "1/1 [==============================] - 0s 10ms/step - loss: 0.0510 - mae: 0.0510\n",
            "Epoch 65/100\n",
            "1/1 [==============================] - 0s 10ms/step - loss: 0.6026 - mae: 0.6026\n",
            "Epoch 66/100\n",
            "1/1 [==============================] - 0s 10ms/step - loss: 0.9388 - mae: 0.9388\n",
            "Epoch 67/100\n",
            "1/1 [==============================] - 0s 14ms/step - loss: 1.0284 - mae: 1.0284\n",
            "Epoch 68/100\n",
            "1/1 [==============================] - 0s 10ms/step - loss: 0.8995 - mae: 0.8995\n",
            "Epoch 69/100\n",
            "1/1 [==============================] - 0s 13ms/step - loss: 0.6443 - mae: 0.6443\n",
            "Epoch 70/100\n",
            "1/1 [==============================] - 0s 11ms/step - loss: 0.8219 - mae: 0.8219\n",
            "Epoch 71/100\n",
            "1/1 [==============================] - 0s 14ms/step - loss: 0.7900 - mae: 0.7900\n",
            "Epoch 72/100\n",
            "1/1 [==============================] - 0s 16ms/step - loss: 0.5548 - mae: 0.5548\n",
            "Epoch 73/100\n",
            "1/1 [==============================] - 0s 11ms/step - loss: 0.5872 - mae: 0.5872\n",
            "Epoch 74/100\n",
            "1/1 [==============================] - 0s 17ms/step - loss: 0.5815 - mae: 0.5815\n",
            "Epoch 75/100\n",
            "1/1 [==============================] - 0s 11ms/step - loss: 0.4152 - mae: 0.4152\n",
            "Epoch 76/100\n",
            "1/1 [==============================] - 0s 10ms/step - loss: 0.0450 - mae: 0.0450\n",
            "Epoch 77/100\n",
            "1/1 [==============================] - 0s 11ms/step - loss: 0.5002 - mae: 0.5002\n",
            "Epoch 78/100\n",
            "1/1 [==============================] - 0s 11ms/step - loss: 0.6806 - mae: 0.6806\n",
            "Epoch 79/100\n",
            "1/1 [==============================] - 0s 11ms/step - loss: 0.6510 - mae: 0.6510\n",
            "Epoch 80/100\n",
            "1/1 [==============================] - 0s 11ms/step - loss: 0.4955 - mae: 0.4955\n",
            "Epoch 81/100\n",
            "1/1 [==============================] - 0s 11ms/step - loss: 0.4739 - mae: 0.4739\n",
            "Epoch 82/100\n",
            "1/1 [==============================] - 0s 11ms/step - loss: 0.6409 - mae: 0.6409\n",
            "Epoch 83/100\n",
            "1/1 [==============================] - 0s 11ms/step - loss: 0.5585 - mae: 0.5585\n",
            "Epoch 84/100\n",
            "1/1 [==============================] - 0s 11ms/step - loss: 0.3074 - mae: 0.3074\n",
            "Epoch 85/100\n",
            "1/1 [==============================] - 0s 13ms/step - loss: 0.3998 - mae: 0.3998\n",
            "Epoch 86/100\n",
            "1/1 [==============================] - 0s 13ms/step - loss: 0.4684 - mae: 0.4684\n",
            "Epoch 87/100\n",
            "1/1 [==============================] - 0s 11ms/step - loss: 0.3263 - mae: 0.3263\n",
            "Epoch 88/100\n",
            "1/1 [==============================] - 0s 11ms/step - loss: 0.1115 - mae: 0.1115\n",
            "Epoch 89/100\n",
            "1/1 [==============================] - 0s 11ms/step - loss: 0.2802 - mae: 0.2802\n",
            "Epoch 90/100\n",
            "1/1 [==============================] - 0s 12ms/step - loss: 0.2303 - mae: 0.2303\n",
            "Epoch 91/100\n",
            "1/1 [==============================] - 0s 12ms/step - loss: 0.1524 - mae: 0.1524\n",
            "Epoch 92/100\n",
            "1/1 [==============================] - 0s 12ms/step - loss: 0.1645 - mae: 0.1645\n",
            "Epoch 93/100\n",
            "1/1 [==============================] - 0s 11ms/step - loss: 0.0678 - mae: 0.0678\n",
            "Epoch 94/100\n",
            "1/1 [==============================] - 0s 11ms/step - loss: 0.0575 - mae: 0.0575\n",
            "Epoch 95/100\n",
            "1/1 [==============================] - 0s 12ms/step - loss: 0.1001 - mae: 0.1001\n",
            "Epoch 96/100\n",
            "1/1 [==============================] - 0s 11ms/step - loss: 0.0608 - mae: 0.0608\n",
            "Epoch 97/100\n",
            "1/1 [==============================] - 0s 11ms/step - loss: 0.1420 - mae: 0.1420\n",
            "Epoch 98/100\n",
            "1/1 [==============================] - 0s 11ms/step - loss: 0.0401 - mae: 0.0401\n",
            "Epoch 99/100\n",
            "1/1 [==============================] - 0s 11ms/step - loss: 0.0550 - mae: 0.0550\n",
            "Epoch 100/100\n",
            "1/1 [==============================] - 0s 10ms/step - loss: 0.0440 - mae: 0.0440\n"
          ]
        },
        {
          "output_type": "execute_result",
          "data": {
            "text/plain": [
              "<keras.callbacks.History at 0x7fe2e1a616a0>"
            ]
          },
          "metadata": {},
          "execution_count": 16
        }
      ]
    },
    {
      "cell_type": "code",
      "source": [
        "# Learning rate is one of the most important hyper-parameters you can change to improve your model\n",
        "y_predict = model.predict([17.0])\n",
        "y_predict"
      ],
      "metadata": {
        "colab": {
          "base_uri": "https://localhost:8080/"
        },
        "id": "5BLTPhMtvcCG",
        "outputId": "238d11e1-9597-4a41-a7e4-924b878d7eb8"
      },
      "execution_count": null,
      "outputs": [
        {
          "output_type": "stream",
          "name": "stdout",
          "text": [
            "1/1 [==============================] - 0s 84ms/step\n"
          ]
        },
        {
          "output_type": "execute_result",
          "data": {
            "text/plain": [
              "array([[27.431755]], dtype=float32)"
            ]
          },
          "metadata": {},
          "execution_count": 17
        }
      ]
    },
    {
      "cell_type": "markdown",
      "source": [
        "## Evaluating a model\n",
        "\n",
        "In practice, a typical workflow you'll go throuhg when building neural networks is:\n",
        "\n",
        "```\n",
        "Buld a model --> fit it --> evaluate it --> tweak a model --> fit it --> evaluate it --> tweak a model ...\n",
        "```"
      ],
      "metadata": {
        "id": "A-9iRaQp0r_U"
      }
    },
    {
      "cell_type": "markdown",
      "source": [
        "When it comes to evaluation... there are 3 words you should memorize:\n",
        "> \"visualize, visualize, visulize\"\n",
        "\n",
        "It´s a good idea to visualize:\n",
        "* The data - what data are we working with?\n",
        "* The model itself - what does our model look like?\n",
        "* The training of a model - how does a model perform while it learns?\n",
        "* The predictions of the model - how do the predictions of a model line up agains the ground truth (the original labels)\n",
        "\n"
      ],
      "metadata": {
        "id": "KsFjQZav2iYH"
      }
    },
    {
      "cell_type": "code",
      "source": [
        "#Make a bigger dataset\n",
        "X = tf.range(-100, 100, 4)\n",
        "X"
      ],
      "metadata": {
        "colab": {
          "base_uri": "https://localhost:8080/"
        },
        "id": "FIUvbKA730Is",
        "outputId": "16b6737c-7e62-483f-a69b-65c0dce00672"
      },
      "execution_count": null,
      "outputs": [
        {
          "output_type": "execute_result",
          "data": {
            "text/plain": [
              "<tf.Tensor: shape=(50,), dtype=int32, numpy=\n",
              "array([-100,  -96,  -92,  -88,  -84,  -80,  -76,  -72,  -68,  -64,  -60,\n",
              "        -56,  -52,  -48,  -44,  -40,  -36,  -32,  -28,  -24,  -20,  -16,\n",
              "        -12,   -8,   -4,    0,    4,    8,   12,   16,   20,   24,   28,\n",
              "         32,   36,   40,   44,   48,   52,   56,   60,   64,   68,   72,\n",
              "         76,   80,   84,   88,   92,   96], dtype=int32)>"
            ]
          },
          "metadata": {},
          "execution_count": 18
        }
      ]
    },
    {
      "cell_type": "code",
      "source": [
        "y = X + 10\n",
        "y"
      ],
      "metadata": {
        "colab": {
          "base_uri": "https://localhost:8080/"
        },
        "id": "fDQnP_M44FqN",
        "outputId": "52b186d9-e6e2-452e-8aa4-627805673224"
      },
      "execution_count": null,
      "outputs": [
        {
          "output_type": "execute_result",
          "data": {
            "text/plain": [
              "<tf.Tensor: shape=(50,), dtype=int32, numpy=\n",
              "array([-90, -86, -82, -78, -74, -70, -66, -62, -58, -54, -50, -46, -42,\n",
              "       -38, -34, -30, -26, -22, -18, -14, -10,  -6,  -2,   2,   6,  10,\n",
              "        14,  18,  22,  26,  30,  34,  38,  42,  46,  50,  54,  58,  62,\n",
              "        66,  70,  74,  78,  82,  86,  90,  94,  98, 102, 106], dtype=int32)>"
            ]
          },
          "metadata": {},
          "execution_count": 19
        }
      ]
    },
    {
      "cell_type": "code",
      "source": [
        "plt.scatter(X, y)"
      ],
      "metadata": {
        "colab": {
          "base_uri": "https://localhost:8080/",
          "height": 282
        },
        "id": "gIIyqKBO4KFl",
        "outputId": "f8d01dd6-7768-4a52-d1ae-da9c4b572b3c"
      },
      "execution_count": null,
      "outputs": [
        {
          "output_type": "execute_result",
          "data": {
            "text/plain": [
              "<matplotlib.collections.PathCollection at 0x7fe2e0a63280>"
            ]
          },
          "metadata": {},
          "execution_count": 20
        },
        {
          "output_type": "display_data",
          "data": {
            "text/plain": [
              "<Figure size 432x288 with 1 Axes>"
            ],
            "image/png": "[encoded data removed]"
          },
          "metadata": {
            "needs_background": "light"
          }
        }
      ]
    },
    {
      "cell_type": "markdown",
      "source": [
        "### The three sets...\n",
        "\n",
        "* **Training set** - the model learns from this data, which is typically 70-80% of the data you have available.\n",
        "* **Validation set** - the model gets turned on this data, which is typically 10-15% of the data available.\n",
        "*  **Test set** - the model gets evaluated on this data to test what is has to learned, this is typically 10-15% of total data available."
      ],
      "metadata": {
        "id": "2lXsNneC4o7G"
      }
    },
    {
      "cell_type": "code",
      "source": [
        "# Check the length of how many samples we have\n",
        "len(X)"
      ],
      "metadata": {
        "colab": {
          "base_uri": "https://localhost:8080/"
        },
        "id": "82vIkYut5thM",
        "outputId": "1e87deda-947a-4be9-a127-11dac4438590"
      },
      "execution_count": null,
      "outputs": [
        {
          "output_type": "execute_result",
          "data": {
            "text/plain": [
              "50"
            ]
          },
          "metadata": {},
          "execution_count": 21
        }
      ]
    },
    {
      "cell_type": "code",
      "source": [
        "# Split data into train and test sets\n",
        "X_train = X[:40] #fist 40 are training samples (80% of the data)\n",
        "y_train = y[:40]\n",
        "\n",
        "X_test = X[40:] #last 10 are testing samples (20% of the data)\n",
        "y_test = y[40:]\n",
        "\n",
        "len(X_train), len(X_test), len(y_train), len(y_test)"
      ],
      "metadata": {
        "colab": {
          "base_uri": "https://localhost:8080/"
        },
        "id": "r6Zzh9jS7Xmj",
        "outputId": "4143cf20-f6f2-48cd-c0af-aeadc6bc68a4"
      },
      "execution_count": null,
      "outputs": [
        {
          "output_type": "execute_result",
          "data": {
            "text/plain": [
              "(40, 10, 40, 10)"
            ]
          },
          "metadata": {},
          "execution_count": 22
        }
      ]
    },
    {
      "cell_type": "markdown",
      "source": [
        "### Visualizing the data\n",
        "\n",
        "Now we've got our data in training and tests sets... lets visualize it again"
      ],
      "metadata": {
        "id": "HaKfBS8I8or6"
      }
    },
    {
      "cell_type": "code",
      "source": [
        "plt.figure(figsize=(10, 7))\n",
        "\n",
        "# Plot training data in blue\n",
        "\n",
        "plt.scatter(X_train, y_train, c=\"b\", label=\"Training data\")\n",
        "plt.scatter(X_test, y_test, c=\"g\", label=\"Testing data\")\n",
        "plt.legend();\n"
      ],
      "metadata": {
        "colab": {
          "base_uri": "https://localhost:8080/",
          "height": 428
        },
        "id": "W4pDIazJ85wf",
        "outputId": "95db42e4-3382-4825-c428-4a5f62365a37"
      },
      "execution_count": null,
      "outputs": [
        {
          "output_type": "display_data",
          "data": {
            "text/plain": [
              "<Figure size 720x504 with 1 Axes>"
            ],
            "image/png": "[encoded data removed]"
          },
          "metadata": {
            "needs_background": "light"
          }
        }
      ]
    },
    {
      "cell_type": "code",
      "source": [
        "model = tf.keras.Sequential([\n",
        "    tf.keras.layers.Dense(1),\n",
        "])\n",
        "\n",
        "model.compile(loss=tf.keras.losses.mae,\n",
        "              optimizer=tf.keras.optimizers.SGD(),\n",
        "              metrics=[\"mae\"])\n",
        "\n",
        "# model.fit(tf.expand_dims(X_train, axis=-1), y_train, epochs=100)"
      ],
      "metadata": {
        "id": "s7WcpqtPZev0"
      },
      "execution_count": null,
      "outputs": []
    },
    {
      "cell_type": "markdown",
      "source": [
        "### Visulizing the model"
      ],
      "metadata": {
        "id": "q6YTHLdIarBP"
      }
    },
    {
      "cell_type": "code",
      "source": [
        "# model.summary()"
      ],
      "metadata": {
        "id": "G4Cosuiqayhc"
      },
      "execution_count": null,
      "outputs": []
    },
    {
      "cell_type": "code",
      "source": [
        "# Create a model using input_shape\n",
        "\n",
        "model = tf.keras.Sequential([\n",
        "    tf.keras.layers.Dense(10, input_shape=[1], name=\"input_layer\"),\n",
        "    tf.keras.layers.Dense(1, name=\"output_layer\")\n",
        "], name=\"model_1\")\n",
        "\n",
        "model.compile(loss=tf.keras.losses.mae,\n",
        "              optimizer=tf.keras.optimizers.SGD(),\n",
        "              metrics=[\"mae\"])\n",
        "\n",
        "model.summary()"
      ],
      "metadata": {
        "colab": {
          "base_uri": "https://localhost:8080/"
        },
        "id": "bMgVZQnobNSc",
        "outputId": "77685453-7ecb-4ecf-d41f-8fbc7c973db7"
      },
      "execution_count": null,
      "outputs": [
        {
          "output_type": "stream",
          "name": "stdout",
          "text": [
            "Model: \"model_1\"\n",
            "_________________________________________________________________\n",
            " Layer (type)                Output Shape              Param #   \n",
            "=================================================================\n",
            " input_layer (Dense)         (None, 10)                20        \n",
            "                                                                 \n",
            " output_layer (Dense)        (None, 1)                 11        \n",
            "                                                                 \n",
            "=================================================================\n",
            "Total params: 31\n",
            "Trainable params: 31\n",
            "Non-trainable params: 0\n",
            "_________________________________________________________________\n"
          ]
        }
      ]
    },
    {
      "cell_type": "markdown",
      "source": [
        "* Total params - total number of paramameters in the model\n",
        "* Trainable parameters - these are the parameters (patterns) the model can update as it trains.\n",
        "* Non-trainable params - these parameters aren't updated during training (this is typical when you bring in already learn patterns or parameters from other models during **transfer learning**)"
      ],
      "metadata": {
        "id": "-biHZzw6ci6p"
      }
    },
    {
      "cell_type": "code",
      "source": [
        "model.fit(tf.expand_dims(X_train, axis=-1), y_train, epochs=100, verbose=0)"
      ],
      "metadata": {
        "colab": {
          "base_uri": "https://localhost:8080/"
        },
        "id": "deK84oiEfle4",
        "outputId": "6c064a18-7508-4fc0-ae87-55f362a4fc4a"
      },
      "execution_count": null,
      "outputs": [
        {
          "output_type": "execute_result",
          "data": {
            "text/plain": [
              "<keras.callbacks.History at 0x7fe2d1f46790>"
            ]
          },
          "metadata": {},
          "execution_count": 27
        }
      ]
    },
    {
      "cell_type": "code",
      "source": [
        "model.summary()"
      ],
      "metadata": {
        "colab": {
          "base_uri": "https://localhost:8080/"
        },
        "id": "ukDosmQdhUH-",
        "outputId": "be05b8b3-9d80-4298-ce39-f8090f60259a"
      },
      "execution_count": null,
      "outputs": [
        {
          "output_type": "stream",
          "name": "stdout",
          "text": [
            "Model: \"model_1\"\n",
            "_________________________________________________________________\n",
            " Layer (type)                Output Shape              Param #   \n",
            "=================================================================\n",
            " input_layer (Dense)         (None, 10)                20        \n",
            "                                                                 \n",
            " output_layer (Dense)        (None, 1)                 11        \n",
            "                                                                 \n",
            "=================================================================\n",
            "Total params: 31\n",
            "Trainable params: 31\n",
            "Non-trainable params: 0\n",
            "_________________________________________________________________\n"
          ]
        }
      ]
    },
    {
      "cell_type": "code",
      "source": [
        "from tensorflow.keras.utils import plot_model\n",
        "plot_model(model=model, show_shapes=True)"
      ],
      "metadata": {
        "colab": {
          "base_uri": "https://localhost:8080/",
          "height": 312
        },
        "id": "cqN5XucdiGdF",
        "outputId": "5e1a46bb-dd8f-4fcf-962b-a3daca2667e1"
      },
      "execution_count": null,
      "outputs": [
        {
          "output_type": "execute_result",
          "data": {
            "image/png": "[encoded data removed]",
            "text/plain": [
              "<IPython.core.display.Image object>"
            ]
          },
          "metadata": {},
          "execution_count": 29
        }
      ]
    },
    {
      "cell_type": "markdown",
      "source": [
        "### Visualizing our model's prdictions\n",
        "\n",
        "To visualize predictions, it's a good idea to plot them aginst the ground truth labels."
      ],
      "metadata": {
        "id": "WhgBcKIsjy1U"
      }
    },
    {
      "cell_type": "code",
      "source": [
        "y_pred = model.predict(X_test)\n",
        "y_pred"
      ],
      "metadata": {
        "colab": {
          "base_uri": "https://localhost:8080/"
        },
        "id": "qL-ljkxOj5jS",
        "outputId": "4133a3ca-0405-44db-b589-1b67a3c87d78"
      },
      "execution_count": null,
      "outputs": [
        {
          "output_type": "stream",
          "name": "stdout",
          "text": [
            "1/1 [==============================] - 0s 65ms/step\n"
          ]
        },
        {
          "output_type": "execute_result",
          "data": {
            "text/plain": [
              "array([[ 76.36987 ],\n",
              "       [ 81.34605 ],\n",
              "       [ 86.32223 ],\n",
              "       [ 91.2984  ],\n",
              "       [ 96.27459 ],\n",
              "       [101.250755],\n",
              "       [106.226944],\n",
              "       [111.203125],\n",
              "       [116.1793  ],\n",
              "       [121.155464]], dtype=float32)"
            ]
          },
          "metadata": {},
          "execution_count": 30
        }
      ]
    },
    {
      "cell_type": "code",
      "source": [
        "plt.figure(figsize=(10, 7))\n",
        "\n",
        "plt.scatter(X_test, y_pred, c=\"b\", label=\"Predicted values\")\n",
        "plt.scatter(X_test, y_test, c=\"r\", label=\"Testing values\")\n",
        "plt.legend();\n"
      ],
      "metadata": {
        "colab": {
          "base_uri": "https://localhost:8080/",
          "height": 428
        },
        "id": "eMwydTellIy6",
        "outputId": "15b3556d-425b-4048-a236-288627dae434"
      },
      "execution_count": null,
      "outputs": [
        {
          "output_type": "display_data",
          "data": {
            "text/plain": [
              "<Figure size 720x504 with 1 Axes>"
            ],
            "image/png": "[encoded data removed]"
          },
          "metadata": {
            "needs_background": "light"
          }
        }
      ]
    },
    {
      "cell_type": "markdown",
      "source": [
        "### Evaluating our model's predictions with regression evaluations metrics\n",
        "\n",
        "Depending on the problem you're working on, thee will be different evaluations metrics to evaluate your model's performance.\n",
        "\n",
        "Since we're working on a regression, two of the main metrics:\n",
        "\n",
        "* MAE - mean absolute error, \"on average, how wrong is each of my model's predictions\"\n",
        "* MSE - mean square error, \"square the average errors\""
      ],
      "metadata": {
        "id": "m89qK3XbmpYT"
      }
    },
    {
      "cell_type": "code",
      "source": [
        "# Evaluate the model on the test\n",
        "model.evaluate(X_test, y_test)"
      ],
      "metadata": {
        "colab": {
          "base_uri": "https://localhost:8080/"
        },
        "id": "Nt2QXpuHmwXv",
        "outputId": "de473798-c9a8-49da-ab80-c13b42679a9a"
      },
      "execution_count": null,
      "outputs": [
        {
          "output_type": "stream",
          "name": "stdout",
          "text": [
            "1/1 [==============================] - 0s 208ms/step - loss: 10.7627 - mae: 10.7627\n"
          ]
        },
        {
          "output_type": "execute_result",
          "data": {
            "text/plain": [
              "[10.762670516967773, 10.762670516967773]"
            ]
          },
          "metadata": {},
          "execution_count": 32
        }
      ]
    },
    {
      "cell_type": "code",
      "source": [
        "y_test"
      ],
      "metadata": {
        "colab": {
          "base_uri": "https://localhost:8080/"
        },
        "id": "8RPPfzUkqmuU",
        "outputId": "4e56b5e7-76f7-4f20-8017-ffb0da7ec31a"
      },
      "execution_count": null,
      "outputs": [
        {
          "output_type": "execute_result",
          "data": {
            "text/plain": [
              "<tf.Tensor: shape=(10,), dtype=int32, numpy=array([ 70,  74,  78,  82,  86,  90,  94,  98, 102, 106], dtype=int32)>"
            ]
          },
          "metadata": {},
          "execution_count": 33
        }
      ]
    },
    {
      "cell_type": "code",
      "source": [
        "tf.squeeze(y_pred)"
      ],
      "metadata": {
        "colab": {
          "base_uri": "https://localhost:8080/"
        },
        "id": "MsxsXf3qrokf",
        "outputId": "2ce310c9-713b-407c-f995-17fde3d56c1e"
      },
      "execution_count": null,
      "outputs": [
        {
          "output_type": "execute_result",
          "data": {
            "text/plain": [
              "<tf.Tensor: shape=(10,), dtype=float32, numpy=\n",
              "array([ 76.36987 ,  81.34605 ,  86.32223 ,  91.2984  ,  96.27459 ,\n",
              "       101.250755, 106.226944, 111.203125, 116.1793  , 121.155464],\n",
              "      dtype=float32)>"
            ]
          },
          "metadata": {},
          "execution_count": 34
        }
      ]
    },
    {
      "cell_type": "code",
      "source": [
        "# Calculate the mean absolute error\n",
        "mae = tf.keras.losses.mean_absolute_error(y_test, tf.squeeze(y_pred))\n",
        "mae"
      ],
      "metadata": {
        "colab": {
          "base_uri": "https://localhost:8080/"
        },
        "id": "H8E2_CA0pZR3",
        "outputId": "64dcaa1c-248b-4efc-af49-27ff5fb52af0"
      },
      "execution_count": null,
      "outputs": [
        {
          "output_type": "execute_result",
          "data": {
            "text/plain": [
              "<tf.Tensor: shape=(), dtype=float32, numpy=10.762672>"
            ]
          },
          "metadata": {},
          "execution_count": 35
        }
      ]
    },
    {
      "cell_type": "code",
      "source": [
        "# Calculate the mean square error\n",
        "mse = tf.keras.losses.mean_squared_error(y_test, tf.squeeze(y_pred))\n",
        "mse"
      ],
      "metadata": {
        "colab": {
          "base_uri": "https://localhost:8080/"
        },
        "id": "b9K0PGQDsNUh",
        "outputId": "1f67da89-22ee-4cc0-ee05-7ec61e69e7e7"
      },
      "execution_count": null,
      "outputs": [
        {
          "output_type": "execute_result",
          "data": {
            "text/plain": [
              "<tf.Tensor: shape=(), dtype=float32, numpy=123.69673>"
            ]
          },
          "metadata": {},
          "execution_count": 36
        }
      ]
    },
    {
      "cell_type": "markdown",
      "source": [
        "### Running experiments to improve our models\n",
        "\n",
        "1. Get more data\n",
        "2. Make your model more complex (add more layersm hidden units in each layer)\n",
        "3. Train for longer - give more epochs\n",
        "\n",
        "Let's do 3 modelling experiments:\n",
        "1. `model_1` - same as the original model, 1 layer, trained for 100 epochs.\n",
        "2. `model_2` - 2 layers, trained for 100 epochs.\n",
        "3. `model_3` - 2 layers, trained for 500 epochs.\n",
        "\n",
        "**Build model_1**"
      ],
      "metadata": {
        "id": "ZiQjTQOv_r1-"
      }
    },
    {
      "cell_type": "code",
      "source": [
        "tf.random.set_seed(42)\n",
        "\n",
        "model_1 = tf.keras.Sequential([\n",
        "    tf.keras.layers.Dense(1)\n",
        "])\n",
        "\n",
        "model_1.compile(loss=tf.keras.losses.mae,\n",
        "              optimizer=tf.keras.optimizers.SGD(),\n",
        "              metrics=[\"mae\"])\n",
        "\n",
        "model_1.fit(tf.expand_dims(X_train, axis=-1), y_train, epochs=100)"
      ],
      "metadata": {
        "id": "zgR6txvB9IQB",
        "colab": {
          "base_uri": "https://localhost:8080/"
        },
        "outputId": "041969b1-9c74-46c4-e639-09a74767030f"
      },
      "execution_count": null,
      "outputs": [
        {
          "output_type": "stream",
          "name": "stdout",
          "text": [
            "Epoch 1/100\n",
            "2/2 [==============================] - 1s 14ms/step - loss: 23.4778 - mae: 23.4778\n",
            "Epoch 2/100\n",
            "2/2 [==============================] - 0s 8ms/step - loss: 10.7243 - mae: 10.7243\n",
            "Epoch 3/100\n",
            "2/2 [==============================] - 0s 11ms/step - loss: 16.5212 - mae: 16.5212\n",
            "Epoch 4/100\n",
            "2/2 [==============================] - 0s 11ms/step - loss: 8.8347 - mae: 8.8347\n",
            "Epoch 5/100\n",
            "2/2 [==============================] - 0s 18ms/step - loss: 10.7089 - mae: 10.7089\n",
            "Epoch 6/100\n",
            "2/2 [==============================] - 0s 9ms/step - loss: 9.9070 - mae: 9.9070\n",
            "Epoch 7/100\n",
            "2/2 [==============================] - 0s 9ms/step - loss: 8.9692 - mae: 8.9692\n",
            "Epoch 8/100\n",
            "2/2 [==============================] - 0s 9ms/step - loss: 9.0807 - mae: 9.0807\n",
            "Epoch 9/100\n",
            "2/2 [==============================] - 0s 15ms/step - loss: 19.7446 - mae: 19.7446\n",
            "Epoch 10/100\n",
            "2/2 [==============================] - 0s 9ms/step - loss: 10.6687 - mae: 10.6687\n",
            "Epoch 11/100\n",
            "2/2 [==============================] - 0s 13ms/step - loss: 8.6157 - mae: 8.6157\n",
            "Epoch 12/100\n",
            "2/2 [==============================] - 0s 11ms/step - loss: 11.1892 - mae: 11.1892\n",
            "Epoch 13/100\n",
            "2/2 [==============================] - 0s 21ms/step - loss: 12.0980 - mae: 12.0980\n",
            "Epoch 14/100\n",
            "2/2 [==============================] - 0s 17ms/step - loss: 14.0796 - mae: 14.0796\n",
            "Epoch 15/100\n",
            "2/2 [==============================] - 0s 17ms/step - loss: 11.4774 - mae: 11.4774\n",
            "Epoch 16/100\n",
            "2/2 [==============================] - 0s 14ms/step - loss: 8.5226 - mae: 8.5226\n",
            "Epoch 17/100\n",
            "2/2 [==============================] - 0s 14ms/step - loss: 13.5920 - mae: 13.5920\n",
            "Epoch 18/100\n",
            "2/2 [==============================] - 0s 14ms/step - loss: 11.4086 - mae: 11.4086\n",
            "Epoch 19/100\n",
            "2/2 [==============================] - 0s 14ms/step - loss: 17.9876 - mae: 17.9876\n",
            "Epoch 20/100\n",
            "2/2 [==============================] - 0s 17ms/step - loss: 15.1217 - mae: 15.1217\n",
            "Epoch 21/100\n",
            "2/2 [==============================] - 0s 11ms/step - loss: 11.0827 - mae: 11.0827\n",
            "Epoch 22/100\n",
            "2/2 [==============================] - 0s 12ms/step - loss: 8.2121 - mae: 8.2121\n",
            "Epoch 23/100\n",
            "2/2 [==============================] - 0s 12ms/step - loss: 9.4788 - mae: 9.4788\n",
            "Epoch 24/100\n",
            "2/2 [==============================] - 0s 11ms/step - loss: 7.6781 - mae: 7.6781\n",
            "Epoch 25/100\n",
            "2/2 [==============================] - 0s 11ms/step - loss: 13.0979 - mae: 13.0979\n",
            "Epoch 26/100\n",
            "2/2 [==============================] - 0s 11ms/step - loss: 16.4923 - mae: 16.4923\n",
            "Epoch 27/100\n",
            "2/2 [==============================] - 0s 20ms/step - loss: 13.2258 - mae: 13.2258\n",
            "Epoch 28/100\n",
            "2/2 [==============================] - 0s 12ms/step - loss: 14.3317 - mae: 14.3317\n",
            "Epoch 29/100\n",
            "2/2 [==============================] - 0s 13ms/step - loss: 10.0911 - mae: 10.0911\n",
            "Epoch 30/100\n",
            "2/2 [==============================] - 0s 12ms/step - loss: 16.4514 - mae: 16.4514\n",
            "Epoch 31/100\n",
            "2/2 [==============================] - 0s 13ms/step - loss: 23.5469 - mae: 23.5469\n",
            "Epoch 32/100\n",
            "2/2 [==============================] - 0s 13ms/step - loss: 7.6104 - mae: 7.6104\n",
            "Epoch 33/100\n",
            "2/2 [==============================] - 0s 13ms/step - loss: 9.3056 - mae: 9.3056\n",
            "Epoch 34/100\n",
            "2/2 [==============================] - 0s 11ms/step - loss: 13.6623 - mae: 13.6623\n",
            "Epoch 35/100\n",
            "2/2 [==============================] - 0s 11ms/step - loss: 11.1744 - mae: 11.1744\n",
            "Epoch 36/100\n",
            "2/2 [==============================] - 0s 13ms/step - loss: 13.4093 - mae: 13.4093\n",
            "Epoch 37/100\n",
            "2/2 [==============================] - 0s 10ms/step - loss: 9.4481 - mae: 9.4481\n",
            "Epoch 38/100\n",
            "2/2 [==============================] - 0s 10ms/step - loss: 10.0984 - mae: 10.0984\n",
            "Epoch 39/100\n",
            "2/2 [==============================] - 0s 11ms/step - loss: 8.9753 - mae: 8.9753\n",
            "Epoch 40/100\n",
            "2/2 [==============================] - 0s 11ms/step - loss: 9.6033 - mae: 9.6033\n",
            "Epoch 41/100\n",
            "2/2 [==============================] - 0s 11ms/step - loss: 10.5636 - mae: 10.5636\n",
            "Epoch 42/100\n",
            "2/2 [==============================] - 0s 13ms/step - loss: 10.6165 - mae: 10.6165\n",
            "Epoch 43/100\n",
            "2/2 [==============================] - 0s 10ms/step - loss: 7.2137 - mae: 7.2137\n",
            "Epoch 44/100\n",
            "2/2 [==============================] - 0s 11ms/step - loss: 8.0173 - mae: 8.0173\n",
            "Epoch 45/100\n",
            "2/2 [==============================] - 0s 11ms/step - loss: 9.8183 - mae: 9.8183\n",
            "Epoch 46/100\n",
            "2/2 [==============================] - 0s 11ms/step - loss: 8.8978 - mae: 8.8978\n",
            "Epoch 47/100\n",
            "2/2 [==============================] - 0s 20ms/step - loss: 7.5698 - mae: 7.5698\n",
            "Epoch 48/100\n",
            "2/2 [==============================] - 0s 10ms/step - loss: 8.5403 - mae: 8.5403\n",
            "Epoch 49/100\n",
            "2/2 [==============================] - 0s 11ms/step - loss: 10.0291 - mae: 10.0291\n",
            "Epoch 50/100\n",
            "2/2 [==============================] - 0s 11ms/step - loss: 8.9873 - mae: 8.9873\n",
            "Epoch 51/100\n",
            "2/2 [==============================] - 0s 16ms/step - loss: 10.7049 - mae: 10.7049\n",
            "Epoch 52/100\n",
            "2/2 [==============================] - 0s 11ms/step - loss: 15.2666 - mae: 15.2666\n",
            "Epoch 53/100\n",
            "2/2 [==============================] - 0s 14ms/step - loss: 14.2957 - mae: 14.2957\n",
            "Epoch 54/100\n",
            "2/2 [==============================] - 0s 11ms/step - loss: 21.5520 - mae: 21.5520\n",
            "Epoch 55/100\n",
            "2/2 [==============================] - 0s 14ms/step - loss: 16.0439 - mae: 16.0439\n",
            "Epoch 56/100\n",
            "2/2 [==============================] - 0s 11ms/step - loss: 10.2514 - mae: 10.2514\n",
            "Epoch 57/100\n",
            "2/2 [==============================] - 0s 11ms/step - loss: 9.7945 - mae: 9.7945\n",
            "Epoch 58/100\n",
            "2/2 [==============================] - 0s 12ms/step - loss: 9.0772 - mae: 9.0772\n",
            "Epoch 59/100\n",
            "2/2 [==============================] - 0s 13ms/step - loss: 8.2813 - mae: 8.2813\n",
            "Epoch 60/100\n",
            "2/2 [==============================] - 0s 19ms/step - loss: 9.3744 - mae: 9.3744\n",
            "Epoch 61/100\n",
            "2/2 [==============================] - 0s 13ms/step - loss: 11.2011 - mae: 11.2011\n",
            "Epoch 62/100\n",
            "2/2 [==============================] - 0s 11ms/step - loss: 12.0384 - mae: 12.0384\n",
            "Epoch 63/100\n",
            "2/2 [==============================] - 0s 11ms/step - loss: 7.2745 - mae: 7.2745\n",
            "Epoch 64/100\n",
            "2/2 [==============================] - 0s 10ms/step - loss: 12.4633 - mae: 12.4633\n",
            "Epoch 65/100\n",
            "2/2 [==============================] - 0s 13ms/step - loss: 10.5369 - mae: 10.5369\n",
            "Epoch 66/100\n",
            "2/2 [==============================] - 0s 12ms/step - loss: 15.5707 - mae: 15.5707\n",
            "Epoch 67/100\n",
            "2/2 [==============================] - 0s 14ms/step - loss: 9.9839 - mae: 9.9839\n",
            "Epoch 68/100\n",
            "2/2 [==============================] - 0s 13ms/step - loss: 8.7114 - mae: 8.7114\n",
            "Epoch 69/100\n",
            "2/2 [==============================] - 0s 11ms/step - loss: 13.4469 - mae: 13.4469\n",
            "Epoch 70/100\n",
            "2/2 [==============================] - 0s 11ms/step - loss: 7.4714 - mae: 7.4714\n",
            "Epoch 71/100\n",
            "2/2 [==============================] - 0s 12ms/step - loss: 12.2638 - mae: 12.2638\n",
            "Epoch 72/100\n",
            "2/2 [==============================] - 0s 15ms/step - loss: 8.5119 - mae: 8.5119\n",
            "Epoch 73/100\n",
            "2/2 [==============================] - 0s 11ms/step - loss: 7.0385 - mae: 7.0385\n",
            "Epoch 74/100\n",
            "2/2 [==============================] - 0s 12ms/step - loss: 9.8911 - mae: 9.8911\n",
            "Epoch 75/100\n",
            "2/2 [==============================] - 0s 11ms/step - loss: 9.9631 - mae: 9.9631\n",
            "Epoch 76/100\n",
            "2/2 [==============================] - 0s 18ms/step - loss: 10.1235 - mae: 10.1235\n",
            "Epoch 77/100\n",
            "2/2 [==============================] - 0s 13ms/step - loss: 12.9958 - mae: 12.9958\n",
            "Epoch 78/100\n",
            "2/2 [==============================] - 0s 14ms/step - loss: 10.8946 - mae: 10.8946\n",
            "Epoch 79/100\n",
            "2/2 [==============================] - 0s 17ms/step - loss: 15.3718 - mae: 15.3718\n",
            "Epoch 80/100\n",
            "2/2 [==============================] - 0s 14ms/step - loss: 11.7354 - mae: 11.7354\n",
            "Epoch 81/100\n",
            "2/2 [==============================] - 0s 16ms/step - loss: 9.2453 - mae: 9.2453\n",
            "Epoch 82/100\n",
            "2/2 [==============================] - 0s 15ms/step - loss: 12.7362 - mae: 12.7362\n",
            "Epoch 83/100\n",
            "2/2 [==============================] - 0s 16ms/step - loss: 8.2877 - mae: 8.2877\n",
            "Epoch 84/100\n",
            "2/2 [==============================] - 0s 18ms/step - loss: 7.3064 - mae: 7.3064\n",
            "Epoch 85/100\n",
            "2/2 [==============================] - 0s 14ms/step - loss: 10.4654 - mae: 10.4654\n",
            "Epoch 86/100\n",
            "2/2 [==============================] - 0s 18ms/step - loss: 9.1391 - mae: 9.1391\n",
            "Epoch 87/100\n",
            "2/2 [==============================] - 0s 14ms/step - loss: 11.8497 - mae: 11.8497\n",
            "Epoch 88/100\n",
            "2/2 [==============================] - 0s 14ms/step - loss: 10.4580 - mae: 10.4580\n",
            "Epoch 89/100\n",
            "2/2 [==============================] - 0s 11ms/step - loss: 6.9713 - mae: 6.9713\n",
            "Epoch 90/100\n",
            "2/2 [==============================] - 0s 10ms/step - loss: 13.7824 - mae: 13.7824\n",
            "Epoch 91/100\n",
            "2/2 [==============================] - 0s 8ms/step - loss: 7.8645 - mae: 7.8645\n",
            "Epoch 92/100\n",
            "2/2 [==============================] - 0s 8ms/step - loss: 7.9180 - mae: 7.9180\n",
            "Epoch 93/100\n",
            "2/2 [==============================] - 0s 8ms/step - loss: 9.4119 - mae: 9.4119\n",
            "Epoch 94/100\n",
            "2/2 [==============================] - 0s 8ms/step - loss: 8.7332 - mae: 8.7332\n",
            "Epoch 95/100\n",
            "2/2 [==============================] - 0s 7ms/step - loss: 9.8501 - mae: 9.8501\n",
            "Epoch 96/100\n",
            "2/2 [==============================] - 0s 9ms/step - loss: 7.3423 - mae: 7.3423\n",
            "Epoch 97/100\n",
            "2/2 [==============================] - 0s 8ms/step - loss: 6.8553 - mae: 6.8553\n",
            "Epoch 98/100\n",
            "2/2 [==============================] - 0s 9ms/step - loss: 7.2493 - mae: 7.2493\n",
            "Epoch 99/100\n",
            "2/2 [==============================] - 0s 7ms/step - loss: 7.4008 - mae: 7.4008\n",
            "Epoch 100/100\n",
            "2/2 [==============================] - 0s 7ms/step - loss: 11.1068 - mae: 11.1068\n"
          ]
        },
        {
          "output_type": "execute_result",
          "data": {
            "text/plain": [
              "<keras.callbacks.History at 0x7fe2e1a4b370>"
            ]
          },
          "metadata": {},
          "execution_count": 40
        }
      ]
    },
    {
      "cell_type": "code",
      "source": [
        "def plot_predict(X, y, y_p):\n",
        "  plt.figure(figsize=(10, 7))\n",
        "\n",
        "  plt.scatter(X, y_p, c=\"b\", label=\"Predicted values\")\n",
        "  plt.scatter(X, y, c=\"r\", label=\"Testing values\")\n",
        "  plt.legend();\n",
        "\n",
        "def calculate_mae(y, y_p):\n",
        "  mae = tf.keras.losses.mean_absolute_error(y, tf.squeeze(y_p))\n",
        "  print(f'This is the mean absolute error of the model: {mae.numpy()}')\n",
        "  return mae\n",
        "\n",
        "def calculate_mse(y, y_p):\n",
        "  mse = tf.keras.losses.mean_squared_error(y, tf.squeeze(y_p))\n",
        "  print(f'This is the mean square error of the model: {mse.numpy()}')\n",
        "  return mse"
      ],
      "metadata": {
        "id": "f3GDoGdOBmQ0"
      },
      "execution_count": null,
      "outputs": []
    },
    {
      "cell_type": "code",
      "source": [
        "y_preds_1 = model_1.predict(X_test)\n",
        "y_preds_1"
      ],
      "metadata": {
        "colab": {
          "base_uri": "https://localhost:8080/"
        },
        "id": "-W9QJPtgB1I4",
        "outputId": "dd783b0f-e403-4dc7-baaf-1ca07e8de0b6"
      },
      "execution_count": null,
      "outputs": [
        {
          "output_type": "stream",
          "name": "stderr",
          "text": [
            "WARNING:tensorflow:5 out of the last 5 calls to <function Model.make_predict_function.<locals>.predict_function at 0x7fe36f3a4dc0> triggered tf.function retracing. Tracing is expensive and the excessive number of tracings could be due to (1) creating @tf.function repeatedly in a loop, (2) passing tensors with different shapes, (3) passing Python objects instead of tensors. For (1), please define your @tf.function outside of the loop. For (2), @tf.function has reduce_retracing=True option that can avoid unnecessary retracing. For (3), please refer to https://www.tensorflow.org/guide/function#controlling_retracing and https://www.tensorflow.org/api_docs/python/tf/function for  more details.\n"
          ]
        },
        {
          "output_type": "stream",
          "name": "stdout",
          "text": [
            "1/1 [==============================] - 0s 306ms/step\n"
          ]
        },
        {
          "output_type": "execute_result",
          "data": {
            "text/plain": [
              "array([[51.628506],\n",
              "       [54.98295 ],\n",
              "       [58.33739 ],\n",
              "       [61.691833],\n",
              "       [65.04628 ],\n",
              "       [68.40072 ],\n",
              "       [71.75516 ],\n",
              "       [75.109604],\n",
              "       [78.46404 ],\n",
              "       [81.81848 ]], dtype=float32)"
            ]
          },
          "metadata": {},
          "execution_count": 42
        }
      ]
    },
    {
      "cell_type": "code",
      "source": [
        "plot_predict(X_test, y_test, y_preds_1)"
      ],
      "metadata": {
        "colab": {
          "base_uri": "https://localhost:8080/",
          "height": 428
        },
        "id": "o-ifRLCHCw_b",
        "outputId": "8c09c724-912c-473e-f491-6ff5531ca9dc"
      },
      "execution_count": null,
      "outputs": [
        {
          "output_type": "display_data",
          "data": {
            "text/plain": [
              "<Figure size 720x504 with 1 Axes>"
            ],
            "image/png": "[encoded data removed]"
          },
          "metadata": {
            "needs_background": "light"
          }
        }
      ]
    },
    {
      "cell_type": "code",
      "source": [
        "mae_1 = calculate_mae(y_test, y_preds_1)\n",
        "mse_1 = calculate_mse(y_test, y_preds_1)"
      ],
      "metadata": {
        "colab": {
          "base_uri": "https://localhost:8080/"
        },
        "id": "ZMSYWVX2C-rv",
        "outputId": "96a465ea-fa26-4491-9bb3-41e4c3df332e"
      },
      "execution_count": null,
      "outputs": [
        {
          "output_type": "stream",
          "name": "stdout",
          "text": [
            "This is the mean absolute error of the model: 21.276504516601562\n",
            "This is the mean square error of the model: 456.12774658203125\n"
          ]
        }
      ]
    },
    {
      "cell_type": "markdown",
      "source": [
        "**Build `model_2`**\n",
        "\n",
        "* 2 dense layers, trained for 100 epochs\n"
      ],
      "metadata": {
        "id": "L7m9iHtHE0r1"
      }
    },
    {
      "cell_type": "code",
      "source": [
        "tf.random.set_seed(42)\n",
        "\n",
        "model_2 = tf.keras.Sequential([\n",
        "    tf.keras.layers.Dense(10),\n",
        "    tf.keras.layers.Dense(1)\n",
        "])\n",
        "\n",
        "model_2.compile(loss=tf.keras.losses.mae,\n",
        "                optimizer=tf.keras.optimizers.SGD(),\n",
        "                metrics=[\"mse\"])\n",
        "\n",
        "model_2.fit(tf.expand_dims(X_train, axis=-1), y_train, epochs=100)"
      ],
      "metadata": {
        "colab": {
          "base_uri": "https://localhost:8080/"
        },
        "id": "FfqZ-VZLFCO2",
        "outputId": "9e9249f4-a51d-4dcc-8bb9-fc83c655a7da"
      },
      "execution_count": null,
      "outputs": [
        {
          "output_type": "stream",
          "name": "stdout",
          "text": [
            "Epoch 1/100\n",
            "2/2 [==============================] - 1s 16ms/step - loss: 36.8671 - mse: 1881.3750\n",
            "Epoch 2/100\n",
            "2/2 [==============================] - 0s 11ms/step - loss: 29.1779 - mse: 1114.5355\n",
            "Epoch 3/100\n",
            "2/2 [==============================] - 0s 11ms/step - loss: 34.0891 - mse: 1750.7367\n",
            "Epoch 4/100\n",
            "2/2 [==============================] - 0s 11ms/step - loss: 28.2840 - mse: 1178.1394\n",
            "Epoch 5/100\n",
            "2/2 [==============================] - 0s 10ms/step - loss: 15.3726 - mse: 302.5157\n",
            "Epoch 6/100\n",
            "2/2 [==============================] - 0s 10ms/step - loss: 12.2049 - mse: 184.7824\n",
            "Epoch 7/100\n",
            "2/2 [==============================] - 0s 11ms/step - loss: 11.4996 - mse: 160.9488\n",
            "Epoch 8/100\n",
            "2/2 [==============================] - 0s 8ms/step - loss: 11.2155 - mse: 176.2678\n",
            "Epoch 9/100\n",
            "2/2 [==============================] - 0s 8ms/step - loss: 41.8943 - mse: 2799.5796\n",
            "Epoch 10/100\n",
            "2/2 [==============================] - 0s 9ms/step - loss: 29.1050 - mse: 1197.7916\n",
            "Epoch 11/100\n",
            "2/2 [==============================] - 0s 10ms/step - loss: 8.5606 - mse: 96.3824\n",
            "Epoch 12/100\n",
            "2/2 [==============================] - 0s 7ms/step - loss: 27.3915 - mse: 1031.6460\n",
            "Epoch 13/100\n",
            "2/2 [==============================] - 0s 8ms/step - loss: 12.1504 - mse: 176.8968\n",
            "Epoch 14/100\n",
            "2/2 [==============================] - 0s 9ms/step - loss: 35.0456 - mse: 2021.9694\n",
            "Epoch 15/100\n",
            "2/2 [==============================] - 0s 8ms/step - loss: 22.8324 - mse: 741.5749\n",
            "Epoch 16/100\n",
            "2/2 [==============================] - 0s 8ms/step - loss: 9.9821 - mse: 124.8328\n",
            "Epoch 17/100\n",
            "2/2 [==============================] - 0s 10ms/step - loss: 18.4065 - mse: 452.0180\n",
            "Epoch 18/100\n",
            "2/2 [==============================] - 0s 11ms/step - loss: 11.2984 - mse: 195.1772\n",
            "Epoch 19/100\n",
            "2/2 [==============================] - 0s 12ms/step - loss: 13.8365 - mse: 297.3762\n",
            "Epoch 20/100\n",
            "2/2 [==============================] - 0s 12ms/step - loss: 11.1515 - mse: 145.9034\n",
            "Epoch 21/100\n",
            "2/2 [==============================] - 0s 12ms/step - loss: 17.1479 - mse: 415.3316\n",
            "Epoch 22/100\n",
            "2/2 [==============================] - 0s 9ms/step - loss: 15.3861 - mse: 325.6033\n",
            "Epoch 23/100\n",
            "2/2 [==============================] - 0s 9ms/step - loss: 9.2460 - mse: 118.5405\n",
            "Epoch 24/100\n",
            "2/2 [==============================] - 0s 9ms/step - loss: 17.3138 - mse: 411.4719\n",
            "Epoch 25/100\n",
            "2/2 [==============================] - 0s 10ms/step - loss: 15.9723 - mse: 335.6023\n",
            "Epoch 26/100\n",
            "2/2 [==============================] - 0s 10ms/step - loss: 21.0123 - mse: 653.2776\n",
            "Epoch 27/100\n",
            "2/2 [==============================] - 0s 9ms/step - loss: 25.7805 - mse: 1035.2258\n",
            "Epoch 28/100\n",
            "2/2 [==============================] - 0s 10ms/step - loss: 18.3022 - mse: 529.8393\n",
            "Epoch 29/100\n",
            "2/2 [==============================] - 0s 9ms/step - loss: 9.2351 - mse: 98.4509\n",
            "Epoch 30/100\n",
            "2/2 [==============================] - 0s 8ms/step - loss: 28.9084 - mse: 1488.0656\n",
            "Epoch 31/100\n",
            "2/2 [==============================] - 0s 10ms/step - loss: 52.3384 - mse: 4895.0850\n",
            "Epoch 32/100\n",
            "2/2 [==============================] - 0s 10ms/step - loss: 11.8532 - mse: 202.3357\n",
            "Epoch 33/100\n",
            "2/2 [==============================] - 0s 11ms/step - loss: 15.4005 - mse: 326.4450\n",
            "Epoch 34/100\n",
            "2/2 [==============================] - 0s 11ms/step - loss: 12.5272 - mse: 205.4536\n",
            "Epoch 35/100\n",
            "2/2 [==============================] - 0s 10ms/step - loss: 9.1635 - mse: 90.6564\n",
            "Epoch 36/100\n",
            "2/2 [==============================] - 0s 16ms/step - loss: 16.3604 - mse: 388.5617\n",
            "Epoch 37/100\n",
            "2/2 [==============================] - 0s 10ms/step - loss: 11.1137 - mse: 192.0903\n",
            "Epoch 38/100\n",
            "2/2 [==============================] - 0s 8ms/step - loss: 18.2464 - mse: 439.4304\n",
            "Epoch 39/100\n",
            "2/2 [==============================] - 0s 8ms/step - loss: 19.1744 - mse: 536.6573\n",
            "Epoch 40/100\n",
            "2/2 [==============================] - 0s 8ms/step - loss: 20.5665 - mse: 617.6874\n",
            "Epoch 41/100\n",
            "2/2 [==============================] - 0s 10ms/step - loss: 14.7350 - mse: 270.7827\n",
            "Epoch 42/100\n",
            "2/2 [==============================] - 0s 9ms/step - loss: 12.1482 - mse: 179.2184\n",
            "Epoch 43/100\n",
            "2/2 [==============================] - 0s 9ms/step - loss: 10.6695 - mse: 160.5367\n",
            "Epoch 44/100\n",
            "2/2 [==============================] - 0s 8ms/step - loss: 32.1038 - mse: 1693.3666\n",
            "Epoch 45/100\n",
            "2/2 [==============================] - 0s 7ms/step - loss: 12.4184 - mse: 198.8337\n",
            "Epoch 46/100\n",
            "2/2 [==============================] - 0s 8ms/step - loss: 17.3886 - mse: 452.8189\n",
            "Epoch 47/100\n",
            "2/2 [==============================] - 0s 9ms/step - loss: 15.8000 - mse: 340.9675\n",
            "Epoch 48/100\n",
            "2/2 [==============================] - 0s 8ms/step - loss: 8.3998 - mse: 112.8507\n",
            "Epoch 49/100\n",
            "2/2 [==============================] - 0s 7ms/step - loss: 14.2548 - mse: 284.3155\n",
            "Epoch 50/100\n",
            "2/2 [==============================] - 0s 8ms/step - loss: 15.1866 - mse: 309.7078\n",
            "Epoch 51/100\n",
            "2/2 [==============================] - 0s 8ms/step - loss: 13.6969 - mse: 257.1476\n",
            "Epoch 52/100\n",
            "2/2 [==============================] - 0s 9ms/step - loss: 18.1103 - mse: 463.0528\n",
            "Epoch 53/100\n",
            "2/2 [==============================] - 0s 9ms/step - loss: 22.7796 - mse: 749.6848\n",
            "Epoch 54/100\n",
            "2/2 [==============================] - 0s 7ms/step - loss: 26.7798 - mse: 1103.9457\n",
            "Epoch 55/100\n",
            "2/2 [==============================] - 0s 7ms/step - loss: 26.4103 - mse: 1060.3004\n",
            "Epoch 56/100\n",
            "2/2 [==============================] - 0s 7ms/step - loss: 11.3466 - mse: 171.8128\n",
            "Epoch 57/100\n",
            "2/2 [==============================] - 0s 8ms/step - loss: 13.3673 - mse: 225.6490\n",
            "Epoch 58/100\n",
            "2/2 [==============================] - 0s 7ms/step - loss: 9.9516 - mse: 109.5861\n",
            "Epoch 59/100\n",
            "2/2 [==============================] - 0s 8ms/step - loss: 13.9232 - mse: 276.0779\n",
            "Epoch 60/100\n",
            "2/2 [==============================] - 0s 10ms/step - loss: 9.9938 - mse: 118.8135\n",
            "Epoch 61/100\n",
            "2/2 [==============================] - 0s 7ms/step - loss: 14.9792 - mse: 308.5165\n",
            "Epoch 62/100\n",
            "2/2 [==============================] - 0s 7ms/step - loss: 11.9299 - mse: 196.8722\n",
            "Epoch 63/100\n",
            "2/2 [==============================] - 0s 8ms/step - loss: 10.2891 - mse: 135.1235\n",
            "Epoch 64/100\n",
            "2/2 [==============================] - 0s 11ms/step - loss: 23.8999 - mse: 839.5385\n",
            "Epoch 65/100\n",
            "2/2 [==============================] - 0s 8ms/step - loss: 10.4656 - mse: 130.3300\n",
            "Epoch 66/100\n",
            "2/2 [==============================] - 0s 8ms/step - loss: 20.9439 - mse: 645.2158\n",
            "Epoch 67/100\n",
            "2/2 [==============================] - 0s 10ms/step - loss: 10.4443 - mse: 126.3963\n",
            "Epoch 68/100\n",
            "2/2 [==============================] - 0s 8ms/step - loss: 14.1838 - mse: 302.9098\n",
            "Epoch 69/100\n",
            "2/2 [==============================] - 0s 7ms/step - loss: 10.5161 - mse: 126.0789\n",
            "Epoch 70/100\n",
            "2/2 [==============================] - 0s 7ms/step - loss: 12.5876 - mse: 201.0087\n",
            "Epoch 71/100\n",
            "2/2 [==============================] - 0s 8ms/step - loss: 13.0174 - mse: 226.2085\n",
            "Epoch 72/100\n",
            "2/2 [==============================] - 0s 7ms/step - loss: 19.3693 - mse: 532.3566\n",
            "Epoch 73/100\n",
            "2/2 [==============================] - 0s 7ms/step - loss: 11.1300 - mse: 193.1830\n",
            "Epoch 74/100\n",
            "2/2 [==============================] - 0s 7ms/step - loss: 21.6073 - mse: 725.9631\n",
            "Epoch 75/100\n",
            "2/2 [==============================] - 0s 8ms/step - loss: 7.2268 - mse: 71.5777\n",
            "Epoch 76/100\n",
            "2/2 [==============================] - 0s 8ms/step - loss: 9.4569 - mse: 149.0396\n",
            "Epoch 77/100\n",
            "2/2 [==============================] - 0s 8ms/step - loss: 22.1711 - mse: 733.6761\n",
            "Epoch 78/100\n",
            "2/2 [==============================] - 0s 8ms/step - loss: 17.4638 - mse: 463.6594\n",
            "Epoch 79/100\n",
            "2/2 [==============================] - 0s 9ms/step - loss: 14.7048 - mse: 316.3585\n",
            "Epoch 80/100\n",
            "2/2 [==============================] - 0s 8ms/step - loss: 24.7147 - mse: 934.4787\n",
            "Epoch 81/100\n",
            "2/2 [==============================] - 0s 8ms/step - loss: 11.5526 - mse: 165.1938\n",
            "Epoch 82/100\n",
            "2/2 [==============================] - 0s 8ms/step - loss: 12.3942 - mse: 226.0671\n",
            "Epoch 83/100\n",
            "2/2 [==============================] - 0s 7ms/step - loss: 17.0466 - mse: 377.9055\n",
            "Epoch 84/100\n",
            "2/2 [==============================] - 0s 7ms/step - loss: 7.2500 - mse: 75.4567\n",
            "Epoch 85/100\n",
            "2/2 [==============================] - 0s 9ms/step - loss: 37.3810 - mse: 2249.9575\n",
            "Epoch 86/100\n",
            "2/2 [==============================] - 0s 8ms/step - loss: 21.3443 - mse: 654.3516\n",
            "Epoch 87/100\n",
            "2/2 [==============================] - 0s 9ms/step - loss: 11.0697 - mse: 148.6571\n",
            "Epoch 88/100\n",
            "2/2 [==============================] - 0s 8ms/step - loss: 25.2162 - mse: 905.1163\n",
            "Epoch 89/100\n",
            "2/2 [==============================] - 0s 13ms/step - loss: 9.3957 - mse: 136.2428\n",
            "Epoch 90/100\n",
            "2/2 [==============================] - 0s 8ms/step - loss: 17.4733 - mse: 438.1533\n",
            "Epoch 91/100\n",
            "2/2 [==============================] - 0s 8ms/step - loss: 10.8434 - mse: 160.6564\n",
            "Epoch 92/100\n",
            "2/2 [==============================] - 0s 8ms/step - loss: 19.1596 - mse: 506.1633\n",
            "Epoch 93/100\n",
            "2/2 [==============================] - 0s 8ms/step - loss: 8.3520 - mse: 102.3219\n",
            "Epoch 94/100\n",
            "2/2 [==============================] - 0s 8ms/step - loss: 11.5964 - mse: 180.3861\n",
            "Epoch 95/100\n",
            "2/2 [==============================] - 0s 11ms/step - loss: 26.1987 - mse: 1042.2708\n",
            "Epoch 96/100\n",
            "2/2 [==============================] - 0s 12ms/step - loss: 11.2246 - mse: 170.0458\n",
            "Epoch 97/100\n",
            "2/2 [==============================] - 0s 10ms/step - loss: 16.8435 - mse: 433.0904\n",
            "Epoch 98/100\n",
            "2/2 [==============================] - 0s 9ms/step - loss: 6.6028 - mse: 60.8493\n",
            "Epoch 99/100\n",
            "2/2 [==============================] - 0s 8ms/step - loss: 12.6005 - mse: 229.6653\n",
            "Epoch 100/100\n",
            "2/2 [==============================] - 0s 7ms/step - loss: 19.4027 - mse: 552.7814\n"
          ]
        },
        {
          "output_type": "execute_result",
          "data": {
            "text/plain": [
              "<keras.callbacks.History at 0x7fe2e05a3070>"
            ]
          },
          "metadata": {},
          "execution_count": 61
        }
      ]
    },
    {
      "cell_type": "code",
      "source": [
        "y_p_2 = model_2.predict(X_test)\n",
        "y_p_2"
      ],
      "metadata": {
        "colab": {
          "base_uri": "https://localhost:8080/"
        },
        "id": "CRVdzd7lGxcx",
        "outputId": "f50ac981-fe5c-4339-bbea-e605607bdf42"
      },
      "execution_count": null,
      "outputs": [
        {
          "output_type": "stream",
          "name": "stdout",
          "text": [
            "1/1 [==============================] - 0s 65ms/step\n"
          ]
        },
        {
          "output_type": "execute_result",
          "data": {
            "text/plain": [
              "array([[ 78.30061 ],\n",
              "       [ 83.40437 ],\n",
              "       [ 88.508125],\n",
              "       [ 93.61188 ],\n",
              "       [ 98.71562 ],\n",
              "       [103.819374],\n",
              "       [108.923134],\n",
              "       [114.02689 ],\n",
              "       [119.130646],\n",
              "       [124.234406]], dtype=float32)"
            ]
          },
          "metadata": {},
          "execution_count": 62
        }
      ]
    },
    {
      "cell_type": "code",
      "source": [
        "plot_predict(X_test, y_test, y_p_2)"
      ],
      "metadata": {
        "colab": {
          "base_uri": "https://localhost:8080/",
          "height": 428
        },
        "id": "RLZ6o45VG5cA",
        "outputId": "c8a15d21-36ac-4fc6-ea34-cb524b2f883e"
      },
      "execution_count": null,
      "outputs": [
        {
          "output_type": "display_data",
          "data": {
            "text/plain": [
              "<Figure size 720x504 with 1 Axes>"
            ],
            "image/png": "[encoded data removed]"
          },
          "metadata": {
            "needs_background": "light"
          }
        }
      ]
    },
    {
      "cell_type": "code",
      "source": [
        "mae_2 = calculate_mae(y_test, y_p_2)\n",
        "mse_2 = calculate_mse(y_test, y_p_2)"
      ],
      "metadata": {
        "colab": {
          "base_uri": "https://localhost:8080/"
        },
        "id": "YGEIrpxPHCAO",
        "outputId": "a6b4c35e-3d54-402d-93e1-a8c2bb5804d6"
      },
      "execution_count": null,
      "outputs": [
        {
          "output_type": "stream",
          "name": "stdout",
          "text": [
            "This is the mean absolute error of the model: 13.26750659942627\n",
            "This is the mean square error of the model: 186.07748413085938\n"
          ]
        }
      ]
    },
    {
      "cell_type": "markdown",
      "source": [
        "**Build `model_3`**"
      ],
      "metadata": {
        "id": "xXq8mjdLHjjv"
      }
    },
    {
      "cell_type": "code",
      "source": [
        "tf.random.set_seed(42)\n",
        "\n",
        "model_3 = tf.keras.Sequential([\n",
        "    tf.keras.layers.Dense(10),\n",
        "    tf.keras.layers.Dense(1)\n",
        "])\n",
        "\n",
        "model_3.compile(loss=tf.keras.losses.mae,\n",
        "                optimizer=tf.keras.optimizers.SGD(),\n",
        "                metrics=[\"mae\"])\n",
        "\n",
        "model_3.fit(tf.expand_dims(X_train, axis=-1), y_train, epochs=500)"
      ],
      "metadata": {
        "colab": {
          "base_uri": "https://localhost:8080/"
        },
        "id": "9jFhtUw3HqmJ",
        "outputId": "1a3ef064-7478-49a0-8075-14e9eaf76990"
      },
      "execution_count": null,
      "outputs": [
        {
          "output_type": "stream",
          "name": "stdout",
          "text": [
            "Epoch 1/500\n",
            "2/2 [==============================] - 1s 13ms/step - loss: 72.1567 - mae: 72.1567\n",
            "Epoch 2/500\n",
            "2/2 [==============================] - 0s 9ms/step - loss: 25.6869 - mae: 25.6869\n",
            "Epoch 3/500\n",
            "2/2 [==============================] - 0s 10ms/step - loss: 18.6673 - mae: 18.6673\n",
            "Epoch 4/500\n",
            "2/2 [==============================] - 0s 8ms/step - loss: 13.6176 - mae: 13.6176\n",
            "Epoch 5/500\n",
            "2/2 [==============================] - 0s 16ms/step - loss: 15.0850 - mae: 15.0850\n",
            "Epoch 6/500\n",
            "2/2 [==============================] - 0s 9ms/step - loss: 11.9975 - mae: 11.9975\n",
            "Epoch 7/500\n",
            "2/2 [==============================] - 0s 12ms/step - loss: 11.3210 - mae: 11.3210\n",
            "Epoch 8/500\n",
            "2/2 [==============================] - 0s 8ms/step - loss: 11.1664 - mae: 11.1664\n",
            "Epoch 9/500\n",
            "2/2 [==============================] - 0s 8ms/step - loss: 41.1477 - mae: 41.1477\n",
            "Epoch 10/500\n",
            "2/2 [==============================] - 0s 7ms/step - loss: 28.4524 - mae: 28.4524\n",
            "Epoch 11/500\n",
            "2/2 [==============================] - 0s 8ms/step - loss: 9.4020 - mae: 9.4020\n",
            "Epoch 12/500\n",
            "2/2 [==============================] - 0s 7ms/step - loss: 26.3440 - mae: 26.3440\n",
            "Epoch 13/500\n",
            "2/2 [==============================] - 0s 8ms/step - loss: 14.4255 - mae: 14.4255\n",
            "Epoch 14/500\n",
            "2/2 [==============================] - 0s 8ms/step - loss: 29.7563 - mae: 29.7563\n",
            "Epoch 15/500\n",
            "2/2 [==============================] - 0s 7ms/step - loss: 19.6409 - mae: 19.6409\n",
            "Epoch 16/500\n",
            "2/2 [==============================] - 0s 7ms/step - loss: 9.8278 - mae: 9.8278\n",
            "Epoch 17/500\n",
            "2/2 [==============================] - 0s 8ms/step - loss: 17.5988 - mae: 17.5988\n",
            "Epoch 18/500\n",
            "2/2 [==============================] - 0s 8ms/step - loss: 14.0650 - mae: 14.0650\n",
            "Epoch 19/500\n",
            "2/2 [==============================] - 0s 8ms/step - loss: 13.9030 - mae: 13.9030\n",
            "Epoch 20/500\n",
            "2/2 [==============================] - 0s 8ms/step - loss: 11.1922 - mae: 11.1922\n",
            "Epoch 21/500\n",
            "2/2 [==============================] - 0s 9ms/step - loss: 17.2117 - mae: 17.2117\n",
            "Epoch 22/500\n",
            "2/2 [==============================] - 0s 9ms/step - loss: 15.4499 - mae: 15.4499\n",
            "Epoch 23/500\n",
            "2/2 [==============================] - 0s 9ms/step - loss: 9.2580 - mae: 9.2580\n",
            "Epoch 24/500\n",
            "2/2 [==============================] - 0s 7ms/step - loss: 17.3033 - mae: 17.3033\n",
            "Epoch 25/500\n",
            "2/2 [==============================] - 0s 8ms/step - loss: 15.9707 - mae: 15.9707\n",
            "Epoch 26/500\n",
            "2/2 [==============================] - 0s 8ms/step - loss: 20.9952 - mae: 20.9952\n",
            "Epoch 27/500\n",
            "2/2 [==============================] - 0s 8ms/step - loss: 25.8231 - mae: 25.8231\n",
            "Epoch 28/500\n",
            "2/2 [==============================] - 0s 9ms/step - loss: 18.3407 - mae: 18.3407\n",
            "Epoch 29/500\n",
            "2/2 [==============================] - 0s 10ms/step - loss: 9.2519 - mae: 9.2519\n",
            "Epoch 30/500\n",
            "2/2 [==============================] - 0s 8ms/step - loss: 28.9368 - mae: 28.9368\n",
            "Epoch 31/500\n",
            "2/2 [==============================] - 0s 9ms/step - loss: 52.3951 - mae: 52.3951\n",
            "Epoch 32/500\n",
            "2/2 [==============================] - 0s 8ms/step - loss: 11.8804 - mae: 11.8804\n",
            "Epoch 33/500\n",
            "2/2 [==============================] - 0s 7ms/step - loss: 15.4266 - mae: 15.4266\n",
            "Epoch 34/500\n",
            "2/2 [==============================] - 0s 6ms/step - loss: 12.5532 - mae: 12.5532\n",
            "Epoch 35/500\n",
            "2/2 [==============================] - 0s 8ms/step - loss: 9.1826 - mae: 9.1826\n",
            "Epoch 36/500\n",
            "2/2 [==============================] - 0s 8ms/step - loss: 16.3772 - mae: 16.3772\n",
            "Epoch 37/500\n",
            "2/2 [==============================] - 0s 8ms/step - loss: 11.1221 - mae: 11.1221\n",
            "Epoch 38/500\n",
            "2/2 [==============================] - 0s 9ms/step - loss: 18.2541 - mae: 18.2541\n",
            "Epoch 39/500\n",
            "2/2 [==============================] - 0s 9ms/step - loss: 19.1832 - mae: 19.1832\n",
            "Epoch 40/500\n",
            "2/2 [==============================] - 0s 7ms/step - loss: 20.5786 - mae: 20.5786\n",
            "Epoch 41/500\n",
            "2/2 [==============================] - 0s 8ms/step - loss: 14.7420 - mae: 14.7420\n",
            "Epoch 42/500\n",
            "2/2 [==============================] - 0s 13ms/step - loss: 12.1544 - mae: 12.1544\n",
            "Epoch 43/500\n",
            "2/2 [==============================] - 0s 9ms/step - loss: 10.6813 - mae: 10.6813\n",
            "Epoch 44/500\n",
            "2/2 [==============================] - 0s 8ms/step - loss: 32.0449 - mae: 32.0449\n",
            "Epoch 45/500\n",
            "2/2 [==============================] - 0s 9ms/step - loss: 12.4195 - mae: 12.4195\n",
            "Epoch 46/500\n",
            "2/2 [==============================] - 0s 8ms/step - loss: 17.3418 - mae: 17.3418\n",
            "Epoch 47/500\n",
            "2/2 [==============================] - 0s 9ms/step - loss: 15.8276 - mae: 15.8276\n",
            "Epoch 48/500\n",
            "2/2 [==============================] - 0s 7ms/step - loss: 8.8044 - mae: 8.8044\n",
            "Epoch 49/500\n",
            "2/2 [==============================] - 0s 8ms/step - loss: 13.0185 - mae: 13.0185\n",
            "Epoch 50/500\n",
            "2/2 [==============================] - 0s 8ms/step - loss: 12.6098 - mae: 12.6098\n",
            "Epoch 51/500\n",
            "2/2 [==============================] - 0s 11ms/step - loss: 14.6773 - mae: 14.6773\n",
            "Epoch 52/500\n",
            "2/2 [==============================] - 0s 9ms/step - loss: 18.5975 - mae: 18.5975\n",
            "Epoch 53/500\n",
            "2/2 [==============================] - 0s 13ms/step - loss: 23.8770 - mae: 23.8770\n",
            "Epoch 54/500\n",
            "2/2 [==============================] - 0s 12ms/step - loss: 24.1023 - mae: 24.1023\n",
            "Epoch 55/500\n",
            "2/2 [==============================] - 0s 10ms/step - loss: 23.3408 - mae: 23.3408\n",
            "Epoch 56/500\n",
            "2/2 [==============================] - 0s 8ms/step - loss: 10.9501 - mae: 10.9501\n",
            "Epoch 57/500\n",
            "2/2 [==============================] - 0s 19ms/step - loss: 12.8228 - mae: 12.8228\n",
            "Epoch 58/500\n",
            "2/2 [==============================] - 0s 9ms/step - loss: 9.6493 - mae: 9.6493\n",
            "Epoch 59/500\n",
            "2/2 [==============================] - 0s 8ms/step - loss: 12.5811 - mae: 12.5811\n",
            "Epoch 60/500\n",
            "2/2 [==============================] - 0s 9ms/step - loss: 12.3793 - mae: 12.3793\n",
            "Epoch 61/500\n",
            "2/2 [==============================] - 0s 7ms/step - loss: 13.2744 - mae: 13.2744\n",
            "Epoch 62/500\n",
            "2/2 [==============================] - 0s 8ms/step - loss: 17.1020 - mae: 17.1020\n",
            "Epoch 63/500\n",
            "2/2 [==============================] - 0s 9ms/step - loss: 9.0805 - mae: 9.0805\n",
            "Epoch 64/500\n",
            "2/2 [==============================] - 0s 8ms/step - loss: 17.7405 - mae: 17.7405\n",
            "Epoch 65/500\n",
            "2/2 [==============================] - 0s 11ms/step - loss: 10.5527 - mae: 10.5527\n",
            "Epoch 66/500\n",
            "2/2 [==============================] - 0s 10ms/step - loss: 21.2114 - mae: 21.2114\n",
            "Epoch 67/500\n",
            "2/2 [==============================] - 0s 13ms/step - loss: 10.5446 - mae: 10.5446\n",
            "Epoch 68/500\n",
            "2/2 [==============================] - 0s 13ms/step - loss: 14.3712 - mae: 14.3712\n",
            "Epoch 69/500\n",
            "2/2 [==============================] - 0s 11ms/step - loss: 10.6286 - mae: 10.6286\n",
            "Epoch 70/500\n",
            "2/2 [==============================] - 0s 9ms/step - loss: 12.7114 - mae: 12.7114\n",
            "Epoch 71/500\n",
            "2/2 [==============================] - 0s 10ms/step - loss: 13.1339 - mae: 13.1339\n",
            "Epoch 72/500\n",
            "2/2 [==============================] - 0s 8ms/step - loss: 19.5929 - mae: 19.5929\n",
            "Epoch 73/500\n",
            "2/2 [==============================] - 0s 8ms/step - loss: 11.2046 - mae: 11.2046\n",
            "Epoch 74/500\n",
            "2/2 [==============================] - 0s 8ms/step - loss: 21.8455 - mae: 21.8455\n",
            "Epoch 75/500\n",
            "2/2 [==============================] - 0s 8ms/step - loss: 7.2227 - mae: 7.2227\n",
            "Epoch 76/500\n",
            "2/2 [==============================] - 0s 8ms/step - loss: 9.4384 - mae: 9.4384\n",
            "Epoch 77/500\n",
            "2/2 [==============================] - 0s 8ms/step - loss: 22.0868 - mae: 22.0868\n",
            "Epoch 78/500\n",
            "2/2 [==============================] - 0s 7ms/step - loss: 17.6320 - mae: 17.6320\n",
            "Epoch 79/500\n",
            "2/2 [==============================] - 0s 9ms/step - loss: 14.8257 - mae: 14.8257\n",
            "Epoch 80/500\n",
            "2/2 [==============================] - 0s 10ms/step - loss: 25.0898 - mae: 25.0898\n",
            "Epoch 81/500\n",
            "2/2 [==============================] - 0s 8ms/step - loss: 10.9050 - mae: 10.9050\n",
            "Epoch 82/500\n",
            "2/2 [==============================] - 0s 14ms/step - loss: 12.7783 - mae: 12.7783\n",
            "Epoch 83/500\n",
            "2/2 [==============================] - 0s 8ms/step - loss: 17.5640 - mae: 17.5640\n",
            "Epoch 84/500\n",
            "2/2 [==============================] - 0s 10ms/step - loss: 7.3109 - mae: 7.3109\n",
            "Epoch 85/500\n",
            "2/2 [==============================] - 0s 8ms/step - loss: 15.0805 - mae: 15.0805\n",
            "Epoch 86/500\n",
            "2/2 [==============================] - 0s 10ms/step - loss: 15.3816 - mae: 15.3816\n",
            "Epoch 87/500\n",
            "2/2 [==============================] - 0s 9ms/step - loss: 19.2912 - mae: 19.2912\n",
            "Epoch 88/500\n",
            "2/2 [==============================] - 0s 7ms/step - loss: 29.3536 - mae: 29.3536\n",
            "Epoch 89/500\n",
            "2/2 [==============================] - 0s 8ms/step - loss: 10.1284 - mae: 10.1284\n",
            "Epoch 90/500\n",
            "2/2 [==============================] - 0s 8ms/step - loss: 21.1288 - mae: 21.1288\n",
            "Epoch 91/500\n",
            "2/2 [==============================] - 0s 7ms/step - loss: 10.4973 - mae: 10.4973\n",
            "Epoch 92/500\n",
            "2/2 [==============================] - 0s 10ms/step - loss: 18.0362 - mae: 18.0362\n",
            "Epoch 93/500\n",
            "2/2 [==============================] - 0s 8ms/step - loss: 6.5693 - mae: 6.5693\n",
            "Epoch 94/500\n",
            "2/2 [==============================] - 0s 10ms/step - loss: 11.1491 - mae: 11.1491\n",
            "Epoch 95/500\n",
            "2/2 [==============================] - 0s 12ms/step - loss: 24.4160 - mae: 24.4160\n",
            "Epoch 96/500\n",
            "2/2 [==============================] - 0s 11ms/step - loss: 10.7550 - mae: 10.7550\n",
            "Epoch 97/500\n",
            "2/2 [==============================] - 0s 10ms/step - loss: 15.3899 - mae: 15.3899\n",
            "Epoch 98/500\n",
            "2/2 [==============================] - 0s 8ms/step - loss: 8.2633 - mae: 8.2633\n",
            "Epoch 99/500\n",
            "2/2 [==============================] - 0s 13ms/step - loss: 16.5537 - mae: 16.5537\n",
            "Epoch 100/500\n",
            "2/2 [==============================] - 0s 8ms/step - loss: 14.3290 - mae: 14.3290\n",
            "Epoch 101/500\n",
            "2/2 [==============================] - 0s 10ms/step - loss: 15.3244 - mae: 15.3244\n",
            "Epoch 102/500\n",
            "2/2 [==============================] - 0s 8ms/step - loss: 10.7935 - mae: 10.7935\n",
            "Epoch 103/500\n",
            "2/2 [==============================] - 0s 8ms/step - loss: 9.1942 - mae: 9.1942\n",
            "Epoch 104/500\n",
            "2/2 [==============================] - 0s 8ms/step - loss: 23.8610 - mae: 23.8610\n",
            "Epoch 105/500\n",
            "2/2 [==============================] - 0s 8ms/step - loss: 10.8672 - mae: 10.8672\n",
            "Epoch 106/500\n",
            "2/2 [==============================] - 0s 8ms/step - loss: 11.3181 - mae: 11.3181\n",
            "Epoch 107/500\n",
            "2/2 [==============================] - 0s 9ms/step - loss: 21.4073 - mae: 21.4073\n",
            "Epoch 108/500\n",
            "2/2 [==============================] - 0s 7ms/step - loss: 6.6095 - mae: 6.6095\n",
            "Epoch 109/500\n",
            "2/2 [==============================] - 0s 9ms/step - loss: 13.2873 - mae: 13.2873\n",
            "Epoch 110/500\n",
            "2/2 [==============================] - 0s 9ms/step - loss: 8.0127 - mae: 8.0127\n",
            "Epoch 111/500\n",
            "2/2 [==============================] - 0s 8ms/step - loss: 15.8094 - mae: 15.8094\n",
            "Epoch 112/500\n",
            "2/2 [==============================] - 0s 8ms/step - loss: 8.7500 - mae: 8.7500\n",
            "Epoch 113/500\n",
            "2/2 [==============================] - 0s 9ms/step - loss: 22.5616 - mae: 22.5616\n",
            "Epoch 114/500\n",
            "2/2 [==============================] - 0s 8ms/step - loss: 18.9284 - mae: 18.9284\n",
            "Epoch 115/500\n",
            "2/2 [==============================] - 0s 8ms/step - loss: 11.0777 - mae: 11.0777\n",
            "Epoch 116/500\n",
            "2/2 [==============================] - 0s 8ms/step - loss: 22.9951 - mae: 22.9951\n",
            "Epoch 117/500\n",
            "2/2 [==============================] - 0s 9ms/step - loss: 9.5488 - mae: 9.5488\n",
            "Epoch 118/500\n",
            "2/2 [==============================] - 0s 8ms/step - loss: 10.6000 - mae: 10.6000\n",
            "Epoch 119/500\n",
            "2/2 [==============================] - 0s 9ms/step - loss: 8.0558 - mae: 8.0558\n",
            "Epoch 120/500\n",
            "2/2 [==============================] - 0s 9ms/step - loss: 29.2218 - mae: 29.2218\n",
            "Epoch 121/500\n",
            "2/2 [==============================] - 0s 8ms/step - loss: 8.0922 - mae: 8.0922\n",
            "Epoch 122/500\n",
            "2/2 [==============================] - 0s 11ms/step - loss: 27.9103 - mae: 27.9103\n",
            "Epoch 123/500\n",
            "2/2 [==============================] - 0s 9ms/step - loss: 32.4061 - mae: 32.4061\n",
            "Epoch 124/500\n",
            "2/2 [==============================] - 0s 9ms/step - loss: 19.2664 - mae: 19.2664\n",
            "Epoch 125/500\n",
            "2/2 [==============================] - 0s 8ms/step - loss: 9.5090 - mae: 9.5090\n",
            "Epoch 126/500\n",
            "2/2 [==============================] - 0s 8ms/step - loss: 9.5843 - mae: 9.5843\n",
            "Epoch 127/500\n",
            "2/2 [==============================] - 0s 8ms/step - loss: 12.3007 - mae: 12.3007\n",
            "Epoch 128/500\n",
            "2/2 [==============================] - 0s 8ms/step - loss: 15.3155 - mae: 15.3155\n",
            "Epoch 129/500\n",
            "2/2 [==============================] - 0s 9ms/step - loss: 9.6600 - mae: 9.6600\n",
            "Epoch 130/500\n",
            "2/2 [==============================] - 0s 8ms/step - loss: 20.7183 - mae: 20.7183\n",
            "Epoch 131/500\n",
            "2/2 [==============================] - 0s 9ms/step - loss: 9.3588 - mae: 9.3588\n",
            "Epoch 132/500\n",
            "2/2 [==============================] - 0s 9ms/step - loss: 16.7657 - mae: 16.7657\n",
            "Epoch 133/500\n",
            "2/2 [==============================] - 0s 8ms/step - loss: 7.7217 - mae: 7.7217\n",
            "Epoch 134/500\n",
            "2/2 [==============================] - 0s 9ms/step - loss: 19.1311 - mae: 19.1311\n",
            "Epoch 135/500\n",
            "2/2 [==============================] - 0s 8ms/step - loss: 10.7653 - mae: 10.7653\n",
            "Epoch 136/500\n",
            "2/2 [==============================] - 0s 7ms/step - loss: 18.7101 - mae: 18.7101\n",
            "Epoch 137/500\n",
            "2/2 [==============================] - 0s 9ms/step - loss: 23.7707 - mae: 23.7707\n",
            "Epoch 138/500\n",
            "2/2 [==============================] - 0s 9ms/step - loss: 9.4021 - mae: 9.4021\n",
            "Epoch 139/500\n",
            "2/2 [==============================] - 0s 9ms/step - loss: 9.0940 - mae: 9.0940\n",
            "Epoch 140/500\n",
            "2/2 [==============================] - 0s 9ms/step - loss: 17.1437 - mae: 17.1437\n",
            "Epoch 141/500\n",
            "2/2 [==============================] - 0s 9ms/step - loss: 8.3583 - mae: 8.3583\n",
            "Epoch 142/500\n",
            "2/2 [==============================] - 0s 9ms/step - loss: 34.2807 - mae: 34.2807\n",
            "Epoch 143/500\n",
            "2/2 [==============================] - 0s 10ms/step - loss: 23.3103 - mae: 23.3103\n",
            "Epoch 144/500\n",
            "2/2 [==============================] - 0s 10ms/step - loss: 10.4875 - mae: 10.4875\n",
            "Epoch 145/500\n",
            "2/2 [==============================] - 0s 8ms/step - loss: 25.8499 - mae: 25.8499\n",
            "Epoch 146/500\n",
            "2/2 [==============================] - 0s 9ms/step - loss: 9.9360 - mae: 9.9360\n",
            "Epoch 147/500\n",
            "2/2 [==============================] - 0s 8ms/step - loss: 14.7426 - mae: 14.7426\n",
            "Epoch 148/500\n",
            "2/2 [==============================] - 0s 9ms/step - loss: 17.8591 - mae: 17.8591\n",
            "Epoch 149/500\n",
            "2/2 [==============================] - 0s 12ms/step - loss: 8.4441 - mae: 8.4441\n",
            "Epoch 150/500\n",
            "2/2 [==============================] - 0s 8ms/step - loss: 7.6197 - mae: 7.6197\n",
            "Epoch 151/500\n",
            "2/2 [==============================] - 0s 9ms/step - loss: 18.8151 - mae: 18.8151\n",
            "Epoch 152/500\n",
            "2/2 [==============================] - 0s 8ms/step - loss: 10.4595 - mae: 10.4595\n",
            "Epoch 153/500\n",
            "2/2 [==============================] - 0s 10ms/step - loss: 30.3274 - mae: 30.3274\n",
            "Epoch 154/500\n",
            "2/2 [==============================] - 0s 8ms/step - loss: 10.0008 - mae: 10.0008\n",
            "Epoch 155/500\n",
            "2/2 [==============================] - 0s 9ms/step - loss: 15.7512 - mae: 15.7512\n",
            "Epoch 156/500\n",
            "2/2 [==============================] - 0s 9ms/step - loss: 17.6758 - mae: 17.6758\n",
            "Epoch 157/500\n",
            "2/2 [==============================] - 0s 8ms/step - loss: 31.0979 - mae: 31.0979\n",
            "Epoch 158/500\n",
            "2/2 [==============================] - 0s 8ms/step - loss: 10.2129 - mae: 10.2129\n",
            "Epoch 159/500\n",
            "2/2 [==============================] - 0s 8ms/step - loss: 8.6911 - mae: 8.6911\n",
            "Epoch 160/500\n",
            "2/2 [==============================] - 0s 8ms/step - loss: 20.7364 - mae: 20.7364\n",
            "Epoch 161/500\n",
            "2/2 [==============================] - 0s 9ms/step - loss: 11.8124 - mae: 11.8124\n",
            "Epoch 162/500\n",
            "2/2 [==============================] - 0s 9ms/step - loss: 21.7180 - mae: 21.7180\n",
            "Epoch 163/500\n",
            "2/2 [==============================] - 0s 9ms/step - loss: 19.3916 - mae: 19.3916\n",
            "Epoch 164/500\n",
            "2/2 [==============================] - 0s 8ms/step - loss: 11.1339 - mae: 11.1339\n",
            "Epoch 165/500\n",
            "2/2 [==============================] - 0s 8ms/step - loss: 9.6181 - mae: 9.6181\n",
            "Epoch 166/500\n",
            "2/2 [==============================] - 0s 8ms/step - loss: 21.5459 - mae: 21.5459\n",
            "Epoch 167/500\n",
            "2/2 [==============================] - 0s 9ms/step - loss: 26.4135 - mae: 26.4135\n",
            "Epoch 168/500\n",
            "2/2 [==============================] - 0s 9ms/step - loss: 9.9219 - mae: 9.9219\n",
            "Epoch 169/500\n",
            "2/2 [==============================] - 0s 10ms/step - loss: 22.6560 - mae: 22.6560\n",
            "Epoch 170/500\n",
            "2/2 [==============================] - 0s 7ms/step - loss: 10.1584 - mae: 10.1584\n",
            "Epoch 171/500\n",
            "2/2 [==============================] - 0s 7ms/step - loss: 18.0202 - mae: 18.0202\n",
            "Epoch 172/500\n",
            "2/2 [==============================] - 0s 7ms/step - loss: 28.9065 - mae: 28.9065\n",
            "Epoch 173/500\n",
            "2/2 [==============================] - 0s 8ms/step - loss: 16.5965 - mae: 16.5965\n",
            "Epoch 174/500\n",
            "2/2 [==============================] - 0s 9ms/step - loss: 11.2265 - mae: 11.2265\n",
            "Epoch 175/500\n",
            "2/2 [==============================] - 0s 9ms/step - loss: 27.5711 - mae: 27.5711\n",
            "Epoch 176/500\n",
            "2/2 [==============================] - 0s 7ms/step - loss: 8.3249 - mae: 8.3249\n",
            "Epoch 177/500\n",
            "2/2 [==============================] - 0s 9ms/step - loss: 9.3123 - mae: 9.3123\n",
            "Epoch 178/500\n",
            "2/2 [==============================] - 0s 9ms/step - loss: 18.1737 - mae: 18.1737\n",
            "Epoch 179/500\n",
            "2/2 [==============================] - 0s 9ms/step - loss: 10.5998 - mae: 10.5998\n",
            "Epoch 180/500\n",
            "2/2 [==============================] - 0s 9ms/step - loss: 7.9430 - mae: 7.9430\n",
            "Epoch 181/500\n",
            "2/2 [==============================] - 0s 9ms/step - loss: 17.4041 - mae: 17.4041\n",
            "Epoch 182/500\n",
            "2/2 [==============================] - 0s 10ms/step - loss: 11.0490 - mae: 11.0490\n",
            "Epoch 183/500\n",
            "2/2 [==============================] - 0s 8ms/step - loss: 11.7100 - mae: 11.7100\n",
            "Epoch 184/500\n",
            "2/2 [==============================] - 0s 9ms/step - loss: 30.3566 - mae: 30.3566\n",
            "Epoch 185/500\n",
            "2/2 [==============================] - 0s 8ms/step - loss: 8.2032 - mae: 8.2032\n",
            "Epoch 186/500\n",
            "2/2 [==============================] - 0s 11ms/step - loss: 18.6750 - mae: 18.6750\n",
            "Epoch 187/500\n",
            "2/2 [==============================] - 0s 11ms/step - loss: 8.7927 - mae: 8.7927\n",
            "Epoch 188/500\n",
            "2/2 [==============================] - 0s 8ms/step - loss: 23.6608 - mae: 23.6608\n",
            "Epoch 189/500\n",
            "2/2 [==============================] - 0s 10ms/step - loss: 9.4368 - mae: 9.4368\n",
            "Epoch 190/500\n",
            "2/2 [==============================] - 0s 9ms/step - loss: 17.1891 - mae: 17.1891\n",
            "Epoch 191/500\n",
            "2/2 [==============================] - 0s 9ms/step - loss: 8.5775 - mae: 8.5775\n",
            "Epoch 192/500\n",
            "2/2 [==============================] - 0s 9ms/step - loss: 15.1714 - mae: 15.1714\n",
            "Epoch 193/500\n",
            "2/2 [==============================] - 0s 9ms/step - loss: 29.9990 - mae: 29.9990\n",
            "Epoch 194/500\n",
            "2/2 [==============================] - 0s 9ms/step - loss: 9.6197 - mae: 9.6197\n",
            "Epoch 195/500\n",
            "2/2 [==============================] - 0s 8ms/step - loss: 12.0089 - mae: 12.0089\n",
            "Epoch 196/500\n",
            "2/2 [==============================] - 0s 12ms/step - loss: 23.3508 - mae: 23.3508\n",
            "Epoch 197/500\n",
            "2/2 [==============================] - 0s 12ms/step - loss: 18.1481 - mae: 18.1481\n",
            "Epoch 198/500\n",
            "2/2 [==============================] - 0s 9ms/step - loss: 10.8392 - mae: 10.8392\n",
            "Epoch 199/500\n",
            "2/2 [==============================] - 0s 8ms/step - loss: 22.4254 - mae: 22.4254\n",
            "Epoch 200/500\n",
            "2/2 [==============================] - 0s 8ms/step - loss: 17.0728 - mae: 17.0728\n",
            "Epoch 201/500\n",
            "2/2 [==============================] - 0s 9ms/step - loss: 7.4104 - mae: 7.4104\n",
            "Epoch 202/500\n",
            "2/2 [==============================] - 0s 9ms/step - loss: 26.1111 - mae: 26.1111\n",
            "Epoch 203/500\n",
            "2/2 [==============================] - 0s 9ms/step - loss: 12.9170 - mae: 12.9170\n",
            "Epoch 204/500\n",
            "2/2 [==============================] - 0s 9ms/step - loss: 21.4969 - mae: 21.4969\n",
            "Epoch 205/500\n",
            "2/2 [==============================] - 0s 11ms/step - loss: 9.8029 - mae: 9.8029\n",
            "Epoch 206/500\n",
            "2/2 [==============================] - 0s 12ms/step - loss: 12.0012 - mae: 12.0012\n",
            "Epoch 207/500\n",
            "2/2 [==============================] - 0s 12ms/step - loss: 14.6915 - mae: 14.6915\n",
            "Epoch 208/500\n",
            "2/2 [==============================] - 0s 8ms/step - loss: 15.1635 - mae: 15.1635\n",
            "Epoch 209/500\n",
            "2/2 [==============================] - 0s 8ms/step - loss: 15.2512 - mae: 15.2512\n",
            "Epoch 210/500\n",
            "2/2 [==============================] - 0s 8ms/step - loss: 18.2654 - mae: 18.2654\n",
            "Epoch 211/500\n",
            "2/2 [==============================] - 0s 9ms/step - loss: 10.0165 - mae: 10.0165\n",
            "Epoch 212/500\n",
            "2/2 [==============================] - 0s 9ms/step - loss: 18.7199 - mae: 18.7199\n",
            "Epoch 213/500\n",
            "2/2 [==============================] - 0s 8ms/step - loss: 14.9698 - mae: 14.9698\n",
            "Epoch 214/500\n",
            "2/2 [==============================] - 0s 10ms/step - loss: 14.5498 - mae: 14.5498\n",
            "Epoch 215/500\n",
            "2/2 [==============================] - 0s 9ms/step - loss: 23.1982 - mae: 23.1982\n",
            "Epoch 216/500\n",
            "2/2 [==============================] - 0s 8ms/step - loss: 13.5661 - mae: 13.5661\n",
            "Epoch 217/500\n",
            "2/2 [==============================] - 0s 8ms/step - loss: 10.0688 - mae: 10.0688\n",
            "Epoch 218/500\n",
            "2/2 [==============================] - 0s 13ms/step - loss: 12.4727 - mae: 12.4727\n",
            "Epoch 219/500\n",
            "2/2 [==============================] - 0s 9ms/step - loss: 5.3615 - mae: 5.3615\n",
            "Epoch 220/500\n",
            "2/2 [==============================] - 0s 8ms/step - loss: 12.4287 - mae: 12.4287\n",
            "Epoch 221/500\n",
            "2/2 [==============================] - 0s 9ms/step - loss: 22.4047 - mae: 22.4047\n",
            "Epoch 222/500\n",
            "2/2 [==============================] - 0s 12ms/step - loss: 21.4992 - mae: 21.4992\n",
            "Epoch 223/500\n",
            "2/2 [==============================] - 0s 8ms/step - loss: 11.6642 - mae: 11.6642\n",
            "Epoch 224/500\n",
            "2/2 [==============================] - 0s 9ms/step - loss: 13.5875 - mae: 13.5875\n",
            "Epoch 225/500\n",
            "2/2 [==============================] - 0s 9ms/step - loss: 15.7282 - mae: 15.7282\n",
            "Epoch 226/500\n",
            "2/2 [==============================] - 0s 10ms/step - loss: 14.9752 - mae: 14.9752\n",
            "Epoch 227/500\n",
            "2/2 [==============================] - 0s 8ms/step - loss: 15.2999 - mae: 15.2999\n",
            "Epoch 228/500\n",
            "2/2 [==============================] - 0s 9ms/step - loss: 17.4749 - mae: 17.4749\n",
            "Epoch 229/500\n",
            "2/2 [==============================] - 0s 8ms/step - loss: 7.2413 - mae: 7.2413\n",
            "Epoch 230/500\n",
            "2/2 [==============================] - 0s 17ms/step - loss: 7.4887 - mae: 7.4887\n",
            "Epoch 231/500\n",
            "2/2 [==============================] - 0s 9ms/step - loss: 24.6857 - mae: 24.6857\n",
            "Epoch 232/500\n",
            "2/2 [==============================] - 0s 9ms/step - loss: 8.8117 - mae: 8.8117\n",
            "Epoch 233/500\n",
            "2/2 [==============================] - 0s 9ms/step - loss: 24.6267 - mae: 24.6267\n",
            "Epoch 234/500\n",
            "2/2 [==============================] - 0s 9ms/step - loss: 8.1654 - mae: 8.1654\n",
            "Epoch 235/500\n",
            "2/2 [==============================] - 0s 9ms/step - loss: 12.6725 - mae: 12.6725\n",
            "Epoch 236/500\n",
            "2/2 [==============================] - 0s 8ms/step - loss: 7.7200 - mae: 7.7200\n",
            "Epoch 237/500\n",
            "2/2 [==============================] - 0s 9ms/step - loss: 10.0100 - mae: 10.0100\n",
            "Epoch 238/500\n",
            "2/2 [==============================] - 0s 9ms/step - loss: 8.5594 - mae: 8.5594\n",
            "Epoch 239/500\n",
            "2/2 [==============================] - 0s 8ms/step - loss: 18.5695 - mae: 18.5695\n",
            "Epoch 240/500\n",
            "2/2 [==============================] - 0s 8ms/step - loss: 9.5117 - mae: 9.5117\n",
            "Epoch 241/500\n",
            "2/2 [==============================] - 0s 9ms/step - loss: 14.5996 - mae: 14.5996\n",
            "Epoch 242/500\n",
            "2/2 [==============================] - 0s 8ms/step - loss: 8.5387 - mae: 8.5387\n",
            "Epoch 243/500\n",
            "2/2 [==============================] - 0s 8ms/step - loss: 17.5946 - mae: 17.5946\n",
            "Epoch 244/500\n",
            "2/2 [==============================] - 0s 9ms/step - loss: 14.4375 - mae: 14.4375\n",
            "Epoch 245/500\n",
            "2/2 [==============================] - 0s 9ms/step - loss: 15.0187 - mae: 15.0187\n",
            "Epoch 246/500\n",
            "2/2 [==============================] - 0s 9ms/step - loss: 16.1226 - mae: 16.1226\n",
            "Epoch 247/500\n",
            "2/2 [==============================] - 0s 8ms/step - loss: 18.1006 - mae: 18.1006\n",
            "Epoch 248/500\n",
            "2/2 [==============================] - 0s 8ms/step - loss: 13.6337 - mae: 13.6337\n",
            "Epoch 249/500\n",
            "2/2 [==============================] - 0s 8ms/step - loss: 14.7582 - mae: 14.7582\n",
            "Epoch 250/500\n",
            "2/2 [==============================] - 0s 9ms/step - loss: 23.7033 - mae: 23.7033\n",
            "Epoch 251/500\n",
            "2/2 [==============================] - 0s 9ms/step - loss: 13.7213 - mae: 13.7213\n",
            "Epoch 252/500\n",
            "2/2 [==============================] - 0s 8ms/step - loss: 22.7855 - mae: 22.7855\n",
            "Epoch 253/500\n",
            "2/2 [==============================] - 0s 12ms/step - loss: 9.8909 - mae: 9.8909\n",
            "Epoch 254/500\n",
            "2/2 [==============================] - 0s 11ms/step - loss: 15.9944 - mae: 15.9944\n",
            "Epoch 255/500\n",
            "2/2 [==============================] - 0s 9ms/step - loss: 13.7096 - mae: 13.7096\n",
            "Epoch 256/500\n",
            "2/2 [==============================] - 0s 9ms/step - loss: 10.0315 - mae: 10.0315\n",
            "Epoch 257/500\n",
            "2/2 [==============================] - 0s 8ms/step - loss: 14.8130 - mae: 14.8130\n",
            "Epoch 258/500\n",
            "2/2 [==============================] - 0s 8ms/step - loss: 4.7928 - mae: 4.7928\n",
            "Epoch 259/500\n",
            "2/2 [==============================] - 0s 8ms/step - loss: 9.4993 - mae: 9.4993\n",
            "Epoch 260/500\n",
            "2/2 [==============================] - 0s 8ms/step - loss: 38.1898 - mae: 38.1898\n",
            "Epoch 261/500\n",
            "2/2 [==============================] - 0s 8ms/step - loss: 15.3908 - mae: 15.3908\n",
            "Epoch 262/500\n",
            "2/2 [==============================] - 0s 8ms/step - loss: 5.8101 - mae: 5.8101\n",
            "Epoch 263/500\n",
            "2/2 [==============================] - 0s 8ms/step - loss: 14.6521 - mae: 14.6521\n",
            "Epoch 264/500\n",
            "2/2 [==============================] - 0s 13ms/step - loss: 18.8453 - mae: 18.8453\n",
            "Epoch 265/500\n",
            "2/2 [==============================] - 0s 8ms/step - loss: 12.9485 - mae: 12.9485\n",
            "Epoch 266/500\n",
            "2/2 [==============================] - 0s 11ms/step - loss: 10.6354 - mae: 10.6354\n",
            "Epoch 267/500\n",
            "2/2 [==============================] - 0s 9ms/step - loss: 4.7333 - mae: 4.7333\n",
            "Epoch 268/500\n",
            "2/2 [==============================] - 0s 8ms/step - loss: 21.8979 - mae: 21.8979\n",
            "Epoch 269/500\n",
            "2/2 [==============================] - 0s 8ms/step - loss: 25.0450 - mae: 25.0450\n",
            "Epoch 270/500\n",
            "2/2 [==============================] - 0s 8ms/step - loss: 7.0011 - mae: 7.0011\n",
            "Epoch 271/500\n",
            "2/2 [==============================] - 0s 8ms/step - loss: 12.8894 - mae: 12.8894\n",
            "Epoch 272/500\n",
            "2/2 [==============================] - 0s 10ms/step - loss: 26.4058 - mae: 26.4058\n",
            "Epoch 273/500\n",
            "2/2 [==============================] - 0s 8ms/step - loss: 11.4400 - mae: 11.4400\n",
            "Epoch 274/500\n",
            "2/2 [==============================] - 0s 8ms/step - loss: 12.5667 - mae: 12.5667\n",
            "Epoch 275/500\n",
            "2/2 [==============================] - 0s 8ms/step - loss: 29.0699 - mae: 29.0699\n",
            "Epoch 276/500\n",
            "2/2 [==============================] - 0s 8ms/step - loss: 5.2031 - mae: 5.2031\n",
            "Epoch 277/500\n",
            "2/2 [==============================] - 0s 9ms/step - loss: 18.5774 - mae: 18.5774\n",
            "Epoch 278/500\n",
            "2/2 [==============================] - 0s 8ms/step - loss: 7.0533 - mae: 7.0533\n",
            "Epoch 279/500\n",
            "2/2 [==============================] - 0s 8ms/step - loss: 14.8520 - mae: 14.8520\n",
            "Epoch 280/500\n",
            "2/2 [==============================] - 0s 9ms/step - loss: 11.3981 - mae: 11.3981\n",
            "Epoch 281/500\n",
            "2/2 [==============================] - 0s 9ms/step - loss: 5.0983 - mae: 5.0983\n",
            "Epoch 282/500\n",
            "2/2 [==============================] - 0s 13ms/step - loss: 19.4685 - mae: 19.4685\n",
            "Epoch 283/500\n",
            "2/2 [==============================] - 0s 11ms/step - loss: 9.6162 - mae: 9.6162\n",
            "Epoch 284/500\n",
            "2/2 [==============================] - 0s 8ms/step - loss: 25.3141 - mae: 25.3141\n",
            "Epoch 285/500\n",
            "2/2 [==============================] - 0s 8ms/step - loss: 16.0054 - mae: 16.0054\n",
            "Epoch 286/500\n",
            "2/2 [==============================] - 0s 10ms/step - loss: 5.9977 - mae: 5.9977\n",
            "Epoch 287/500\n",
            "2/2 [==============================] - 0s 9ms/step - loss: 18.9746 - mae: 18.9746\n",
            "Epoch 288/500\n",
            "2/2 [==============================] - 0s 8ms/step - loss: 32.9374 - mae: 32.9374\n",
            "Epoch 289/500\n",
            "2/2 [==============================] - 0s 8ms/step - loss: 8.3630 - mae: 8.3630\n",
            "Epoch 290/500\n",
            "2/2 [==============================] - 0s 9ms/step - loss: 16.8567 - mae: 16.8567\n",
            "Epoch 291/500\n",
            "2/2 [==============================] - 0s 7ms/step - loss: 17.2213 - mae: 17.2213\n",
            "Epoch 292/500\n",
            "2/2 [==============================] - 0s 7ms/step - loss: 10.8516 - mae: 10.8516\n",
            "Epoch 293/500\n",
            "2/2 [==============================] - 0s 7ms/step - loss: 14.5512 - mae: 14.5512\n",
            "Epoch 294/500\n",
            "2/2 [==============================] - 0s 9ms/step - loss: 21.7728 - mae: 21.7728\n",
            "Epoch 295/500\n",
            "2/2 [==============================] - 0s 7ms/step - loss: 20.0430 - mae: 20.0430\n",
            "Epoch 296/500\n",
            "2/2 [==============================] - 0s 8ms/step - loss: 7.0188 - mae: 7.0188\n",
            "Epoch 297/500\n",
            "2/2 [==============================] - 0s 11ms/step - loss: 8.9925 - mae: 8.9925\n",
            "Epoch 298/500\n",
            "2/2 [==============================] - 0s 10ms/step - loss: 24.2248 - mae: 24.2248\n",
            "Epoch 299/500\n",
            "2/2 [==============================] - 0s 9ms/step - loss: 17.9522 - mae: 17.9522\n",
            "Epoch 300/500\n",
            "2/2 [==============================] - 0s 9ms/step - loss: 7.0184 - mae: 7.0184\n",
            "Epoch 301/500\n",
            "2/2 [==============================] - 0s 8ms/step - loss: 25.4459 - mae: 25.4459\n",
            "Epoch 302/500\n",
            "2/2 [==============================] - 0s 9ms/step - loss: 9.4910 - mae: 9.4910\n",
            "Epoch 303/500\n",
            "2/2 [==============================] - 0s 8ms/step - loss: 14.5006 - mae: 14.5006\n",
            "Epoch 304/500\n",
            "2/2 [==============================] - 0s 9ms/step - loss: 10.8684 - mae: 10.8684\n",
            "Epoch 305/500\n",
            "2/2 [==============================] - 0s 8ms/step - loss: 12.7341 - mae: 12.7341\n",
            "Epoch 306/500\n",
            "2/2 [==============================] - 0s 10ms/step - loss: 8.3054 - mae: 8.3054\n",
            "Epoch 307/500\n",
            "2/2 [==============================] - 0s 8ms/step - loss: 13.1749 - mae: 13.1749\n",
            "Epoch 308/500\n",
            "2/2 [==============================] - 0s 8ms/step - loss: 8.1725 - mae: 8.1725\n",
            "Epoch 309/500\n",
            "2/2 [==============================] - 0s 12ms/step - loss: 11.8353 - mae: 11.8353\n",
            "Epoch 310/500\n",
            "2/2 [==============================] - 0s 9ms/step - loss: 6.3837 - mae: 6.3837\n",
            "Epoch 311/500\n",
            "2/2 [==============================] - 0s 8ms/step - loss: 4.9903 - mae: 4.9903\n",
            "Epoch 312/500\n",
            "2/2 [==============================] - 0s 11ms/step - loss: 29.2398 - mae: 29.2398\n",
            "Epoch 313/500\n",
            "2/2 [==============================] - 0s 8ms/step - loss: 9.0227 - mae: 9.0227\n",
            "Epoch 314/500\n",
            "2/2 [==============================] - 0s 8ms/step - loss: 5.7801 - mae: 5.7801\n",
            "Epoch 315/500\n",
            "2/2 [==============================] - 0s 8ms/step - loss: 24.8930 - mae: 24.8930\n",
            "Epoch 316/500\n",
            "2/2 [==============================] - 0s 8ms/step - loss: 14.2457 - mae: 14.2457\n",
            "Epoch 317/500\n",
            "2/2 [==============================] - 0s 8ms/step - loss: 19.7155 - mae: 19.7155\n",
            "Epoch 318/500\n",
            "2/2 [==============================] - 0s 8ms/step - loss: 7.8783 - mae: 7.8783\n",
            "Epoch 319/500\n",
            "2/2 [==============================] - 0s 8ms/step - loss: 17.9038 - mae: 17.9038\n",
            "Epoch 320/500\n",
            "2/2 [==============================] - 0s 9ms/step - loss: 10.1764 - mae: 10.1764\n",
            "Epoch 321/500\n",
            "2/2 [==============================] - 0s 8ms/step - loss: 8.2730 - mae: 8.2730\n",
            "Epoch 322/500\n",
            "2/2 [==============================] - 0s 9ms/step - loss: 4.3068 - mae: 4.3068\n",
            "Epoch 323/500\n",
            "2/2 [==============================] - 0s 9ms/step - loss: 23.8507 - mae: 23.8507\n",
            "Epoch 324/500\n",
            "2/2 [==============================] - 0s 9ms/step - loss: 6.8671 - mae: 6.8671\n",
            "Epoch 325/500\n",
            "2/2 [==============================] - 0s 8ms/step - loss: 16.6344 - mae: 16.6344\n",
            "Epoch 326/500\n",
            "2/2 [==============================] - 0s 8ms/step - loss: 7.5452 - mae: 7.5452\n",
            "Epoch 327/500\n",
            "2/2 [==============================] - 0s 8ms/step - loss: 20.4340 - mae: 20.4340\n",
            "Epoch 328/500\n",
            "2/2 [==============================] - 0s 8ms/step - loss: 13.6691 - mae: 13.6691\n",
            "Epoch 329/500\n",
            "2/2 [==============================] - 0s 8ms/step - loss: 16.6813 - mae: 16.6813\n",
            "Epoch 330/500\n",
            "2/2 [==============================] - 0s 9ms/step - loss: 7.0749 - mae: 7.0749\n",
            "Epoch 331/500\n",
            "2/2 [==============================] - 0s 8ms/step - loss: 21.8566 - mae: 21.8566\n",
            "Epoch 332/500\n",
            "2/2 [==============================] - 0s 11ms/step - loss: 12.8179 - mae: 12.8179\n",
            "Epoch 333/500\n",
            "2/2 [==============================] - 0s 10ms/step - loss: 9.3999 - mae: 9.3999\n",
            "Epoch 334/500\n",
            "2/2 [==============================] - 0s 9ms/step - loss: 7.5570 - mae: 7.5570\n",
            "Epoch 335/500\n",
            "2/2 [==============================] - 0s 10ms/step - loss: 6.1317 - mae: 6.1317\n",
            "Epoch 336/500\n",
            "2/2 [==============================] - 0s 9ms/step - loss: 38.4481 - mae: 38.4481\n",
            "Epoch 337/500\n",
            "2/2 [==============================] - 0s 8ms/step - loss: 29.7451 - mae: 29.7451\n",
            "Epoch 338/500\n",
            "2/2 [==============================] - 0s 8ms/step - loss: 16.1867 - mae: 16.1867\n",
            "Epoch 339/500\n",
            "2/2 [==============================] - 0s 8ms/step - loss: 9.9855 - mae: 9.9855\n",
            "Epoch 340/500\n",
            "2/2 [==============================] - 0s 8ms/step - loss: 7.5230 - mae: 7.5230\n",
            "Epoch 341/500\n",
            "2/2 [==============================] - 0s 7ms/step - loss: 17.5033 - mae: 17.5033\n",
            "Epoch 342/500\n",
            "2/2 [==============================] - 0s 10ms/step - loss: 14.8574 - mae: 14.8574\n",
            "Epoch 343/500\n",
            "2/2 [==============================] - 0s 7ms/step - loss: 12.6042 - mae: 12.6042\n",
            "Epoch 344/500\n",
            "2/2 [==============================] - 0s 8ms/step - loss: 11.9220 - mae: 11.9220\n",
            "Epoch 345/500\n",
            "2/2 [==============================] - 0s 8ms/step - loss: 30.4328 - mae: 30.4328\n",
            "Epoch 346/500\n",
            "2/2 [==============================] - 0s 8ms/step - loss: 9.2399 - mae: 9.2399\n",
            "Epoch 347/500\n",
            "2/2 [==============================] - 0s 8ms/step - loss: 25.9418 - mae: 25.9418\n",
            "Epoch 348/500\n",
            "2/2 [==============================] - 0s 8ms/step - loss: 12.1990 - mae: 12.1990\n",
            "Epoch 349/500\n",
            "2/2 [==============================] - 0s 7ms/step - loss: 12.6174 - mae: 12.6174\n",
            "Epoch 350/500\n",
            "2/2 [==============================] - 0s 9ms/step - loss: 15.2326 - mae: 15.2326\n",
            "Epoch 351/500\n",
            "2/2 [==============================] - 0s 8ms/step - loss: 32.6312 - mae: 32.6312\n",
            "Epoch 352/500\n",
            "2/2 [==============================] - 0s 7ms/step - loss: 13.5928 - mae: 13.5928\n",
            "Epoch 353/500\n",
            "2/2 [==============================] - 0s 8ms/step - loss: 17.4975 - mae: 17.4975\n",
            "Epoch 354/500\n",
            "2/2 [==============================] - 0s 9ms/step - loss: 11.2141 - mae: 11.2141\n",
            "Epoch 355/500\n",
            "2/2 [==============================] - 0s 8ms/step - loss: 26.5067 - mae: 26.5067\n",
            "Epoch 356/500\n",
            "2/2 [==============================] - 0s 7ms/step - loss: 10.8675 - mae: 10.8675\n",
            "Epoch 357/500\n",
            "2/2 [==============================] - 0s 8ms/step - loss: 13.1384 - mae: 13.1384\n",
            "Epoch 358/500\n",
            "2/2 [==============================] - 0s 8ms/step - loss: 14.5063 - mae: 14.5063\n",
            "Epoch 359/500\n",
            "2/2 [==============================] - 0s 8ms/step - loss: 12.2986 - mae: 12.2986\n",
            "Epoch 360/500\n",
            "2/2 [==============================] - 0s 9ms/step - loss: 20.3334 - mae: 20.3334\n",
            "Epoch 361/500\n",
            "2/2 [==============================] - 0s 9ms/step - loss: 10.8562 - mae: 10.8562\n",
            "Epoch 362/500\n",
            "2/2 [==============================] - 0s 9ms/step - loss: 6.7053 - mae: 6.7053\n",
            "Epoch 363/500\n",
            "2/2 [==============================] - 0s 8ms/step - loss: 23.8819 - mae: 23.8819\n",
            "Epoch 364/500\n",
            "2/2 [==============================] - 0s 8ms/step - loss: 29.5904 - mae: 29.5904\n",
            "Epoch 365/500\n",
            "2/2 [==============================] - 0s 7ms/step - loss: 8.2082 - mae: 8.2082\n",
            "Epoch 366/500\n",
            "2/2 [==============================] - 0s 7ms/step - loss: 5.9968 - mae: 5.9968\n",
            "Epoch 367/500\n",
            "2/2 [==============================] - 0s 8ms/step - loss: 34.8770 - mae: 34.8770\n",
            "Epoch 368/500\n",
            "2/2 [==============================] - 0s 8ms/step - loss: 7.2965 - mae: 7.2965\n",
            "Epoch 369/500\n",
            "2/2 [==============================] - 0s 13ms/step - loss: 9.5470 - mae: 9.5470\n",
            "Epoch 370/500\n",
            "2/2 [==============================] - 0s 9ms/step - loss: 7.6734 - mae: 7.6734\n",
            "Epoch 371/500\n",
            "2/2 [==============================] - 0s 8ms/step - loss: 19.9571 - mae: 19.9571\n",
            "Epoch 372/500\n",
            "2/2 [==============================] - 0s 8ms/step - loss: 12.5121 - mae: 12.5121\n",
            "Epoch 373/500\n",
            "2/2 [==============================] - 0s 10ms/step - loss: 26.4487 - mae: 26.4487\n",
            "Epoch 374/500\n",
            "2/2 [==============================] - 0s 9ms/step - loss: 9.1512 - mae: 9.1512\n",
            "Epoch 375/500\n",
            "2/2 [==============================] - 0s 8ms/step - loss: 4.1349 - mae: 4.1349\n",
            "Epoch 376/500\n",
            "2/2 [==============================] - 0s 8ms/step - loss: 23.6058 - mae: 23.6058\n",
            "Epoch 377/500\n",
            "2/2 [==============================] - 0s 8ms/step - loss: 13.0046 - mae: 13.0046\n",
            "Epoch 378/500\n",
            "2/2 [==============================] - 0s 9ms/step - loss: 15.0661 - mae: 15.0661\n",
            "Epoch 379/500\n",
            "2/2 [==============================] - 0s 12ms/step - loss: 26.7600 - mae: 26.7600\n",
            "Epoch 380/500\n",
            "2/2 [==============================] - 0s 8ms/step - loss: 16.4512 - mae: 16.4512\n",
            "Epoch 381/500\n",
            "2/2 [==============================] - 0s 8ms/step - loss: 11.2025 - mae: 11.2025\n",
            "Epoch 382/500\n",
            "2/2 [==============================] - 0s 8ms/step - loss: 16.1241 - mae: 16.1241\n",
            "Epoch 383/500\n",
            "2/2 [==============================] - 0s 9ms/step - loss: 21.7708 - mae: 21.7708\n",
            "Epoch 384/500\n",
            "2/2 [==============================] - 0s 8ms/step - loss: 6.8315 - mae: 6.8315\n",
            "Epoch 385/500\n",
            "2/2 [==============================] - 0s 8ms/step - loss: 8.6359 - mae: 8.6359\n",
            "Epoch 386/500\n",
            "2/2 [==============================] - 0s 10ms/step - loss: 20.4876 - mae: 20.4876\n",
            "Epoch 387/500\n",
            "2/2 [==============================] - 0s 10ms/step - loss: 23.1712 - mae: 23.1712\n",
            "Epoch 388/500\n",
            "2/2 [==============================] - 0s 9ms/step - loss: 7.2045 - mae: 7.2045\n",
            "Epoch 389/500\n",
            "2/2 [==============================] - 0s 8ms/step - loss: 13.3800 - mae: 13.3800\n",
            "Epoch 390/500\n",
            "2/2 [==============================] - 0s 10ms/step - loss: 7.4724 - mae: 7.4724\n",
            "Epoch 391/500\n",
            "2/2 [==============================] - 0s 8ms/step - loss: 15.8499 - mae: 15.8499\n",
            "Epoch 392/500\n",
            "2/2 [==============================] - 0s 8ms/step - loss: 14.3032 - mae: 14.3032\n",
            "Epoch 393/500\n",
            "2/2 [==============================] - 0s 8ms/step - loss: 18.4864 - mae: 18.4864\n",
            "Epoch 394/500\n",
            "2/2 [==============================] - 0s 9ms/step - loss: 14.3517 - mae: 14.3517\n",
            "Epoch 395/500\n",
            "2/2 [==============================] - 0s 7ms/step - loss: 29.0260 - mae: 29.0260\n",
            "Epoch 396/500\n",
            "2/2 [==============================] - 0s 8ms/step - loss: 7.6433 - mae: 7.6433\n",
            "Epoch 397/500\n",
            "2/2 [==============================] - 0s 9ms/step - loss: 9.2271 - mae: 9.2271\n",
            "Epoch 398/500\n",
            "2/2 [==============================] - 0s 10ms/step - loss: 11.9646 - mae: 11.9646\n",
            "Epoch 399/500\n",
            "2/2 [==============================] - 0s 9ms/step - loss: 10.0286 - mae: 10.0286\n",
            "Epoch 400/500\n",
            "2/2 [==============================] - 0s 11ms/step - loss: 22.3732 - mae: 22.3732\n",
            "Epoch 401/500\n",
            "2/2 [==============================] - 0s 10ms/step - loss: 18.0620 - mae: 18.0620\n",
            "Epoch 402/500\n",
            "2/2 [==============================] - 0s 9ms/step - loss: 11.0499 - mae: 11.0499\n",
            "Epoch 403/500\n",
            "2/2 [==============================] - 0s 8ms/step - loss: 11.7062 - mae: 11.7062\n",
            "Epoch 404/500\n",
            "2/2 [==============================] - 0s 8ms/step - loss: 22.8751 - mae: 22.8751\n",
            "Epoch 405/500\n",
            "2/2 [==============================] - 0s 8ms/step - loss: 18.1902 - mae: 18.1902\n",
            "Epoch 406/500\n",
            "2/2 [==============================] - 0s 8ms/step - loss: 6.9939 - mae: 6.9939\n",
            "Epoch 407/500\n",
            "2/2 [==============================] - 0s 8ms/step - loss: 12.6948 - mae: 12.6948\n",
            "Epoch 408/500\n",
            "2/2 [==============================] - 0s 8ms/step - loss: 5.5886 - mae: 5.5886\n",
            "Epoch 409/500\n",
            "2/2 [==============================] - 0s 7ms/step - loss: 31.4579 - mae: 31.4579\n",
            "Epoch 410/500\n",
            "2/2 [==============================] - 0s 8ms/step - loss: 9.1572 - mae: 9.1572\n",
            "Epoch 411/500\n",
            "2/2 [==============================] - 0s 8ms/step - loss: 14.8039 - mae: 14.8039\n",
            "Epoch 412/500\n",
            "2/2 [==============================] - 0s 16ms/step - loss: 21.6590 - mae: 21.6590\n",
            "Epoch 413/500\n",
            "2/2 [==============================] - 0s 10ms/step - loss: 12.8915 - mae: 12.8915\n",
            "Epoch 414/500\n",
            "2/2 [==============================] - 0s 9ms/step - loss: 8.6819 - mae: 8.6819\n",
            "Epoch 415/500\n",
            "2/2 [==============================] - 0s 9ms/step - loss: 11.4637 - mae: 11.4637\n",
            "Epoch 416/500\n",
            "2/2 [==============================] - 0s 9ms/step - loss: 25.1420 - mae: 25.1420\n",
            "Epoch 417/500\n",
            "2/2 [==============================] - 0s 19ms/step - loss: 17.1512 - mae: 17.1512\n",
            "Epoch 418/500\n",
            "2/2 [==============================] - 0s 12ms/step - loss: 12.5647 - mae: 12.5647\n",
            "Epoch 419/500\n",
            "2/2 [==============================] - 0s 8ms/step - loss: 15.6945 - mae: 15.6945\n",
            "Epoch 420/500\n",
            "2/2 [==============================] - 0s 8ms/step - loss: 24.4068 - mae: 24.4068\n",
            "Epoch 421/500\n",
            "2/2 [==============================] - 0s 8ms/step - loss: 18.3120 - mae: 18.3120\n",
            "Epoch 422/500\n",
            "2/2 [==============================] - 0s 8ms/step - loss: 8.5718 - mae: 8.5718\n",
            "Epoch 423/500\n",
            "2/2 [==============================] - 0s 8ms/step - loss: 24.5932 - mae: 24.5932\n",
            "Epoch 424/500\n",
            "2/2 [==============================] - 0s 7ms/step - loss: 16.9826 - mae: 16.9826\n",
            "Epoch 425/500\n",
            "2/2 [==============================] - 0s 13ms/step - loss: 7.2708 - mae: 7.2708\n",
            "Epoch 426/500\n",
            "2/2 [==============================] - 0s 10ms/step - loss: 21.1904 - mae: 21.1904\n",
            "Epoch 427/500\n",
            "2/2 [==============================] - 0s 8ms/step - loss: 6.4714 - mae: 6.4714\n",
            "Epoch 428/500\n",
            "2/2 [==============================] - 0s 10ms/step - loss: 13.6205 - mae: 13.6205\n",
            "Epoch 429/500\n",
            "2/2 [==============================] - 0s 10ms/step - loss: 11.5963 - mae: 11.5963\n",
            "Epoch 430/500\n",
            "2/2 [==============================] - 0s 9ms/step - loss: 10.3357 - mae: 10.3357\n",
            "Epoch 431/500\n",
            "2/2 [==============================] - 0s 11ms/step - loss: 11.8834 - mae: 11.8834\n",
            "Epoch 432/500\n",
            "2/2 [==============================] - 0s 12ms/step - loss: 7.4307 - mae: 7.4307\n",
            "Epoch 433/500\n",
            "2/2 [==============================] - 0s 10ms/step - loss: 14.7144 - mae: 14.7144\n",
            "Epoch 434/500\n",
            "2/2 [==============================] - 0s 9ms/step - loss: 17.7798 - mae: 17.7798\n",
            "Epoch 435/500\n",
            "2/2 [==============================] - 0s 10ms/step - loss: 10.3714 - mae: 10.3714\n",
            "Epoch 436/500\n",
            "2/2 [==============================] - 0s 12ms/step - loss: 28.6393 - mae: 28.6393\n",
            "Epoch 437/500\n",
            "2/2 [==============================] - 0s 8ms/step - loss: 7.4028 - mae: 7.4028\n",
            "Epoch 438/500\n",
            "2/2 [==============================] - 0s 9ms/step - loss: 13.0947 - mae: 13.0947\n",
            "Epoch 439/500\n",
            "2/2 [==============================] - 0s 9ms/step - loss: 34.0510 - mae: 34.0510\n",
            "Epoch 440/500\n",
            "2/2 [==============================] - 0s 9ms/step - loss: 15.6069 - mae: 15.6069\n",
            "Epoch 441/500\n",
            "2/2 [==============================] - 0s 9ms/step - loss: 18.1078 - mae: 18.1078\n",
            "Epoch 442/500\n",
            "2/2 [==============================] - 0s 9ms/step - loss: 27.5702 - mae: 27.5702\n",
            "Epoch 443/500\n",
            "2/2 [==============================] - 0s 11ms/step - loss: 10.5137 - mae: 10.5137\n",
            "Epoch 444/500\n",
            "2/2 [==============================] - 0s 9ms/step - loss: 6.2998 - mae: 6.2998\n",
            "Epoch 445/500\n",
            "2/2 [==============================] - 0s 14ms/step - loss: 7.7554 - mae: 7.7554\n",
            "Epoch 446/500\n",
            "2/2 [==============================] - 0s 7ms/step - loss: 15.8501 - mae: 15.8501\n",
            "Epoch 447/500\n",
            "2/2 [==============================] - 0s 7ms/step - loss: 15.0547 - mae: 15.0547\n",
            "Epoch 448/500\n",
            "2/2 [==============================] - 0s 7ms/step - loss: 11.8476 - mae: 11.8476\n",
            "Epoch 449/500\n",
            "2/2 [==============================] - 0s 8ms/step - loss: 14.9894 - mae: 14.9894\n",
            "Epoch 450/500\n",
            "2/2 [==============================] - 0s 7ms/step - loss: 17.7203 - mae: 17.7203\n",
            "Epoch 451/500\n",
            "2/2 [==============================] - 0s 7ms/step - loss: 14.6586 - mae: 14.6586\n",
            "Epoch 452/500\n",
            "2/2 [==============================] - 0s 8ms/step - loss: 31.4441 - mae: 31.4441\n",
            "Epoch 453/500\n",
            "2/2 [==============================] - 0s 7ms/step - loss: 11.0171 - mae: 11.0171\n",
            "Epoch 454/500\n",
            "2/2 [==============================] - 0s 7ms/step - loss: 26.6964 - mae: 26.6964\n",
            "Epoch 455/500\n",
            "2/2 [==============================] - 0s 8ms/step - loss: 12.7371 - mae: 12.7371\n",
            "Epoch 456/500\n",
            "2/2 [==============================] - 0s 8ms/step - loss: 15.1783 - mae: 15.1783\n",
            "Epoch 457/500\n",
            "2/2 [==============================] - 0s 9ms/step - loss: 18.7662 - mae: 18.7662\n",
            "Epoch 458/500\n",
            "2/2 [==============================] - 0s 8ms/step - loss: 24.1191 - mae: 24.1191\n",
            "Epoch 459/500\n",
            "2/2 [==============================] - 0s 8ms/step - loss: 17.4201 - mae: 17.4201\n",
            "Epoch 460/500\n",
            "2/2 [==============================] - 0s 8ms/step - loss: 4.6393 - mae: 4.6393\n",
            "Epoch 461/500\n",
            "2/2 [==============================] - 0s 7ms/step - loss: 17.0320 - mae: 17.0320\n",
            "Epoch 462/500\n",
            "2/2 [==============================] - 0s 11ms/step - loss: 17.1792 - mae: 17.1792\n",
            "Epoch 463/500\n",
            "2/2 [==============================] - 0s 12ms/step - loss: 41.6438 - mae: 41.6438\n",
            "Epoch 464/500\n",
            "2/2 [==============================] - 0s 9ms/step - loss: 16.1929 - mae: 16.1929\n",
            "Epoch 465/500\n",
            "2/2 [==============================] - 0s 8ms/step - loss: 7.7599 - mae: 7.7599\n",
            "Epoch 466/500\n",
            "2/2 [==============================] - 0s 7ms/step - loss: 13.2722 - mae: 13.2722\n",
            "Epoch 467/500\n",
            "2/2 [==============================] - 0s 8ms/step - loss: 6.2395 - mae: 6.2395\n",
            "Epoch 468/500\n",
            "2/2 [==============================] - 0s 8ms/step - loss: 14.7004 - mae: 14.7004\n",
            "Epoch 469/500\n",
            "2/2 [==============================] - 0s 8ms/step - loss: 13.5775 - mae: 13.5775\n",
            "Epoch 470/500\n",
            "2/2 [==============================] - 0s 9ms/step - loss: 6.1104 - mae: 6.1104\n",
            "Epoch 471/500\n",
            "2/2 [==============================] - 0s 9ms/step - loss: 29.5308 - mae: 29.5308\n",
            "Epoch 472/500\n",
            "2/2 [==============================] - 0s 8ms/step - loss: 10.0881 - mae: 10.0881\n",
            "Epoch 473/500\n",
            "2/2 [==============================] - 0s 7ms/step - loss: 14.0399 - mae: 14.0399\n",
            "Epoch 474/500\n",
            "2/2 [==============================] - 0s 8ms/step - loss: 32.8121 - mae: 32.8121\n",
            "Epoch 475/500\n",
            "2/2 [==============================] - 0s 8ms/step - loss: 13.0688 - mae: 13.0688\n",
            "Epoch 476/500\n",
            "2/2 [==============================] - 0s 10ms/step - loss: 13.1419 - mae: 13.1419\n",
            "Epoch 477/500\n",
            "2/2 [==============================] - 0s 8ms/step - loss: 29.1595 - mae: 29.1595\n",
            "Epoch 478/500\n",
            "2/2 [==============================] - 0s 7ms/step - loss: 5.8516 - mae: 5.8516\n",
            "Epoch 479/500\n",
            "2/2 [==============================] - 0s 8ms/step - loss: 5.6142 - mae: 5.6142\n",
            "Epoch 480/500\n",
            "2/2 [==============================] - 0s 7ms/step - loss: 21.1798 - mae: 21.1798\n",
            "Epoch 481/500\n",
            "2/2 [==============================] - 0s 8ms/step - loss: 22.4903 - mae: 22.4903\n",
            "Epoch 482/500\n",
            "2/2 [==============================] - 0s 8ms/step - loss: 11.4236 - mae: 11.4236\n",
            "Epoch 483/500\n",
            "2/2 [==============================] - 0s 9ms/step - loss: 4.1778 - mae: 4.1778\n",
            "Epoch 484/500\n",
            "2/2 [==============================] - 0s 7ms/step - loss: 23.4225 - mae: 23.4225\n",
            "Epoch 485/500\n",
            "2/2 [==============================] - 0s 8ms/step - loss: 20.5699 - mae: 20.5699\n",
            "Epoch 486/500\n",
            "2/2 [==============================] - 0s 8ms/step - loss: 5.2670 - mae: 5.2670\n",
            "Epoch 487/500\n",
            "2/2 [==============================] - 0s 8ms/step - loss: 11.9640 - mae: 11.9640\n",
            "Epoch 488/500\n",
            "2/2 [==============================] - 0s 8ms/step - loss: 27.5222 - mae: 27.5222\n",
            "Epoch 489/500\n",
            "2/2 [==============================] - 0s 8ms/step - loss: 5.3945 - mae: 5.3945\n",
            "Epoch 490/500\n",
            "2/2 [==============================] - 0s 8ms/step - loss: 6.0792 - mae: 6.0792\n",
            "Epoch 491/500\n",
            "2/2 [==============================] - 0s 8ms/step - loss: 19.5575 - mae: 19.5575\n",
            "Epoch 492/500\n",
            "2/2 [==============================] - 0s 11ms/step - loss: 6.7060 - mae: 6.7060\n",
            "Epoch 493/500\n",
            "2/2 [==============================] - 0s 13ms/step - loss: 18.6093 - mae: 18.6093\n",
            "Epoch 494/500\n",
            "2/2 [==============================] - 0s 9ms/step - loss: 19.0123 - mae: 19.0123\n",
            "Epoch 495/500\n",
            "2/2 [==============================] - 0s 7ms/step - loss: 5.7463 - mae: 5.7463\n",
            "Epoch 496/500\n",
            "2/2 [==============================] - 0s 9ms/step - loss: 5.9573 - mae: 5.9573\n",
            "Epoch 497/500\n",
            "2/2 [==============================] - 0s 8ms/step - loss: 12.8100 - mae: 12.8100\n",
            "Epoch 498/500\n",
            "2/2 [==============================] - 0s 13ms/step - loss: 6.3612 - mae: 6.3612\n",
            "Epoch 499/500\n",
            "2/2 [==============================] - 0s 11ms/step - loss: 16.2971 - mae: 16.2971\n",
            "Epoch 500/500\n",
            "2/2 [==============================] - 0s 16ms/step - loss: 14.2615 - mae: 14.2615\n"
          ]
        },
        {
          "output_type": "execute_result",
          "data": {
            "text/plain": [
              "<keras.callbacks.History at 0x7fe2e0654040>"
            ]
          },
          "metadata": {},
          "execution_count": 60
        }
      ]
    },
    {
      "cell_type": "code",
      "source": [
        "y_p_3 = model_3.predict(X_test)\n",
        "y_p_3"
      ],
      "metadata": {
        "colab": {
          "base_uri": "https://localhost:8080/"
        },
        "id": "oUMwcTIlIMTX",
        "outputId": "f7dfcd42-3544-4105-8c49-ecd6236a4d50"
      },
      "execution_count": null,
      "outputs": [
        {
          "output_type": "stream",
          "name": "stdout",
          "text": [
            "1/1 [==============================] - 0s 115ms/step\n"
          ]
        },
        {
          "output_type": "execute_result",
          "data": {
            "text/plain": [
              "array([[16.872269],\n",
              "       [17.68576 ],\n",
              "       [18.499254],\n",
              "       [19.312746],\n",
              "       [20.126238],\n",
              "       [20.939732],\n",
              "       [21.753225],\n",
              "       [22.566717],\n",
              "       [23.38021 ],\n",
              "       [24.1937  ]], dtype=float32)"
            ]
          },
          "metadata": {},
          "execution_count": 65
        }
      ]
    },
    {
      "cell_type": "code",
      "source": [
        "plot_predict(X_test, y_test, y_p_3)"
      ],
      "metadata": {
        "colab": {
          "base_uri": "https://localhost:8080/",
          "height": 428
        },
        "id": "4-a5wa9nITvN",
        "outputId": "271c4acc-587e-4222-b348-7a4bfb3c3206"
      },
      "execution_count": null,
      "outputs": [
        {
          "output_type": "display_data",
          "data": {
            "text/plain": [
              "<Figure size 720x504 with 1 Axes>"
            ],
            "image/png": "[encoded data removed]"
          },
          "metadata": {
            "needs_background": "light"
          }
        }
      ]
    },
    {
      "cell_type": "code",
      "source": [
        "mae_3 = calculate_mae(y_test, y_p_3)\n",
        "mse_3 = calculate_mse(y_test, y_p_3)"
      ],
      "metadata": {
        "colab": {
          "base_uri": "https://localhost:8080/"
        },
        "id": "CnUeWerEIaV-",
        "outputId": "a8aedc46-956e-42e9-e45f-e8f08d8975d7"
      },
      "execution_count": null,
      "outputs": [
        {
          "output_type": "stream",
          "name": "stdout",
          "text": [
            "This is the mean absolute error of the model: 67.4670181274414\n",
            "This is the mean square error of the model: 4635.5673828125\n"
          ]
        }
      ]
    },
    {
      "cell_type": "markdown",
      "source": [
        "**Note:** You want to start with small experiments (small models) and make sure they work and then increase their scale when necessary."
      ],
      "metadata": {
        "id": "CAAb2L1aJfBr"
      }
    },
    {
      "cell_type": "markdown",
      "source": [
        "## Comparing the results of our experiments\n",
        "\n",
        "We've run a few experiments, let's compare the results."
      ],
      "metadata": {
        "id": "jMWj2iZdJVNQ"
      }
    },
    {
      "cell_type": "code",
      "source": [
        "# Let's compare our model's results using a pandas DataFrame\n",
        "import pandas as pd\n",
        "\n",
        "model_results = [[\"model_1\", mae_1.numpy(), mse_1.numpy()],\n",
        "                  [\"model_2\", mae_2.numpy(), mse_2.numpy()],\n",
        "                  [\"model_3\", mae_3.numpy(), mse_3.numpy()]]\n",
        "columns = [\"model\", \"mae\", \"mse\"]\n",
        "all_results = pd.DataFrame(model_results, columns=columns)\n",
        "all_results"
      ],
      "metadata": {
        "colab": {
          "base_uri": "https://localhost:8080/",
          "height": 143
        },
        "id": "TtMVarKMLfs4",
        "outputId": "c5a817eb-75dd-494f-b875-7a8fcce0d56e"
      },
      "execution_count": null,
      "outputs": [
        {
          "output_type": "execute_result",
          "data": {
            "text/plain": [
              "     model        mae          mse\n",
              "0  model_1  21.276505   456.127747\n",
              "1  model_2  13.267507   186.077484\n",
              "2  model_3  67.467018  4635.567383"
            ],
            "text/html": [
              "\n",
              "  <div id=\"df-01e43737-6d10-4f8c-91df-16ad87de867b\">\n",
              "    <div class=\"colab-df-container\">\n",
              "      <div>\n",
              "<style scoped>\n",
              "    .dataframe tbody tr th:only-of-type {\n",
              "        vertical-align: middle;\n",
              "    }\n",
              "\n",
              "    .dataframe tbody tr th {\n",
              "        vertical-align: top;\n",
              "    }\n",
              "\n",
              "    .dataframe thead th {\n",
              "        text-align: right;\n",
              "    }\n",
              "</style>\n",
              "<table border=\"1\" class=\"dataframe\">\n",
              "  <thead>\n",
              "    <tr style=\"text-align: right;\">\n",
              "      <th></th>\n",
              "      <th>model</th>\n",
              "      <th>mae</th>\n",
              "      <th>mse</th>\n",
              "    </tr>\n",
              "  </thead>\n",
              "  <tbody>\n",
              "    <tr>\n",
              "      <th>0</th>\n",
              "      <td>model_1</td>\n",
              "      <td>21.276505</td>\n",
              "      <td>456.127747</td>\n",
              "    </tr>\n",
              "    <tr>\n",
              "      <th>1</th>\n",
              "      <td>model_2</td>\n",
              "      <td>13.267507</td>\n",
              "      <td>186.077484</td>\n",
              "    </tr>\n",
              "    <tr>\n",
              "      <th>2</th>\n",
              "      <td>model_3</td>\n",
              "      <td>67.467018</td>\n",
              "      <td>4635.567383</td>\n",
              "    </tr>\n",
              "  </tbody>\n",
              "</table>\n",
              "</div>\n",
              "      <button class=\"colab-df-convert\" onclick=\"convertToInteractive('df-01e43737-6d10-4f8c-91df-16ad87de867b')\"\n",
              "              title=\"Convert this dataframe to an interactive table.\"\n",
              "              style=\"display:none;\">\n",
              "        \n",
              "  <svg xmlns=\"http://www.w3.org/2000/svg\" height=\"24px\"viewBox=\"0 0 24 24\"\n",
              "       width=\"24px\">\n",
              "    <path d=\"M0 0h24v24H0V0z\" fill=\"none\"/>\n",
              "    <path d=\"M18.56 5.44l.94 2.06.94-2.06 2.06-.94-2.06-.94-.94-2.06-.94 2.06-2.06.94zm-11 1L8.5 8.5l.94-2.06 2.06-.94-2.06-.94L8.5 2.5l-.94 2.06-2.06.94zm10 10l.94 2.06.94-2.06 2.06-.94-2.06-.94-.94-2.06-.94 2.06-2.06.94z\"/><path d=\"M17.41 7.96l-1.37-1.37c-.4-.4-.92-.59-1.43-.59-.52 0-1.04.2-1.43.59L10.3 9.45l-7.72 7.72c-.78.78-.78 2.05 0 2.83L4 21.41c.39.39.9.59 1.41.59.51 0 1.02-.2 1.41-.59l7.78-7.78 2.81-2.81c.8-.78.8-2.07 0-2.86zM5.41 20L4 18.59l7.72-7.72 1.47 1.35L5.41 20z\"/>\n",
              "  </svg>\n",
              "      </button>\n",
              "      \n",
              "  <style>\n",
              "    .colab-df-container {\n",
              "      display:flex;\n",
              "      flex-wrap:wrap;\n",
              "      gap: 12px;\n",
              "    }\n",
              "\n",
              "    .colab-df-convert {\n",
              "      background-color: #E8F0FE;\n",
              "      border: none;\n",
              "      border-radius: 50%;\n",
              "      cursor: pointer;\n",
              "      display: none;\n",
              "      fill: #1967D2;\n",
              "      height: 32px;\n",
              "      padding: 0 0 0 0;\n",
              "      width: 32px;\n",
              "    }\n",
              "\n",
              "    .colab-df-convert:hover {\n",
              "      background-color: #E2EBFA;\n",
              "      box-shadow: 0px 1px 2px rgba(60, 64, 67, 0.3), 0px 1px 3px 1px rgba(60, 64, 67, 0.15);\n",
              "      fill: #174EA6;\n",
              "    }\n",
              "\n",
              "    [theme=dark] .colab-df-convert {\n",
              "      background-color: #3B4455;\n",
              "      fill: #D2E3FC;\n",
              "    }\n",
              "\n",
              "    [theme=dark] .colab-df-convert:hover {\n",
              "      background-color: #434B5C;\n",
              "      box-shadow: 0px 1px 3px 1px rgba(0, 0, 0, 0.15);\n",
              "      filter: drop-shadow(0px 1px 2px rgba(0, 0, 0, 0.3));\n",
              "      fill: #FFFFFF;\n",
              "    }\n",
              "  </style>\n",
              "\n",
              "      <script>\n",
              "        const buttonEl =\n",
              "          document.querySelector('#df-01e43737-6d10-4f8c-91df-16ad87de867b button.colab-df-convert');\n",
              "        buttonEl.style.display =\n",
              "          google.colab.kernel.accessAllowed ? 'block' : 'none';\n",
              "\n",
              "        async function convertToInteractive(key) {\n",
              "          const element = document.querySelector('#df-01e43737-6d10-4f8c-91df-16ad87de867b');\n",
              "          const dataTable =\n",
              "            await google.colab.kernel.invokeFunction('convertToInteractive',\n",
              "                                                     [key], {});\n",
              "          if (!dataTable) return;\n",
              "\n",
              "          const docLinkHtml = 'Like what you see? Visit the ' +\n",
              "            '<a target=\"_blank\" href=https://colab.research.google.com/notebooks/data_table.ipynb>data table notebook</a>'\n",
              "            + ' to learn more about interactive tables.';\n",
              "          element.innerHTML = '';\n",
              "          dataTable['output_type'] = 'display_data';\n",
              "          await google.colab.output.renderOutput(dataTable, element);\n",
              "          const docLink = document.createElement('div');\n",
              "          docLink.innerHTML = docLinkHtml;\n",
              "          element.appendChild(docLink);\n",
              "        }\n",
              "      </script>\n",
              "    </div>\n",
              "  </div>\n",
              "  "
            ]
          },
          "metadata": {},
          "execution_count": 76
        }
      ]
    },
    {
      "cell_type": "markdown",
      "source": [
        "Looks like `model_2` performed the best..."
      ],
      "metadata": {
        "id": "ar6q7UNKNweU"
      }
    },
    {
      "cell_type": "code",
      "source": [
        "model_2.summary()"
      ],
      "metadata": {
        "colab": {
          "base_uri": "https://localhost:8080/"
        },
        "id": "dqMmnOyVNjA4",
        "outputId": "bcc132fa-04e2-4ae1-e7ad-1626cdb61d86"
      },
      "execution_count": null,
      "outputs": [
        {
          "output_type": "stream",
          "name": "stdout",
          "text": [
            "Model: \"sequential_11\"\n",
            "_________________________________________________________________\n",
            " Layer (type)                Output Shape              Param #   \n",
            "=================================================================\n",
            " dense_17 (Dense)            (None, 10)                20        \n",
            "                                                                 \n",
            " dense_18 (Dense)            (None, 1)                 11        \n",
            "                                                                 \n",
            "=================================================================\n",
            "Total params: 31\n",
            "Trainable params: 31\n",
            "Non-trainable params: 0\n",
            "_________________________________________________________________\n"
          ]
        }
      ]
    },
    {
      "cell_type": "markdown",
      "source": [
        "**Note:** One of your main goals should be to minimize the time between your experiments. The more experiments you do, the more things you'll figure out which don't work and in turn, get closer to figuring out what work. Remember the machine learning practicioner's motto: \"experiment\", \"experiment\", \"experiment\"."
      ],
      "metadata": {
        "id": "E9Rn2n9pOT6r"
      }
    },
    {
      "cell_type": "markdown",
      "source": [
        "### Tracking your experiments\n",
        "\n",
        "One really good habit in machine learning modelling is to track the results of your experiments\n",
        "\n",
        "And when doing so, it can be tedious if you're running lots of experiments.\n",
        "\n",
        "Luckily, there are tools to help us:\n",
        "\n",
        "* TensorBoard: A component of the TensorFlow library to help track modelling experiments.\n",
        "* Weights & Biases: A tool for tracking all of kind machine learning experiments."
      ],
      "metadata": {
        "id": "huik6XUmPMRl"
      }
    },
    {
      "cell_type": "markdown",
      "source": [
        "## Saving our models\n",
        "\n",
        "Saving our models allow us to use them outside of Google Colab, such as in a Web App.\n",
        "There are two main formats we can save our models:\n",
        "1. The SavedModel format\n",
        "2. The HDF5 format"
      ],
      "metadata": {
        "id": "--mDbH1zUHRW"
      }
    },
    {
      "cell_type": "code",
      "source": [
        "# Save model\n",
        "model_2.save(\"best_model_SaveModel_format\")"
      ],
      "metadata": {
        "colab": {
          "base_uri": "https://localhost:8080/"
        },
        "id": "_lxeHxmMYkRE",
        "outputId": "d2ca8fa2-da4c-4845-a2f4-633b4aea02c2"
      },
      "execution_count": null,
      "outputs": [
        {
          "output_type": "stream",
          "name": "stderr",
          "text": [
            "WARNING:absl:Found untraced functions such as _update_step_xla while saving (showing 1 of 1). These functions will not be directly callable after loading.\n"
          ]
        }
      ]
    },
    {
      "cell_type": "code",
      "source": [
        "# Save model using the HDF5 format\n",
        "model_2.save(\"best_model_HDF5_format.h5\")"
      ],
      "metadata": {
        "id": "-lrRWG9YaMVZ"
      },
      "execution_count": null,
      "outputs": []
    },
    {
      "cell_type": "markdown",
      "source": [
        "### Loading in a saved model"
      ],
      "metadata": {
        "id": "mL9NXG5bbI1U"
      }
    },
    {
      "cell_type": "code",
      "source": [
        "loaded_SaveModel_format = tf.keras.models.load_model('best_model_SaveModel_format')"
      ],
      "metadata": {
        "id": "uC2AbiZHbNnq"
      },
      "execution_count": null,
      "outputs": []
    },
    {
      "cell_type": "code",
      "source": [
        "loaded_SaveModel_format.predict(X_test)"
      ],
      "metadata": {
        "colab": {
          "base_uri": "https://localhost:8080/"
        },
        "id": "yABvfmW9bi-5",
        "outputId": "7a072a0e-0b14-4875-d8c0-f6cbce9a720f"
      },
      "execution_count": null,
      "outputs": [
        {
          "output_type": "stream",
          "name": "stdout",
          "text": [
            "1/1 [==============================] - 0s 327ms/step\n"
          ]
        },
        {
          "output_type": "execute_result",
          "data": {
            "text/plain": [
              "array([[ 78.30061 ],\n",
              "       [ 83.40437 ],\n",
              "       [ 88.508125],\n",
              "       [ 93.61188 ],\n",
              "       [ 98.71562 ],\n",
              "       [103.819374],\n",
              "       [108.923134],\n",
              "       [114.02689 ],\n",
              "       [119.130646],\n",
              "       [124.234406]], dtype=float32)"
            ]
          },
          "metadata": {},
          "execution_count": 84
        }
      ]
    },
    {
      "cell_type": "code",
      "source": [
        "loaded_SaveModel_format.summary()"
      ],
      "metadata": {
        "colab": {
          "base_uri": "https://localhost:8080/"
        },
        "id": "ZQzAf6s1b6YR",
        "outputId": "782ed712-4ba7-4813-bba8-91b9f73e5278"
      },
      "execution_count": null,
      "outputs": [
        {
          "output_type": "stream",
          "name": "stdout",
          "text": [
            "Model: \"sequential_11\"\n",
            "_________________________________________________________________\n",
            " Layer (type)                Output Shape              Param #   \n",
            "=================================================================\n",
            " dense_17 (Dense)            (None, 10)                20        \n",
            "                                                                 \n",
            " dense_18 (Dense)            (None, 1)                 11        \n",
            "                                                                 \n",
            "=================================================================\n",
            "Total params: 31\n",
            "Trainable params: 31\n",
            "Non-trainable params: 0\n",
            "_________________________________________________________________\n"
          ]
        }
      ]
    },
    {
      "cell_type": "code",
      "source": [
        "loaded_SaveModel_format.predict(X_test) == model_2.predict(X_test)"
      ],
      "metadata": {
        "colab": {
          "base_uri": "https://localhost:8080/"
        },
        "id": "SuWNoJ2_cNap",
        "outputId": "3b6a41af-10f6-4792-ccff-44bab6e398ae"
      },
      "execution_count": null,
      "outputs": [
        {
          "output_type": "stream",
          "name": "stdout",
          "text": [
            "1/1 [==============================] - 0s 42ms/step\n",
            "1/1 [==============================] - 0s 68ms/step\n"
          ]
        },
        {
          "output_type": "execute_result",
          "data": {
            "text/plain": [
              "array([[ True],\n",
              "       [ True],\n",
              "       [ True],\n",
              "       [ True],\n",
              "       [ True],\n",
              "       [ True],\n",
              "       [ True],\n",
              "       [ True],\n",
              "       [ True],\n",
              "       [ True]])"
            ]
          },
          "metadata": {},
          "execution_count": 86
        }
      ]
    },
    {
      "cell_type": "code",
      "source": [
        "loaded_HDF5_format = tf.keras.models.load_model(\"best_model_HDF5_format.h5\")"
      ],
      "metadata": {
        "id": "VeDYmKhYdB2a"
      },
      "execution_count": null,
      "outputs": []
    },
    {
      "cell_type": "code",
      "source": [
        "loaded_HDF5_format(X_test)"
      ],
      "metadata": {
        "colab": {
          "base_uri": "https://localhost:8080/"
        },
        "id": "5Uar5SeEdZer",
        "outputId": "4abcfa10-f0bb-431d-8a8b-93b9087e4112"
      },
      "execution_count": null,
      "outputs": [
        {
          "output_type": "execute_result",
          "data": {
            "text/plain": [
              "<tf.Tensor: shape=(10, 1), dtype=float32, numpy=\n",
              "array([[ 78.30061 ],\n",
              "       [ 83.40437 ],\n",
              "       [ 88.508125],\n",
              "       [ 93.61188 ],\n",
              "       [ 98.71562 ],\n",
              "       [103.819374],\n",
              "       [108.923134],\n",
              "       [114.02689 ],\n",
              "       [119.130646],\n",
              "       [124.234406]], dtype=float32)>"
            ]
          },
          "metadata": {},
          "execution_count": 89
        }
      ]
    },
    {
      "cell_type": "code",
      "source": [
        "model_2.predict(X_test) == loaded_HDF5_format(X_test)"
      ],
      "metadata": {
        "colab": {
          "base_uri": "https://localhost:8080/"
        },
        "id": "abl1CNXHdd4D",
        "outputId": "9407a3c4-af9e-4952-b207-80e571116d07"
      },
      "execution_count": null,
      "outputs": [
        {
          "output_type": "stream",
          "name": "stdout",
          "text": [
            "1/1 [==============================] - 0s 23ms/step\n"
          ]
        },
        {
          "output_type": "execute_result",
          "data": {
            "text/plain": [
              "<tf.Tensor: shape=(10, 1), dtype=bool, numpy=\n",
              "array([[ True],\n",
              "       [ True],\n",
              "       [ True],\n",
              "       [ True],\n",
              "       [ True],\n",
              "       [ True],\n",
              "       [ True],\n",
              "       [ True],\n",
              "       [ True],\n",
              "       [ True]])>"
            ]
          },
          "metadata": {},
          "execution_count": 91
        }
      ]
    },
    {
      "cell_type": "markdown",
      "source": [
        "## Large example of a regression problem"
      ],
      "metadata": {
        "id": "XgKdsUWahuT8"
      }
    },
    {
      "cell_type": "code",
      "source": [
        "import tensorflow as tf\n",
        "import pandas as pd\n",
        "import matplotlib.pyplot as plt\n",
        "from sklearn.model_selection import train_test_split"
      ],
      "metadata": {
        "id": "0Y7gWxmyiQ5-"
      },
      "execution_count": null,
      "outputs": []
    },
    {
      "cell_type": "code",
      "source": [
        "df = pd.read_csv('https://raw.githubusercontent.com/stedy/Machine-Learning-with-R-datasets/master/insurance.csv')\n",
        "df.head()"
      ],
      "metadata": {
        "colab": {
          "base_uri": "https://localhost:8080/",
          "height": 206
        },
        "id": "8Gg0AoAfh68v",
        "outputId": "3e3289ba-0624-47f1-99d6-da307c676314"
      },
      "execution_count": null,
      "outputs": [
        {
          "output_type": "execute_result",
          "data": {
            "text/plain": [
              "   age     sex     bmi  children smoker     region      charges\n",
              "0   19  female  27.900         0    yes  southwest  16884.92400\n",
              "1   18    male  33.770         1     no  southeast   1725.55230\n",
              "2   28    male  33.000         3     no  southeast   4449.46200\n",
              "3   33    male  22.705         0     no  northwest  21984.47061\n",
              "4   32    male  28.880         0     no  northwest   3866.85520"
            ],
            "text/html": [
              "\n",
              "  <div id=\"df-ca1e6e66-164c-4d5c-8187-83ef40bf6d24\">\n",
              "    <div class=\"colab-df-container\">\n",
              "      <div>\n",
              "<style scoped>\n",
              "    .dataframe tbody tr th:only-of-type {\n",
              "        vertical-align: middle;\n",
              "    }\n",
              "\n",
              "    .dataframe tbody tr th {\n",
              "        vertical-align: top;\n",
              "    }\n",
              "\n",
              "    .dataframe thead th {\n",
              "        text-align: right;\n",
              "    }\n",
              "</style>\n",
              "<table border=\"1\" class=\"dataframe\">\n",
              "  <thead>\n",
              "    <tr style=\"text-align: right;\">\n",
              "      <th></th>\n",
              "      <th>age</th>\n",
              "      <th>sex</th>\n",
              "      <th>bmi</th>\n",
              "      <th>children</th>\n",
              "      <th>smoker</th>\n",
              "      <th>region</th>\n",
              "      <th>charges</th>\n",
              "    </tr>\n",
              "  </thead>\n",
              "  <tbody>\n",
              "    <tr>\n",
              "      <th>0</th>\n",
              "      <td>19</td>\n",
              "      <td>female</td>\n",
              "      <td>27.900</td>\n",
              "      <td>0</td>\n",
              "      <td>yes</td>\n",
              "      <td>southwest</td>\n",
              "      <td>16884.92400</td>\n",
              "    </tr>\n",
              "    <tr>\n",
              "      <th>1</th>\n",
              "      <td>18</td>\n",
              "      <td>male</td>\n",
              "      <td>33.770</td>\n",
              "      <td>1</td>\n",
              "      <td>no</td>\n",
              "      <td>southeast</td>\n",
              "      <td>1725.55230</td>\n",
              "    </tr>\n",
              "    <tr>\n",
              "      <th>2</th>\n",
              "      <td>28</td>\n",
              "      <td>male</td>\n",
              "      <td>33.000</td>\n",
              "      <td>3</td>\n",
              "      <td>no</td>\n",
              "      <td>southeast</td>\n",
              "      <td>4449.46200</td>\n",
              "    </tr>\n",
              "    <tr>\n",
              "      <th>3</th>\n",
              "      <td>33</td>\n",
              "      <td>male</td>\n",
              "      <td>22.705</td>\n",
              "      <td>0</td>\n",
              "      <td>no</td>\n",
              "      <td>northwest</td>\n",
              "      <td>21984.47061</td>\n",
              "    </tr>\n",
              "    <tr>\n",
              "      <th>4</th>\n",
              "      <td>32</td>\n",
              "      <td>male</td>\n",
              "      <td>28.880</td>\n",
              "      <td>0</td>\n",
              "      <td>no</td>\n",
              "      <td>northwest</td>\n",
              "      <td>3866.85520</td>\n",
              "    </tr>\n",
              "  </tbody>\n",
              "</table>\n",
              "</div>\n",
              "      <button class=\"colab-df-convert\" onclick=\"convertToInteractive('df-ca1e6e66-164c-4d5c-8187-83ef40bf6d24')\"\n",
              "              title=\"Convert this dataframe to an interactive table.\"\n",
              "              style=\"display:none;\">\n",
              "        \n",
              "  <svg xmlns=\"http://www.w3.org/2000/svg\" height=\"24px\"viewBox=\"0 0 24 24\"\n",
              "       width=\"24px\">\n",
              "    <path d=\"M0 0h24v24H0V0z\" fill=\"none\"/>\n",
              "    <path d=\"M18.56 5.44l.94 2.06.94-2.06 2.06-.94-2.06-.94-.94-2.06-.94 2.06-2.06.94zm-11 1L8.5 8.5l.94-2.06 2.06-.94-2.06-.94L8.5 2.5l-.94 2.06-2.06.94zm10 10l.94 2.06.94-2.06 2.06-.94-2.06-.94-.94-2.06-.94 2.06-2.06.94z\"/><path d=\"M17.41 7.96l-1.37-1.37c-.4-.4-.92-.59-1.43-.59-.52 0-1.04.2-1.43.59L10.3 9.45l-7.72 7.72c-.78.78-.78 2.05 0 2.83L4 21.41c.39.39.9.59 1.41.59.51 0 1.02-.2 1.41-.59l7.78-7.78 2.81-2.81c.8-.78.8-2.07 0-2.86zM5.41 20L4 18.59l7.72-7.72 1.47 1.35L5.41 20z\"/>\n",
              "  </svg>\n",
              "      </button>\n",
              "      \n",
              "  <style>\n",
              "    .colab-df-container {\n",
              "      display:flex;\n",
              "      flex-wrap:wrap;\n",
              "      gap: 12px;\n",
              "    }\n",
              "\n",
              "    .colab-df-convert {\n",
              "      background-color: #E8F0FE;\n",
              "      border: none;\n",
              "      border-radius: 50%;\n",
              "      cursor: pointer;\n",
              "      display: none;\n",
              "      fill: #1967D2;\n",
              "      height: 32px;\n",
              "      padding: 0 0 0 0;\n",
              "      width: 32px;\n",
              "    }\n",
              "\n",
              "    .colab-df-convert:hover {\n",
              "      background-color: #E2EBFA;\n",
              "      box-shadow: 0px 1px 2px rgba(60, 64, 67, 0.3), 0px 1px 3px 1px rgba(60, 64, 67, 0.15);\n",
              "      fill: #174EA6;\n",
              "    }\n",
              "\n",
              "    [theme=dark] .colab-df-convert {\n",
              "      background-color: #3B4455;\n",
              "      fill: #D2E3FC;\n",
              "    }\n",
              "\n",
              "    [theme=dark] .colab-df-convert:hover {\n",
              "      background-color: #434B5C;\n",
              "      box-shadow: 0px 1px 3px 1px rgba(0, 0, 0, 0.15);\n",
              "      filter: drop-shadow(0px 1px 2px rgba(0, 0, 0, 0.3));\n",
              "      fill: #FFFFFF;\n",
              "    }\n",
              "  </style>\n",
              "\n",
              "      <script>\n",
              "        const buttonEl =\n",
              "          document.querySelector('#df-ca1e6e66-164c-4d5c-8187-83ef40bf6d24 button.colab-df-convert');\n",
              "        buttonEl.style.display =\n",
              "          google.colab.kernel.accessAllowed ? 'block' : 'none';\n",
              "\n",
              "        async function convertToInteractive(key) {\n",
              "          const element = document.querySelector('#df-ca1e6e66-164c-4d5c-8187-83ef40bf6d24');\n",
              "          const dataTable =\n",
              "            await google.colab.kernel.invokeFunction('convertToInteractive',\n",
              "                                                     [key], {});\n",
              "          if (!dataTable) return;\n",
              "\n",
              "          const docLinkHtml = 'Like what you see? Visit the ' +\n",
              "            '<a target=\"_blank\" href=https://colab.research.google.com/notebooks/data_table.ipynb>data table notebook</a>'\n",
              "            + ' to learn more about interactive tables.';\n",
              "          element.innerHTML = '';\n",
              "          dataTable['output_type'] = 'display_data';\n",
              "          await google.colab.output.renderOutput(dataTable, element);\n",
              "          const docLink = document.createElement('div');\n",
              "          docLink.innerHTML = docLinkHtml;\n",
              "          element.appendChild(docLink);\n",
              "        }\n",
              "      </script>\n",
              "    </div>\n",
              "  </div>\n",
              "  "
            ]
          },
          "metadata": {},
          "execution_count": 3
        }
      ]
    },
    {
      "cell_type": "code",
      "source": [
        "#One hot econding\n",
        "df = pd.get_dummies(df, prefix=[\"sex_encoded\", \"smoker_encoded\", \"region_encoded\"])"
      ],
      "metadata": {
        "id": "-PuGNuU9jmXl"
      },
      "execution_count": null,
      "outputs": []
    },
    {
      "cell_type": "code",
      "source": [
        "df.head()"
      ],
      "metadata": {
        "colab": {
          "base_uri": "https://localhost:8080/",
          "height": 270
        },
        "id": "l4whzwwJkVRS",
        "outputId": "e2bea8da-69ba-4971-d9cd-5c98324e7004"
      },
      "execution_count": null,
      "outputs": [
        {
          "output_type": "execute_result",
          "data": {
            "text/plain": [
              "   age     bmi  children      charges  sex_encoded_female  sex_encoded_male  \\\n",
              "0   19  27.900         0  16884.92400                   1                 0   \n",
              "1   18  33.770         1   1725.55230                   0                 1   \n",
              "2   28  33.000         3   4449.46200                   0                 1   \n",
              "3   33  22.705         0  21984.47061                   0                 1   \n",
              "4   32  28.880         0   3866.85520                   0                 1   \n",
              "\n",
              "   smoker_encoded_no  smoker_encoded_yes  region_encoded_northeast  \\\n",
              "0                  0                   1                         0   \n",
              "1                  1                   0                         0   \n",
              "2                  1                   0                         0   \n",
              "3                  1                   0                         0   \n",
              "4                  1                   0                         0   \n",
              "\n",
              "   region_encoded_northwest  region_encoded_southeast  \\\n",
              "0                         0                         0   \n",
              "1                         0                         1   \n",
              "2                         0                         1   \n",
              "3                         1                         0   \n",
              "4                         1                         0   \n",
              "\n",
              "   region_encoded_southwest  \n",
              "0                         1  \n",
              "1                         0  \n",
              "2                         0  \n",
              "3                         0  \n",
              "4                         0  "
            ],
            "text/html": [
              "\n",
              "  <div id=\"df-2fe0e5c3-57f1-4a46-ae92-2a453f82539c\">\n",
              "    <div class=\"colab-df-container\">\n",
              "      <div>\n",
              "<style scoped>\n",
              "    .dataframe tbody tr th:only-of-type {\n",
              "        vertical-align: middle;\n",
              "    }\n",
              "\n",
              "    .dataframe tbody tr th {\n",
              "        vertical-align: top;\n",
              "    }\n",
              "\n",
              "    .dataframe thead th {\n",
              "        text-align: right;\n",
              "    }\n",
              "</style>\n",
              "<table border=\"1\" class=\"dataframe\">\n",
              "  <thead>\n",
              "    <tr style=\"text-align: right;\">\n",
              "      <th></th>\n",
              "      <th>age</th>\n",
              "      <th>bmi</th>\n",
              "      <th>children</th>\n",
              "      <th>charges</th>\n",
              "      <th>sex_encoded_female</th>\n",
              "      <th>sex_encoded_male</th>\n",
              "      <th>smoker_encoded_no</th>\n",
              "      <th>smoker_encoded_yes</th>\n",
              "      <th>region_encoded_northeast</th>\n",
              "      <th>region_encoded_northwest</th>\n",
              "      <th>region_encoded_southeast</th>\n",
              "      <th>region_encoded_southwest</th>\n",
              "    </tr>\n",
              "  </thead>\n",
              "  <tbody>\n",
              "    <tr>\n",
              "      <th>0</th>\n",
              "      <td>19</td>\n",
              "      <td>27.900</td>\n",
              "      <td>0</td>\n",
              "      <td>16884.92400</td>\n",
              "      <td>1</td>\n",
              "      <td>0</td>\n",
              "      <td>0</td>\n",
              "      <td>1</td>\n",
              "      <td>0</td>\n",
              "      <td>0</td>\n",
              "      <td>0</td>\n",
              "      <td>1</td>\n",
              "    </tr>\n",
              "    <tr>\n",
              "      <th>1</th>\n",
              "      <td>18</td>\n",
              "      <td>33.770</td>\n",
              "      <td>1</td>\n",
              "      <td>1725.55230</td>\n",
              "      <td>0</td>\n",
              "      <td>1</td>\n",
              "      <td>1</td>\n",
              "      <td>0</td>\n",
              "      <td>0</td>\n",
              "      <td>0</td>\n",
              "      <td>1</td>\n",
              "      <td>0</td>\n",
              "    </tr>\n",
              "    <tr>\n",
              "      <th>2</th>\n",
              "      <td>28</td>\n",
              "      <td>33.000</td>\n",
              "      <td>3</td>\n",
              "      <td>4449.46200</td>\n",
              "      <td>0</td>\n",
              "      <td>1</td>\n",
              "      <td>1</td>\n",
              "      <td>0</td>\n",
              "      <td>0</td>\n",
              "      <td>0</td>\n",
              "      <td>1</td>\n",
              "      <td>0</td>\n",
              "    </tr>\n",
              "    <tr>\n",
              "      <th>3</th>\n",
              "      <td>33</td>\n",
              "      <td>22.705</td>\n",
              "      <td>0</td>\n",
              "      <td>21984.47061</td>\n",
              "      <td>0</td>\n",
              "      <td>1</td>\n",
              "      <td>1</td>\n",
              "      <td>0</td>\n",
              "      <td>0</td>\n",
              "      <td>1</td>\n",
              "      <td>0</td>\n",
              "      <td>0</td>\n",
              "    </tr>\n",
              "    <tr>\n",
              "      <th>4</th>\n",
              "      <td>32</td>\n",
              "      <td>28.880</td>\n",
              "      <td>0</td>\n",
              "      <td>3866.85520</td>\n",
              "      <td>0</td>\n",
              "      <td>1</td>\n",
              "      <td>1</td>\n",
              "      <td>0</td>\n",
              "      <td>0</td>\n",
              "      <td>1</td>\n",
              "      <td>0</td>\n",
              "      <td>0</td>\n",
              "    </tr>\n",
              "  </tbody>\n",
              "</table>\n",
              "</div>\n",
              "      <button class=\"colab-df-convert\" onclick=\"convertToInteractive('df-2fe0e5c3-57f1-4a46-ae92-2a453f82539c')\"\n",
              "              title=\"Convert this dataframe to an interactive table.\"\n",
              "              style=\"display:none;\">\n",
              "        \n",
              "  <svg xmlns=\"http://www.w3.org/2000/svg\" height=\"24px\"viewBox=\"0 0 24 24\"\n",
              "       width=\"24px\">\n",
              "    <path d=\"M0 0h24v24H0V0z\" fill=\"none\"/>\n",
              "    <path d=\"M18.56 5.44l.94 2.06.94-2.06 2.06-.94-2.06-.94-.94-2.06-.94 2.06-2.06.94zm-11 1L8.5 8.5l.94-2.06 2.06-.94-2.06-.94L8.5 2.5l-.94 2.06-2.06.94zm10 10l.94 2.06.94-2.06 2.06-.94-2.06-.94-.94-2.06-.94 2.06-2.06.94z\"/><path d=\"M17.41 7.96l-1.37-1.37c-.4-.4-.92-.59-1.43-.59-.52 0-1.04.2-1.43.59L10.3 9.45l-7.72 7.72c-.78.78-.78 2.05 0 2.83L4 21.41c.39.39.9.59 1.41.59.51 0 1.02-.2 1.41-.59l7.78-7.78 2.81-2.81c.8-.78.8-2.07 0-2.86zM5.41 20L4 18.59l7.72-7.72 1.47 1.35L5.41 20z\"/>\n",
              "  </svg>\n",
              "      </button>\n",
              "      \n",
              "  <style>\n",
              "    .colab-df-container {\n",
              "      display:flex;\n",
              "      flex-wrap:wrap;\n",
              "      gap: 12px;\n",
              "    }\n",
              "\n",
              "    .colab-df-convert {\n",
              "      background-color: #E8F0FE;\n",
              "      border: none;\n",
              "      border-radius: 50%;\n",
              "      cursor: pointer;\n",
              "      display: none;\n",
              "      fill: #1967D2;\n",
              "      height: 32px;\n",
              "      padding: 0 0 0 0;\n",
              "      width: 32px;\n",
              "    }\n",
              "\n",
              "    .colab-df-convert:hover {\n",
              "      background-color: #E2EBFA;\n",
              "      box-shadow: 0px 1px 2px rgba(60, 64, 67, 0.3), 0px 1px 3px 1px rgba(60, 64, 67, 0.15);\n",
              "      fill: #174EA6;\n",
              "    }\n",
              "\n",
              "    [theme=dark] .colab-df-convert {\n",
              "      background-color: #3B4455;\n",
              "      fill: #D2E3FC;\n",
              "    }\n",
              "\n",
              "    [theme=dark] .colab-df-convert:hover {\n",
              "      background-color: #434B5C;\n",
              "      box-shadow: 0px 1px 3px 1px rgba(0, 0, 0, 0.15);\n",
              "      filter: drop-shadow(0px 1px 2px rgba(0, 0, 0, 0.3));\n",
              "      fill: #FFFFFF;\n",
              "    }\n",
              "  </style>\n",
              "\n",
              "      <script>\n",
              "        const buttonEl =\n",
              "          document.querySelector('#df-2fe0e5c3-57f1-4a46-ae92-2a453f82539c button.colab-df-convert');\n",
              "        buttonEl.style.display =\n",
              "          google.colab.kernel.accessAllowed ? 'block' : 'none';\n",
              "\n",
              "        async function convertToInteractive(key) {\n",
              "          const element = document.querySelector('#df-2fe0e5c3-57f1-4a46-ae92-2a453f82539c');\n",
              "          const dataTable =\n",
              "            await google.colab.kernel.invokeFunction('convertToInteractive',\n",
              "                                                     [key], {});\n",
              "          if (!dataTable) return;\n",
              "\n",
              "          const docLinkHtml = 'Like what you see? Visit the ' +\n",
              "            '<a target=\"_blank\" href=https://colab.research.google.com/notebooks/data_table.ipynb>data table notebook</a>'\n",
              "            + ' to learn more about interactive tables.';\n",
              "          element.innerHTML = '';\n",
              "          dataTable['output_type'] = 'display_data';\n",
              "          await google.colab.output.renderOutput(dataTable, element);\n",
              "          const docLink = document.createElement('div');\n",
              "          docLink.innerHTML = docLinkHtml;\n",
              "          element.appendChild(docLink);\n",
              "        }\n",
              "      </script>\n",
              "    </div>\n",
              "  </div>\n",
              "  "
            ]
          },
          "metadata": {},
          "execution_count": 5
        }
      ]
    },
    {
      "cell_type": "code",
      "source": [
        "# Create X & y values (fetures and labels)\n",
        "X = df.drop(\"charges\", axis=1)\n",
        "y = df[\"charges\"]"
      ],
      "metadata": {
        "id": "-nK4RJwRmKXL"
      },
      "execution_count": null,
      "outputs": []
    },
    {
      "cell_type": "code",
      "source": [
        "X.head()"
      ],
      "metadata": {
        "colab": {
          "base_uri": "https://localhost:8080/",
          "height": 270
        },
        "id": "9aBclwKcm5n6",
        "outputId": "f5ea22a1-85cb-4234-9d7b-a2eb6f003339"
      },
      "execution_count": null,
      "outputs": [
        {
          "output_type": "execute_result",
          "data": {
            "text/plain": [
              "   age     bmi  children  sex_encoded_female  sex_encoded_male  \\\n",
              "0   19  27.900         0                   1                 0   \n",
              "1   18  33.770         1                   0                 1   \n",
              "2   28  33.000         3                   0                 1   \n",
              "3   33  22.705         0                   0                 1   \n",
              "4   32  28.880         0                   0                 1   \n",
              "\n",
              "   smoker_encoded_no  smoker_encoded_yes  region_encoded_northeast  \\\n",
              "0                  0                   1                         0   \n",
              "1                  1                   0                         0   \n",
              "2                  1                   0                         0   \n",
              "3                  1                   0                         0   \n",
              "4                  1                   0                         0   \n",
              "\n",
              "   region_encoded_northwest  region_encoded_southeast  \\\n",
              "0                         0                         0   \n",
              "1                         0                         1   \n",
              "2                         0                         1   \n",
              "3                         1                         0   \n",
              "4                         1                         0   \n",
              "\n",
              "   region_encoded_southwest  \n",
              "0                         1  \n",
              "1                         0  \n",
              "2                         0  \n",
              "3                         0  \n",
              "4                         0  "
            ],
            "text/html": [
              "\n",
              "  <div id=\"df-76979bbe-880e-4cb9-9db0-0958e8dc7abb\">\n",
              "    <div class=\"colab-df-container\">\n",
              "      <div>\n",
              "<style scoped>\n",
              "    .dataframe tbody tr th:only-of-type {\n",
              "        vertical-align: middle;\n",
              "    }\n",
              "\n",
              "    .dataframe tbody tr th {\n",
              "        vertical-align: top;\n",
              "    }\n",
              "\n",
              "    .dataframe thead th {\n",
              "        text-align: right;\n",
              "    }\n",
              "</style>\n",
              "<table border=\"1\" class=\"dataframe\">\n",
              "  <thead>\n",
              "    <tr style=\"text-align: right;\">\n",
              "      <th></th>\n",
              "      <th>age</th>\n",
              "      <th>bmi</th>\n",
              "      <th>children</th>\n",
              "      <th>sex_encoded_female</th>\n",
              "      <th>sex_encoded_male</th>\n",
              "      <th>smoker_encoded_no</th>\n",
              "      <th>smoker_encoded_yes</th>\n",
              "      <th>region_encoded_northeast</th>\n",
              "      <th>region_encoded_northwest</th>\n",
              "      <th>region_encoded_southeast</th>\n",
              "      <th>region_encoded_southwest</th>\n",
              "    </tr>\n",
              "  </thead>\n",
              "  <tbody>\n",
              "    <tr>\n",
              "      <th>0</th>\n",
              "      <td>19</td>\n",
              "      <td>27.900</td>\n",
              "      <td>0</td>\n",
              "      <td>1</td>\n",
              "      <td>0</td>\n",
              "      <td>0</td>\n",
              "      <td>1</td>\n",
              "      <td>0</td>\n",
              "      <td>0</td>\n",
              "      <td>0</td>\n",
              "      <td>1</td>\n",
              "    </tr>\n",
              "    <tr>\n",
              "      <th>1</th>\n",
              "      <td>18</td>\n",
              "      <td>33.770</td>\n",
              "      <td>1</td>\n",
              "      <td>0</td>\n",
              "      <td>1</td>\n",
              "      <td>1</td>\n",
              "      <td>0</td>\n",
              "      <td>0</td>\n",
              "      <td>0</td>\n",
              "      <td>1</td>\n",
              "      <td>0</td>\n",
              "    </tr>\n",
              "    <tr>\n",
              "      <th>2</th>\n",
              "      <td>28</td>\n",
              "      <td>33.000</td>\n",
              "      <td>3</td>\n",
              "      <td>0</td>\n",
              "      <td>1</td>\n",
              "      <td>1</td>\n",
              "      <td>0</td>\n",
              "      <td>0</td>\n",
              "      <td>0</td>\n",
              "      <td>1</td>\n",
              "      <td>0</td>\n",
              "    </tr>\n",
              "    <tr>\n",
              "      <th>3</th>\n",
              "      <td>33</td>\n",
              "      <td>22.705</td>\n",
              "      <td>0</td>\n",
              "      <td>0</td>\n",
              "      <td>1</td>\n",
              "      <td>1</td>\n",
              "      <td>0</td>\n",
              "      <td>0</td>\n",
              "      <td>1</td>\n",
              "      <td>0</td>\n",
              "      <td>0</td>\n",
              "    </tr>\n",
              "    <tr>\n",
              "      <th>4</th>\n",
              "      <td>32</td>\n",
              "      <td>28.880</td>\n",
              "      <td>0</td>\n",
              "      <td>0</td>\n",
              "      <td>1</td>\n",
              "      <td>1</td>\n",
              "      <td>0</td>\n",
              "      <td>0</td>\n",
              "      <td>1</td>\n",
              "      <td>0</td>\n",
              "      <td>0</td>\n",
              "    </tr>\n",
              "  </tbody>\n",
              "</table>\n",
              "</div>\n",
              "      <button class=\"colab-df-convert\" onclick=\"convertToInteractive('df-76979bbe-880e-4cb9-9db0-0958e8dc7abb')\"\n",
              "              title=\"Convert this dataframe to an interactive table.\"\n",
              "              style=\"display:none;\">\n",
              "        \n",
              "  <svg xmlns=\"http://www.w3.org/2000/svg\" height=\"24px\"viewBox=\"0 0 24 24\"\n",
              "       width=\"24px\">\n",
              "    <path d=\"M0 0h24v24H0V0z\" fill=\"none\"/>\n",
              "    <path d=\"M18.56 5.44l.94 2.06.94-2.06 2.06-.94-2.06-.94-.94-2.06-.94 2.06-2.06.94zm-11 1L8.5 8.5l.94-2.06 2.06-.94-2.06-.94L8.5 2.5l-.94 2.06-2.06.94zm10 10l.94 2.06.94-2.06 2.06-.94-2.06-.94-.94-2.06-.94 2.06-2.06.94z\"/><path d=\"M17.41 7.96l-1.37-1.37c-.4-.4-.92-.59-1.43-.59-.52 0-1.04.2-1.43.59L10.3 9.45l-7.72 7.72c-.78.78-.78 2.05 0 2.83L4 21.41c.39.39.9.59 1.41.59.51 0 1.02-.2 1.41-.59l7.78-7.78 2.81-2.81c.8-.78.8-2.07 0-2.86zM5.41 20L4 18.59l7.72-7.72 1.47 1.35L5.41 20z\"/>\n",
              "  </svg>\n",
              "      </button>\n",
              "      \n",
              "  <style>\n",
              "    .colab-df-container {\n",
              "      display:flex;\n",
              "      flex-wrap:wrap;\n",
              "      gap: 12px;\n",
              "    }\n",
              "\n",
              "    .colab-df-convert {\n",
              "      background-color: #E8F0FE;\n",
              "      border: none;\n",
              "      border-radius: 50%;\n",
              "      cursor: pointer;\n",
              "      display: none;\n",
              "      fill: #1967D2;\n",
              "      height: 32px;\n",
              "      padding: 0 0 0 0;\n",
              "      width: 32px;\n",
              "    }\n",
              "\n",
              "    .colab-df-convert:hover {\n",
              "      background-color: #E2EBFA;\n",
              "      box-shadow: 0px 1px 2px rgba(60, 64, 67, 0.3), 0px 1px 3px 1px rgba(60, 64, 67, 0.15);\n",
              "      fill: #174EA6;\n",
              "    }\n",
              "\n",
              "    [theme=dark] .colab-df-convert {\n",
              "      background-color: #3B4455;\n",
              "      fill: #D2E3FC;\n",
              "    }\n",
              "\n",
              "    [theme=dark] .colab-df-convert:hover {\n",
              "      background-color: #434B5C;\n",
              "      box-shadow: 0px 1px 3px 1px rgba(0, 0, 0, 0.15);\n",
              "      filter: drop-shadow(0px 1px 2px rgba(0, 0, 0, 0.3));\n",
              "      fill: #FFFFFF;\n",
              "    }\n",
              "  </style>\n",
              "\n",
              "      <script>\n",
              "        const buttonEl =\n",
              "          document.querySelector('#df-76979bbe-880e-4cb9-9db0-0958e8dc7abb button.colab-df-convert');\n",
              "        buttonEl.style.display =\n",
              "          google.colab.kernel.accessAllowed ? 'block' : 'none';\n",
              "\n",
              "        async function convertToInteractive(key) {\n",
              "          const element = document.querySelector('#df-76979bbe-880e-4cb9-9db0-0958e8dc7abb');\n",
              "          const dataTable =\n",
              "            await google.colab.kernel.invokeFunction('convertToInteractive',\n",
              "                                                     [key], {});\n",
              "          if (!dataTable) return;\n",
              "\n",
              "          const docLinkHtml = 'Like what you see? Visit the ' +\n",
              "            '<a target=\"_blank\" href=https://colab.research.google.com/notebooks/data_table.ipynb>data table notebook</a>'\n",
              "            + ' to learn more about interactive tables.';\n",
              "          element.innerHTML = '';\n",
              "          dataTable['output_type'] = 'display_data';\n",
              "          await google.colab.output.renderOutput(dataTable, element);\n",
              "          const docLink = document.createElement('div');\n",
              "          docLink.innerHTML = docLinkHtml;\n",
              "          element.appendChild(docLink);\n",
              "        }\n",
              "      </script>\n",
              "    </div>\n",
              "  </div>\n",
              "  "
            ]
          },
          "metadata": {},
          "execution_count": 10
        }
      ]
    },
    {
      "cell_type": "code",
      "source": [
        "y.view()"
      ],
      "metadata": {
        "colab": {
          "base_uri": "https://localhost:8080/"
        },
        "id": "MIbQVvvJnFj7",
        "outputId": "ea69a761-6b54-412b-8080-14fdb4d5df37"
      },
      "execution_count": null,
      "outputs": [
        {
          "output_type": "execute_result",
          "data": {
            "text/plain": [
              "0       16884.92400\n",
              "1        1725.55230\n",
              "2        4449.46200\n",
              "3       21984.47061\n",
              "4        3866.85520\n",
              "           ...     \n",
              "1333    10600.54830\n",
              "1334     2205.98080\n",
              "1335     1629.83350\n",
              "1336     2007.94500\n",
              "1337    29141.36030\n",
              "Name: charges, Length: 1338, dtype: float64"
            ]
          },
          "metadata": {},
          "execution_count": 11
        }
      ]
    },
    {
      "cell_type": "code",
      "source": [
        "X_train, X_test, y_train, y_test = train_test_split(X, y, test_size=0.2, random_state=42)"
      ],
      "metadata": {
        "id": "LsSzmhtyndNm"
      },
      "execution_count": null,
      "outputs": []
    },
    {
      "cell_type": "code",
      "source": [
        "print(\"Shape of train data:\")\n",
        "print(X_train.shape, y_test.shape, \"\\n\")\n",
        "print(\"Shape of test data:\")\n",
        "X_test.shape, y_test.shape"
      ],
      "metadata": {
        "colab": {
          "base_uri": "https://localhost:8080/"
        },
        "id": "ckRBRK0Gn9KI",
        "outputId": "ce52e967-81b5-46a0-b988-cce2e59c8478"
      },
      "execution_count": null,
      "outputs": [
        {
          "output_type": "stream",
          "name": "stdout",
          "text": [
            "Shape of train data:\n",
            "(1070, 11) (268,) \n",
            "\n",
            "Shape of test data:\n"
          ]
        },
        {
          "output_type": "execute_result",
          "data": {
            "text/plain": [
              "((268, 11), (268,))"
            ]
          },
          "metadata": {},
          "execution_count": 16
        }
      ]
    },
    {
      "cell_type": "code",
      "source": [
        "X_train.head()"
      ],
      "metadata": {
        "colab": {
          "base_uri": "https://localhost:8080/",
          "height": 270
        },
        "id": "zNCgPmzSoqwo",
        "outputId": "577b8ea3-7a9d-4a99-b234-067f73e1ce3b"
      },
      "execution_count": null,
      "outputs": [
        {
          "output_type": "execute_result",
          "data": {
            "text/plain": [
              "      age    bmi  children  sex_encoded_female  sex_encoded_male  \\\n",
              "560    46  19.95         2                   1                 0   \n",
              "1285   47  24.32         0                   1                 0   \n",
              "1142   52  24.86         0                   1                 0   \n",
              "969    39  34.32         5                   1                 0   \n",
              "486    54  21.47         3                   1                 0   \n",
              "\n",
              "      smoker_encoded_no  smoker_encoded_yes  region_encoded_northeast  \\\n",
              "560                   1                   0                         0   \n",
              "1285                  1                   0                         1   \n",
              "1142                  1                   0                         0   \n",
              "969                   1                   0                         0   \n",
              "486                   1                   0                         0   \n",
              "\n",
              "      region_encoded_northwest  region_encoded_southeast  \\\n",
              "560                          1                         0   \n",
              "1285                         0                         0   \n",
              "1142                         0                         1   \n",
              "969                          0                         1   \n",
              "486                          1                         0   \n",
              "\n",
              "      region_encoded_southwest  \n",
              "560                          0  \n",
              "1285                         0  \n",
              "1142                         0  \n",
              "969                          0  \n",
              "486                          0  "
            ],
            "text/html": [
              "\n",
              "  <div id=\"df-edca7494-a18a-4395-bf05-837adc5064dc\">\n",
              "    <div class=\"colab-df-container\">\n",
              "      <div>\n",
              "<style scoped>\n",
              "    .dataframe tbody tr th:only-of-type {\n",
              "        vertical-align: middle;\n",
              "    }\n",
              "\n",
              "    .dataframe tbody tr th {\n",
              "        vertical-align: top;\n",
              "    }\n",
              "\n",
              "    .dataframe thead th {\n",
              "        text-align: right;\n",
              "    }\n",
              "</style>\n",
              "<table border=\"1\" class=\"dataframe\">\n",
              "  <thead>\n",
              "    <tr style=\"text-align: right;\">\n",
              "      <th></th>\n",
              "      <th>age</th>\n",
              "      <th>bmi</th>\n",
              "      <th>children</th>\n",
              "      <th>sex_encoded_female</th>\n",
              "      <th>sex_encoded_male</th>\n",
              "      <th>smoker_encoded_no</th>\n",
              "      <th>smoker_encoded_yes</th>\n",
              "      <th>region_encoded_northeast</th>\n",
              "      <th>region_encoded_northwest</th>\n",
              "      <th>region_encoded_southeast</th>\n",
              "      <th>region_encoded_southwest</th>\n",
              "    </tr>\n",
              "  </thead>\n",
              "  <tbody>\n",
              "    <tr>\n",
              "      <th>560</th>\n",
              "      <td>46</td>\n",
              "      <td>19.95</td>\n",
              "      <td>2</td>\n",
              "      <td>1</td>\n",
              "      <td>0</td>\n",
              "      <td>1</td>\n",
              "      <td>0</td>\n",
              "      <td>0</td>\n",
              "      <td>1</td>\n",
              "      <td>0</td>\n",
              "      <td>0</td>\n",
              "    </tr>\n",
              "    <tr>\n",
              "      <th>1285</th>\n",
              "      <td>47</td>\n",
              "      <td>24.32</td>\n",
              "      <td>0</td>\n",
              "      <td>1</td>\n",
              "      <td>0</td>\n",
              "      <td>1</td>\n",
              "      <td>0</td>\n",
              "      <td>1</td>\n",
              "      <td>0</td>\n",
              "      <td>0</td>\n",
              "      <td>0</td>\n",
              "    </tr>\n",
              "    <tr>\n",
              "      <th>1142</th>\n",
              "      <td>52</td>\n",
              "      <td>24.86</td>\n",
              "      <td>0</td>\n",
              "      <td>1</td>\n",
              "      <td>0</td>\n",
              "      <td>1</td>\n",
              "      <td>0</td>\n",
              "      <td>0</td>\n",
              "      <td>0</td>\n",
              "      <td>1</td>\n",
              "      <td>0</td>\n",
              "    </tr>\n",
              "    <tr>\n",
              "      <th>969</th>\n",
              "      <td>39</td>\n",
              "      <td>34.32</td>\n",
              "      <td>5</td>\n",
              "      <td>1</td>\n",
              "      <td>0</td>\n",
              "      <td>1</td>\n",
              "      <td>0</td>\n",
              "      <td>0</td>\n",
              "      <td>0</td>\n",
              "      <td>1</td>\n",
              "      <td>0</td>\n",
              "    </tr>\n",
              "    <tr>\n",
              "      <th>486</th>\n",
              "      <td>54</td>\n",
              "      <td>21.47</td>\n",
              "      <td>3</td>\n",
              "      <td>1</td>\n",
              "      <td>0</td>\n",
              "      <td>1</td>\n",
              "      <td>0</td>\n",
              "      <td>0</td>\n",
              "      <td>1</td>\n",
              "      <td>0</td>\n",
              "      <td>0</td>\n",
              "    </tr>\n",
              "  </tbody>\n",
              "</table>\n",
              "</div>\n",
              "      <button class=\"colab-df-convert\" onclick=\"convertToInteractive('df-edca7494-a18a-4395-bf05-837adc5064dc')\"\n",
              "              title=\"Convert this dataframe to an interactive table.\"\n",
              "              style=\"display:none;\">\n",
              "        \n",
              "  <svg xmlns=\"http://www.w3.org/2000/svg\" height=\"24px\"viewBox=\"0 0 24 24\"\n",
              "       width=\"24px\">\n",
              "    <path d=\"M0 0h24v24H0V0z\" fill=\"none\"/>\n",
              "    <path d=\"M18.56 5.44l.94 2.06.94-2.06 2.06-.94-2.06-.94-.94-2.06-.94 2.06-2.06.94zm-11 1L8.5 8.5l.94-2.06 2.06-.94-2.06-.94L8.5 2.5l-.94 2.06-2.06.94zm10 10l.94 2.06.94-2.06 2.06-.94-2.06-.94-.94-2.06-.94 2.06-2.06.94z\"/><path d=\"M17.41 7.96l-1.37-1.37c-.4-.4-.92-.59-1.43-.59-.52 0-1.04.2-1.43.59L10.3 9.45l-7.72 7.72c-.78.78-.78 2.05 0 2.83L4 21.41c.39.39.9.59 1.41.59.51 0 1.02-.2 1.41-.59l7.78-7.78 2.81-2.81c.8-.78.8-2.07 0-2.86zM5.41 20L4 18.59l7.72-7.72 1.47 1.35L5.41 20z\"/>\n",
              "  </svg>\n",
              "      </button>\n",
              "      \n",
              "  <style>\n",
              "    .colab-df-container {\n",
              "      display:flex;\n",
              "      flex-wrap:wrap;\n",
              "      gap: 12px;\n",
              "    }\n",
              "\n",
              "    .colab-df-convert {\n",
              "      background-color: #E8F0FE;\n",
              "      border: none;\n",
              "      border-radius: 50%;\n",
              "      cursor: pointer;\n",
              "      display: none;\n",
              "      fill: #1967D2;\n",
              "      height: 32px;\n",
              "      padding: 0 0 0 0;\n",
              "      width: 32px;\n",
              "    }\n",
              "\n",
              "    .colab-df-convert:hover {\n",
              "      background-color: #E2EBFA;\n",
              "      box-shadow: 0px 1px 2px rgba(60, 64, 67, 0.3), 0px 1px 3px 1px rgba(60, 64, 67, 0.15);\n",
              "      fill: #174EA6;\n",
              "    }\n",
              "\n",
              "    [theme=dark] .colab-df-convert {\n",
              "      background-color: #3B4455;\n",
              "      fill: #D2E3FC;\n",
              "    }\n",
              "\n",
              "    [theme=dark] .colab-df-convert:hover {\n",
              "      background-color: #434B5C;\n",
              "      box-shadow: 0px 1px 3px 1px rgba(0, 0, 0, 0.15);\n",
              "      filter: drop-shadow(0px 1px 2px rgba(0, 0, 0, 0.3));\n",
              "      fill: #FFFFFF;\n",
              "    }\n",
              "  </style>\n",
              "\n",
              "      <script>\n",
              "        const buttonEl =\n",
              "          document.querySelector('#df-edca7494-a18a-4395-bf05-837adc5064dc button.colab-df-convert');\n",
              "        buttonEl.style.display =\n",
              "          google.colab.kernel.accessAllowed ? 'block' : 'none';\n",
              "\n",
              "        async function convertToInteractive(key) {\n",
              "          const element = document.querySelector('#df-edca7494-a18a-4395-bf05-837adc5064dc');\n",
              "          const dataTable =\n",
              "            await google.colab.kernel.invokeFunction('convertToInteractive',\n",
              "                                                     [key], {});\n",
              "          if (!dataTable) return;\n",
              "\n",
              "          const docLinkHtml = 'Like what you see? Visit the ' +\n",
              "            '<a target=\"_blank\" href=https://colab.research.google.com/notebooks/data_table.ipynb>data table notebook</a>'\n",
              "            + ' to learn more about interactive tables.';\n",
              "          element.innerHTML = '';\n",
              "          dataTable['output_type'] = 'display_data';\n",
              "          await google.colab.output.renderOutput(dataTable, element);\n",
              "          const docLink = document.createElement('div');\n",
              "          docLink.innerHTML = docLinkHtml;\n",
              "          element.appendChild(docLink);\n",
              "        }\n",
              "      </script>\n",
              "    </div>\n",
              "  </div>\n",
              "  "
            ]
          },
          "metadata": {},
          "execution_count": 17
        }
      ]
    },
    {
      "cell_type": "code",
      "source": [
        "tf.random.set_seed(42)\n",
        "\n",
        "insaurance_model = tf.keras.Sequential([\n",
        "    tf.keras.layers.Dense(10),\n",
        "    tf.keras.layers.Dense(1)\n",
        "])\n",
        "\n",
        "insaurance_model.compile(loss=tf.keras.losses.mae,\n",
        "                         optimizer=tf.keras.optimizers.SGD(),\n",
        "                         metrics=[\"mae\"])\n",
        "\n",
        "insaurance_model.fit(X_test, y_test, epochs=100)"
      ],
      "metadata": {
        "colab": {
          "base_uri": "https://localhost:8080/"
        },
        "id": "EVzYxR3qo3fE",
        "outputId": "1c5c80ee-2fa7-45a1-bb11-7b7148bf2683"
      },
      "execution_count": null,
      "outputs": [
        {
          "output_type": "stream",
          "name": "stdout",
          "text": [
            "Epoch 1/100\n",
            "9/9 [==============================] - 1s 4ms/step - loss: 12014.7256 - mae: 12014.7256\n",
            "Epoch 2/100\n",
            "9/9 [==============================] - 0s 3ms/step - loss: 7506.5347 - mae: 7506.5342\n",
            "Epoch 3/100\n",
            "9/9 [==============================] - 0s 3ms/step - loss: 7722.7808 - mae: 7722.7808\n",
            "Epoch 4/100\n",
            "9/9 [==============================] - 0s 3ms/step - loss: 7191.2651 - mae: 7191.2651\n",
            "Epoch 5/100\n",
            "9/9 [==============================] - 0s 3ms/step - loss: 7439.4219 - mae: 7439.4219\n",
            "Epoch 6/100\n",
            "9/9 [==============================] - 0s 3ms/step - loss: 7243.0034 - mae: 7243.0034\n",
            "Epoch 7/100\n",
            "9/9 [==============================] - 0s 3ms/step - loss: 7844.1509 - mae: 7844.1509\n",
            "Epoch 8/100\n",
            "9/9 [==============================] - 0s 3ms/step - loss: 7593.1948 - mae: 7593.1948\n",
            "Epoch 9/100\n",
            "9/9 [==============================] - 0s 3ms/step - loss: 7547.5918 - mae: 7547.5918\n",
            "Epoch 10/100\n",
            "9/9 [==============================] - 0s 3ms/step - loss: 7265.2036 - mae: 7265.2036\n",
            "Epoch 11/100\n",
            "9/9 [==============================] - 0s 3ms/step - loss: 7386.4609 - mae: 7386.4609\n",
            "Epoch 12/100\n",
            "9/9 [==============================] - 0s 2ms/step - loss: 7120.4497 - mae: 7120.4497\n",
            "Epoch 13/100\n",
            "9/9 [==============================] - 0s 4ms/step - loss: 6985.5820 - mae: 6985.5820\n",
            "Epoch 14/100\n",
            "9/9 [==============================] - 0s 4ms/step - loss: 7570.3667 - mae: 7570.3667\n",
            "Epoch 15/100\n",
            "9/9 [==============================] - 0s 3ms/step - loss: 7440.9224 - mae: 7440.9224\n",
            "Epoch 16/100\n",
            "9/9 [==============================] - 0s 3ms/step - loss: 7416.7061 - mae: 7416.7061\n",
            "Epoch 17/100\n",
            "9/9 [==============================] - 0s 3ms/step - loss: 7451.1968 - mae: 7451.1968\n",
            "Epoch 18/100\n",
            "9/9 [==============================] - 0s 3ms/step - loss: 6949.3379 - mae: 6949.3379\n",
            "Epoch 19/100\n",
            "9/9 [==============================] - 0s 2ms/step - loss: 7436.9209 - mae: 7436.9209\n",
            "Epoch 20/100\n",
            "9/9 [==============================] - 0s 3ms/step - loss: 7662.8882 - mae: 7662.8882\n",
            "Epoch 21/100\n",
            "9/9 [==============================] - 0s 2ms/step - loss: 7231.1655 - mae: 7231.1655\n",
            "Epoch 22/100\n",
            "9/9 [==============================] - 0s 3ms/step - loss: 7503.0522 - mae: 7503.0522\n",
            "Epoch 23/100\n",
            "9/9 [==============================] - 0s 3ms/step - loss: 7195.3003 - mae: 7195.3003\n",
            "Epoch 24/100\n",
            "9/9 [==============================] - 0s 4ms/step - loss: 7963.9980 - mae: 7963.9980\n",
            "Epoch 25/100\n",
            "9/9 [==============================] - 0s 4ms/step - loss: 7394.9688 - mae: 7394.9688\n",
            "Epoch 26/100\n",
            "9/9 [==============================] - 0s 3ms/step - loss: 8131.9385 - mae: 8131.9385\n",
            "Epoch 27/100\n",
            "9/9 [==============================] - 0s 3ms/step - loss: 7371.4219 - mae: 7371.4219\n",
            "Epoch 28/100\n",
            "9/9 [==============================] - 0s 2ms/step - loss: 6977.4009 - mae: 6977.4009\n",
            "Epoch 29/100\n",
            "9/9 [==============================] - 0s 3ms/step - loss: 7626.6567 - mae: 7626.6567\n",
            "Epoch 30/100\n",
            "9/9 [==============================] - 0s 3ms/step - loss: 7487.5229 - mae: 7487.5229\n",
            "Epoch 31/100\n",
            "9/9 [==============================] - 0s 3ms/step - loss: 7644.4438 - mae: 7644.4438\n",
            "Epoch 32/100\n",
            "9/9 [==============================] - 0s 3ms/step - loss: 7547.8555 - mae: 7547.8555\n",
            "Epoch 33/100\n",
            "9/9 [==============================] - 0s 3ms/step - loss: 7165.7051 - mae: 7165.7051\n",
            "Epoch 34/100\n",
            "9/9 [==============================] - 0s 2ms/step - loss: 7995.7808 - mae: 7995.7808\n",
            "Epoch 35/100\n",
            "9/9 [==============================] - 0s 2ms/step - loss: 7784.6924 - mae: 7784.6924\n",
            "Epoch 36/100\n",
            "9/9 [==============================] - 0s 2ms/step - loss: 7724.6831 - mae: 7724.6831\n",
            "Epoch 37/100\n",
            "9/9 [==============================] - 0s 2ms/step - loss: 7494.7144 - mae: 7494.7144\n",
            "Epoch 38/100\n",
            "9/9 [==============================] - 0s 3ms/step - loss: 7092.7070 - mae: 7092.7070\n",
            "Epoch 39/100\n",
            "9/9 [==============================] - 0s 2ms/step - loss: 7502.8950 - mae: 7502.8950\n",
            "Epoch 40/100\n",
            "9/9 [==============================] - 0s 2ms/step - loss: 7647.2852 - mae: 7647.2852\n",
            "Epoch 41/100\n",
            "9/9 [==============================] - 0s 3ms/step - loss: 7353.6777 - mae: 7353.6777\n",
            "Epoch 42/100\n",
            "9/9 [==============================] - 0s 2ms/step - loss: 7214.9697 - mae: 7214.9697\n",
            "Epoch 43/100\n",
            "9/9 [==============================] - 0s 3ms/step - loss: 7568.7627 - mae: 7568.7627\n",
            "Epoch 44/100\n",
            "9/9 [==============================] - 0s 3ms/step - loss: 7126.5293 - mae: 7126.5293\n",
            "Epoch 45/100\n",
            "9/9 [==============================] - 0s 3ms/step - loss: 7162.6812 - mae: 7162.6812\n",
            "Epoch 46/100\n",
            "9/9 [==============================] - 0s 3ms/step - loss: 7621.6846 - mae: 7621.6846\n",
            "Epoch 47/100\n",
            "9/9 [==============================] - 0s 3ms/step - loss: 7812.3657 - mae: 7812.3657\n",
            "Epoch 48/100\n",
            "9/9 [==============================] - 0s 2ms/step - loss: 7742.1396 - mae: 7742.1396\n",
            "Epoch 49/100\n",
            "9/9 [==============================] - 0s 2ms/step - loss: 7767.3853 - mae: 7767.3853\n",
            "Epoch 50/100\n",
            "9/9 [==============================] - 0s 3ms/step - loss: 7126.5649 - mae: 7126.5649\n",
            "Epoch 51/100\n",
            "9/9 [==============================] - 0s 3ms/step - loss: 7022.6523 - mae: 7022.6523\n",
            "Epoch 52/100\n",
            "9/9 [==============================] - 0s 2ms/step - loss: 7644.4102 - mae: 7644.4102\n",
            "Epoch 53/100\n",
            "9/9 [==============================] - 0s 2ms/step - loss: 7269.3003 - mae: 7269.3003\n",
            "Epoch 54/100\n",
            "9/9 [==============================] - 0s 2ms/step - loss: 7281.5503 - mae: 7281.5503\n",
            "Epoch 55/100\n",
            "9/9 [==============================] - 0s 2ms/step - loss: 7593.2622 - mae: 7593.2622\n",
            "Epoch 56/100\n",
            "9/9 [==============================] - 0s 2ms/step - loss: 7255.3120 - mae: 7255.3120\n",
            "Epoch 57/100\n",
            "9/9 [==============================] - 0s 3ms/step - loss: 7596.7046 - mae: 7596.7046\n",
            "Epoch 58/100\n",
            "9/9 [==============================] - 0s 4ms/step - loss: 7322.7080 - mae: 7322.7080\n",
            "Epoch 59/100\n",
            "9/9 [==============================] - 0s 3ms/step - loss: 7790.5317 - mae: 7790.5317\n",
            "Epoch 60/100\n",
            "9/9 [==============================] - 0s 3ms/step - loss: 6765.8115 - mae: 6765.8115\n",
            "Epoch 61/100\n",
            "9/9 [==============================] - 0s 2ms/step - loss: 8356.9824 - mae: 8356.9824\n",
            "Epoch 62/100\n",
            "9/9 [==============================] - 0s 3ms/step - loss: 7470.0054 - mae: 7470.0054\n",
            "Epoch 63/100\n",
            "9/9 [==============================] - 0s 2ms/step - loss: 7492.9131 - mae: 7492.9131\n",
            "Epoch 64/100\n",
            "9/9 [==============================] - 0s 2ms/step - loss: 7593.7886 - mae: 7593.7886\n",
            "Epoch 65/100\n",
            "9/9 [==============================] - 0s 2ms/step - loss: 6816.6035 - mae: 6816.6035\n",
            "Epoch 66/100\n",
            "9/9 [==============================] - 0s 3ms/step - loss: 6994.6831 - mae: 6994.6831\n",
            "Epoch 67/100\n",
            "9/9 [==============================] - 0s 3ms/step - loss: 7102.8872 - mae: 7102.8872\n",
            "Epoch 68/100\n",
            "9/9 [==============================] - 0s 3ms/step - loss: 7882.1914 - mae: 7882.1914\n",
            "Epoch 69/100\n",
            "9/9 [==============================] - 0s 3ms/step - loss: 7242.1919 - mae: 7242.1919\n",
            "Epoch 70/100\n",
            "9/9 [==============================] - 0s 2ms/step - loss: 7060.8022 - mae: 7060.8022\n",
            "Epoch 71/100\n",
            "9/9 [==============================] - 0s 3ms/step - loss: 7048.8838 - mae: 7048.8838\n",
            "Epoch 72/100\n",
            "9/9 [==============================] - 0s 2ms/step - loss: 6969.3833 - mae: 6969.3833\n",
            "Epoch 73/100\n",
            "9/9 [==============================] - 0s 3ms/step - loss: 7201.2144 - mae: 7201.2144\n",
            "Epoch 74/100\n",
            "9/9 [==============================] - 0s 3ms/step - loss: 7127.3384 - mae: 7127.3384\n",
            "Epoch 75/100\n",
            "9/9 [==============================] - 0s 3ms/step - loss: 6865.6997 - mae: 6865.6997\n",
            "Epoch 76/100\n",
            "9/9 [==============================] - 0s 3ms/step - loss: 7134.4399 - mae: 7134.4399\n",
            "Epoch 77/100\n",
            "9/9 [==============================] - 0s 3ms/step - loss: 7185.1514 - mae: 7185.1514\n",
            "Epoch 78/100\n",
            "9/9 [==============================] - 0s 3ms/step - loss: 7129.4634 - mae: 7129.4634\n",
            "Epoch 79/100\n",
            "9/9 [==============================] - 0s 2ms/step - loss: 7001.0107 - mae: 7001.0107\n",
            "Epoch 80/100\n",
            "9/9 [==============================] - 0s 2ms/step - loss: 7501.6904 - mae: 7501.6904\n",
            "Epoch 81/100\n",
            "9/9 [==============================] - 0s 2ms/step - loss: 7089.4307 - mae: 7089.4307\n",
            "Epoch 82/100\n",
            "9/9 [==============================] - 0s 3ms/step - loss: 7329.0649 - mae: 7329.0649\n",
            "Epoch 83/100\n",
            "9/9 [==============================] - 0s 3ms/step - loss: 7236.4834 - mae: 7236.4834\n",
            "Epoch 84/100\n",
            "9/9 [==============================] - 0s 3ms/step - loss: 6993.5679 - mae: 6993.5679\n",
            "Epoch 85/100\n",
            "9/9 [==============================] - 0s 3ms/step - loss: 6731.2231 - mae: 6731.2231\n",
            "Epoch 86/100\n",
            "9/9 [==============================] - 0s 3ms/step - loss: 7560.1382 - mae: 7560.1382\n",
            "Epoch 87/100\n",
            "9/9 [==============================] - 0s 2ms/step - loss: 6877.9868 - mae: 6877.9868\n",
            "Epoch 88/100\n",
            "9/9 [==============================] - 0s 3ms/step - loss: 7017.3418 - mae: 7017.3418\n",
            "Epoch 89/100\n",
            "9/9 [==============================] - 0s 2ms/step - loss: 7170.3711 - mae: 7170.3711\n",
            "Epoch 90/100\n",
            "9/9 [==============================] - 0s 3ms/step - loss: 7267.3745 - mae: 7267.3745\n",
            "Epoch 91/100\n",
            "9/9 [==============================] - 0s 2ms/step - loss: 7570.1562 - mae: 7570.1562\n",
            "Epoch 92/100\n",
            "9/9 [==============================] - 0s 3ms/step - loss: 7066.9082 - mae: 7066.9082\n",
            "Epoch 93/100\n",
            "9/9 [==============================] - 0s 2ms/step - loss: 7674.7881 - mae: 7674.7881\n",
            "Epoch 94/100\n",
            "9/9 [==============================] - 0s 3ms/step - loss: 7058.5166 - mae: 7058.5166\n",
            "Epoch 95/100\n",
            "9/9 [==============================] - 0s 3ms/step - loss: 7375.1475 - mae: 7375.1475\n",
            "Epoch 96/100\n",
            "9/9 [==============================] - 0s 2ms/step - loss: 7309.3740 - mae: 7309.3740\n",
            "Epoch 97/100\n",
            "9/9 [==============================] - 0s 2ms/step - loss: 7027.4414 - mae: 7027.4414\n",
            "Epoch 98/100\n",
            "9/9 [==============================] - 0s 3ms/step - loss: 7013.4023 - mae: 7013.4023\n",
            "Epoch 99/100\n",
            "9/9 [==============================] - 0s 3ms/step - loss: 7243.3223 - mae: 7243.3223\n",
            "Epoch 100/100\n",
            "9/9 [==============================] - 0s 3ms/step - loss: 7614.0366 - mae: 7614.0366\n"
          ]
        },
        {
          "output_type": "execute_result",
          "data": {
            "text/plain": [
              "<keras.callbacks.History at 0x7ff212fa99d0>"
            ]
          },
          "metadata": {},
          "execution_count": 18
        }
      ]
    },
    {
      "cell_type": "code",
      "source": [
        "insaurance_model.evaluate(X_test, y_test)"
      ],
      "metadata": {
        "colab": {
          "base_uri": "https://localhost:8080/"
        },
        "id": "Ns_Vy7X1rl6G",
        "outputId": "be65624e-dccf-4db5-d4c7-dd7edbca5084"
      },
      "execution_count": null,
      "outputs": [
        {
          "output_type": "stream",
          "name": "stdout",
          "text": [
            "9/9 [==============================] - 0s 3ms/step - loss: 7543.6045 - mae: 7543.6045\n"
          ]
        },
        {
          "output_type": "execute_result",
          "data": {
            "text/plain": [
              "[7543.6044921875, 7543.6044921875]"
            ]
          },
          "metadata": {},
          "execution_count": 25
        }
      ]
    },
    {
      "cell_type": "code",
      "source": [
        "y_train.median(), y_train.mean()"
      ],
      "metadata": {
        "colab": {
          "base_uri": "https://localhost:8080/"
        },
        "id": "VAYvHnvGsE8Q",
        "outputId": "0c75c8d6-3e8a-40ce-bec4-f2aabb139179"
      },
      "execution_count": null,
      "outputs": [
        {
          "output_type": "execute_result",
          "data": {
            "text/plain": [
              "(9575.4421, 13346.089736364485)"
            ]
          },
          "metadata": {},
          "execution_count": 29
        }
      ]
    },
    {
      "cell_type": "code",
      "source": [
        "y_predict = insaurance_model.predict(X_test)\n",
        "y_predict"
      ],
      "metadata": {
        "colab": {
          "base_uri": "https://localhost:8080/"
        },
        "id": "3ksmWP2IqatI",
        "outputId": "7343f9eb-aed4-49e3-f270-a2d10909922e"
      },
      "execution_count": null,
      "outputs": [
        {
          "output_type": "stream",
          "name": "stdout",
          "text": [
            "9/9 [==============================] - 0s 8ms/step\n"
          ]
        },
        {
          "output_type": "execute_result",
          "data": {
            "text/plain": [
              "array([[ 7297.076  ],\n",
              "       [ 4672.853  ],\n",
              "       [11345.307  ],\n",
              "       [ 7604.0347 ],\n",
              "       [ 1551.1945 ],\n",
              "       [ 3373.558  ],\n",
              "       [ 1730.3987 ],\n",
              "       [ 9917.364  ],\n",
              "       [ 4080.7114 ],\n",
              "       [ 7990.7095 ],\n",
              "       [ 4913.55   ],\n",
              "       [ 6009.15   ],\n",
              "       [ 3452.3096 ],\n",
              "       [ 6860.072  ],\n",
              "       [ 9448.399  ],\n",
              "       [ 7195.75   ],\n",
              "       [ 6717.958  ],\n",
              "       [ 7200.3145 ],\n",
              "       [ 7134.7407 ],\n",
              "       [ 6952.053  ],\n",
              "       [ 3655.134  ],\n",
              "       [ 6251.53   ],\n",
              "       [ 1105.6539 ],\n",
              "       [  983.5298 ],\n",
              "       [ 8214.626  ],\n",
              "       [ 8260.911  ],\n",
              "       [ 9266.528  ],\n",
              "       [ 3216.4395 ],\n",
              "       [ 7598.901  ],\n",
              "       [  985.50494],\n",
              "       [ 6166.978  ],\n",
              "       [ 8918.4375 ],\n",
              "       [ 1194.23   ],\n",
              "       [ 4698.9688 ],\n",
              "       [ 2755.295  ],\n",
              "       [ 5827.106  ],\n",
              "       [ 1971.8824 ],\n",
              "       [ 6288.0005 ],\n",
              "       [ 9212.764  ],\n",
              "       [ 5047.9937 ],\n",
              "       [ 1983.4907 ],\n",
              "       [ 1819.6265 ],\n",
              "       [ 8524.951  ],\n",
              "       [ 9889.486  ],\n",
              "       [ 3969.5833 ],\n",
              "       [ 9863.504  ],\n",
              "       [ 1544.4766 ],\n",
              "       [ 3285.4937 ],\n",
              "       [ 6754.4155 ],\n",
              "       [ 3335.1987 ],\n",
              "       [ 9863.747  ],\n",
              "       [ 1200.998  ],\n",
              "       [ 4729.521  ],\n",
              "       [ 1297.8074 ],\n",
              "       [ 8584.234  ],\n",
              "       [ 7807.6504 ],\n",
              "       [ 3862.6414 ],\n",
              "       [ 4317.0503 ],\n",
              "       [ 9011.745  ],\n",
              "       [ 8005.077  ],\n",
              "       [10164.112  ],\n",
              "       [ 2707.1133 ],\n",
              "       [ 9883.338  ],\n",
              "       [ 6644.983  ],\n",
              "       [ 7990.1753 ],\n",
              "       [ 3485.9285 ],\n",
              "       [ 3076.8723 ],\n",
              "       [ 8861.861  ],\n",
              "       [ 3138.1133 ],\n",
              "       [  988.7847 ],\n",
              "       [ 4740.576  ],\n",
              "       [ 6923.3774 ],\n",
              "       [ 6968.686  ],\n",
              "       [ 5503.773  ],\n",
              "       [ 5929.3296 ],\n",
              "       [ 4737.2305 ],\n",
              "       [ 3109.6309 ],\n",
              "       [ 9214.415  ],\n",
              "       [ 3116.6318 ],\n",
              "       [ 7355.009  ],\n",
              "       [ 1142.9338 ],\n",
              "       [11014.393  ],\n",
              "       [ 4147.453  ],\n",
              "       [ 2312.514  ],\n",
              "       [  697.29   ],\n",
              "       [ 8084.275  ],\n",
              "       [ 3836.4434 ],\n",
              "       [ 8454.23   ],\n",
              "       [ 6387.8647 ],\n",
              "       [ 8168.812  ],\n",
              "       [ 9796.525  ],\n",
              "       [11720.154  ],\n",
              "       [ 8043.5684 ],\n",
              "       [ 4198.087  ],\n",
              "       [ 4375.391  ],\n",
              "       [ 5865.8486 ],\n",
              "       [ 4724.1367 ],\n",
              "       [ 1138.0134 ],\n",
              "       [ 4954.167  ],\n",
              "       [ 5344.947  ],\n",
              "       [ 3702.261  ],\n",
              "       [ 1196.4517 ],\n",
              "       [ 4969.2397 ],\n",
              "       [ 8837.324  ],\n",
              "       [10495.588  ],\n",
              "       [  724.0421 ],\n",
              "       [ 6684.773  ],\n",
              "       [ 9621.831  ],\n",
              "       [ 1678.6359 ],\n",
              "       [ 9580.426  ],\n",
              "       [  884.76526],\n",
              "       [ 1470.7482 ],\n",
              "       [ 9273.536  ],\n",
              "       [ 4849.843  ],\n",
              "       [ 7522.839  ],\n",
              "       [ 1254.648  ],\n",
              "       [ 9882.24   ],\n",
              "       [ 7260.601  ],\n",
              "       [ 5179.438  ],\n",
              "       [ 2355.2537 ],\n",
              "       [ 4182.728  ],\n",
              "       [ 5713.814  ],\n",
              "       [ 7681.1846 ],\n",
              "       [ 1772.7631 ],\n",
              "       [ 3809.4116 ],\n",
              "       [ 5775.16   ],\n",
              "       [ 5886.1904 ],\n",
              "       [ 7632.476  ],\n",
              "       [ 9116.929  ],\n",
              "       [ 1068.6063 ],\n",
              "       [ 3981.4126 ],\n",
              "       [ 4657.477  ],\n",
              "       [ 4347.071  ],\n",
              "       [ 5919.54   ],\n",
              "       [ 5061.441  ],\n",
              "       [ 9078.122  ],\n",
              "       [ 3689.732  ],\n",
              "       [ 6508.343  ],\n",
              "       [ 6174.211  ],\n",
              "       [ 5418.2153 ],\n",
              "       [ 4929.3296 ],\n",
              "       [ 7532.268  ],\n",
              "       [ 2227.165  ],\n",
              "       [ 7711.1035 ],\n",
              "       [ 2809.8892 ],\n",
              "       [ 8637.724  ],\n",
              "       [ 4592.006  ],\n",
              "       [ 3690.5195 ],\n",
              "       [ 7747.6636 ],\n",
              "       [ 4597.212  ],\n",
              "       [ 8685.516  ],\n",
              "       [ 2108.66   ],\n",
              "       [   85.58781],\n",
              "       [ 4323.4595 ],\n",
              "       [ 4381.064  ],\n",
              "       [ 3945.5667 ],\n",
              "       [10013.081  ],\n",
              "       [ 7235.953  ],\n",
              "       [ 1478.1182 ],\n",
              "       [ 6067.028  ],\n",
              "       [ 9472.668  ],\n",
              "       [ 1618.6493 ],\n",
              "       [11217.455  ],\n",
              "       [ 2475.9438 ],\n",
              "       [ 2211.797  ],\n",
              "       [ 5735.417  ],\n",
              "       [10239.734  ],\n",
              "       [ 9531.147  ],\n",
              "       [ 7020.418  ],\n",
              "       [ 2337.1323 ],\n",
              "       [ 8246.787  ],\n",
              "       [ 5238.483  ],\n",
              "       [ 4338.7314 ],\n",
              "       [ 4145.454  ],\n",
              "       [ 1971.3184 ],\n",
              "       [ 8150.1484 ],\n",
              "       [ 1884.8494 ],\n",
              "       [ 9762.898  ],\n",
              "       [ 5701.937  ],\n",
              "       [ 9625.69   ],\n",
              "       [11106.187  ],\n",
              "       [ 2807.6526 ],\n",
              "       [ 8013.419  ],\n",
              "       [ 4094.2979 ],\n",
              "       [ 4351.8687 ],\n",
              "       [ 1890.4019 ],\n",
              "       [ 3463.9702 ],\n",
              "       [ 3595.852  ],\n",
              "       [ 5931.074  ],\n",
              "       [ 8873.919  ],\n",
              "       [ 1851.8303 ],\n",
              "       [ 1017.1847 ],\n",
              "       [ 2343.6316 ],\n",
              "       [ 3996.7063 ],\n",
              "       [ 9479.481  ],\n",
              "       [ 7533.301  ],\n",
              "       [ 1719.6857 ],\n",
              "       [ 8876.79   ],\n",
              "       [ 1250.3451 ],\n",
              "       [ 7951.706  ],\n",
              "       [ 3218.1326 ],\n",
              "       [ 8827.934  ],\n",
              "       [ 2649.0398 ],\n",
              "       [ 1678.7148 ],\n",
              "       [ 2352.7727 ],\n",
              "       [ 3835.6753 ],\n",
              "       [ 7928.9434 ],\n",
              "       [ 2916.5398 ],\n",
              "       [ 6442.656  ],\n",
              "       [ 3266.8325 ],\n",
              "       [10837.658  ],\n",
              "       [ 9768.939  ],\n",
              "       [ 5633.224  ],\n",
              "       [ 3469.4087 ],\n",
              "       [ 6315.92   ],\n",
              "       [ 3628.6511 ],\n",
              "       [ 4397.11   ],\n",
              "       [10177.371  ],\n",
              "       [10199.05   ],\n",
              "       [ 4329.56   ],\n",
              "       [ 1068.4941 ],\n",
              "       [ 5601.1904 ],\n",
              "       [ 4076.9749 ],\n",
              "       [ 6430.9326 ],\n",
              "       [ 1604.9513 ],\n",
              "       [ 3509.8484 ],\n",
              "       [ 1875.4796 ],\n",
              "       [ 1101.696  ],\n",
              "       [ 8050.6865 ],\n",
              "       [ 7121.9473 ],\n",
              "       [ 1064.1631 ],\n",
              "       [ 8790.164  ],\n",
              "       [ 3945.261  ],\n",
              "       [ 6897.529  ],\n",
              "       [ 8976.051  ],\n",
              "       [ 6921.8335 ],\n",
              "       [ 2847.796  ],\n",
              "       [ 5614.6123 ],\n",
              "       [ 6000.83   ],\n",
              "       [ 1525.3424 ],\n",
              "       [10689.7    ],\n",
              "       [ 3643.7502 ],\n",
              "       [ 2006.3406 ],\n",
              "       [ 2797.7048 ],\n",
              "       [ 1544.7006 ],\n",
              "       [ 2527.2537 ],\n",
              "       [ 3498.8079 ],\n",
              "       [ 3887.794  ],\n",
              "       [ 7470.094  ],\n",
              "       [ 2174.2334 ],\n",
              "       [ 1348.3865 ],\n",
              "       [ 5555.532  ],\n",
              "       [ 3332.8872 ],\n",
              "       [ 9743.44   ],\n",
              "       [ 1121.2406 ],\n",
              "       [ 2399.5193 ],\n",
              "       [ 9805.674  ],\n",
              "       [ 2446.5923 ],\n",
              "       [ 8078.4224 ],\n",
              "       [ 4085.507  ],\n",
              "       [ 6075.9688 ],\n",
              "       [10633.484  ],\n",
              "       [ 3507.627  ],\n",
              "       [10552.963  ],\n",
              "       [ 9508.469  ],\n",
              "       [ 5478.917  ],\n",
              "       [ 7630.314  ],\n",
              "       [ 7609.8345 ]], dtype=float32)"
            ]
          },
          "metadata": {},
          "execution_count": 20
        }
      ]
    },
    {
      "cell_type": "code",
      "source": [
        "plot_predict(X_test[\"age\"], y_test, y_predict)"
      ],
      "metadata": {
        "colab": {
          "base_uri": "https://localhost:8080/",
          "height": 428
        },
        "id": "gjqKLMu4qsdg",
        "outputId": "972e33f9-5abc-4084-b118-02966d1599d1"
      },
      "execution_count": null,
      "outputs": [
        {
          "output_type": "display_data",
          "data": {
            "text/plain": [
              "<Figure size 720x504 with 1 Axes>"
            ],
            "image/png": "[encoded data removed]"
          },
          "metadata": {
            "needs_background": "light"
          }
        }
      ]
    },
    {
      "cell_type": "markdown",
      "source": [
        "Right now it looks like our model isn't performing too well... Let's try and improve it!\n",
        "1. Add an extra layer with hidden units and use Adam optimizer\n",
        "2. Train for longer, maybe 200 epochs\n"
      ],
      "metadata": {
        "id": "qPDU7zIVs9Fj"
      }
    },
    {
      "cell_type": "code",
      "source": [
        "tf.random.set_seed(42)\n",
        "\n",
        "insurance_model_2 = tf.keras.Sequential([\n",
        "    tf.keras.layers.Dense(100),\n",
        "    tf.keras.layers.Dense(10),\n",
        "    tf.keras.layers.Dense(1)\n",
        "])\n",
        "\n",
        "insurance_model_2.compile(loss=tf.keras.losses.mae,\n",
        "                          optimizer=tf.keras.optimizers.Adam(),\n",
        "                          metrics=[\"mae\"])\n",
        "\n",
        "insurance_model_2.fit(X_train, y_train, epochs=100)"
      ],
      "metadata": {
        "colab": {
          "base_uri": "https://localhost:8080/"
        },
        "id": "MNHMuuuStKEc",
        "outputId": "3bec56b7-26fb-40a2-dcf7-7710ebcba9b1"
      },
      "execution_count": null,
      "outputs": [
        {
          "output_type": "stream",
          "name": "stdout",
          "text": [
            "Epoch 1/100\n",
            "34/34 [==============================] - 2s 5ms/step - loss: 13287.8613 - mae: 13287.8613\n",
            "Epoch 2/100\n",
            "34/34 [==============================] - 0s 5ms/step - loss: 13115.6523 - mae: 13115.6523\n",
            "Epoch 3/100\n",
            "34/34 [==============================] - 0s 5ms/step - loss: 12747.3643 - mae: 12747.3643\n",
            "Epoch 4/100\n",
            "34/34 [==============================] - 0s 4ms/step - loss: 12025.7295 - mae: 12025.7295\n",
            "Epoch 5/100\n",
            "34/34 [==============================] - 0s 6ms/step - loss: 10836.1514 - mae: 10836.1514\n",
            "Epoch 6/100\n",
            "34/34 [==============================] - 0s 6ms/step - loss: 9351.9854 - mae: 9351.9854\n",
            "Epoch 7/100\n",
            "34/34 [==============================] - 0s 4ms/step - loss: 8047.7104 - mae: 8047.7104\n",
            "Epoch 8/100\n",
            "34/34 [==============================] - 0s 6ms/step - loss: 7489.2314 - mae: 7489.2314\n",
            "Epoch 9/100\n",
            "34/34 [==============================] - 0s 4ms/step - loss: 7406.7305 - mae: 7406.7305\n",
            "Epoch 10/100\n",
            "34/34 [==============================] - 0s 6ms/step - loss: 7386.5840 - mae: 7386.5840\n",
            "Epoch 11/100\n",
            "34/34 [==============================] - 0s 5ms/step - loss: 7367.1621 - mae: 7367.1621\n",
            "Epoch 12/100\n",
            "34/34 [==============================] - 0s 4ms/step - loss: 7344.4902 - mae: 7344.4902\n",
            "Epoch 13/100\n",
            "34/34 [==============================] - 0s 5ms/step - loss: 7323.6807 - mae: 7323.6807\n",
            "Epoch 14/100\n",
            "34/34 [==============================] - 0s 6ms/step - loss: 7300.4380 - mae: 7300.4380\n",
            "Epoch 15/100\n",
            "34/34 [==============================] - 0s 7ms/step - loss: 7281.0527 - mae: 7281.0527\n",
            "Epoch 16/100\n",
            "34/34 [==============================] - 0s 5ms/step - loss: 7258.3145 - mae: 7258.3145\n",
            "Epoch 17/100\n",
            "34/34 [==============================] - 0s 4ms/step - loss: 7235.9839 - mae: 7235.9839\n",
            "Epoch 18/100\n",
            "34/34 [==============================] - 0s 4ms/step - loss: 7212.1401 - mae: 7212.1401\n",
            "Epoch 19/100\n",
            "34/34 [==============================] - 0s 5ms/step - loss: 7188.6899 - mae: 7188.6899\n",
            "Epoch 20/100\n",
            "34/34 [==============================] - 0s 6ms/step - loss: 7163.4976 - mae: 7163.4976\n",
            "Epoch 21/100\n",
            "34/34 [==============================] - 0s 5ms/step - loss: 7143.2861 - mae: 7143.2861\n",
            "Epoch 22/100\n",
            "34/34 [==============================] - 0s 5ms/step - loss: 7114.0400 - mae: 7114.0400\n",
            "Epoch 23/100\n",
            "34/34 [==============================] - 0s 8ms/step - loss: 7088.5596 - mae: 7088.5596\n",
            "Epoch 24/100\n",
            "34/34 [==============================] - 0s 7ms/step - loss: 7061.1387 - mae: 7061.1387\n",
            "Epoch 25/100\n",
            "34/34 [==============================] - 0s 7ms/step - loss: 7040.9512 - mae: 7040.9512\n",
            "Epoch 26/100\n",
            "34/34 [==============================] - 0s 6ms/step - loss: 7007.3286 - mae: 7007.3286\n",
            "Epoch 27/100\n",
            "34/34 [==============================] - 0s 3ms/step - loss: 6977.9478 - mae: 6977.9478\n",
            "Epoch 28/100\n",
            "34/34 [==============================] - 0s 2ms/step - loss: 6947.6470 - mae: 6947.6470\n",
            "Epoch 29/100\n",
            "34/34 [==============================] - 0s 3ms/step - loss: 6917.2773 - mae: 6917.2773\n",
            "Epoch 30/100\n",
            "34/34 [==============================] - 0s 2ms/step - loss: 6890.3564 - mae: 6890.3564\n",
            "Epoch 31/100\n",
            "34/34 [==============================] - 0s 2ms/step - loss: 6856.9341 - mae: 6856.9341\n",
            "Epoch 32/100\n",
            "34/34 [==============================] - 0s 2ms/step - loss: 6826.1572 - mae: 6826.1572\n",
            "Epoch 33/100\n",
            "34/34 [==============================] - 0s 3ms/step - loss: 6792.6074 - mae: 6792.6074\n",
            "Epoch 34/100\n",
            "34/34 [==============================] - 0s 2ms/step - loss: 6759.1631 - mae: 6759.1631\n",
            "Epoch 35/100\n",
            "34/34 [==============================] - 0s 2ms/step - loss: 6723.4966 - mae: 6723.4966\n",
            "Epoch 36/100\n",
            "34/34 [==============================] - 0s 3ms/step - loss: 6688.7925 - mae: 6688.7925\n",
            "Epoch 37/100\n",
            "34/34 [==============================] - 0s 2ms/step - loss: 6651.9248 - mae: 6651.9248\n",
            "Epoch 38/100\n",
            "34/34 [==============================] - 0s 3ms/step - loss: 6621.7002 - mae: 6621.7002\n",
            "Epoch 39/100\n",
            "34/34 [==============================] - 0s 3ms/step - loss: 6585.3311 - mae: 6585.3311\n",
            "Epoch 40/100\n",
            "34/34 [==============================] - 0s 2ms/step - loss: 6556.9551 - mae: 6556.9551\n",
            "Epoch 41/100\n",
            "34/34 [==============================] - 0s 2ms/step - loss: 6533.6841 - mae: 6533.6841\n",
            "Epoch 42/100\n",
            "34/34 [==============================] - 0s 3ms/step - loss: 6513.3887 - mae: 6513.3887\n",
            "Epoch 43/100\n",
            "34/34 [==============================] - 0s 2ms/step - loss: 6494.9185 - mae: 6494.9185\n",
            "Epoch 44/100\n",
            "34/34 [==============================] - 0s 2ms/step - loss: 6476.5381 - mae: 6476.5381\n",
            "Epoch 45/100\n",
            "34/34 [==============================] - 0s 2ms/step - loss: 6468.8906 - mae: 6468.8906\n",
            "Epoch 46/100\n",
            "34/34 [==============================] - 0s 3ms/step - loss: 6450.6924 - mae: 6450.6924\n",
            "Epoch 47/100\n",
            "34/34 [==============================] - 0s 2ms/step - loss: 6436.4233 - mae: 6436.4233\n",
            "Epoch 48/100\n",
            "34/34 [==============================] - 0s 2ms/step - loss: 6422.8804 - mae: 6422.8804\n",
            "Epoch 49/100\n",
            "34/34 [==============================] - 0s 3ms/step - loss: 6411.7676 - mae: 6411.7676\n",
            "Epoch 50/100\n",
            "34/34 [==============================] - 0s 3ms/step - loss: 6397.5410 - mae: 6397.5410\n",
            "Epoch 51/100\n",
            "34/34 [==============================] - 0s 2ms/step - loss: 6384.5508 - mae: 6384.5508\n",
            "Epoch 52/100\n",
            "34/34 [==============================] - 0s 2ms/step - loss: 6372.0498 - mae: 6372.0498\n",
            "Epoch 53/100\n",
            "34/34 [==============================] - 0s 2ms/step - loss: 6357.7129 - mae: 6357.7129\n",
            "Epoch 54/100\n",
            "34/34 [==============================] - 0s 2ms/step - loss: 6343.4839 - mae: 6343.4839\n",
            "Epoch 55/100\n",
            "34/34 [==============================] - 0s 2ms/step - loss: 6329.7075 - mae: 6329.7075\n",
            "Epoch 56/100\n",
            "34/34 [==============================] - 0s 2ms/step - loss: 6315.3555 - mae: 6315.3555\n",
            "Epoch 57/100\n",
            "34/34 [==============================] - 0s 2ms/step - loss: 6301.7485 - mae: 6301.7485\n",
            "Epoch 58/100\n",
            "34/34 [==============================] - 0s 2ms/step - loss: 6287.8369 - mae: 6287.8369\n",
            "Epoch 59/100\n",
            "34/34 [==============================] - 0s 3ms/step - loss: 6271.4077 - mae: 6271.4077\n",
            "Epoch 60/100\n",
            "34/34 [==============================] - 0s 4ms/step - loss: 6260.7437 - mae: 6260.7437\n",
            "Epoch 61/100\n",
            "34/34 [==============================] - 0s 4ms/step - loss: 6240.1782 - mae: 6240.1782\n",
            "Epoch 62/100\n",
            "34/34 [==============================] - 0s 4ms/step - loss: 6226.9980 - mae: 6226.9980\n",
            "Epoch 63/100\n",
            "34/34 [==============================] - 0s 4ms/step - loss: 6208.3848 - mae: 6208.3848\n",
            "Epoch 64/100\n",
            "34/34 [==============================] - 0s 3ms/step - loss: 6190.2773 - mae: 6190.2773\n",
            "Epoch 65/100\n",
            "34/34 [==============================] - 0s 3ms/step - loss: 6172.5469 - mae: 6172.5469\n",
            "Epoch 66/100\n",
            "34/34 [==============================] - 0s 4ms/step - loss: 6154.3525 - mae: 6154.3525\n",
            "Epoch 67/100\n",
            "34/34 [==============================] - 0s 4ms/step - loss: 6140.7510 - mae: 6140.7510\n",
            "Epoch 68/100\n",
            "34/34 [==============================] - 0s 4ms/step - loss: 6117.1230 - mae: 6117.1230\n",
            "Epoch 69/100\n",
            "34/34 [==============================] - 0s 4ms/step - loss: 6099.7793 - mae: 6099.7793\n",
            "Epoch 70/100\n",
            "34/34 [==============================] - 0s 4ms/step - loss: 6078.4399 - mae: 6078.4399\n",
            "Epoch 71/100\n",
            "34/34 [==============================] - 0s 4ms/step - loss: 6057.7930 - mae: 6057.7930\n",
            "Epoch 72/100\n",
            "34/34 [==============================] - 0s 4ms/step - loss: 6035.9897 - mae: 6035.9897\n",
            "Epoch 73/100\n",
            "34/34 [==============================] - 0s 3ms/step - loss: 6021.5898 - mae: 6021.5898\n",
            "Epoch 74/100\n",
            "34/34 [==============================] - 0s 4ms/step - loss: 5990.9990 - mae: 5990.9990\n",
            "Epoch 75/100\n",
            "34/34 [==============================] - 0s 4ms/step - loss: 5969.6587 - mae: 5969.6587\n",
            "Epoch 76/100\n",
            "34/34 [==============================] - 0s 4ms/step - loss: 5951.5645 - mae: 5951.5645\n",
            "Epoch 77/100\n",
            "34/34 [==============================] - 0s 3ms/step - loss: 5918.2354 - mae: 5918.2354\n",
            "Epoch 78/100\n",
            "34/34 [==============================] - 0s 3ms/step - loss: 5892.7178 - mae: 5892.7178\n",
            "Epoch 79/100\n",
            "34/34 [==============================] - 0s 4ms/step - loss: 5865.6514 - mae: 5865.6514\n",
            "Epoch 80/100\n",
            "34/34 [==============================] - 0s 4ms/step - loss: 5835.6216 - mae: 5835.6216\n",
            "Epoch 81/100\n",
            "34/34 [==============================] - 0s 4ms/step - loss: 5808.6689 - mae: 5808.6689\n",
            "Epoch 82/100\n",
            "34/34 [==============================] - 0s 5ms/step - loss: 5776.7832 - mae: 5776.7832\n",
            "Epoch 83/100\n",
            "34/34 [==============================] - 0s 4ms/step - loss: 5746.0225 - mae: 5746.0225\n",
            "Epoch 84/100\n",
            "34/34 [==============================] - 0s 2ms/step - loss: 5709.9443 - mae: 5709.9443\n",
            "Epoch 85/100\n",
            "34/34 [==============================] - 0s 3ms/step - loss: 5681.4297 - mae: 5681.4297\n",
            "Epoch 86/100\n",
            "34/34 [==============================] - 0s 2ms/step - loss: 5643.7456 - mae: 5643.7456\n",
            "Epoch 87/100\n",
            "34/34 [==============================] - 0s 2ms/step - loss: 5603.7544 - mae: 5603.7544\n",
            "Epoch 88/100\n",
            "34/34 [==============================] - 0s 2ms/step - loss: 5564.8281 - mae: 5564.8281\n",
            "Epoch 89/100\n",
            "34/34 [==============================] - 0s 3ms/step - loss: 5521.6128 - mae: 5521.6128\n",
            "Epoch 90/100\n",
            "34/34 [==============================] - 0s 2ms/step - loss: 5475.6987 - mae: 5475.6987\n",
            "Epoch 91/100\n",
            "34/34 [==============================] - 0s 2ms/step - loss: 5432.7842 - mae: 5432.7842\n",
            "Epoch 92/100\n",
            "34/34 [==============================] - 0s 2ms/step - loss: 5382.2061 - mae: 5382.2061\n",
            "Epoch 93/100\n",
            "34/34 [==============================] - 0s 2ms/step - loss: 5335.0933 - mae: 5335.0933\n",
            "Epoch 94/100\n",
            "34/34 [==============================] - 0s 3ms/step - loss: 5282.9717 - mae: 5282.9717\n",
            "Epoch 95/100\n",
            "34/34 [==============================] - 0s 2ms/step - loss: 5226.8779 - mae: 5226.8779\n",
            "Epoch 96/100\n",
            "34/34 [==============================] - 0s 2ms/step - loss: 5176.5410 - mae: 5176.5410\n",
            "Epoch 97/100\n",
            "34/34 [==============================] - 0s 2ms/step - loss: 5117.6045 - mae: 5117.6045\n",
            "Epoch 98/100\n",
            "34/34 [==============================] - 0s 3ms/step - loss: 5049.5913 - mae: 5049.5913\n",
            "Epoch 99/100\n",
            "34/34 [==============================] - 0s 2ms/step - loss: 4984.5811 - mae: 4984.5811\n",
            "Epoch 100/100\n",
            "34/34 [==============================] - 0s 3ms/step - loss: 4923.7642 - mae: 4923.7642\n"
          ]
        },
        {
          "output_type": "execute_result",
          "data": {
            "text/plain": [
              "<keras.callbacks.History at 0x7ff21cab5f70>"
            ]
          },
          "metadata": {},
          "execution_count": 34
        }
      ]
    },
    {
      "cell_type": "code",
      "source": [
        "insurance_model_2.summary()"
      ],
      "metadata": {
        "colab": {
          "base_uri": "https://localhost:8080/"
        },
        "id": "oK6QuqtXuzlG",
        "outputId": "9ce7a7bb-28af-4650-84d7-d1e1fc0759e8"
      },
      "execution_count": null,
      "outputs": [
        {
          "output_type": "stream",
          "name": "stdout",
          "text": [
            "Model: \"sequential_2\"\n",
            "_________________________________________________________________\n",
            " Layer (type)                Output Shape              Param #   \n",
            "=================================================================\n",
            " dense_5 (Dense)             (None, 100)               1200      \n",
            "                                                                 \n",
            " dense_6 (Dense)             (None, 10)                1010      \n",
            "                                                                 \n",
            " dense_7 (Dense)             (None, 1)                 11        \n",
            "                                                                 \n",
            "=================================================================\n",
            "Total params: 2,221\n",
            "Trainable params: 2,221\n",
            "Non-trainable params: 0\n",
            "_________________________________________________________________\n"
          ]
        }
      ]
    },
    {
      "cell_type": "code",
      "source": [
        "insurance_model_2.evaluate(X_test, y_test)"
      ],
      "metadata": {
        "colab": {
          "base_uri": "https://localhost:8080/"
        },
        "id": "EglYS3EWu8L8",
        "outputId": "76b8578e-7c68-4a54-aa9b-a13d3b8a9d07"
      },
      "execution_count": null,
      "outputs": [
        {
          "output_type": "stream",
          "name": "stdout",
          "text": [
            "9/9 [==============================] - 0s 3ms/step - loss: 4796.6162 - mae: 4796.6162\n"
          ]
        },
        {
          "output_type": "execute_result",
          "data": {
            "text/plain": [
              "[4796.6162109375, 4796.6162109375]"
            ]
          },
          "metadata": {},
          "execution_count": 36
        }
      ]
    },
    {
      "cell_type": "code",
      "source": [
        "y_train.median(), y_train.mean()"
      ],
      "metadata": {
        "colab": {
          "base_uri": "https://localhost:8080/"
        },
        "id": "qoQGA-aPvxEz",
        "outputId": "17eb2259-140f-4574-d954-8239ff0ea019"
      },
      "execution_count": null,
      "outputs": [
        {
          "output_type": "execute_result",
          "data": {
            "text/plain": [
              "(9575.4421, 13346.089736364485)"
            ]
          },
          "metadata": {},
          "execution_count": 37
        }
      ]
    },
    {
      "cell_type": "code",
      "source": [
        "y_predict_2 = insurance_model_2.predict(X_test)"
      ],
      "metadata": {
        "colab": {
          "base_uri": "https://localhost:8080/"
        },
        "id": "PzfR7bvSxbn2",
        "outputId": "2d4ddc18-5e59-418a-9b3e-e0faf07d628e"
      },
      "execution_count": null,
      "outputs": [
        {
          "output_type": "stream",
          "name": "stdout",
          "text": [
            "9/9 [==============================] - 0s 7ms/step\n"
          ]
        }
      ]
    },
    {
      "cell_type": "code",
      "source": [
        "plot_predict(X_test[\"age\"], y_test, y_predict_2)"
      ],
      "metadata": {
        "colab": {
          "base_uri": "https://localhost:8080/",
          "height": 428
        },
        "id": "dK6ffhjHv4Oc",
        "outputId": "8ab0ca13-cb1a-498f-a1b4-8e685206d40f"
      },
      "execution_count": null,
      "outputs": [
        {
          "output_type": "display_data",
          "data": {
            "text/plain": [
              "<Figure size 720x504 with 1 Axes>"
            ],
            "image/png": "[encoded data removed]"
          },
          "metadata": {
            "needs_background": "light"
          }
        }
      ]
    },
    {
      "cell_type": "code",
      "source": [
        "tf.random.set_seed(42)\n",
        "\n",
        "insurance_model_3 = tf.keras.Sequential([\n",
        "    tf.keras.layers.Dense(100),\n",
        "    tf.keras.layers.Dense(10),\n",
        "    tf.keras.layers.Dense(1)\n",
        "])\n",
        "\n",
        "insurance_model_3.compile(loss=tf.keras.losses.mae,\n",
        "                          optimizer=tf.keras.optimizers.Adam(),\n",
        "                          metrics=[\"mae\"])\n",
        "\n",
        "history = insurance_model_3.fit(X_train, y_train, epochs=200)"
      ],
      "metadata": {
        "colab": {
          "base_uri": "https://localhost:8080/"
        },
        "id": "qgjYa49ZwoIe",
        "outputId": "59c6b89e-5f46-4b30-8330-862922e2fdb1"
      },
      "execution_count": null,
      "outputs": [
        {
          "output_type": "stream",
          "name": "stdout",
          "text": [
            "Epoch 1/200\n",
            "34/34 [==============================] - 4s 7ms/step - loss: 13304.0605 - mae: 13304.0605\n",
            "Epoch 2/200\n",
            "34/34 [==============================] - 0s 11ms/step - loss: 13166.1123 - mae: 13166.1123\n",
            "Epoch 3/200\n",
            "34/34 [==============================] - 0s 10ms/step - loss: 12877.4521 - mae: 12877.4521\n",
            "Epoch 4/200\n",
            "34/34 [==============================] - 0s 8ms/step - loss: 12298.4941 - mae: 12298.4941\n",
            "Epoch 5/200\n",
            "34/34 [==============================] - 0s 3ms/step - loss: 11284.7012 - mae: 11284.7012\n",
            "Epoch 6/200\n",
            "34/34 [==============================] - 0s 2ms/step - loss: 9868.2422 - mae: 9868.2422\n",
            "Epoch 7/200\n",
            "34/34 [==============================] - 0s 2ms/step - loss: 8432.4678 - mae: 8432.4678\n",
            "Epoch 8/200\n",
            "34/34 [==============================] - 0s 2ms/step - loss: 7595.3320 - mae: 7595.3320\n",
            "Epoch 9/200\n",
            "34/34 [==============================] - 0s 2ms/step - loss: 7421.1943 - mae: 7421.1943\n",
            "Epoch 10/200\n",
            "34/34 [==============================] - 0s 2ms/step - loss: 7397.1914 - mae: 7397.1914\n",
            "Epoch 11/200\n",
            "34/34 [==============================] - 0s 2ms/step - loss: 7378.2983 - mae: 7378.2983\n",
            "Epoch 12/200\n",
            "34/34 [==============================] - 0s 2ms/step - loss: 7357.0073 - mae: 7357.0073\n",
            "Epoch 13/200\n",
            "34/34 [==============================] - 0s 2ms/step - loss: 7336.9385 - mae: 7336.9385\n",
            "Epoch 14/200\n",
            "34/34 [==============================] - 0s 3ms/step - loss: 7314.9028 - mae: 7314.9028\n",
            "Epoch 15/200\n",
            "34/34 [==============================] - 0s 2ms/step - loss: 7296.3491 - mae: 7296.3491\n",
            "Epoch 16/200\n",
            "34/34 [==============================] - 0s 2ms/step - loss: 7274.3555 - mae: 7274.3555\n",
            "Epoch 17/200\n",
            "34/34 [==============================] - 0s 2ms/step - loss: 7253.3848 - mae: 7253.3848\n",
            "Epoch 18/200\n",
            "34/34 [==============================] - 0s 2ms/step - loss: 7230.5195 - mae: 7230.5195\n",
            "Epoch 19/200\n",
            "34/34 [==============================] - 0s 3ms/step - loss: 7207.7988 - mae: 7207.7988\n",
            "Epoch 20/200\n",
            "34/34 [==============================] - 0s 2ms/step - loss: 7183.5986 - mae: 7183.5986\n",
            "Epoch 21/200\n",
            "34/34 [==============================] - 0s 3ms/step - loss: 7163.7881 - mae: 7163.7881\n",
            "Epoch 22/200\n",
            "34/34 [==============================] - 0s 2ms/step - loss: 7135.4746 - mae: 7135.4746\n",
            "Epoch 23/200\n",
            "34/34 [==============================] - 0s 2ms/step - loss: 7109.8706 - mae: 7109.8706\n",
            "Epoch 24/200\n",
            "34/34 [==============================] - 0s 3ms/step - loss: 7083.0430 - mae: 7083.0430\n",
            "Epoch 25/200\n",
            "34/34 [==============================] - 0s 2ms/step - loss: 7062.8667 - mae: 7062.8667\n",
            "Epoch 26/200\n",
            "34/34 [==============================] - 0s 2ms/step - loss: 7030.0654 - mae: 7030.0654\n",
            "Epoch 27/200\n",
            "34/34 [==============================] - 0s 2ms/step - loss: 6999.9951 - mae: 6999.9951\n",
            "Epoch 28/200\n",
            "34/34 [==============================] - 0s 2ms/step - loss: 6969.8599 - mae: 6969.8599\n",
            "Epoch 29/200\n",
            "34/34 [==============================] - 0s 2ms/step - loss: 6939.5757 - mae: 6939.5757\n",
            "Epoch 30/200\n",
            "34/34 [==============================] - 0s 2ms/step - loss: 6910.6206 - mae: 6910.6206\n",
            "Epoch 31/200\n",
            "34/34 [==============================] - 0s 2ms/step - loss: 6877.8589 - mae: 6877.8589\n",
            "Epoch 32/200\n",
            "34/34 [==============================] - 0s 3ms/step - loss: 6847.1426 - mae: 6847.1426\n",
            "Epoch 33/200\n",
            "34/34 [==============================] - 0s 2ms/step - loss: 6813.5850 - mae: 6813.5850\n",
            "Epoch 34/200\n",
            "34/34 [==============================] - 0s 3ms/step - loss: 6779.9170 - mae: 6779.9170\n",
            "Epoch 35/200\n",
            "34/34 [==============================] - 0s 2ms/step - loss: 6743.8408 - mae: 6743.8408\n",
            "Epoch 36/200\n",
            "34/34 [==============================] - 0s 3ms/step - loss: 6708.5112 - mae: 6708.5112\n",
            "Epoch 37/200\n",
            "34/34 [==============================] - 0s 3ms/step - loss: 6671.7734 - mae: 6671.7734\n",
            "Epoch 38/200\n",
            "34/34 [==============================] - 0s 3ms/step - loss: 6641.7217 - mae: 6641.7217\n",
            "Epoch 39/200\n",
            "34/34 [==============================] - 0s 3ms/step - loss: 6603.2920 - mae: 6603.2920\n",
            "Epoch 40/200\n",
            "34/34 [==============================] - 0s 3ms/step - loss: 6572.7402 - mae: 6572.7402\n",
            "Epoch 41/200\n",
            "34/34 [==============================] - 0s 3ms/step - loss: 6548.3354 - mae: 6548.3354\n",
            "Epoch 42/200\n",
            "34/34 [==============================] - 0s 3ms/step - loss: 6526.6030 - mae: 6526.6030\n",
            "Epoch 43/200\n",
            "34/34 [==============================] - 0s 3ms/step - loss: 6507.5073 - mae: 6507.5073\n",
            "Epoch 44/200\n",
            "34/34 [==============================] - 0s 3ms/step - loss: 6489.6553 - mae: 6489.6553\n",
            "Epoch 45/200\n",
            "34/34 [==============================] - 0s 2ms/step - loss: 6480.9307 - mae: 6480.9307\n",
            "Epoch 46/200\n",
            "34/34 [==============================] - 0s 2ms/step - loss: 6463.9658 - mae: 6463.9658\n",
            "Epoch 47/200\n",
            "34/34 [==============================] - 0s 2ms/step - loss: 6449.1812 - mae: 6449.1812\n",
            "Epoch 48/200\n",
            "34/34 [==============================] - 0s 2ms/step - loss: 6436.2217 - mae: 6436.2217\n",
            "Epoch 49/200\n",
            "34/34 [==============================] - 0s 2ms/step - loss: 6425.2988 - mae: 6425.2988\n",
            "Epoch 50/200\n",
            "34/34 [==============================] - 0s 2ms/step - loss: 6411.6719 - mae: 6411.6719\n",
            "Epoch 51/200\n",
            "34/34 [==============================] - 0s 2ms/step - loss: 6399.1738 - mae: 6399.1738\n",
            "Epoch 52/200\n",
            "34/34 [==============================] - 0s 2ms/step - loss: 6386.8486 - mae: 6386.8486\n",
            "Epoch 53/200\n",
            "34/34 [==============================] - 0s 2ms/step - loss: 6373.4165 - mae: 6373.4165\n",
            "Epoch 54/200\n",
            "34/34 [==============================] - 0s 3ms/step - loss: 6360.0093 - mae: 6360.0093\n",
            "Epoch 55/200\n",
            "34/34 [==============================] - 0s 2ms/step - loss: 6346.8696 - mae: 6346.8696\n",
            "Epoch 56/200\n",
            "34/34 [==============================] - 0s 2ms/step - loss: 6333.3525 - mae: 6333.3525\n",
            "Epoch 57/200\n",
            "34/34 [==============================] - 0s 2ms/step - loss: 6320.5679 - mae: 6320.5679\n",
            "Epoch 58/200\n",
            "34/34 [==============================] - 0s 2ms/step - loss: 6307.4893 - mae: 6307.4893\n",
            "Epoch 59/200\n",
            "34/34 [==============================] - 0s 2ms/step - loss: 6292.1421 - mae: 6292.1421\n",
            "Epoch 60/200\n",
            "34/34 [==============================] - 0s 2ms/step - loss: 6282.0259 - mae: 6282.0259\n",
            "Epoch 61/200\n",
            "34/34 [==============================] - 0s 2ms/step - loss: 6262.4326 - mae: 6262.4326\n",
            "Epoch 62/200\n",
            "34/34 [==============================] - 0s 3ms/step - loss: 6250.5366 - mae: 6250.5366\n",
            "Epoch 63/200\n",
            "34/34 [==============================] - 0s 2ms/step - loss: 6233.3086 - mae: 6233.3086\n",
            "Epoch 64/200\n",
            "34/34 [==============================] - 0s 3ms/step - loss: 6216.0112 - mae: 6216.0112\n",
            "Epoch 65/200\n",
            "34/34 [==============================] - 0s 2ms/step - loss: 6199.7598 - mae: 6199.7598\n",
            "Epoch 66/200\n",
            "34/34 [==============================] - 0s 2ms/step - loss: 6183.0630 - mae: 6183.0630\n",
            "Epoch 67/200\n",
            "34/34 [==============================] - 0s 2ms/step - loss: 6170.8745 - mae: 6170.8745\n",
            "Epoch 68/200\n",
            "34/34 [==============================] - 0s 3ms/step - loss: 6148.8638 - mae: 6148.8638\n",
            "Epoch 69/200\n",
            "34/34 [==============================] - 0s 3ms/step - loss: 6133.3794 - mae: 6133.3794\n",
            "Epoch 70/200\n",
            "34/34 [==============================] - 0s 2ms/step - loss: 6113.5933 - mae: 6113.5933\n",
            "Epoch 71/200\n",
            "34/34 [==============================] - 0s 3ms/step - loss: 6094.4912 - mae: 6094.4912\n",
            "Epoch 72/200\n",
            "34/34 [==============================] - 0s 3ms/step - loss: 6075.6196 - mae: 6075.6196\n",
            "Epoch 73/200\n",
            "34/34 [==============================] - 0s 2ms/step - loss: 6062.5757 - mae: 6062.5757\n",
            "Epoch 74/200\n",
            "34/34 [==============================] - 0s 2ms/step - loss: 6035.0645 - mae: 6035.0645\n",
            "Epoch 75/200\n",
            "34/34 [==============================] - 0s 3ms/step - loss: 6013.3027 - mae: 6013.3027\n",
            "Epoch 76/200\n",
            "34/34 [==============================] - 0s 2ms/step - loss: 6001.1851 - mae: 6001.1851\n",
            "Epoch 77/200\n",
            "34/34 [==============================] - 0s 3ms/step - loss: 5969.5425 - mae: 5969.5425\n",
            "Epoch 78/200\n",
            "34/34 [==============================] - 0s 2ms/step - loss: 5947.3379 - mae: 5947.3379\n",
            "Epoch 79/200\n",
            "34/34 [==============================] - 0s 3ms/step - loss: 5924.1221 - mae: 5924.1221\n",
            "Epoch 80/200\n",
            "34/34 [==============================] - 0s 2ms/step - loss: 5897.3521 - mae: 5897.3521\n",
            "Epoch 81/200\n",
            "34/34 [==============================] - 0s 2ms/step - loss: 5872.6523 - mae: 5872.6523\n",
            "Epoch 82/200\n",
            "34/34 [==============================] - 0s 3ms/step - loss: 5846.0674 - mae: 5846.0674\n",
            "Epoch 83/200\n",
            "34/34 [==============================] - 0s 2ms/step - loss: 5818.4746 - mae: 5818.4746\n",
            "Epoch 84/200\n",
            "34/34 [==============================] - 0s 3ms/step - loss: 5786.5361 - mae: 5786.5361\n",
            "Epoch 85/200\n",
            "34/34 [==============================] - 0s 2ms/step - loss: 5760.6963 - mae: 5760.6963\n",
            "Epoch 86/200\n",
            "34/34 [==============================] - 0s 3ms/step - loss: 5728.1616 - mae: 5728.1616\n",
            "Epoch 87/200\n",
            "34/34 [==============================] - 0s 2ms/step - loss: 5693.6143 - mae: 5693.6143\n",
            "Epoch 88/200\n",
            "34/34 [==============================] - 0s 2ms/step - loss: 5660.6719 - mae: 5660.6719\n",
            "Epoch 89/200\n",
            "34/34 [==============================] - 0s 3ms/step - loss: 5623.8057 - mae: 5623.8057\n",
            "Epoch 90/200\n",
            "34/34 [==============================] - 0s 2ms/step - loss: 5585.0103 - mae: 5585.0103\n",
            "Epoch 91/200\n",
            "34/34 [==============================] - 0s 3ms/step - loss: 5551.8882 - mae: 5551.8882\n",
            "Epoch 92/200\n",
            "34/34 [==============================] - 0s 4ms/step - loss: 5504.1904 - mae: 5504.1904\n",
            "Epoch 93/200\n",
            "34/34 [==============================] - 0s 4ms/step - loss: 5466.3242 - mae: 5466.3242\n",
            "Epoch 94/200\n",
            "34/34 [==============================] - 0s 4ms/step - loss: 5423.5088 - mae: 5423.5088\n",
            "Epoch 95/200\n",
            "34/34 [==============================] - 0s 3ms/step - loss: 5373.7212 - mae: 5373.7212\n",
            "Epoch 96/200\n",
            "34/34 [==============================] - 0s 4ms/step - loss: 5333.3716 - mae: 5333.3716\n",
            "Epoch 97/200\n",
            "34/34 [==============================] - 0s 3ms/step - loss: 5281.9097 - mae: 5281.9097\n",
            "Epoch 98/200\n",
            "34/34 [==============================] - 0s 4ms/step - loss: 5224.6304 - mae: 5224.6304\n",
            "Epoch 99/200\n",
            "34/34 [==============================] - 0s 4ms/step - loss: 5169.4395 - mae: 5169.4395\n",
            "Epoch 100/200\n",
            "34/34 [==============================] - 0s 3ms/step - loss: 5116.1851 - mae: 5116.1851\n",
            "Epoch 101/200\n",
            "34/34 [==============================] - 0s 3ms/step - loss: 5051.1025 - mae: 5051.1025\n",
            "Epoch 102/200\n",
            "34/34 [==============================] - 0s 3ms/step - loss: 4987.7441 - mae: 4987.7441\n",
            "Epoch 103/200\n",
            "34/34 [==============================] - 0s 4ms/step - loss: 4925.4932 - mae: 4925.4932\n",
            "Epoch 104/200\n",
            "34/34 [==============================] - 0s 4ms/step - loss: 4852.2578 - mae: 4852.2578\n",
            "Epoch 105/200\n",
            "34/34 [==============================] - 0s 4ms/step - loss: 4776.7661 - mae: 4776.7661\n",
            "Epoch 106/200\n",
            "34/34 [==============================] - 0s 4ms/step - loss: 4697.9482 - mae: 4697.9482\n",
            "Epoch 107/200\n",
            "34/34 [==============================] - 0s 4ms/step - loss: 4618.5625 - mae: 4618.5625\n",
            "Epoch 108/200\n",
            "34/34 [==============================] - 0s 4ms/step - loss: 4535.9375 - mae: 4535.9375\n",
            "Epoch 109/200\n",
            "34/34 [==============================] - 0s 4ms/step - loss: 4451.4775 - mae: 4451.4775\n",
            "Epoch 110/200\n",
            "34/34 [==============================] - 0s 4ms/step - loss: 4367.6069 - mae: 4367.6069\n",
            "Epoch 111/200\n",
            "34/34 [==============================] - 0s 5ms/step - loss: 4285.8174 - mae: 4285.8174\n",
            "Epoch 112/200\n",
            "34/34 [==============================] - 0s 4ms/step - loss: 4214.4204 - mae: 4214.4204\n",
            "Epoch 113/200\n",
            "34/34 [==============================] - 0s 3ms/step - loss: 4140.1167 - mae: 4140.1167\n",
            "Epoch 114/200\n",
            "34/34 [==============================] - 0s 2ms/step - loss: 4066.9636 - mae: 4066.9636\n",
            "Epoch 115/200\n",
            "34/34 [==============================] - 0s 2ms/step - loss: 4002.3018 - mae: 4002.3018\n",
            "Epoch 116/200\n",
            "34/34 [==============================] - 0s 2ms/step - loss: 3966.9753 - mae: 3966.9753\n",
            "Epoch 117/200\n",
            "34/34 [==============================] - 0s 2ms/step - loss: 3944.9570 - mae: 3944.9570\n",
            "Epoch 118/200\n",
            "34/34 [==============================] - 0s 2ms/step - loss: 3913.9583 - mae: 3913.9583\n",
            "Epoch 119/200\n",
            "34/34 [==============================] - 0s 2ms/step - loss: 3878.1609 - mae: 3878.1609\n",
            "Epoch 120/200\n",
            "34/34 [==============================] - 0s 3ms/step - loss: 3856.1667 - mae: 3856.1667\n",
            "Epoch 121/200\n",
            "34/34 [==============================] - 0s 3ms/step - loss: 3846.6018 - mae: 3846.6018\n",
            "Epoch 122/200\n",
            "34/34 [==============================] - 0s 2ms/step - loss: 3838.8015 - mae: 3838.8015\n",
            "Epoch 123/200\n",
            "34/34 [==============================] - 0s 2ms/step - loss: 3829.2258 - mae: 3829.2258\n",
            "Epoch 124/200\n",
            "34/34 [==============================] - 0s 2ms/step - loss: 3817.8477 - mae: 3817.8477\n",
            "Epoch 125/200\n",
            "34/34 [==============================] - 0s 2ms/step - loss: 3806.2915 - mae: 3806.2915\n",
            "Epoch 126/200\n",
            "34/34 [==============================] - 0s 2ms/step - loss: 3816.4753 - mae: 3816.4753\n",
            "Epoch 127/200\n",
            "34/34 [==============================] - 0s 2ms/step - loss: 3804.8933 - mae: 3804.8933\n",
            "Epoch 128/200\n",
            "34/34 [==============================] - 0s 2ms/step - loss: 3799.0981 - mae: 3799.0981\n",
            "Epoch 129/200\n",
            "34/34 [==============================] - 0s 2ms/step - loss: 3804.2827 - mae: 3804.2827\n",
            "Epoch 130/200\n",
            "34/34 [==============================] - 0s 2ms/step - loss: 3795.6973 - mae: 3795.6973\n",
            "Epoch 131/200\n",
            "34/34 [==============================] - 0s 2ms/step - loss: 3787.3987 - mae: 3787.3987\n",
            "Epoch 132/200\n",
            "34/34 [==============================] - 0s 2ms/step - loss: 3779.9333 - mae: 3779.9333\n",
            "Epoch 133/200\n",
            "34/34 [==============================] - 0s 3ms/step - loss: 3774.9321 - mae: 3774.9321\n",
            "Epoch 134/200\n",
            "34/34 [==============================] - 0s 2ms/step - loss: 3776.6304 - mae: 3776.6304\n",
            "Epoch 135/200\n",
            "34/34 [==============================] - 0s 3ms/step - loss: 3772.0063 - mae: 3772.0063\n",
            "Epoch 136/200\n",
            "34/34 [==============================] - 0s 2ms/step - loss: 3771.0269 - mae: 3771.0269\n",
            "Epoch 137/200\n",
            "34/34 [==============================] - 0s 2ms/step - loss: 3780.4280 - mae: 3780.4280\n",
            "Epoch 138/200\n",
            "34/34 [==============================] - 0s 3ms/step - loss: 3787.0251 - mae: 3787.0251\n",
            "Epoch 139/200\n",
            "34/34 [==============================] - 0s 2ms/step - loss: 3765.4893 - mae: 3765.4893\n",
            "Epoch 140/200\n",
            "34/34 [==============================] - 0s 2ms/step - loss: 3767.6379 - mae: 3767.6379\n",
            "Epoch 141/200\n",
            "34/34 [==============================] - 0s 2ms/step - loss: 3767.6528 - mae: 3767.6528\n",
            "Epoch 142/200\n",
            "34/34 [==============================] - 0s 2ms/step - loss: 3766.6421 - mae: 3766.6421\n",
            "Epoch 143/200\n",
            "34/34 [==============================] - 0s 2ms/step - loss: 3759.3455 - mae: 3759.3455\n",
            "Epoch 144/200\n",
            "34/34 [==============================] - 0s 3ms/step - loss: 3754.3835 - mae: 3754.3835\n",
            "Epoch 145/200\n",
            "34/34 [==============================] - 0s 2ms/step - loss: 3755.2622 - mae: 3755.2622\n",
            "Epoch 146/200\n",
            "34/34 [==============================] - 0s 3ms/step - loss: 3760.4280 - mae: 3760.4280\n",
            "Epoch 147/200\n",
            "34/34 [==============================] - 0s 3ms/step - loss: 3756.2605 - mae: 3756.2605\n",
            "Epoch 148/200\n",
            "34/34 [==============================] - 0s 3ms/step - loss: 3760.7976 - mae: 3760.7976\n",
            "Epoch 149/200\n",
            "34/34 [==============================] - 0s 2ms/step - loss: 3748.0339 - mae: 3748.0339\n",
            "Epoch 150/200\n",
            "34/34 [==============================] - 0s 2ms/step - loss: 3742.8540 - mae: 3742.8540\n",
            "Epoch 151/200\n",
            "34/34 [==============================] - 0s 3ms/step - loss: 3746.9829 - mae: 3746.9829\n",
            "Epoch 152/200\n",
            "34/34 [==============================] - 0s 2ms/step - loss: 3746.9788 - mae: 3746.9788\n",
            "Epoch 153/200\n",
            "34/34 [==============================] - 0s 2ms/step - loss: 3747.4358 - mae: 3747.4358\n",
            "Epoch 154/200\n",
            "34/34 [==============================] - 0s 2ms/step - loss: 3741.1174 - mae: 3741.1174\n",
            "Epoch 155/200\n",
            "34/34 [==============================] - 0s 3ms/step - loss: 3743.7722 - mae: 3743.7722\n",
            "Epoch 156/200\n",
            "34/34 [==============================] - 0s 3ms/step - loss: 3739.5703 - mae: 3739.5703\n",
            "Epoch 157/200\n",
            "34/34 [==============================] - 0s 3ms/step - loss: 3738.5735 - mae: 3738.5735\n",
            "Epoch 158/200\n",
            "34/34 [==============================] - 0s 2ms/step - loss: 3733.4795 - mae: 3733.4795\n",
            "Epoch 159/200\n",
            "34/34 [==============================] - 0s 3ms/step - loss: 3731.9043 - mae: 3731.9043\n",
            "Epoch 160/200\n",
            "34/34 [==============================] - 0s 2ms/step - loss: 3737.5156 - mae: 3737.5156\n",
            "Epoch 161/200\n",
            "34/34 [==============================] - 0s 2ms/step - loss: 3733.2441 - mae: 3733.2441\n",
            "Epoch 162/200\n",
            "34/34 [==============================] - 0s 2ms/step - loss: 3728.0889 - mae: 3728.0889\n",
            "Epoch 163/200\n",
            "34/34 [==============================] - 0s 2ms/step - loss: 3725.9631 - mae: 3725.9631\n",
            "Epoch 164/200\n",
            "34/34 [==============================] - 0s 3ms/step - loss: 3732.0371 - mae: 3732.0371\n",
            "Epoch 165/200\n",
            "34/34 [==============================] - 0s 3ms/step - loss: 3721.5244 - mae: 3721.5244\n",
            "Epoch 166/200\n",
            "34/34 [==============================] - 0s 3ms/step - loss: 3726.5396 - mae: 3726.5396\n",
            "Epoch 167/200\n",
            "34/34 [==============================] - 0s 3ms/step - loss: 3724.1614 - mae: 3724.1614\n",
            "Epoch 168/200\n",
            "34/34 [==============================] - 0s 3ms/step - loss: 3719.4446 - mae: 3719.4446\n",
            "Epoch 169/200\n",
            "34/34 [==============================] - 0s 2ms/step - loss: 3718.9836 - mae: 3718.9836\n",
            "Epoch 170/200\n",
            "34/34 [==============================] - 0s 3ms/step - loss: 3713.4348 - mae: 3713.4348\n",
            "Epoch 171/200\n",
            "34/34 [==============================] - 0s 2ms/step - loss: 3712.3118 - mae: 3712.3118\n",
            "Epoch 172/200\n",
            "34/34 [==============================] - 0s 2ms/step - loss: 3716.0618 - mae: 3716.0618\n",
            "Epoch 173/200\n",
            "34/34 [==============================] - 0s 2ms/step - loss: 3709.1042 - mae: 3709.1042\n",
            "Epoch 174/200\n",
            "34/34 [==============================] - 0s 2ms/step - loss: 3714.3269 - mae: 3714.3269\n",
            "Epoch 175/200\n",
            "34/34 [==============================] - 0s 3ms/step - loss: 3717.3459 - mae: 3717.3459\n",
            "Epoch 176/200\n",
            "34/34 [==============================] - 0s 2ms/step - loss: 3711.3457 - mae: 3711.3457\n",
            "Epoch 177/200\n",
            "34/34 [==============================] - 0s 2ms/step - loss: 3705.9597 - mae: 3705.9597\n",
            "Epoch 178/200\n",
            "34/34 [==============================] - 0s 2ms/step - loss: 3702.1189 - mae: 3702.1189\n",
            "Epoch 179/200\n",
            "34/34 [==============================] - 0s 2ms/step - loss: 3711.9570 - mae: 3711.9570\n",
            "Epoch 180/200\n",
            "34/34 [==============================] - 0s 2ms/step - loss: 3716.9080 - mae: 3716.9080\n",
            "Epoch 181/200\n",
            "34/34 [==============================] - 0s 2ms/step - loss: 3703.0122 - mae: 3703.0122\n",
            "Epoch 182/200\n",
            "34/34 [==============================] - 0s 2ms/step - loss: 3699.8521 - mae: 3699.8521\n",
            "Epoch 183/200\n",
            "34/34 [==============================] - 0s 2ms/step - loss: 3697.1821 - mae: 3697.1821\n",
            "Epoch 184/200\n",
            "34/34 [==============================] - 0s 2ms/step - loss: 3704.0737 - mae: 3704.0737\n",
            "Epoch 185/200\n",
            "34/34 [==============================] - 0s 2ms/step - loss: 3701.9141 - mae: 3701.9141\n",
            "Epoch 186/200\n",
            "34/34 [==============================] - 0s 3ms/step - loss: 3703.0022 - mae: 3703.0022\n",
            "Epoch 187/200\n",
            "34/34 [==============================] - 0s 3ms/step - loss: 3693.1963 - mae: 3693.1963\n",
            "Epoch 188/200\n",
            "34/34 [==============================] - 0s 2ms/step - loss: 3701.3367 - mae: 3701.3367\n",
            "Epoch 189/200\n",
            "34/34 [==============================] - 0s 3ms/step - loss: 3691.2273 - mae: 3691.2273\n",
            "Epoch 190/200\n",
            "34/34 [==============================] - 0s 2ms/step - loss: 3689.2295 - mae: 3689.2295\n",
            "Epoch 191/200\n",
            "34/34 [==============================] - 0s 2ms/step - loss: 3706.2268 - mae: 3706.2268\n",
            "Epoch 192/200\n",
            "34/34 [==============================] - 0s 3ms/step - loss: 3690.8396 - mae: 3690.8396\n",
            "Epoch 193/200\n",
            "34/34 [==============================] - 0s 2ms/step - loss: 3681.8296 - mae: 3681.8296\n",
            "Epoch 194/200\n",
            "34/34 [==============================] - 0s 2ms/step - loss: 3682.2234 - mae: 3682.2234\n",
            "Epoch 195/200\n",
            "34/34 [==============================] - 0s 2ms/step - loss: 3680.0144 - mae: 3680.0144\n",
            "Epoch 196/200\n",
            "34/34 [==============================] - 0s 2ms/step - loss: 3688.6914 - mae: 3688.6914\n",
            "Epoch 197/200\n",
            "34/34 [==============================] - 0s 2ms/step - loss: 3673.5076 - mae: 3673.5076\n",
            "Epoch 198/200\n",
            "34/34 [==============================] - 0s 3ms/step - loss: 3679.4290 - mae: 3679.4290\n",
            "Epoch 199/200\n",
            "34/34 [==============================] - 0s 2ms/step - loss: 3687.3992 - mae: 3687.3992\n",
            "Epoch 200/200\n",
            "34/34 [==============================] - 0s 3ms/step - loss: 3672.4258 - mae: 3672.4258\n"
          ]
        }
      ]
    },
    {
      "cell_type": "code",
      "source": [
        "y_train.median(), y_train.mean()"
      ],
      "metadata": {
        "colab": {
          "base_uri": "https://localhost:8080/"
        },
        "id": "ojRvnqzGxBIV",
        "outputId": "358cc671-9e94-4cb3-831c-f06c6c4bc526"
      },
      "execution_count": null,
      "outputs": [
        {
          "output_type": "execute_result",
          "data": {
            "text/plain": [
              "(9575.4421, 13346.089736364485)"
            ]
          },
          "metadata": {},
          "execution_count": 48
        }
      ]
    },
    {
      "cell_type": "code",
      "source": [
        "insurance_model_3.evaluate(X_test, y_test)"
      ],
      "metadata": {
        "colab": {
          "base_uri": "https://localhost:8080/"
        },
        "id": "o8dreeE1xCa7",
        "outputId": "21986ae8-d56a-4dfa-9345-e79a769e84f6"
      },
      "execution_count": null,
      "outputs": [
        {
          "output_type": "stream",
          "name": "stdout",
          "text": [
            "9/9 [==============================] - 0s 3ms/step - loss: 3503.9993 - mae: 3503.9993\n"
          ]
        },
        {
          "output_type": "execute_result",
          "data": {
            "text/plain": [
              "[3503.999267578125, 3503.999267578125]"
            ]
          },
          "metadata": {},
          "execution_count": 49
        }
      ]
    },
    {
      "cell_type": "code",
      "source": [
        "y_predict_3 = insurance_model_3.predict(X_test)"
      ],
      "metadata": {
        "colab": {
          "base_uri": "https://localhost:8080/"
        },
        "id": "cBHaqfCUxqNN",
        "outputId": "11b95883-5397-4147-808c-f6dfb92d5c03"
      },
      "execution_count": null,
      "outputs": [
        {
          "output_type": "stream",
          "name": "stdout",
          "text": [
            "9/9 [==============================] - 0s 2ms/step\n"
          ]
        }
      ]
    },
    {
      "cell_type": "code",
      "source": [
        "plot_predict(X_test[\"age\"], y_test, y_predict_3)"
      ],
      "metadata": {
        "colab": {
          "base_uri": "https://localhost:8080/",
          "height": 428
        },
        "id": "n-sACcwfxzfl",
        "outputId": "a381bedc-8efc-4648-a9ae-dcb05299feb7"
      },
      "execution_count": null,
      "outputs": [
        {
          "output_type": "display_data",
          "data": {
            "text/plain": [
              "<Figure size 720x504 with 1 Axes>"
            ],
            "image/png": "[encoded data removed]"
          },
          "metadata": {
            "needs_background": "light"
          }
        }
      ]
    },
    {
      "cell_type": "code",
      "source": [
        "# Plot history (also known as a loss curve or a training curve)\n",
        "pd.DataFrame(history.history).plot()\n",
        "plt.ylabel(\"loss\")\n",
        "plt.xlabel(\"epochs\")"
      ],
      "metadata": {
        "colab": {
          "base_uri": "https://localhost:8080/",
          "height": 296
        },
        "id": "tw1pae_ryxhQ",
        "outputId": "2e33ce3c-9209-48cd-e767-5f6fd4159476"
      },
      "execution_count": null,
      "outputs": [
        {
          "output_type": "execute_result",
          "data": {
            "text/plain": [
              "Text(0.5, 0, 'epochs')"
            ]
          },
          "metadata": {},
          "execution_count": 52
        },
        {
          "output_type": "display_data",
          "data": {
            "text/plain": [
              "<Figure size 432x288 with 1 Axes>"
            ],
            "image/png": "[encoded data removed]"
          },
          "metadata": {
            "needs_background": "light"
          }
        }
      ]
    },
    {
      "cell_type": "markdown",
      "source": [
        "## Preprocessing data (normalization and standariztion)\n",
        "\n",
        "In term of scaling values, neural networks tend to prefer normalization.\n",
        "\n",
        "If you're not sure on which to use, you could try both and see which performs better."
      ],
      "metadata": {
        "id": "WRxuzyfdz51p"
      }
    },
    {
      "cell_type": "code",
      "source": [
        "X.head()"
      ],
      "metadata": {
        "colab": {
          "base_uri": "https://localhost:8080/",
          "height": 270
        },
        "id": "eDasc05m5NzP",
        "outputId": "c0c7e1fd-1555-4da0-df2d-f5d519bf02d8"
      },
      "execution_count": null,
      "outputs": [
        {
          "output_type": "execute_result",
          "data": {
            "text/plain": [
              "   age     bmi  children  sex_encoded_female  sex_encoded_male  \\\n",
              "0   19  27.900         0                   1                 0   \n",
              "1   18  33.770         1                   0                 1   \n",
              "2   28  33.000         3                   0                 1   \n",
              "3   33  22.705         0                   0                 1   \n",
              "4   32  28.880         0                   0                 1   \n",
              "\n",
              "   smoker_encoded_no  smoker_encoded_yes  region_encoded_northeast  \\\n",
              "0                  0                   1                         0   \n",
              "1                  1                   0                         0   \n",
              "2                  1                   0                         0   \n",
              "3                  1                   0                         0   \n",
              "4                  1                   0                         0   \n",
              "\n",
              "   region_encoded_northwest  region_encoded_southeast  \\\n",
              "0                         0                         0   \n",
              "1                         0                         1   \n",
              "2                         0                         1   \n",
              "3                         1                         0   \n",
              "4                         1                         0   \n",
              "\n",
              "   region_encoded_southwest  \n",
              "0                         1  \n",
              "1                         0  \n",
              "2                         0  \n",
              "3                         0  \n",
              "4                         0  "
            ],
            "text/html": [
              "\n",
              "  <div id=\"df-5363f3d9-15f9-4b6f-bd9f-c953987e9897\">\n",
              "    <div class=\"colab-df-container\">\n",
              "      <div>\n",
              "<style scoped>\n",
              "    .dataframe tbody tr th:only-of-type {\n",
              "        vertical-align: middle;\n",
              "    }\n",
              "\n",
              "    .dataframe tbody tr th {\n",
              "        vertical-align: top;\n",
              "    }\n",
              "\n",
              "    .dataframe thead th {\n",
              "        text-align: right;\n",
              "    }\n",
              "</style>\n",
              "<table border=\"1\" class=\"dataframe\">\n",
              "  <thead>\n",
              "    <tr style=\"text-align: right;\">\n",
              "      <th></th>\n",
              "      <th>age</th>\n",
              "      <th>bmi</th>\n",
              "      <th>children</th>\n",
              "      <th>sex_encoded_female</th>\n",
              "      <th>sex_encoded_male</th>\n",
              "      <th>smoker_encoded_no</th>\n",
              "      <th>smoker_encoded_yes</th>\n",
              "      <th>region_encoded_northeast</th>\n",
              "      <th>region_encoded_northwest</th>\n",
              "      <th>region_encoded_southeast</th>\n",
              "      <th>region_encoded_southwest</th>\n",
              "    </tr>\n",
              "  </thead>\n",
              "  <tbody>\n",
              "    <tr>\n",
              "      <th>0</th>\n",
              "      <td>19</td>\n",
              "      <td>27.900</td>\n",
              "      <td>0</td>\n",
              "      <td>1</td>\n",
              "      <td>0</td>\n",
              "      <td>0</td>\n",
              "      <td>1</td>\n",
              "      <td>0</td>\n",
              "      <td>0</td>\n",
              "      <td>0</td>\n",
              "      <td>1</td>\n",
              "    </tr>\n",
              "    <tr>\n",
              "      <th>1</th>\n",
              "      <td>18</td>\n",
              "      <td>33.770</td>\n",
              "      <td>1</td>\n",
              "      <td>0</td>\n",
              "      <td>1</td>\n",
              "      <td>1</td>\n",
              "      <td>0</td>\n",
              "      <td>0</td>\n",
              "      <td>0</td>\n",
              "      <td>1</td>\n",
              "      <td>0</td>\n",
              "    </tr>\n",
              "    <tr>\n",
              "      <th>2</th>\n",
              "      <td>28</td>\n",
              "      <td>33.000</td>\n",
              "      <td>3</td>\n",
              "      <td>0</td>\n",
              "      <td>1</td>\n",
              "      <td>1</td>\n",
              "      <td>0</td>\n",
              "      <td>0</td>\n",
              "      <td>0</td>\n",
              "      <td>1</td>\n",
              "      <td>0</td>\n",
              "    </tr>\n",
              "    <tr>\n",
              "      <th>3</th>\n",
              "      <td>33</td>\n",
              "      <td>22.705</td>\n",
              "      <td>0</td>\n",
              "      <td>0</td>\n",
              "      <td>1</td>\n",
              "      <td>1</td>\n",
              "      <td>0</td>\n",
              "      <td>0</td>\n",
              "      <td>1</td>\n",
              "      <td>0</td>\n",
              "      <td>0</td>\n",
              "    </tr>\n",
              "    <tr>\n",
              "      <th>4</th>\n",
              "      <td>32</td>\n",
              "      <td>28.880</td>\n",
              "      <td>0</td>\n",
              "      <td>0</td>\n",
              "      <td>1</td>\n",
              "      <td>1</td>\n",
              "      <td>0</td>\n",
              "      <td>0</td>\n",
              "      <td>1</td>\n",
              "      <td>0</td>\n",
              "      <td>0</td>\n",
              "    </tr>\n",
              "  </tbody>\n",
              "</table>\n",
              "</div>\n",
              "      <button class=\"colab-df-convert\" onclick=\"convertToInteractive('df-5363f3d9-15f9-4b6f-bd9f-c953987e9897')\"\n",
              "              title=\"Convert this dataframe to an interactive table.\"\n",
              "              style=\"display:none;\">\n",
              "        \n",
              "  <svg xmlns=\"http://www.w3.org/2000/svg\" height=\"24px\"viewBox=\"0 0 24 24\"\n",
              "       width=\"24px\">\n",
              "    <path d=\"M0 0h24v24H0V0z\" fill=\"none\"/>\n",
              "    <path d=\"M18.56 5.44l.94 2.06.94-2.06 2.06-.94-2.06-.94-.94-2.06-.94 2.06-2.06.94zm-11 1L8.5 8.5l.94-2.06 2.06-.94-2.06-.94L8.5 2.5l-.94 2.06-2.06.94zm10 10l.94 2.06.94-2.06 2.06-.94-2.06-.94-.94-2.06-.94 2.06-2.06.94z\"/><path d=\"M17.41 7.96l-1.37-1.37c-.4-.4-.92-.59-1.43-.59-.52 0-1.04.2-1.43.59L10.3 9.45l-7.72 7.72c-.78.78-.78 2.05 0 2.83L4 21.41c.39.39.9.59 1.41.59.51 0 1.02-.2 1.41-.59l7.78-7.78 2.81-2.81c.8-.78.8-2.07 0-2.86zM5.41 20L4 18.59l7.72-7.72 1.47 1.35L5.41 20z\"/>\n",
              "  </svg>\n",
              "      </button>\n",
              "      \n",
              "  <style>\n",
              "    .colab-df-container {\n",
              "      display:flex;\n",
              "      flex-wrap:wrap;\n",
              "      gap: 12px;\n",
              "    }\n",
              "\n",
              "    .colab-df-convert {\n",
              "      background-color: #E8F0FE;\n",
              "      border: none;\n",
              "      border-radius: 50%;\n",
              "      cursor: pointer;\n",
              "      display: none;\n",
              "      fill: #1967D2;\n",
              "      height: 32px;\n",
              "      padding: 0 0 0 0;\n",
              "      width: 32px;\n",
              "    }\n",
              "\n",
              "    .colab-df-convert:hover {\n",
              "      background-color: #E2EBFA;\n",
              "      box-shadow: 0px 1px 2px rgba(60, 64, 67, 0.3), 0px 1px 3px 1px rgba(60, 64, 67, 0.15);\n",
              "      fill: #174EA6;\n",
              "    }\n",
              "\n",
              "    [theme=dark] .colab-df-convert {\n",
              "      background-color: #3B4455;\n",
              "      fill: #D2E3FC;\n",
              "    }\n",
              "\n",
              "    [theme=dark] .colab-df-convert:hover {\n",
              "      background-color: #434B5C;\n",
              "      box-shadow: 0px 1px 3px 1px rgba(0, 0, 0, 0.15);\n",
              "      filter: drop-shadow(0px 1px 2px rgba(0, 0, 0, 0.3));\n",
              "      fill: #FFFFFF;\n",
              "    }\n",
              "  </style>\n",
              "\n",
              "      <script>\n",
              "        const buttonEl =\n",
              "          document.querySelector('#df-5363f3d9-15f9-4b6f-bd9f-c953987e9897 button.colab-df-convert');\n",
              "        buttonEl.style.display =\n",
              "          google.colab.kernel.accessAllowed ? 'block' : 'none';\n",
              "\n",
              "        async function convertToInteractive(key) {\n",
              "          const element = document.querySelector('#df-5363f3d9-15f9-4b6f-bd9f-c953987e9897');\n",
              "          const dataTable =\n",
              "            await google.colab.kernel.invokeFunction('convertToInteractive',\n",
              "                                                     [key], {});\n",
              "          if (!dataTable) return;\n",
              "\n",
              "          const docLinkHtml = 'Like what you see? Visit the ' +\n",
              "            '<a target=\"_blank\" href=https://colab.research.google.com/notebooks/data_table.ipynb>data table notebook</a>'\n",
              "            + ' to learn more about interactive tables.';\n",
              "          element.innerHTML = '';\n",
              "          dataTable['output_type'] = 'display_data';\n",
              "          await google.colab.output.renderOutput(dataTable, element);\n",
              "          const docLink = document.createElement('div');\n",
              "          docLink.innerHTML = docLinkHtml;\n",
              "          element.appendChild(docLink);\n",
              "        }\n",
              "      </script>\n",
              "    </div>\n",
              "  </div>\n",
              "  "
            ]
          },
          "metadata": {},
          "execution_count": 54
        }
      ]
    },
    {
      "cell_type": "code",
      "source": [
        "X[\"age\"].plot(kind=\"hist\")"
      ],
      "metadata": {
        "colab": {
          "base_uri": "https://localhost:8080/",
          "height": 282
        },
        "id": "KhzpqUMB0AZ3",
        "outputId": "e1e3b3a3-270a-4c4f-bbb3-b56f4bea045f"
      },
      "execution_count": null,
      "outputs": [
        {
          "output_type": "execute_result",
          "data": {
            "text/plain": [
              "<AxesSubplot:ylabel='Frequency'>"
            ]
          },
          "metadata": {},
          "execution_count": 53
        },
        {
          "output_type": "display_data",
          "data": {
            "text/plain": [
              "<Figure size 432x288 with 1 Axes>"
            ],
            "image/png": "[encoded data removed]"
          },
          "metadata": {
            "needs_background": "light"
          }
        }
      ]
    },
    {
      "cell_type": "code",
      "source": [
        "X[\"bmi\"].plot(kind=\"hist\")"
      ],
      "metadata": {
        "colab": {
          "base_uri": "https://localhost:8080/",
          "height": 282
        },
        "id": "-yqvuyrq5TAx",
        "outputId": "2c186803-c626-46eb-e2a2-2352896f559f"
      },
      "execution_count": null,
      "outputs": [
        {
          "output_type": "execute_result",
          "data": {
            "text/plain": [
              "<AxesSubplot:ylabel='Frequency'>"
            ]
          },
          "metadata": {},
          "execution_count": 55
        },
        {
          "output_type": "display_data",
          "data": {
            "text/plain": [
              "<Figure size 432x288 with 1 Axes>"
            ],
            "image/png": "[encoded data removed]"
          },
          "metadata": {
            "needs_background": "light"
          }
        }
      ]
    },
    {
      "cell_type": "code",
      "source": [
        "X[\"children\"].value_counts()"
      ],
      "metadata": {
        "colab": {
          "base_uri": "https://localhost:8080/"
        },
        "id": "i2WQpvYh5lqP",
        "outputId": "32a437e2-03b7-494d-f18e-e5a6d8486864"
      },
      "execution_count": null,
      "outputs": [
        {
          "output_type": "execute_result",
          "data": {
            "text/plain": [
              "0    574\n",
              "1    324\n",
              "2    240\n",
              "3    157\n",
              "4     25\n",
              "5     18\n",
              "Name: children, dtype: int64"
            ]
          },
          "metadata": {},
          "execution_count": 57
        }
      ]
    },
    {
      "cell_type": "code",
      "source": [
        "import pandas as pd\n",
        "import matplotlib.pyplot as plt\n",
        "import tensorflow as tf\n",
        "\n",
        "#Read the insurance dataframe\n",
        "\n",
        "insurance = pd.read_csv('https://raw.githubusercontent.com/stedy/Machine-Learning-with-R-datasets/master/insurance.csv')\n",
        "insurance.head()"
      ],
      "metadata": {
        "colab": {
          "base_uri": "https://localhost:8080/",
          "height": 206
        },
        "id": "H8VpSKTA6w_u",
        "outputId": "b93207ab-21f0-440a-d17f-d399ef5068bd"
      },
      "execution_count": null,
      "outputs": [
        {
          "output_type": "execute_result",
          "data": {
            "text/plain": [
              "   age     sex     bmi  children smoker     region      charges\n",
              "0   19  female  27.900         0    yes  southwest  16884.92400\n",
              "1   18    male  33.770         1     no  southeast   1725.55230\n",
              "2   28    male  33.000         3     no  southeast   4449.46200\n",
              "3   33    male  22.705         0     no  northwest  21984.47061\n",
              "4   32    male  28.880         0     no  northwest   3866.85520"
            ],
            "text/html": [
              "\n",
              "  <div id=\"df-f0634e01-f1d5-479b-91b8-ee78cdafa640\">\n",
              "    <div class=\"colab-df-container\">\n",
              "      <div>\n",
              "<style scoped>\n",
              "    .dataframe tbody tr th:only-of-type {\n",
              "        vertical-align: middle;\n",
              "    }\n",
              "\n",
              "    .dataframe tbody tr th {\n",
              "        vertical-align: top;\n",
              "    }\n",
              "\n",
              "    .dataframe thead th {\n",
              "        text-align: right;\n",
              "    }\n",
              "</style>\n",
              "<table border=\"1\" class=\"dataframe\">\n",
              "  <thead>\n",
              "    <tr style=\"text-align: right;\">\n",
              "      <th></th>\n",
              "      <th>age</th>\n",
              "      <th>sex</th>\n",
              "      <th>bmi</th>\n",
              "      <th>children</th>\n",
              "      <th>smoker</th>\n",
              "      <th>region</th>\n",
              "      <th>charges</th>\n",
              "    </tr>\n",
              "  </thead>\n",
              "  <tbody>\n",
              "    <tr>\n",
              "      <th>0</th>\n",
              "      <td>19</td>\n",
              "      <td>female</td>\n",
              "      <td>27.900</td>\n",
              "      <td>0</td>\n",
              "      <td>yes</td>\n",
              "      <td>southwest</td>\n",
              "      <td>16884.92400</td>\n",
              "    </tr>\n",
              "    <tr>\n",
              "      <th>1</th>\n",
              "      <td>18</td>\n",
              "      <td>male</td>\n",
              "      <td>33.770</td>\n",
              "      <td>1</td>\n",
              "      <td>no</td>\n",
              "      <td>southeast</td>\n",
              "      <td>1725.55230</td>\n",
              "    </tr>\n",
              "    <tr>\n",
              "      <th>2</th>\n",
              "      <td>28</td>\n",
              "      <td>male</td>\n",
              "      <td>33.000</td>\n",
              "      <td>3</td>\n",
              "      <td>no</td>\n",
              "      <td>southeast</td>\n",
              "      <td>4449.46200</td>\n",
              "    </tr>\n",
              "    <tr>\n",
              "      <th>3</th>\n",
              "      <td>33</td>\n",
              "      <td>male</td>\n",
              "      <td>22.705</td>\n",
              "      <td>0</td>\n",
              "      <td>no</td>\n",
              "      <td>northwest</td>\n",
              "      <td>21984.47061</td>\n",
              "    </tr>\n",
              "    <tr>\n",
              "      <th>4</th>\n",
              "      <td>32</td>\n",
              "      <td>male</td>\n",
              "      <td>28.880</td>\n",
              "      <td>0</td>\n",
              "      <td>no</td>\n",
              "      <td>northwest</td>\n",
              "      <td>3866.85520</td>\n",
              "    </tr>\n",
              "  </tbody>\n",
              "</table>\n",
              "</div>\n",
              "      <button class=\"colab-df-convert\" onclick=\"convertToInteractive('df-f0634e01-f1d5-479b-91b8-ee78cdafa640')\"\n",
              "              title=\"Convert this dataframe to an interactive table.\"\n",
              "              style=\"display:none;\">\n",
              "        \n",
              "  <svg xmlns=\"http://www.w3.org/2000/svg\" height=\"24px\"viewBox=\"0 0 24 24\"\n",
              "       width=\"24px\">\n",
              "    <path d=\"M0 0h24v24H0V0z\" fill=\"none\"/>\n",
              "    <path d=\"M18.56 5.44l.94 2.06.94-2.06 2.06-.94-2.06-.94-.94-2.06-.94 2.06-2.06.94zm-11 1L8.5 8.5l.94-2.06 2.06-.94-2.06-.94L8.5 2.5l-.94 2.06-2.06.94zm10 10l.94 2.06.94-2.06 2.06-.94-2.06-.94-.94-2.06-.94 2.06-2.06.94z\"/><path d=\"M17.41 7.96l-1.37-1.37c-.4-.4-.92-.59-1.43-.59-.52 0-1.04.2-1.43.59L10.3 9.45l-7.72 7.72c-.78.78-.78 2.05 0 2.83L4 21.41c.39.39.9.59 1.41.59.51 0 1.02-.2 1.41-.59l7.78-7.78 2.81-2.81c.8-.78.8-2.07 0-2.86zM5.41 20L4 18.59l7.72-7.72 1.47 1.35L5.41 20z\"/>\n",
              "  </svg>\n",
              "      </button>\n",
              "      \n",
              "  <style>\n",
              "    .colab-df-container {\n",
              "      display:flex;\n",
              "      flex-wrap:wrap;\n",
              "      gap: 12px;\n",
              "    }\n",
              "\n",
              "    .colab-df-convert {\n",
              "      background-color: #E8F0FE;\n",
              "      border: none;\n",
              "      border-radius: 50%;\n",
              "      cursor: pointer;\n",
              "      display: none;\n",
              "      fill: #1967D2;\n",
              "      height: 32px;\n",
              "      padding: 0 0 0 0;\n",
              "      width: 32px;\n",
              "    }\n",
              "\n",
              "    .colab-df-convert:hover {\n",
              "      background-color: #E2EBFA;\n",
              "      box-shadow: 0px 1px 2px rgba(60, 64, 67, 0.3), 0px 1px 3px 1px rgba(60, 64, 67, 0.15);\n",
              "      fill: #174EA6;\n",
              "    }\n",
              "\n",
              "    [theme=dark] .colab-df-convert {\n",
              "      background-color: #3B4455;\n",
              "      fill: #D2E3FC;\n",
              "    }\n",
              "\n",
              "    [theme=dark] .colab-df-convert:hover {\n",
              "      background-color: #434B5C;\n",
              "      box-shadow: 0px 1px 3px 1px rgba(0, 0, 0, 0.15);\n",
              "      filter: drop-shadow(0px 1px 2px rgba(0, 0, 0, 0.3));\n",
              "      fill: #FFFFFF;\n",
              "    }\n",
              "  </style>\n",
              "\n",
              "      <script>\n",
              "        const buttonEl =\n",
              "          document.querySelector('#df-f0634e01-f1d5-479b-91b8-ee78cdafa640 button.colab-df-convert');\n",
              "        buttonEl.style.display =\n",
              "          google.colab.kernel.accessAllowed ? 'block' : 'none';\n",
              "\n",
              "        async function convertToInteractive(key) {\n",
              "          const element = document.querySelector('#df-f0634e01-f1d5-479b-91b8-ee78cdafa640');\n",
              "          const dataTable =\n",
              "            await google.colab.kernel.invokeFunction('convertToInteractive',\n",
              "                                                     [key], {});\n",
              "          if (!dataTable) return;\n",
              "\n",
              "          const docLinkHtml = 'Like what you see? Visit the ' +\n",
              "            '<a target=\"_blank\" href=https://colab.research.google.com/notebooks/data_table.ipynb>data table notebook</a>'\n",
              "            + ' to learn more about interactive tables.';\n",
              "          element.innerHTML = '';\n",
              "          dataTable['output_type'] = 'display_data';\n",
              "          await google.colab.output.renderOutput(dataTable, element);\n",
              "          const docLink = document.createElement('div');\n",
              "          docLink.innerHTML = docLinkHtml;\n",
              "          element.appendChild(docLink);\n",
              "        }\n",
              "      </script>\n",
              "    </div>\n",
              "  </div>\n",
              "  "
            ]
          },
          "metadata": {},
          "execution_count": 64
        }
      ]
    },
    {
      "cell_type": "markdown",
      "source": [
        "To prepare our data, we can borrow a few classes from Scikit-Learn"
      ],
      "metadata": {
        "id": "OgITmtFy7zFv"
      }
    },
    {
      "cell_type": "code",
      "source": [
        "from sklearn.compose import make_column_transformer\n",
        "from sklearn.preprocessing import MinMaxScaler, OneHotEncoder\n",
        "from sklearn.model_selection import train_test_split\n",
        "\n",
        "#Create  column transformer\n",
        "\n",
        "ct = make_column_transformer(\n",
        "    (MinMaxScaler(), [\"age\", \"bmi\", \"children\"]), #turn all values in these columns into 0 and 1\n",
        "    (OneHotEncoder(handle_unknown=\"ignore\"), [\"sex\", \"smoker\", \"region\"])\n",
        ")\n",
        "\n",
        "X = insurance.drop(\"charges\", axis=1)\n",
        "y = insurance[\"charges\"]\n",
        "\n",
        "X_train, X_test, y_train, y_test = train_test_split(X, y, test_size=0.2, random_state=42)\n",
        "\n",
        "ct.fit(X_train)\n",
        "\n",
        "X_train_normal = ct.transform(X_train)\n",
        "X_test_normal = ct.transform(X_test)"
      ],
      "metadata": {
        "id": "vTO7a07_79Gu"
      },
      "execution_count": null,
      "outputs": []
    },
    {
      "cell_type": "code",
      "source": [
        "X_train_normal[0]"
      ],
      "metadata": {
        "colab": {
          "base_uri": "https://localhost:8080/"
        },
        "id": "2cFIAJ6e_NNw",
        "outputId": "3170a578-4afa-4161-e59e-8a879093b925"
      },
      "execution_count": null,
      "outputs": [
        {
          "output_type": "execute_result",
          "data": {
            "text/plain": [
              "array([0.60869565, 0.10734463, 0.4       , 1.        , 0.        ,\n",
              "       1.        , 0.        , 0.        , 1.        , 0.        ,\n",
              "       0.        ])"
            ]
          },
          "metadata": {},
          "execution_count": 67
        }
      ]
    },
    {
      "cell_type": "markdown",
      "source": [
        "Create a model with data normalized"
      ],
      "metadata": {
        "id": "wHx5JCkY_7up"
      }
    },
    {
      "cell_type": "code",
      "source": [
        "tf.random.set_seed(42)\n",
        "\n",
        "insurance_model_4 = tf.keras.Sequential([\n",
        "    tf.keras.layers.Dense(100),\n",
        "    tf.keras.layers.Dense(10),\n",
        "    tf.keras.layers.Dense(1)\n",
        "])\n",
        "\n",
        "insurance_model_4.compile(loss=tf.keras.losses.mae,\n",
        "                          optimizer=tf.keras.optimizers.Adam(),\n",
        "                          metrics=[\"mae\"])\n",
        "\n",
        "history = insurance_model_4.fit(X_train_normal, y_train, epochs=200)"
      ],
      "metadata": {
        "colab": {
          "base_uri": "https://localhost:8080/"
        },
        "id": "wvzjLkPHAAGc",
        "outputId": "97909043-b967-4a10-eb45-97fb63a36623"
      },
      "execution_count": null,
      "outputs": [
        {
          "output_type": "stream",
          "name": "stdout",
          "text": [
            "Epoch 1/200\n",
            "34/34 [==============================] - 3s 6ms/step - loss: 13345.0889 - mae: 13345.0889\n",
            "Epoch 2/200\n",
            "34/34 [==============================] - 0s 5ms/step - loss: 13340.4023 - mae: 13340.4023\n",
            "Epoch 3/200\n",
            "34/34 [==============================] - 0s 5ms/step - loss: 13326.9482 - mae: 13326.9482\n",
            "Epoch 4/200\n",
            "34/34 [==============================] - 0s 4ms/step - loss: 13295.0840 - mae: 13295.0840\n",
            "Epoch 5/200\n",
            "34/34 [==============================] - 0s 6ms/step - loss: 13233.6660 - mae: 13233.6660\n",
            "Epoch 6/200\n",
            "34/34 [==============================] - 0s 9ms/step - loss: 13131.1670 - mae: 13131.1670\n",
            "Epoch 7/200\n",
            "34/34 [==============================] - 0s 6ms/step - loss: 12976.7080 - mae: 12976.7080\n",
            "Epoch 8/200\n",
            "34/34 [==============================] - 0s 6ms/step - loss: 12759.7627 - mae: 12759.7627\n",
            "Epoch 9/200\n",
            "34/34 [==============================] - 0s 6ms/step - loss: 12469.8066 - mae: 12469.8057\n",
            "Epoch 10/200\n",
            "34/34 [==============================] - 0s 5ms/step - loss: 12098.3213 - mae: 12098.3213\n",
            "Epoch 11/200\n",
            "34/34 [==============================] - 0s 4ms/step - loss: 11648.9717 - mae: 11648.9717\n",
            "Epoch 12/200\n",
            "34/34 [==============================] - 0s 4ms/step - loss: 11143.1416 - mae: 11143.1416\n",
            "Epoch 13/200\n",
            "34/34 [==============================] - 0s 6ms/step - loss: 10637.2529 - mae: 10637.2529\n",
            "Epoch 14/200\n",
            "34/34 [==============================] - 0s 4ms/step - loss: 10132.7793 - mae: 10132.7793\n",
            "Epoch 15/200\n",
            "34/34 [==============================] - 0s 8ms/step - loss: 9651.6934 - mae: 9651.6934\n",
            "Epoch 16/200\n",
            "34/34 [==============================] - 0s 7ms/step - loss: 9204.5781 - mae: 9204.5781\n",
            "Epoch 17/200\n",
            "34/34 [==============================] - 0s 5ms/step - loss: 8829.8711 - mae: 8829.8711\n",
            "Epoch 18/200\n",
            "34/34 [==============================] - 0s 5ms/step - loss: 8527.2705 - mae: 8527.2705\n",
            "Epoch 19/200\n",
            "34/34 [==============================] - 0s 4ms/step - loss: 8288.7490 - mae: 8288.7490\n",
            "Epoch 20/200\n",
            "34/34 [==============================] - 0s 2ms/step - loss: 8121.5830 - mae: 8121.5830\n",
            "Epoch 21/200\n",
            "34/34 [==============================] - 0s 3ms/step - loss: 7998.6167 - mae: 7998.6167\n",
            "Epoch 22/200\n",
            "34/34 [==============================] - 0s 3ms/step - loss: 7917.8823 - mae: 7917.8823\n",
            "Epoch 23/200\n",
            "34/34 [==============================] - 0s 2ms/step - loss: 7855.2241 - mae: 7855.2241\n",
            "Epoch 24/200\n",
            "34/34 [==============================] - 0s 2ms/step - loss: 7801.2095 - mae: 7801.2095\n",
            "Epoch 25/200\n",
            "34/34 [==============================] - 0s 3ms/step - loss: 7761.7515 - mae: 7761.7515\n",
            "Epoch 26/200\n",
            "34/34 [==============================] - 0s 3ms/step - loss: 7710.3433 - mae: 7710.3433\n",
            "Epoch 27/200\n",
            "34/34 [==============================] - 0s 3ms/step - loss: 7668.8364 - mae: 7668.8364\n",
            "Epoch 28/200\n",
            "34/34 [==============================] - 0s 2ms/step - loss: 7627.4893 - mae: 7627.4893\n",
            "Epoch 29/200\n",
            "34/34 [==============================] - 0s 3ms/step - loss: 7586.0479 - mae: 7586.0479\n",
            "Epoch 30/200\n",
            "34/34 [==============================] - 0s 3ms/step - loss: 7544.1235 - mae: 7544.1235\n",
            "Epoch 31/200\n",
            "34/34 [==============================] - 0s 3ms/step - loss: 7501.5537 - mae: 7501.5537\n",
            "Epoch 32/200\n",
            "34/34 [==============================] - 0s 3ms/step - loss: 7459.0469 - mae: 7459.0469\n",
            "Epoch 33/200\n",
            "34/34 [==============================] - 0s 3ms/step - loss: 7416.6030 - mae: 7416.6030\n",
            "Epoch 34/200\n",
            "34/34 [==============================] - 0s 3ms/step - loss: 7370.2485 - mae: 7370.2485\n",
            "Epoch 35/200\n",
            "34/34 [==============================] - 0s 3ms/step - loss: 7325.6094 - mae: 7325.6094\n",
            "Epoch 36/200\n",
            "34/34 [==============================] - 0s 3ms/step - loss: 7277.8555 - mae: 7277.8555\n",
            "Epoch 37/200\n",
            "34/34 [==============================] - 0s 3ms/step - loss: 7230.0083 - mae: 7230.0083\n",
            "Epoch 38/200\n",
            "34/34 [==============================] - 0s 3ms/step - loss: 7181.4897 - mae: 7181.4897\n",
            "Epoch 39/200\n",
            "34/34 [==============================] - 0s 4ms/step - loss: 7129.2290 - mae: 7129.2290\n",
            "Epoch 40/200\n",
            "34/34 [==============================] - 0s 4ms/step - loss: 7076.8096 - mae: 7076.8096\n",
            "Epoch 41/200\n",
            "34/34 [==============================] - 0s 4ms/step - loss: 7023.4409 - mae: 7023.4409\n",
            "Epoch 42/200\n",
            "34/34 [==============================] - 0s 4ms/step - loss: 6967.5073 - mae: 6967.5073\n",
            "Epoch 43/200\n",
            "34/34 [==============================] - 0s 4ms/step - loss: 6908.3945 - mae: 6908.3945\n",
            "Epoch 44/200\n",
            "34/34 [==============================] - 0s 5ms/step - loss: 6845.9473 - mae: 6845.9473\n",
            "Epoch 45/200\n",
            "34/34 [==============================] - 0s 5ms/step - loss: 6782.8716 - mae: 6782.8716\n",
            "Epoch 46/200\n",
            "34/34 [==============================] - 0s 4ms/step - loss: 6718.3008 - mae: 6718.3008\n",
            "Epoch 47/200\n",
            "34/34 [==============================] - 0s 4ms/step - loss: 6651.8354 - mae: 6651.8354\n",
            "Epoch 48/200\n",
            "34/34 [==============================] - 0s 5ms/step - loss: 6578.0073 - mae: 6578.0073\n",
            "Epoch 49/200\n",
            "34/34 [==============================] - 0s 6ms/step - loss: 6504.5142 - mae: 6504.5142\n",
            "Epoch 50/200\n",
            "34/34 [==============================] - 0s 6ms/step - loss: 6424.2090 - mae: 6424.2090\n",
            "Epoch 51/200\n",
            "34/34 [==============================] - 0s 5ms/step - loss: 6346.1450 - mae: 6346.1450\n",
            "Epoch 52/200\n",
            "34/34 [==============================] - 0s 6ms/step - loss: 6259.0547 - mae: 6259.0547\n",
            "Epoch 53/200\n",
            "34/34 [==============================] - 0s 5ms/step - loss: 6169.6875 - mae: 6169.6875\n",
            "Epoch 54/200\n",
            "34/34 [==============================] - 0s 5ms/step - loss: 6078.1353 - mae: 6078.1353\n",
            "Epoch 55/200\n",
            "34/34 [==============================] - 0s 5ms/step - loss: 5978.7588 - mae: 5978.7588\n",
            "Epoch 56/200\n",
            "34/34 [==============================] - 0s 5ms/step - loss: 5877.8423 - mae: 5877.8423\n",
            "Epoch 57/200\n",
            "34/34 [==============================] - 0s 5ms/step - loss: 5770.3979 - mae: 5770.3979\n",
            "Epoch 58/200\n",
            "34/34 [==============================] - 0s 4ms/step - loss: 5657.7891 - mae: 5657.7891\n",
            "Epoch 59/200\n",
            "34/34 [==============================] - 0s 3ms/step - loss: 5545.9053 - mae: 5545.9053\n",
            "Epoch 60/200\n",
            "34/34 [==============================] - 0s 2ms/step - loss: 5433.0254 - mae: 5433.0254\n",
            "Epoch 61/200\n",
            "34/34 [==============================] - 0s 3ms/step - loss: 5312.3276 - mae: 5312.3276\n",
            "Epoch 62/200\n",
            "34/34 [==============================] - 0s 2ms/step - loss: 5189.4194 - mae: 5189.4194\n",
            "Epoch 63/200\n",
            "34/34 [==============================] - 0s 3ms/step - loss: 5067.6138 - mae: 5067.6138\n",
            "Epoch 64/200\n",
            "34/34 [==============================] - 0s 3ms/step - loss: 4939.4434 - mae: 4939.4434\n",
            "Epoch 65/200\n",
            "34/34 [==============================] - 0s 3ms/step - loss: 4814.5757 - mae: 4814.5757\n",
            "Epoch 66/200\n",
            "34/34 [==============================] - 0s 3ms/step - loss: 4687.2944 - mae: 4687.2944\n",
            "Epoch 67/200\n",
            "34/34 [==============================] - 0s 3ms/step - loss: 4568.1890 - mae: 4568.1890\n",
            "Epoch 68/200\n",
            "34/34 [==============================] - 0s 3ms/step - loss: 4455.8936 - mae: 4455.8936\n",
            "Epoch 69/200\n",
            "34/34 [==============================] - 0s 3ms/step - loss: 4351.7773 - mae: 4351.7773\n",
            "Epoch 70/200\n",
            "34/34 [==============================] - 0s 3ms/step - loss: 4252.1426 - mae: 4252.1426\n",
            "Epoch 71/200\n",
            "34/34 [==============================] - 0s 3ms/step - loss: 4158.1748 - mae: 4158.1748\n",
            "Epoch 72/200\n",
            "34/34 [==============================] - 0s 3ms/step - loss: 4069.4263 - mae: 4069.4263\n",
            "Epoch 73/200\n",
            "34/34 [==============================] - 0s 3ms/step - loss: 3989.7798 - mae: 3989.7798\n",
            "Epoch 74/200\n",
            "34/34 [==============================] - 0s 3ms/step - loss: 3917.7114 - mae: 3917.7114\n",
            "Epoch 75/200\n",
            "34/34 [==============================] - 0s 2ms/step - loss: 3859.6809 - mae: 3859.6809\n",
            "Epoch 76/200\n",
            "34/34 [==============================] - 0s 3ms/step - loss: 3811.5398 - mae: 3811.5398\n",
            "Epoch 77/200\n",
            "34/34 [==============================] - 0s 3ms/step - loss: 3769.4812 - mae: 3769.4812\n",
            "Epoch 78/200\n",
            "34/34 [==============================] - 0s 3ms/step - loss: 3740.0063 - mae: 3740.0063\n",
            "Epoch 79/200\n",
            "34/34 [==============================] - 0s 3ms/step - loss: 3717.1213 - mae: 3717.1213\n",
            "Epoch 80/200\n",
            "34/34 [==============================] - 0s 3ms/step - loss: 3699.9937 - mae: 3699.9937\n",
            "Epoch 81/200\n",
            "34/34 [==============================] - 0s 3ms/step - loss: 3688.5203 - mae: 3688.5203\n",
            "Epoch 82/200\n",
            "34/34 [==============================] - 0s 5ms/step - loss: 3681.2979 - mae: 3681.2979\n",
            "Epoch 83/200\n",
            "34/34 [==============================] - 0s 5ms/step - loss: 3672.9292 - mae: 3672.9292\n",
            "Epoch 84/200\n",
            "34/34 [==============================] - 0s 6ms/step - loss: 3667.9062 - mae: 3667.9062\n",
            "Epoch 85/200\n",
            "34/34 [==============================] - 0s 7ms/step - loss: 3664.7278 - mae: 3664.7278\n",
            "Epoch 86/200\n",
            "34/34 [==============================] - 0s 7ms/step - loss: 3661.9221 - mae: 3661.9221\n",
            "Epoch 87/200\n",
            "34/34 [==============================] - 0s 5ms/step - loss: 3658.6201 - mae: 3658.6201\n",
            "Epoch 88/200\n",
            "34/34 [==============================] - 0s 6ms/step - loss: 3655.6865 - mae: 3655.6865\n",
            "Epoch 89/200\n",
            "34/34 [==============================] - 0s 9ms/step - loss: 3653.7104 - mae: 3653.7104\n",
            "Epoch 90/200\n",
            "34/34 [==============================] - 0s 7ms/step - loss: 3651.9922 - mae: 3651.9922\n",
            "Epoch 91/200\n",
            "34/34 [==============================] - 0s 6ms/step - loss: 3649.0730 - mae: 3649.0730\n",
            "Epoch 92/200\n",
            "34/34 [==============================] - 0s 6ms/step - loss: 3648.1335 - mae: 3648.1335\n",
            "Epoch 93/200\n",
            "34/34 [==============================] - 0s 5ms/step - loss: 3646.0034 - mae: 3646.0034\n",
            "Epoch 94/200\n",
            "34/34 [==============================] - 0s 5ms/step - loss: 3644.2058 - mae: 3644.2058\n",
            "Epoch 95/200\n",
            "34/34 [==============================] - 0s 3ms/step - loss: 3645.1875 - mae: 3645.1875\n",
            "Epoch 96/200\n",
            "34/34 [==============================] - 0s 2ms/step - loss: 3642.1921 - mae: 3642.1921\n",
            "Epoch 97/200\n",
            "34/34 [==============================] - 0s 3ms/step - loss: 3639.7712 - mae: 3639.7712\n",
            "Epoch 98/200\n",
            "34/34 [==============================] - 0s 2ms/step - loss: 3637.7339 - mae: 3637.7339\n",
            "Epoch 99/200\n",
            "34/34 [==============================] - 0s 2ms/step - loss: 3637.1897 - mae: 3637.1897\n",
            "Epoch 100/200\n",
            "34/34 [==============================] - 0s 2ms/step - loss: 3635.5947 - mae: 3635.5947\n",
            "Epoch 101/200\n",
            "34/34 [==============================] - 0s 3ms/step - loss: 3632.8354 - mae: 3632.8354\n",
            "Epoch 102/200\n",
            "34/34 [==============================] - 0s 3ms/step - loss: 3630.3579 - mae: 3630.3579\n",
            "Epoch 103/200\n",
            "34/34 [==============================] - 0s 3ms/step - loss: 3629.3318 - mae: 3629.3318\n",
            "Epoch 104/200\n",
            "34/34 [==============================] - 0s 3ms/step - loss: 3626.9258 - mae: 3626.9258\n",
            "Epoch 105/200\n",
            "34/34 [==============================] - 0s 3ms/step - loss: 3625.3699 - mae: 3625.3699\n",
            "Epoch 106/200\n",
            "34/34 [==============================] - 0s 3ms/step - loss: 3624.0686 - mae: 3624.0686\n",
            "Epoch 107/200\n",
            "34/34 [==============================] - 0s 3ms/step - loss: 3623.3276 - mae: 3623.3276\n",
            "Epoch 108/200\n",
            "34/34 [==============================] - 0s 2ms/step - loss: 3621.2815 - mae: 3621.2815\n",
            "Epoch 109/200\n",
            "34/34 [==============================] - 0s 2ms/step - loss: 3621.6140 - mae: 3621.6140\n",
            "Epoch 110/200\n",
            "34/34 [==============================] - 0s 3ms/step - loss: 3617.7627 - mae: 3617.7627\n",
            "Epoch 111/200\n",
            "34/34 [==============================] - 0s 3ms/step - loss: 3615.4246 - mae: 3615.4246\n",
            "Epoch 112/200\n",
            "34/34 [==============================] - 0s 3ms/step - loss: 3613.4307 - mae: 3613.4307\n",
            "Epoch 113/200\n",
            "34/34 [==============================] - 0s 3ms/step - loss: 3612.0112 - mae: 3612.0112\n",
            "Epoch 114/200\n",
            "34/34 [==============================] - 0s 2ms/step - loss: 3611.1016 - mae: 3611.1016\n",
            "Epoch 115/200\n",
            "34/34 [==============================] - 0s 3ms/step - loss: 3609.5286 - mae: 3609.5286\n",
            "Epoch 116/200\n",
            "34/34 [==============================] - 0s 3ms/step - loss: 3608.0723 - mae: 3608.0723\n",
            "Epoch 117/200\n",
            "34/34 [==============================] - 0s 3ms/step - loss: 3605.0786 - mae: 3605.0786\n",
            "Epoch 118/200\n",
            "34/34 [==============================] - 0s 3ms/step - loss: 3601.4951 - mae: 3601.4951\n",
            "Epoch 119/200\n",
            "34/34 [==============================] - 0s 2ms/step - loss: 3603.8027 - mae: 3603.8027\n",
            "Epoch 120/200\n",
            "34/34 [==============================] - 0s 2ms/step - loss: 3600.4419 - mae: 3600.4419\n",
            "Epoch 121/200\n",
            "34/34 [==============================] - 0s 3ms/step - loss: 3595.7937 - mae: 3595.7937\n",
            "Epoch 122/200\n",
            "34/34 [==============================] - 0s 3ms/step - loss: 3595.0903 - mae: 3595.0903\n",
            "Epoch 123/200\n",
            "34/34 [==============================] - 0s 2ms/step - loss: 3593.2356 - mae: 3593.2356\n",
            "Epoch 124/200\n",
            "34/34 [==============================] - 0s 3ms/step - loss: 3591.0017 - mae: 3591.0017\n",
            "Epoch 125/200\n",
            "34/34 [==============================] - 0s 2ms/step - loss: 3588.8909 - mae: 3588.8909\n",
            "Epoch 126/200\n",
            "34/34 [==============================] - 0s 2ms/step - loss: 3588.1760 - mae: 3588.1760\n",
            "Epoch 127/200\n",
            "34/34 [==============================] - 0s 3ms/step - loss: 3588.6851 - mae: 3588.6851\n",
            "Epoch 128/200\n",
            "34/34 [==============================] - 0s 3ms/step - loss: 3585.0544 - mae: 3585.0544\n",
            "Epoch 129/200\n",
            "34/34 [==============================] - 0s 3ms/step - loss: 3583.6462 - mae: 3583.6462\n",
            "Epoch 130/200\n",
            "34/34 [==============================] - 0s 2ms/step - loss: 3580.0842 - mae: 3580.0842\n",
            "Epoch 131/200\n",
            "34/34 [==============================] - 0s 3ms/step - loss: 3578.6650 - mae: 3578.6650\n",
            "Epoch 132/200\n",
            "34/34 [==============================] - 0s 3ms/step - loss: 3575.9343 - mae: 3575.9343\n",
            "Epoch 133/200\n",
            "34/34 [==============================] - 0s 3ms/step - loss: 3574.4497 - mae: 3574.4497\n",
            "Epoch 134/200\n",
            "34/34 [==============================] - 0s 3ms/step - loss: 3572.3469 - mae: 3572.3469\n",
            "Epoch 135/200\n",
            "34/34 [==============================] - 0s 2ms/step - loss: 3570.4553 - mae: 3570.4553\n",
            "Epoch 136/200\n",
            "34/34 [==============================] - 0s 4ms/step - loss: 3569.0466 - mae: 3569.0466\n",
            "Epoch 137/200\n",
            "34/34 [==============================] - 0s 3ms/step - loss: 3567.2773 - mae: 3567.2773\n",
            "Epoch 138/200\n",
            "34/34 [==============================] - 0s 4ms/step - loss: 3564.9148 - mae: 3564.9148\n",
            "Epoch 139/200\n",
            "34/34 [==============================] - 0s 4ms/step - loss: 3564.3037 - mae: 3564.3037\n",
            "Epoch 140/200\n",
            "34/34 [==============================] - 0s 3ms/step - loss: 3562.1140 - mae: 3562.1140\n",
            "Epoch 141/200\n",
            "34/34 [==============================] - 0s 4ms/step - loss: 3562.1880 - mae: 3562.1880\n",
            "Epoch 142/200\n",
            "34/34 [==============================] - 0s 4ms/step - loss: 3559.2310 - mae: 3559.2310\n",
            "Epoch 143/200\n",
            "34/34 [==============================] - 0s 4ms/step - loss: 3559.0159 - mae: 3559.0159\n",
            "Epoch 144/200\n",
            "34/34 [==============================] - 0s 3ms/step - loss: 3556.2339 - mae: 3556.2339\n",
            "Epoch 145/200\n",
            "34/34 [==============================] - 0s 4ms/step - loss: 3554.3530 - mae: 3554.3530\n",
            "Epoch 146/200\n",
            "34/34 [==============================] - 0s 4ms/step - loss: 3554.6206 - mae: 3554.6206\n",
            "Epoch 147/200\n",
            "34/34 [==============================] - 0s 4ms/step - loss: 3551.9102 - mae: 3551.9102\n",
            "Epoch 148/200\n",
            "34/34 [==============================] - 0s 5ms/step - loss: 3550.8838 - mae: 3550.8838\n",
            "Epoch 149/200\n",
            "34/34 [==============================] - 0s 4ms/step - loss: 3548.2280 - mae: 3548.2280\n",
            "Epoch 150/200\n",
            "34/34 [==============================] - 0s 4ms/step - loss: 3547.9004 - mae: 3547.9004\n",
            "Epoch 151/200\n",
            "34/34 [==============================] - 0s 4ms/step - loss: 3546.3494 - mae: 3546.3494\n",
            "Epoch 152/200\n",
            "34/34 [==============================] - 0s 4ms/step - loss: 3544.6169 - mae: 3544.6169\n",
            "Epoch 153/200\n",
            "34/34 [==============================] - 0s 4ms/step - loss: 3543.1699 - mae: 3543.1699\n",
            "Epoch 154/200\n",
            "34/34 [==============================] - 0s 4ms/step - loss: 3544.6265 - mae: 3544.6265\n",
            "Epoch 155/200\n",
            "34/34 [==============================] - 0s 4ms/step - loss: 3541.9470 - mae: 3541.9470\n",
            "Epoch 156/200\n",
            "34/34 [==============================] - 0s 4ms/step - loss: 3540.4358 - mae: 3540.4358\n",
            "Epoch 157/200\n",
            "34/34 [==============================] - 0s 3ms/step - loss: 3538.7673 - mae: 3538.7673\n",
            "Epoch 158/200\n",
            "34/34 [==============================] - 0s 5ms/step - loss: 3536.1624 - mae: 3536.1624\n",
            "Epoch 159/200\n",
            "34/34 [==============================] - 0s 5ms/step - loss: 3534.5757 - mae: 3534.5757\n",
            "Epoch 160/200\n",
            "34/34 [==============================] - 0s 5ms/step - loss: 3534.2808 - mae: 3534.2808\n",
            "Epoch 161/200\n",
            "34/34 [==============================] - 0s 4ms/step - loss: 3531.3345 - mae: 3531.3345\n",
            "Epoch 162/200\n",
            "34/34 [==============================] - 0s 4ms/step - loss: 3530.8274 - mae: 3530.8274\n",
            "Epoch 163/200\n",
            "34/34 [==============================] - 0s 4ms/step - loss: 3529.1135 - mae: 3529.1135\n",
            "Epoch 164/200\n",
            "34/34 [==============================] - 0s 4ms/step - loss: 3528.0701 - mae: 3528.0701\n",
            "Epoch 165/200\n",
            "34/34 [==============================] - 0s 2ms/step - loss: 3525.7766 - mae: 3525.7766\n",
            "Epoch 166/200\n",
            "34/34 [==============================] - 0s 3ms/step - loss: 3524.4504 - mae: 3524.4504\n",
            "Epoch 167/200\n",
            "34/34 [==============================] - 0s 3ms/step - loss: 3523.3018 - mae: 3523.3018\n",
            "Epoch 168/200\n",
            "34/34 [==============================] - 0s 3ms/step - loss: 3522.1636 - mae: 3522.1636\n",
            "Epoch 169/200\n",
            "34/34 [==============================] - 0s 3ms/step - loss: 3521.1062 - mae: 3521.1062\n",
            "Epoch 170/200\n",
            "34/34 [==============================] - 0s 3ms/step - loss: 3519.5684 - mae: 3519.5684\n",
            "Epoch 171/200\n",
            "34/34 [==============================] - 0s 3ms/step - loss: 3519.1472 - mae: 3519.1472\n",
            "Epoch 172/200\n",
            "34/34 [==============================] - 0s 3ms/step - loss: 3517.6384 - mae: 3517.6384\n",
            "Epoch 173/200\n",
            "34/34 [==============================] - 0s 3ms/step - loss: 3516.2119 - mae: 3516.2119\n",
            "Epoch 174/200\n",
            "34/34 [==============================] - 0s 3ms/step - loss: 3515.3340 - mae: 3515.3340\n",
            "Epoch 175/200\n",
            "34/34 [==============================] - 0s 2ms/step - loss: 3513.9202 - mae: 3513.9202\n",
            "Epoch 176/200\n",
            "34/34 [==============================] - 0s 2ms/step - loss: 3513.8926 - mae: 3513.8926\n",
            "Epoch 177/200\n",
            "34/34 [==============================] - 0s 3ms/step - loss: 3514.2190 - mae: 3514.2190\n",
            "Epoch 178/200\n",
            "34/34 [==============================] - 0s 2ms/step - loss: 3511.9434 - mae: 3511.9434\n",
            "Epoch 179/200\n",
            "34/34 [==============================] - 0s 2ms/step - loss: 3514.0691 - mae: 3514.0691\n",
            "Epoch 180/200\n",
            "34/34 [==============================] - 0s 3ms/step - loss: 3508.9468 - mae: 3508.9468\n",
            "Epoch 181/200\n",
            "34/34 [==============================] - 0s 3ms/step - loss: 3506.8594 - mae: 3506.8594\n",
            "Epoch 182/200\n",
            "34/34 [==============================] - 0s 3ms/step - loss: 3506.2041 - mae: 3506.2041\n",
            "Epoch 183/200\n",
            "34/34 [==============================] - 0s 3ms/step - loss: 3504.5752 - mae: 3504.5752\n",
            "Epoch 184/200\n",
            "34/34 [==============================] - 0s 3ms/step - loss: 3503.7173 - mae: 3503.7173\n",
            "Epoch 185/200\n",
            "34/34 [==============================] - 0s 3ms/step - loss: 3503.3838 - mae: 3503.3838\n",
            "Epoch 186/200\n",
            "34/34 [==============================] - 0s 3ms/step - loss: 3501.0720 - mae: 3501.0720\n",
            "Epoch 187/200\n",
            "34/34 [==============================] - 0s 2ms/step - loss: 3501.3176 - mae: 3501.3176\n",
            "Epoch 188/200\n",
            "34/34 [==============================] - 0s 3ms/step - loss: 3498.5188 - mae: 3498.5188\n",
            "Epoch 189/200\n",
            "34/34 [==============================] - 0s 3ms/step - loss: 3496.8955 - mae: 3496.8955\n",
            "Epoch 190/200\n",
            "34/34 [==============================] - 0s 3ms/step - loss: 3498.8164 - mae: 3498.8164\n",
            "Epoch 191/200\n",
            "34/34 [==============================] - 0s 3ms/step - loss: 3503.5913 - mae: 3503.5913\n",
            "Epoch 192/200\n",
            "34/34 [==============================] - 0s 3ms/step - loss: 3494.0825 - mae: 3494.0825\n",
            "Epoch 193/200\n",
            "34/34 [==============================] - 0s 3ms/step - loss: 3493.8506 - mae: 3493.8506\n",
            "Epoch 194/200\n",
            "34/34 [==============================] - 0s 2ms/step - loss: 3491.0979 - mae: 3491.0979\n",
            "Epoch 195/200\n",
            "34/34 [==============================] - 0s 3ms/step - loss: 3490.6721 - mae: 3490.6721\n",
            "Epoch 196/200\n",
            "34/34 [==============================] - 0s 2ms/step - loss: 3491.8926 - mae: 3491.8926\n",
            "Epoch 197/200\n",
            "34/34 [==============================] - 0s 3ms/step - loss: 3487.8201 - mae: 3487.8201\n",
            "Epoch 198/200\n",
            "34/34 [==============================] - 0s 2ms/step - loss: 3487.0474 - mae: 3487.0474\n",
            "Epoch 199/200\n",
            "34/34 [==============================] - 0s 3ms/step - loss: 3485.7903 - mae: 3485.7903\n",
            "Epoch 200/200\n",
            "34/34 [==============================] - 0s 2ms/step - loss: 3486.4927 - mae: 3486.4927\n"
          ]
        }
      ]
    },
    {
      "cell_type": "code",
      "source": [
        "pd.DataFrame(history.history).plot()\n",
        "plt.ylabel(\"loss\")\n",
        "plt.xlabel(\"epochs\")"
      ],
      "metadata": {
        "colab": {
          "base_uri": "https://localhost:8080/",
          "height": 296
        },
        "id": "1Et1yeYfBukZ",
        "outputId": "93214367-8524-4440-8a89-596b53749f7f"
      },
      "execution_count": null,
      "outputs": [
        {
          "output_type": "execute_result",
          "data": {
            "text/plain": [
              "Text(0.5, 0, 'epochs')"
            ]
          },
          "metadata": {},
          "execution_count": 69
        },
        {
          "output_type": "display_data",
          "data": {
            "text/plain": [
              "<Figure size 432x288 with 1 Axes>"
            ],
            "image/png": "[encoded data removed]"
          },
          "metadata": {
            "needs_background": "light"
          }
        }
      ]
    },
    {
      "cell_type": "code",
      "source": [
        "insurance_model_4.evaluate(X_test_normal, y_test)"
      ],
      "metadata": {
        "colab": {
          "base_uri": "https://localhost:8080/"
        },
        "id": "z4ARYXDOB2m0",
        "outputId": "48e091cc-46a1-4d55-c022-884563b0ef33"
      },
      "execution_count": null,
      "outputs": [
        {
          "output_type": "stream",
          "name": "stdout",
          "text": [
            "9/9 [==============================] - 0s 3ms/step - loss: 3175.4536 - mae: 3175.4536\n"
          ]
        },
        {
          "output_type": "execute_result",
          "data": {
            "text/plain": [
              "[3175.45361328125, 3175.45361328125]"
            ]
          },
          "metadata": {},
          "execution_count": 70
        }
      ]
    },
    {
      "cell_type": "markdown",
      "source": [
        "## Neural network regression with TensorFlow Exercises"
      ],
      "metadata": {
        "id": "vaYoej-DUNx5"
      }
    },
    {
      "cell_type": "markdown",
      "source": [
        "1. Create your own regression dataset (or make the one we created in \"Create data to view and fit\" bigger) and build fit a model to it."
      ],
      "metadata": {
        "id": "KISNZ-k-USXN"
      }
    },
    {
      "cell_type": "code",
      "source": [
        "import tensorflow as tf\n",
        "import pandas as pd\n",
        "import matplotlib.pyplot as plt\n",
        "from sklearn.model_selection import train_test_split"
      ],
      "metadata": {
        "id": "Zk-kUmfEUYtV"
      },
      "execution_count": null,
      "outputs": []
    },
    {
      "cell_type": "code",
      "source": [
        "#X = tf.random.Generator.from_seed(42)\n",
        "#X = X.normal(shape=(1000, 1))\n",
        "\n",
        "X = tf.cast(tf.range(0, 100, 0.1), dtype=tf.float32)"
      ],
      "metadata": {
        "id": "zXp5CTCzU2jP"
      },
      "execution_count": null,
      "outputs": []
    },
    {
      "cell_type": "code",
      "source": [
        "X"
      ],
      "metadata": {
        "colab": {
          "base_uri": "https://localhost:8080/"
        },
        "id": "X6SZ2hMaZYts",
        "outputId": "8d22020b-1b73-4f12-9ade-c035e14b1593"
      },
      "execution_count": null,
      "outputs": [
        {
          "output_type": "execute_result",
          "data": {
            "text/plain": [
              "<tf.Tensor: shape=(1000,), dtype=float32, numpy=\n",
              "array([ 0.        ,  0.1       ,  0.2       ,  0.3       ,  0.4       ,\n",
              "        0.5       ,  0.6       ,  0.70000005,  0.8000001 ,  0.9000001 ,\n",
              "        1.0000001 ,  1.1000001 ,  1.2000002 ,  1.3000002 ,  1.4000002 ,\n",
              "        1.5000002 ,  1.6000003 ,  1.7000003 ,  1.8000003 ,  1.9000003 ,\n",
              "        2.0000002 ,  2.1000001 ,  2.2       ,  2.3       ,  2.3999999 ,\n",
              "        2.4999998 ,  2.5999997 ,  2.6999996 ,  2.7999995 ,  2.8999994 ,\n",
              "        2.9999993 ,  3.0999992 ,  3.199999  ,  3.299999  ,  3.399999  ,\n",
              "        3.4999988 ,  3.5999987 ,  3.6999986 ,  3.7999985 ,  3.8999984 ,\n",
              "        3.9999983 ,  4.0999985 ,  4.1999984 ,  4.2999983 ,  4.399998  ,\n",
              "        4.499998  ,  4.599998  ,  4.699998  ,  4.799998  ,  4.8999977 ,\n",
              "        4.9999976 ,  5.0999975 ,  5.1999974 ,  5.2999973 ,  5.399997  ,\n",
              "        5.499997  ,  5.599997  ,  5.699997  ,  5.799997  ,  5.8999968 ,\n",
              "        5.9999967 ,  6.0999966 ,  6.1999965 ,  6.2999964 ,  6.3999963 ,\n",
              "        6.499996  ,  6.599996  ,  6.699996  ,  6.799996  ,  6.899996  ,\n",
              "        6.9999957 ,  7.0999956 ,  7.1999955 ,  7.2999954 ,  7.3999953 ,\n",
              "        7.499995  ,  7.599995  ,  7.699995  ,  7.799995  ,  7.899995  ,\n",
              "        7.9999948 ,  8.099995  ,  8.199995  ,  8.299995  ,  8.399996  ,\n",
              "        8.499996  ,  8.599997  ,  8.699997  ,  8.799997  ,  8.899998  ,\n",
              "        8.999998  ,  9.099998  ,  9.199999  ,  9.299999  ,  9.4       ,\n",
              "        9.5       ,  9.6       ,  9.700001  ,  9.800001  ,  9.900002  ,\n",
              "       10.000002  , 10.100002  , 10.200003  , 10.300003  , 10.400003  ,\n",
              "       10.500004  , 10.600004  , 10.700005  , 10.800005  , 10.900005  ,\n",
              "       11.000006  , 11.100006  , 11.2000065 , 11.300007  , 11.400007  ,\n",
              "       11.500008  , 11.600008  , 11.700008  , 11.800009  , 11.900009  ,\n",
              "       12.00001   , 12.10001   , 12.20001   , 12.300011  , 12.400011  ,\n",
              "       12.500011  , 12.600012  , 12.700012  , 12.800013  , 12.900013  ,\n",
              "       13.000013  , 13.100014  , 13.200014  , 13.3000145 , 13.400015  ,\n",
              "       13.500015  , 13.600016  , 13.700016  , 13.800016  , 13.900017  ,\n",
              "       14.000017  , 14.100018  , 14.200018  , 14.300018  , 14.400019  ,\n",
              "       14.500019  , 14.600019  , 14.70002   , 14.80002   , 14.900021  ,\n",
              "       15.000021  , 15.100021  , 15.200022  , 15.300022  , 15.4000225 ,\n",
              "       15.500023  , 15.600023  , 15.700024  , 15.800024  , 15.900024  ,\n",
              "       16.000025  , 16.100025  , 16.200026  , 16.300026  , 16.400026  ,\n",
              "       16.500027  , 16.600027  , 16.700027  , 16.800028  , 16.900028  ,\n",
              "       17.000029  , 17.100029  , 17.20003   , 17.30003   , 17.40003   ,\n",
              "       17.50003   , 17.60003   , 17.700031  , 17.800032  , 17.900032  ,\n",
              "       18.000032  , 18.100033  , 18.200033  , 18.300034  , 18.400034  ,\n",
              "       18.500034  , 18.600035  , 18.700035  , 18.800035  , 18.900036  ,\n",
              "       19.000036  , 19.100037  , 19.200037  , 19.300037  , 19.400038  ,\n",
              "       19.500038  , 19.600039  , 19.700039  , 19.80004   , 19.90004   ,\n",
              "       20.00004   , 20.10004   , 20.20004   , 20.300041  , 20.400042  ,\n",
              "       20.500042  , 20.600042  , 20.700043  , 20.800043  , 20.900043  ,\n",
              "       21.000044  , 21.100044  , 21.200045  , 21.300045  , 21.400045  ,\n",
              "       21.500046  , 21.600046  , 21.700047  , 21.800047  , 21.900047  ,\n",
              "       22.000048  , 22.100048  , 22.200048  , 22.300049  , 22.40005   ,\n",
              "       22.50005   , 22.60005   , 22.70005   , 22.80005   , 22.900051  ,\n",
              "       23.000051  , 23.100052  , 23.200052  , 23.300053  , 23.400053  ,\n",
              "       23.500053  , 23.600054  , 23.700054  , 23.800055  , 23.900055  ,\n",
              "       24.000055  , 24.100056  , 24.200056  , 24.300056  , 24.400057  ,\n",
              "       24.500057  , 24.600058  , 24.700058  , 24.800058  , 24.900059  ,\n",
              "       25.00006   , 25.10006   , 25.20006   , 25.30006   , 25.40006   ,\n",
              "       25.500061  , 25.600061  , 25.700062  , 25.800062  , 25.900063  ,\n",
              "       26.000063  , 26.100063  , 26.200064  , 26.300064  , 26.400064  ,\n",
              "       26.500065  , 26.600065  , 26.700066  , 26.800066  , 26.900066  ,\n",
              "       27.000067  , 27.100067  , 27.200068  , 27.300068  , 27.400068  ,\n",
              "       27.500069  , 27.600069  , 27.70007   , 27.80007   , 27.90007   ,\n",
              "       28.00007   , 28.10007   , 28.200071  , 28.300072  , 28.400072  ,\n",
              "       28.500072  , 28.600073  , 28.700073  , 28.800074  , 28.900074  ,\n",
              "       29.000074  , 29.100075  , 29.200075  , 29.300076  , 29.400076  ,\n",
              "       29.500076  , 29.600077  , 29.700077  , 29.800077  , 29.900078  ,\n",
              "       30.000078  , 30.100079  , 30.200079  , 30.30008   , 30.40008   ,\n",
              "       30.50008   , 30.60008   , 30.70008   , 30.800081  , 30.900082  ,\n",
              "       31.000082  , 31.100082  , 31.200083  , 31.300083  , 31.400084  ,\n",
              "       31.500084  , 31.600084  , 31.700085  , 31.800085  , 31.900085  ,\n",
              "       32.000084  , 32.100082  , 32.20008   , 32.30008   , 32.400078  ,\n",
              "       32.500076  , 32.600075  , 32.700073  , 32.80007   , 32.90007   ,\n",
              "       33.00007   , 33.100067  , 33.200066  , 33.300064  , 33.400063  ,\n",
              "       33.50006   , 33.60006   , 33.700058  , 33.800056  , 33.900055  ,\n",
              "       34.000053  , 34.10005   , 34.20005   , 34.30005   , 34.400047  ,\n",
              "       34.500046  , 34.600044  , 34.700043  , 34.80004   , 34.90004   ,\n",
              "       35.00004   , 35.100037  , 35.200035  , 35.300034  , 35.400032  ,\n",
              "       35.50003   , 35.60003   , 35.700027  , 35.800026  , 35.900024  ,\n",
              "       36.000023  , 36.10002   , 36.20002   , 36.30002   , 36.400017  ,\n",
              "       36.500015  , 36.600014  , 36.700012  , 36.80001   , 36.90001   ,\n",
              "       37.000008  , 37.100006  , 37.200005  , 37.300003  , 37.4       ,\n",
              "       37.5       , 37.6       , 37.699997  , 37.799995  , 37.899994  ,\n",
              "       37.999992  , 38.09999   , 38.19999   , 38.299988  , 38.399986  ,\n",
              "       38.499985  , 38.599983  , 38.69998   , 38.79998   , 38.89998   ,\n",
              "       38.999977  , 39.099976  , 39.199974  , 39.299973  , 39.39997   ,\n",
              "       39.49997   , 39.599968  , 39.699966  , 39.799965  , 39.899963  ,\n",
              "       39.99996   , 40.09996   , 40.19996   , 40.299957  , 40.399956  ,\n",
              "       40.499954  , 40.599953  , 40.69995   , 40.79995   , 40.89995   ,\n",
              "       40.999947  , 41.099945  , 41.199944  , 41.299942  , 41.39994   ,\n",
              "       41.49994   , 41.599937  , 41.699936  , 41.799934  , 41.899933  ,\n",
              "       41.99993   , 42.09993   , 42.19993   , 42.299927  , 42.399925  ,\n",
              "       42.499924  , 42.599922  , 42.69992   , 42.79992   , 42.899918  ,\n",
              "       42.999916  , 43.099915  , 43.199913  , 43.29991   , 43.39991   ,\n",
              "       43.49991   , 43.599907  , 43.699905  , 43.799904  , 43.899902  ,\n",
              "       43.9999    , 44.0999    , 44.199898  , 44.299896  , 44.399895  ,\n",
              "       44.499893  , 44.59989   , 44.69989   , 44.79989   , 44.899887  ,\n",
              "       44.999886  , 45.099884  , 45.199883  , 45.29988   , 45.39988   ,\n",
              "       45.499878  , 45.599876  , 45.699875  , 45.799873  , 45.89987   ,\n",
              "       45.99987   , 46.09987   , 46.199867  , 46.299866  , 46.399864  ,\n",
              "       46.499863  , 46.59986   , 46.69986   , 46.79986   , 46.899857  ,\n",
              "       46.999855  , 47.099854  , 47.199852  , 47.29985   , 47.39985   ,\n",
              "       47.499847  , 47.599846  , 47.699844  , 47.799843  , 47.89984   ,\n",
              "       47.99984   , 48.09984   , 48.199837  , 48.299835  , 48.399834  ,\n",
              "       48.499832  , 48.59983   , 48.69983   , 48.799828  , 48.899826  ,\n",
              "       48.999825  , 49.099823  , 49.19982   , 49.29982   , 49.39982   ,\n",
              "       49.499817  , 49.599815  , 49.699814  , 49.799812  , 49.89981   ,\n",
              "       49.99981   , 50.099808  , 50.199806  , 50.299805  , 50.399803  ,\n",
              "       50.4998    , 50.5998    , 50.6998    , 50.799797  , 50.899796  ,\n",
              "       50.999794  , 51.099792  , 51.19979   , 51.29979   , 51.399788  ,\n",
              "       51.499786  , 51.599785  , 51.699783  , 51.79978   , 51.89978   ,\n",
              "       51.99978   , 52.099777  , 52.199776  , 52.299774  , 52.399773  ,\n",
              "       52.49977   , 52.59977   , 52.699768  , 52.799767  , 52.899765  ,\n",
              "       52.999763  , 53.099762  , 53.19976   , 53.29976   , 53.399757  ,\n",
              "       53.499756  , 53.599754  , 53.699753  , 53.79975   , 53.89975   ,\n",
              "       53.99975   , 54.099747  , 54.199745  , 54.299744  , 54.399742  ,\n",
              "       54.49974   , 54.59974   , 54.699738  , 54.799736  , 54.899734  ,\n",
              "       54.999733  , 55.09973   , 55.19973   , 55.29973   , 55.399727  ,\n",
              "       55.499725  , 55.599724  , 55.699722  , 55.79972   , 55.89972   ,\n",
              "       55.999718  , 56.099716  , 56.199715  , 56.299713  , 56.39971   ,\n",
              "       56.49971   , 56.59971   , 56.699707  , 56.799706  , 56.899704  ,\n",
              "       56.999702  , 57.0997    , 57.1997    , 57.299698  , 57.399696  ,\n",
              "       57.499695  , 57.599693  , 57.69969   , 57.79969   , 57.89969   ,\n",
              "       57.999687  , 58.099686  , 58.199684  , 58.299683  , 58.39968   ,\n",
              "       58.49968   , 58.599678  , 58.699677  , 58.799675  , 58.899673  ,\n",
              "       58.999672  , 59.09967   , 59.19967   , 59.299667  , 59.399666  ,\n",
              "       59.499664  , 59.599663  , 59.69966   , 59.79966   , 59.89966   ,\n",
              "       59.999657  , 60.099655  , 60.199654  , 60.299652  , 60.39965   ,\n",
              "       60.49965   , 60.599648  , 60.699646  , 60.799644  , 60.899643  ,\n",
              "       60.99964   , 61.09964   , 61.19964   , 61.299637  , 61.399635  ,\n",
              "       61.499634  , 61.599632  , 61.69963   , 61.79963   , 61.899628  ,\n",
              "       61.999626  , 62.099625  , 62.199623  , 62.29962   , 62.39962   ,\n",
              "       62.49962   , 62.599617  , 62.699615  , 62.799614  , 62.899612  ,\n",
              "       62.99961   , 63.09961   , 63.199608  , 63.299606  , 63.399605  ,\n",
              "       63.499603  , 63.5996    , 63.6996    , 63.7996    , 63.899597  ,\n",
              "       63.999596  , 64.099594  , 64.19959   , 64.29959   , 64.39959   ,\n",
              "       64.49959   , 64.59959   , 64.699585  , 64.79958   , 64.89958   ,\n",
              "       64.99958   , 65.09958   , 65.19958   , 65.299576  , 65.399574  ,\n",
              "       65.49957   , 65.59957   , 65.69957   , 65.79957   , 65.89957   ,\n",
              "       65.999565  , 66.09956   , 66.19956   , 66.29956   , 66.39956   ,\n",
              "       66.49956   , 66.599556  , 66.699554  , 66.79955   , 66.89955   ,\n",
              "       66.99955   , 67.09955   , 67.19955   , 67.299545  , 67.39954   ,\n",
              "       67.49954   , 67.59954   , 67.69954   , 67.79954   , 67.899536  ,\n",
              "       67.999535  , 68.09953   , 68.19953   , 68.29953   , 68.39953   ,\n",
              "       68.49953   , 68.599525  , 68.699524  , 68.79952   , 68.89952   ,\n",
              "       68.99952   , 69.09952   , 69.19952   , 69.299515  , 69.39951   ,\n",
              "       69.49951   , 69.59951   , 69.69951   , 69.79951   , 69.899506  ,\n",
              "       69.999504  , 70.0995    , 70.1995    , 70.2995    , 70.3995    ,\n",
              "       70.4995    , 70.599495  , 70.69949   , 70.79949   , 70.89949   ,\n",
              "       70.99949   , 71.09949   , 71.199486  , 71.299484  , 71.39948   ,\n",
              "       71.49948   , 71.59948   , 71.69948   , 71.79948   , 71.899475  ,\n",
              "       71.99947   , 72.09947   , 72.19947   , 72.29947   , 72.39947   ,\n",
              "       72.499466  , 72.599464  , 72.69946   , 72.79946   , 72.89946   ,\n",
              "       72.99946   , 73.09946   , 73.199455  , 73.29945   , 73.39945   ,\n",
              "       73.49945   , 73.59945   , 73.69945   , 73.799446  , 73.899445  ,\n",
              "       73.99944   , 74.09944   , 74.19944   , 74.29944   , 74.39944   ,\n",
              "       74.499435  , 74.599434  , 74.69943   , 74.79943   , 74.89943   ,\n",
              "       74.99943   , 75.09943   , 75.199425  , 75.29942   , 75.39942   ,\n",
              "       75.49942   , 75.59942   , 75.69942   , 75.799416  , 75.899414  ,\n",
              "       75.99941   , 76.09941   , 76.19941   , 76.29941   , 76.39941   ,\n",
              "       76.499405  , 76.5994    , 76.6994    , 76.7994    , 76.8994    ,\n",
              "       76.9994    , 77.099396  , 77.199394  , 77.29939   , 77.39939   ,\n",
              "       77.49939   , 77.59939   , 77.69939   , 77.799385  , 77.89938   ,\n",
              "       77.99938   , 78.09938   , 78.19938   , 78.29938   , 78.399376  ,\n",
              "       78.499374  , 78.59937   , 78.69937   , 78.79937   , 78.89937   ,\n",
              "       78.99937   , 79.099365  , 79.19936   , 79.29936   , 79.39936   ,\n",
              "       79.49936   , 79.59936   , 79.699356  , 79.799355  , 79.89935   ,\n",
              "       79.99935   , 80.09935   , 80.19935   , 80.29935   , 80.399345  ,\n",
              "       80.499344  , 80.59934   , 80.69934   , 80.79934   , 80.89934   ,\n",
              "       80.99934   , 81.099335  , 81.19933   , 81.29933   , 81.39933   ,\n",
              "       81.49933   , 81.59933   , 81.699326  , 81.799324  , 81.89932   ,\n",
              "       81.99932   , 82.09932   , 82.19932   , 82.29932   , 82.399315  ,\n",
              "       82.49931   , 82.59931   , 82.69931   , 82.79931   , 82.89931   ,\n",
              "       82.999306  , 83.099304  , 83.1993    , 83.2993    , 83.3993    ,\n",
              "       83.4993    , 83.5993    , 83.699295  , 83.79929   , 83.89929   ,\n",
              "       83.99929   , 84.09929   , 84.19929   , 84.299286  , 84.399284  ,\n",
              "       84.49928   , 84.59928   , 84.69928   , 84.79928   , 84.89928   ,\n",
              "       84.999275  , 85.09927   , 85.19927   , 85.29927   , 85.39927   ,\n",
              "       85.49927   , 85.599266  , 85.699265  , 85.79926   , 85.89926   ,\n",
              "       85.99926   , 86.09926   , 86.19926   , 86.299255  , 86.399254  ,\n",
              "       86.49925   , 86.59925   , 86.69925   , 86.79925   , 86.89925   ,\n",
              "       86.999245  , 87.09924   , 87.19924   , 87.29924   , 87.39924   ,\n",
              "       87.49924   , 87.599236  , 87.699234  , 87.79923   , 87.89923   ,\n",
              "       87.99923   , 88.09923   , 88.19923   , 88.299225  , 88.39922   ,\n",
              "       88.49922   , 88.59922   , 88.69922   , 88.79922   , 88.899216  ,\n",
              "       88.999214  , 89.09921   , 89.19921   , 89.29921   , 89.39921   ,\n",
              "       89.49921   , 89.599205  , 89.6992    , 89.7992    , 89.8992    ,\n",
              "       89.9992    , 90.0992    , 90.199196  , 90.299194  , 90.39919   ,\n",
              "       90.49919   , 90.59919   , 90.69919   , 90.79919   , 90.899185  ,\n",
              "       90.99918   , 91.09918   , 91.19918   , 91.29918   , 91.39918   ,\n",
              "       91.499176  , 91.599174  , 91.69917   , 91.79917   , 91.89917   ,\n",
              "       91.99917   , 92.09917   , 92.199165  , 92.299164  , 92.39916   ,\n",
              "       92.49916   , 92.59916   , 92.69916   , 92.79916   , 92.899155  ,\n",
              "       92.99915   , 93.09915   , 93.19915   , 93.29915   , 93.39915   ,\n",
              "       93.499146  , 93.599144  , 93.69914   , 93.79914   , 93.89914   ,\n",
              "       93.99914   , 94.09914   , 94.199135  , 94.29913   , 94.39913   ,\n",
              "       94.49913   , 94.59913   , 94.69913   , 94.799126  , 94.899124  ,\n",
              "       94.99912   , 95.09912   , 95.19912   , 95.29912   , 95.39912   ,\n",
              "       95.499115  , 95.59911   , 95.69911   , 95.79911   , 95.89911   ,\n",
              "       95.99911   , 96.099106  , 96.199104  , 96.2991    , 96.3991    ,\n",
              "       96.4991    , 96.5991    , 96.6991    , 96.799095  , 96.89909   ,\n",
              "       96.99909   , 97.09909   , 97.19909   , 97.29909   , 97.399086  ,\n",
              "       97.499084  , 97.59908   , 97.69908   , 97.79908   , 97.89908   ,\n",
              "       97.99908   , 98.099075  , 98.19907   , 98.29907   , 98.39907   ,\n",
              "       98.49907   , 98.59907   , 98.699066  , 98.799065  , 98.89906   ,\n",
              "       98.99906   , 99.09906   , 99.19906   , 99.29906   , 99.399055  ,\n",
              "       99.499054  , 99.59905   , 99.69905   , 99.79905   , 99.89905   ],\n",
              "      dtype=float32)>"
            ]
          },
          "metadata": {},
          "execution_count": 3
        }
      ]
    },
    {
      "cell_type": "code",
      "source": [
        "tf.size(X), X.shape, X.ndim"
      ],
      "metadata": {
        "colab": {
          "base_uri": "https://localhost:8080/"
        },
        "id": "-KAbpSR6VbPn",
        "outputId": "5c8abc02-e1e6-4c93-f03d-518b626b5ea6"
      },
      "execution_count": null,
      "outputs": [
        {
          "output_type": "execute_result",
          "data": {
            "text/plain": [
              "(<tf.Tensor: shape=(), dtype=int32, numpy=1000>, TensorShape([1000]), 1)"
            ]
          },
          "metadata": {},
          "execution_count": 4
        }
      ]
    },
    {
      "cell_type": "code",
      "source": [
        "y = tf.sin(X)\n",
        "y, y.shape, tf.size(y)"
      ],
      "metadata": {
        "colab": {
          "base_uri": "https://localhost:8080/"
        },
        "id": "b52RNxaiViNS",
        "outputId": "855d7dd3-d445-4c97-e419-cdfa5e8da9cd"
      },
      "execution_count": null,
      "outputs": [
        {
          "output_type": "execute_result",
          "data": {
            "text/plain": [
              "(<tf.Tensor: shape=(1000,), dtype=float32, numpy=\n",
              " array([ 0.00000000e+00,  9.98334214e-02,  1.98669329e-01,  2.95520216e-01,\n",
              "         3.89418334e-01,  4.79425550e-01,  5.64642489e-01,  6.44217730e-01,\n",
              "         7.17356145e-01,  7.83326983e-01,  8.41471076e-01,  8.91207397e-01,\n",
              "         9.32039142e-01,  9.63558257e-01,  9.85449791e-01,  9.97494996e-01,\n",
              "         9.99573588e-01,  9.91664767e-01,  9.73847568e-01,  9.46299970e-01,\n",
              "         9.09297347e-01,  8.63209307e-01,  8.08496356e-01,  7.45705247e-01,\n",
              "         6.75463319e-01,  5.98472357e-01,  5.15501678e-01,  4.27380264e-01,\n",
              "         3.34988654e-01,  2.39249930e-01,  1.41120717e-01,  4.15814742e-02,\n",
              "        -5.83732389e-02, -1.57744706e-01, -2.55540043e-01, -3.50782126e-01,\n",
              "        -4.42519277e-01, -5.29834926e-01, -6.11856699e-01, -6.87765002e-01,\n",
              "        -7.56801367e-01, -8.18276227e-01, -8.71574998e-01, -9.16165233e-01,\n",
              "        -9.51601505e-01, -9.77529705e-01, -9.93690789e-01, -9.99923229e-01,\n",
              "        -9.96164799e-01, -9.82453048e-01, -9.58924949e-01, -9.25815642e-01,\n",
              "        -8.83455873e-01, -8.32268953e-01, -7.72766232e-01, -7.05542326e-01,\n",
              "        -6.31268919e-01, -5.50688088e-01, -4.64604974e-01, -3.73879671e-01,\n",
              "        -2.79418707e-01, -1.82165876e-01, -8.30929205e-02,  1.68102775e-02,\n",
              "         1.16545506e-01,  2.15116262e-01,  3.11537653e-01,  4.04846251e-01,\n",
              "         4.94109780e-01,  5.78436375e-01,  6.56983376e-01,  7.28965998e-01,\n",
              "         7.93665171e-01,  8.50434184e-01,  8.98706019e-01,  9.37998295e-01,\n",
              "         9.67918456e-01,  9.88167465e-01,  9.98543084e-01,  9.98941600e-01,\n",
              "         9.89359021e-01,  9.69891131e-01,  9.40732241e-01,  9.02173817e-01,\n",
              "         8.54601085e-01,  7.98489392e-01,  7.34399438e-01,  6.62971556e-01,\n",
              "         5.84919393e-01,  5.01022875e-01,  4.12120223e-01,  3.19099814e-01,\n",
              "         2.22891018e-01,  1.24455184e-01,  2.47758068e-02, -7.51511157e-02,\n",
              "        -1.74327165e-01, -2.71761358e-01, -3.66480201e-01, -4.57537264e-01,\n",
              "        -5.44022679e-01, -6.25072420e-01, -6.99876547e-01, -7.67687738e-01,\n",
              "        -8.27828407e-01, -8.79697561e-01, -9.22777057e-01, -9.56636369e-01,\n",
              "        -9.80937183e-01, -9.95436788e-01, -9.99990165e-01, -9.94551957e-01,\n",
              "        -9.79176402e-01, -9.54017222e-01, -9.19325709e-01, -8.75448465e-01,\n",
              "        -8.22824061e-01, -7.61978149e-01, -6.93518758e-01, -6.18129909e-01,\n",
              "        -5.36564887e-01, -4.49638605e-01, -3.58219653e-01, -2.63221473e-01,\n",
              "        -1.65593266e-01, -6.63104802e-02,  3.36348675e-02,  1.33244127e-01,\n",
              "         2.31522068e-01,  3.27486694e-01,  4.20179158e-01,  5.08673310e-01,\n",
              "         5.92084885e-01,  6.69580519e-01,  7.40385890e-01,  8.03793550e-01,\n",
              "         8.59169841e-01,  9.05961514e-01,  9.43701088e-01,  9.72011447e-01,\n",
              "         9.90609705e-01,  9.99310017e-01,  9.98025537e-01,  9.86769021e-01,\n",
              "         9.65652943e-01,  9.34888303e-01,  8.94782484e-01,  8.45736265e-01,\n",
              "         7.88239598e-01,  7.22867131e-01,  6.50271893e-01,  5.71179330e-01,\n",
              "         4.86379713e-01,  3.96720260e-01,  3.03096890e-01,  2.06445098e-01,\n",
              "         1.07730515e-01,  7.93953240e-03, -9.19307843e-02, -1.90882549e-01,\n",
              "        -2.87927061e-01, -3.82094681e-01, -4.72444534e-01, -5.58073759e-01,\n",
              "        -6.38126910e-01, -7.11804092e-01, -7.78369069e-01, -8.37156773e-01,\n",
              "        -8.87579858e-01, -9.29134429e-01, -9.61405337e-01, -9.84070182e-01,\n",
              "        -9.96902347e-01, -9.99773800e-01, -9.92655754e-01, -9.75619316e-01,\n",
              "        -9.48834717e-01, -9.12569642e-01, -8.67186427e-01, -8.13138485e-01,\n",
              "        -7.50965834e-01, -6.81289732e-01, -6.04806364e-01, -5.22279978e-01,\n",
              "        -4.34535027e-01, -3.42448354e-01, -2.46940032e-01, -1.48964331e-01,\n",
              "        -4.95002083e-02,  5.04585020e-02,  1.49913043e-01,  2.47869700e-01,\n",
              "         3.43349695e-01,  4.35399026e-01,  5.23097932e-01,  6.05570257e-01,\n",
              "         6.81991816e-01,  7.51599073e-01,  8.13696623e-01,  8.67663860e-01,\n",
              "         9.12961602e-01,  9.49137270e-01,  9.75829422e-01,  9.92771327e-01,\n",
              "         9.99793768e-01,  9.96826470e-01,  9.83899117e-01,  9.61140931e-01,\n",
              "         9.28779244e-01,  8.87137473e-01,  8.36631596e-01,  7.77766347e-01,\n",
              "         7.11129844e-01,  6.37387931e-01,  5.57277381e-01,  4.71598625e-01,\n",
              "         3.81207794e-01,  2.87008047e-01,  1.89940616e-01,  9.09753144e-02,\n",
              "        -8.89899116e-03, -1.08684376e-01, -2.07383811e-01, -3.04011136e-01,\n",
              "        -3.97600859e-01, -4.87217814e-01, -5.71966648e-01, -6.51000500e-01,\n",
              "        -7.23529816e-01, -7.88829684e-01, -8.46247852e-01, -8.95210505e-01,\n",
              "        -9.35228407e-01, -9.65901792e-01, -9.86924112e-01, -9.98085320e-01,\n",
              "        -9.99273956e-01, -9.90478039e-01, -9.71785605e-01, -9.43383276e-01,\n",
              "        -9.05554891e-01, -8.58678460e-01, -8.03222299e-01, -7.39740610e-01,\n",
              "        -6.68867588e-01, -5.91311395e-01, -5.07846951e-01, -4.19308275e-01,\n",
              "        -3.26579988e-01, -2.30588540e-01, -1.32293135e-01, -3.26758996e-02,\n",
              "         6.72678277e-02,  1.66539431e-01,  2.64147013e-01,  3.59115303e-01,\n",
              "         4.50495422e-01,  5.37374318e-01,  6.18883908e-01,  6.94209695e-01,\n",
              "         7.62599170e-01,  8.23368907e-01,  8.75911832e-01,  9.19702828e-01,\n",
              "         9.54304338e-01,  9.79370773e-01,  9.94651496e-01,  9.99993980e-01,\n",
              "         9.95344758e-01,  9.80750263e-01,  9.56356406e-01,  9.22406912e-01,\n",
              "         8.79240870e-01,  8.27289760e-01,  7.67072558e-01,  6.99190915e-01,\n",
              "         6.24323189e-01,  5.43217361e-01,  4.56683874e-01,  3.65587294e-01,\n",
              "         2.70837873e-01,  1.73382267e-01,  7.41943121e-02, -2.57349927e-02,\n",
              "        -1.25407159e-01, -2.23826289e-01, -3.20008993e-01, -4.12994236e-01,\n",
              "        -5.01852989e-01, -5.85697293e-01, -6.63689494e-01, -7.35050321e-01,\n",
              "        -7.99066663e-01, -8.55098963e-01, -9.02587295e-01, -9.41057205e-01,\n",
              "        -9.70124364e-01, -9.89498198e-01, -9.98985291e-01, -9.98490751e-01,\n",
              "        -9.88019586e-01, -9.67676342e-01, -9.37664270e-01, -8.98283362e-01,\n",
              "        -8.49927068e-01, -7.93078423e-01, -7.28305578e-01, -6.56255722e-01,\n",
              "        -5.77648699e-01, -4.93269980e-01, -4.03962642e-01, -3.10618967e-01,\n",
              "        -2.14171678e-01, -1.15584455e-01, -1.58423297e-02,  8.40580761e-02,\n",
              "         1.83118612e-01,  2.80349463e-01,  3.74779135e-01,  4.65464085e-01,\n",
              "         5.51496685e-01,  6.32019103e-01,  7.06226707e-01,  7.73378193e-01,\n",
              "         8.32802534e-01,  8.83906126e-01,  9.26178217e-01,  9.59196568e-01,\n",
              "         9.82631207e-01,  9.96248007e-01,  9.99910951e-01,  9.93583441e-01,\n",
              "         9.77328598e-01,  9.51308966e-01,  9.15784478e-01,  8.71110022e-01,\n",
              "         8.17731977e-01,  7.56183743e-01,  6.87080145e-01,  6.11111641e-01,\n",
              "         5.29037356e-01,  4.41677272e-01,  3.49904209e-01,  2.54635125e-01,\n",
              "         1.56821892e-01,  5.74417785e-02, -4.25122455e-02, -1.42041504e-01,\n",
              "        -2.40151584e-01, -3.35862219e-01, -4.28217143e-01, -5.16293585e-01,\n",
              "        -5.99211514e-01, -6.76142573e-01, -7.46317983e-01, -8.09036732e-01,\n",
              "        -8.63672018e-01, -9.09678102e-01, -9.46595192e-01, -9.74054575e-01,\n",
              "        -9.91781771e-01, -9.99599755e-01, -9.97430325e-01, -9.85295236e-01,\n",
              "        -9.63315725e-01, -9.31711316e-01, -8.90797913e-01, -8.40984166e-01,\n",
              "        -7.82767892e-01, -7.16730595e-01, -6.43532276e-01, -5.63904166e-01,\n",
              "        -4.78641897e-01, -3.88597339e-01, -2.94670135e-01, -1.97798803e-01,\n",
              "        -9.89511758e-02,  8.85105052e-04,  1.00712545e-01,  1.99533716e-01,\n",
              "         2.96361297e-01,  3.90227795e-01,  4.80195433e-01,  5.65365255e-01,\n",
              "         6.44886255e-01,  7.17963934e-01,  7.83868253e-01,  8.41940641e-01,\n",
              "         8.91600907e-01,  9.32352841e-01,  9.63789284e-01,  9.85596180e-01,\n",
              "         9.97555614e-01,  9.99548078e-01,  9.91553724e-01,  9.73652422e-01,\n",
              "         9.46022987e-01,  9.08941448e-01,  8.62778425e-01,  8.07994962e-01,\n",
              "         7.45138645e-01,  6.74837232e-01,  5.97793400e-01,  5.14776766e-01,\n",
              "         4.26616788e-01,  3.34194332e-01,  2.38432810e-01,  1.40289038e-01,\n",
              "         4.07435708e-02, -5.92089742e-02, -1.58569932e-01, -2.56346583e-01,\n",
              "        -3.51561964e-01, -4.43264753e-01, -5.30538738e-01, -6.12511933e-01,\n",
              "        -6.88365221e-01, -7.57340908e-01, -8.18749666e-01, -8.71977985e-01,\n",
              "        -9.16494071e-01, -9.51853156e-01, -9.77701902e-01, -9.93782043e-01,\n",
              "        -9.99933004e-01, -9.96093273e-01, -9.82301176e-01, -9.58694518e-01,\n",
              "        -9.25509214e-01, -8.83076847e-01, -8.31821322e-01, -7.72254765e-01,\n",
              "        -7.04972267e-01, -6.30646229e-01, -5.50019145e-01, -4.63896632e-01,\n",
              "        -3.73139143e-01, -2.78653473e-01, -1.81383669e-01, -8.23016092e-02,\n",
              "         1.76027585e-02,  1.17331252e-01,  2.15887442e-01,  3.12286615e-01,\n",
              "         4.05565649e-01,  4.94792521e-01,  5.79075754e-01,  6.57573164e-01,\n",
              "         7.29500532e-01,  7.94139266e-01,  8.50843430e-01,  8.99046481e-01,\n",
              "         9.38266814e-01,  9.68112648e-01,  9.88285661e-01,  9.98584390e-01,\n",
              "         9.98905897e-01,  9.89246964e-01,  9.69704092e-01,  9.40472543e-01,\n",
              "         9.01844382e-01,  8.54205608e-01,  7.98032105e-01,  7.33885229e-01,\n",
              "         6.62405789e-01,  5.84308028e-01,  5.00372231e-01,  4.11437035e-01,\n",
              "         3.18391025e-01,  2.22163856e-01,  1.23716965e-01,  2.40339730e-02,\n",
              "        -7.58891553e-02, -1.75054044e-01, -2.72469908e-01, -3.67163420e-01,\n",
              "        -4.58188474e-01, -5.44635594e-01, -6.25641048e-01, -7.00395525e-01,\n",
              "        -7.68152118e-01, -8.28233719e-01, -8.80040228e-01, -9.23053920e-01,\n",
              "        -9.56845045e-01, -9.81075943e-01, -9.95504618e-01, -9.99986768e-01,\n",
              "        -9.94477749e-01, -9.79032516e-01, -9.53805387e-01, -9.19048488e-01,\n",
              "        -8.75108957e-01, -8.22425961e-01, -7.61525810e-01, -6.93017006e-01,\n",
              "        -6.17583990e-01, -5.35980403e-01, -4.49021697e-01, -3.57576638e-01,\n",
              "        -2.62558907e-01, -1.64917842e-01, -6.56290352e-02,  3.43154892e-02,\n",
              "         1.33917168e-01,  2.32180819e-01,  3.28124672e-01,  4.20790106e-01,\n",
              "         5.09251297e-01,  5.92624307e-01,  6.70076251e-01,  7.40833223e-01,\n",
              "         8.04188251e-01,  8.59508336e-01,  9.06240761e-01,  9.43918586e-01,\n",
              "         9.72165406e-01,  9.90698934e-01,  9.99334037e-01,  9.97984469e-01,\n",
              "         9.86663640e-01,  9.65484679e-01,  9.34659243e-01,  8.94495249e-01,\n",
              "         8.45394015e-01,  7.87846208e-01,  7.22426772e-01,  6.49789155e-01,\n",
              "         5.70659339e-01,  4.85827893e-01,  3.96142304e-01,  3.02498758e-01,\n",
              "         2.05832809e-01,  1.07110336e-01,  7.31766038e-03, -9.25481170e-02,\n",
              "        -1.91489220e-01, -2.88517088e-01, -3.82662266e-01, -4.72984135e-01,\n",
              "        -5.58580220e-01, -6.38595343e-01, -7.12230086e-01, -7.78748631e-01,\n",
              "        -8.37486386e-01, -8.87856483e-01, -9.29355741e-01, -9.61569488e-01,\n",
              "        -9.84175801e-01, -9.96948838e-01, -9.99761045e-01, -9.92584229e-01,\n",
              "        -9.75490212e-01, -9.48649645e-01, -9.12330806e-01, -8.66896510e-01,\n",
              "        -8.12800765e-01, -7.50584006e-01, -6.80867910e-01, -6.04349017e-01,\n",
              "        -5.21791875e-01, -4.34021235e-01, -3.41914177e-01, -2.46390969e-01,\n",
              "        -1.48405939e-01, -4.89381254e-02,  5.10186367e-02,  1.50465637e-01,\n",
              "         2.48409316e-01,  3.43871027e-01,  4.35896993e-01,  5.23567736e-01,\n",
              "         6.06007338e-01,  6.82392120e-01,  7.51958847e-01,  8.14012468e-01,\n",
              "         8.67933035e-01,  9.13181782e-01,  9.49306548e-01,  9.75946426e-01,\n",
              "         9.92835343e-01,  9.99804437e-01,  9.96784091e-01,  9.83804524e-01,\n",
              "         9.60995436e-01,  9.28584695e-01,  8.86896133e-01,  8.36346209e-01,\n",
              "         7.77440071e-01,  7.10766315e-01,  6.36990905e-01,  5.56851208e-01,\n",
              "         4.71147716e-01,  3.80736858e-01,  2.86521912e-01,  1.89444259e-01,\n",
              "         9.04737487e-02, -9.40069743e-03, -1.09181225e-01, -2.07870871e-01,\n",
              "        -3.04483622e-01, -3.98054153e-01, -4.87647593e-01, -5.72368741e-01,\n",
              "        -6.51371181e-01, -7.23865509e-01, -7.89127469e-01, -8.46504927e-01,\n",
              "        -8.95424604e-01, -9.35397863e-01, -9.66025174e-01, -9.87000585e-01,\n",
              "        -9.98114467e-01, -9.99255896e-01, -9.90413368e-01, -9.71675217e-01,\n",
              "        -9.43228781e-01, -9.05358136e-01, -8.58441710e-01, -8.02948356e-01,\n",
              "        -7.39432395e-01, -6.68528557e-01, -5.90945184e-01, -5.07457435e-01,\n",
              "        -4.18899477e-01, -3.26156169e-01, -2.30154142e-01, -1.31852537e-01,\n",
              "        -3.22335325e-02,  6.77075088e-02,  1.66972071e-01,  2.64568359e-01,\n",
              "         3.59521240e-01,  4.50882018e-01,  5.37737846e-01,  6.19220972e-01,\n",
              "         6.94517195e-01,  7.62874305e-01,  8.23609233e-01,  8.76115143e-01,\n",
              "         9.19867516e-01,  9.54429150e-01,  9.79454696e-01,  9.94694173e-01,\n",
              "         9.99995291e-01,  9.95305121e-01,  9.80670512e-01,  9.56237614e-01,\n",
              "         9.22250628e-01,  8.79049063e-01,  8.27064633e-01,  7.66816676e-01,\n",
              "         6.98907137e-01,  6.24014676e-01,  5.42887390e-01,  4.56335902e-01,\n",
              "         3.65224987e-01,  2.70465016e-01,  1.73002720e-01,  7.38118887e-02,\n",
              "        -2.61164289e-02, -1.25783801e-01, -2.24194422e-01, -3.20365071e-01,\n",
              "        -4.13334787e-01, -5.02174735e-01, -5.85997283e-01, -6.63964927e-01,\n",
              "        -7.35298634e-01, -7.99285650e-01, -8.55286837e-01, -9.02742445e-01,\n",
              "        -9.41178501e-01, -9.70210850e-01, -9.89549458e-01, -9.99001145e-01,\n",
              "        -9.98471439e-01, -9.87965643e-01, -9.67588663e-01, -9.37544227e-01,\n",
              "        -8.98132443e-01, -8.49747062e-01, -7.92871594e-01, -7.28074193e-01,\n",
              "        -6.56002343e-01, -5.77376187e-01, -4.92981195e-01, -4.03660685e-01,\n",
              "        -3.10307026e-01, -2.13852987e-01, -1.15262277e-01, -1.55199338e-02,\n",
              "         8.43774751e-02,  1.83431834e-01,  2.80653447e-01,  3.75070959e-01,\n",
              "         4.65741009e-01,  5.51757693e-01,  6.32261515e-01,  7.06448197e-01,\n",
              "         7.73576498e-01,  8.32975745e-01,  8.84052396e-01,  9.26296175e-01,\n",
              "         9.59284961e-01,  9.82689202e-01,  9.96275008e-01,  9.99906719e-01,\n",
              "         9.93547976e-01,  9.77262318e-01,  9.51212466e-01,  9.15658772e-01,\n",
              "         8.70956302e-01,  8.17551851e-01,  7.55978942e-01,  6.86852694e-01,\n",
              "         6.10863924e-01,  5.28771818e-01,  4.41396534e-01,  3.49611074e-01,\n",
              "         2.54332542e-01,  1.56512842e-01,  5.71293905e-02, -4.28248607e-02,\n",
              "        -1.42351240e-01, -2.40455329e-01, -3.36156934e-01, -4.28499877e-01,\n",
              "        -5.16561568e-01, -5.99462032e-01, -6.76373065e-01, -7.46526241e-01,\n",
              "        -8.09220552e-01, -8.63829672e-01, -9.09807980e-01, -9.46696043e-01,\n",
              "        -9.74125326e-01, -9.91821766e-01, -9.99608576e-01, -9.97407854e-01,\n",
              "        -9.85241771e-01, -9.63231683e-01, -9.31597650e-01, -8.90655696e-01,\n",
              "        -8.40814829e-01, -7.82573104e-01, -7.16512442e-01, -6.43292785e-01,\n",
              "        -5.63645780e-01, -4.78367150e-01, -3.88309002e-01, -2.94371128e-01,\n",
              "        -1.97492063e-01, -9.86398086e-02,  1.19800551e-03,  1.01023845e-01,\n",
              "         1.99840322e-01,  2.96660095e-01,  3.90515864e-01,  4.80469853e-01,\n",
              "         5.65623283e-01,  6.45125329e-01,  7.18181729e-01,  7.84062505e-01,\n",
              "         8.42109442e-01,  8.91742527e-01,  9.32465911e-01,  9.63872671e-01,\n",
              "         9.85649049e-01,  9.97577429e-01,  9.99538660e-01,  9.91513133e-01,\n",
              "         9.73581016e-01,  9.45921481e-01,  9.08810973e-01,  8.62620115e-01,\n",
              "         8.07810545e-01,  7.44929910e-01,  6.74606323e-01,  5.97542524e-01,\n",
              "         5.14508426e-01,  4.26333755e-01,  3.33899409e-01,  2.38128930e-01,\n",
              "         1.39979228e-01,  4.04309258e-02, -5.95213249e-02, -1.58878863e-01,\n",
              "        -2.56648988e-01, -3.51854861e-01, -4.43545192e-01, -5.30803978e-01,\n",
              "        -6.12759233e-01, -6.88592196e-01, -7.57545173e-01, -8.18929255e-01,\n",
              "        -8.72131109e-01, -9.16619182e-01, -9.51949000e-01, -9.77767527e-01,\n",
              "        -9.93816853e-01, -9.99936581e-01, -9.96065557e-01, -9.82242525e-01,\n",
              "        -9.58605468e-01, -9.25390720e-01, -8.82929981e-01, -8.31647635e-01,\n",
              "        -7.72055984e-01, -7.04750359e-01, -6.30403399e-01, -5.49757838e-01,\n",
              "        -4.63619411e-01, -3.72848809e-01, -2.78352946e-01, -1.81075960e-01,\n",
              "        -8.19897652e-02,  1.79156102e-02,  1.17641985e-01,  2.16192946e-01,\n",
              "         3.12583864e-01,  4.05851632e-01,  4.95064378e-01,  5.79330802e-01,\n",
              "         6.57808840e-01,  7.29714513e-01,  7.94329405e-01,  8.51007760e-01,\n",
              "         8.99183452e-01,  9.38375056e-01,  9.68190968e-01,  9.88333404e-01,\n",
              "         9.98600960e-01,  9.98891175e-01,  9.89201128e-01,  9.69627559e-01,\n",
              "         9.40366149e-01,  9.01709139e-01,  8.54042888e-01,  7.97843516e-01,\n",
              "         7.33672619e-01,  6.62171364e-01,  5.84054053e-01,  5.00101268e-01,\n",
              "         4.11151856e-01,  3.18094403e-01,  2.21858770e-01,  1.23406470e-01,\n",
              "         2.37211604e-02, -7.62011409e-02, -1.75362095e-01, -2.72770941e-01,\n",
              "        -3.67454439e-01, -4.58466560e-01, -5.44898033e-01, -6.25885129e-01,\n",
              "        -7.00618804e-01, -7.68352389e-01, -8.28409076e-01, -8.80188823e-01,\n",
              "        -9.23174262e-01, -9.56935942e-01, -9.81136501e-01, -9.95534182e-01,\n",
              "        -9.99985099e-01, -9.94444847e-01, -9.78968680e-01, -9.53711331e-01,\n",
              "        -9.18925107e-01, -8.74957561e-01, -8.22247982e-01, -7.61322975e-01,\n",
              "        -6.92791343e-01, -6.17337823e-01, -5.35716236e-01, -4.48742092e-01,\n",
              "        -3.57284397e-01, -2.62256980e-01, -1.64609224e-01, -6.53168112e-02,\n",
              "         3.46282050e-02,  1.34227231e-01,  2.32485160e-01,  3.28420222e-01,\n",
              "         4.21073943e-01,  5.09520531e-01,  5.92876375e-01,  6.70308471e-01,\n",
              "         7.41043389e-01,  8.04374218e-01,  8.59668255e-01,  9.06372964e-01,\n",
              "         9.44021881e-01,  9.72238660e-01,  9.90741491e-01,  9.99345422e-01,\n",
              "         9.97964561e-01,  9.86612678e-01,  9.65403140e-01,  9.34547961e-01,\n",
              "         8.94355297e-01,  8.45226884e-01,  7.87653446e-01,  7.22210288e-01,\n",
              "         6.49551332e-01,  5.70402384e-01,  4.85554397e-01,  3.95855010e-01,\n",
              "         3.02200496e-01,  2.05526605e-01,  1.06799223e-01,  7.00476766e-03,\n",
              "        -9.28596705e-02, -1.91796318e-01, -2.88816661e-01, -3.82951319e-01,\n",
              "        -4.73259777e-01, -5.58839738e-01, -6.38836086e-01, -7.12449670e-01,\n",
              "        -7.78944850e-01, -8.37657332e-01, -8.88000429e-01, -9.29471254e-01,\n",
              "        -9.61655319e-01, -9.84231174e-01, -9.96973217e-01, -9.99754131e-01,\n",
              "        -9.92546141e-01, -9.75421309e-01, -9.48550642e-01, -9.12202656e-01,\n",
              "        -8.66740525e-01, -8.12618494e-01, -7.50377238e-01, -6.80638731e-01,\n",
              "        -6.04099691e-01, -5.21524906e-01, -4.33739334e-01, -3.41620147e-01,\n",
              "        -2.46087685e-01, -1.48096487e-01, -4.86255996e-02,  5.13311252e-02,\n",
              "         1.50774986e-01,  2.48712391e-01,  3.44164819e-01,  4.36178565e-01,\n",
              "         5.23834288e-01,  6.06256247e-01,  6.82620823e-01,  7.52165079e-01,\n",
              "         8.14194202e-01,  8.68088424e-01,  9.13309216e-01,  9.49404836e-01,\n",
              "         9.76014614e-01,  9.92872655e-01,  9.99810576e-01,  9.96758997e-01,\n",
              "         9.83748436e-01,  9.60908890e-01,  9.28468525e-01,  8.86751533e-01,\n",
              "         8.36174607e-01,  7.77243257e-01,  7.10546136e-01,  6.36749744e-01,\n",
              "         5.56591272e-01,  4.70871717e-01,  3.80447507e-01,  2.86222130e-01,\n",
              "         1.89136997e-01,  9.01621357e-02, -9.71358456e-03, -1.09492242e-01,\n",
              "        -2.08176941e-01, -3.04781646e-01, -3.98341179e-01, -4.87920702e-01,\n",
              "        -5.72625279e-01, -6.51608527e-01, -7.24081337e-01, -7.89319575e-01,\n",
              "        -8.46671462e-01, -8.95563900e-01, -9.35508430e-01, -9.66105998e-01,\n",
              "        -9.87050831e-01, -9.98133659e-01, -9.99243736e-01, -9.90370095e-01,\n",
              "        -9.71601248e-01, -9.43124771e-01, -9.05225217e-01, -8.58281255e-01,\n",
              "        -8.02761793e-01, -7.39221692e-01, -6.68295801e-01, -5.90692699e-01],\n",
              "       dtype=float32)>,\n",
              " TensorShape([1000]),\n",
              " <tf.Tensor: shape=(), dtype=int32, numpy=1000>)"
            ]
          },
          "metadata": {},
          "execution_count": 5
        }
      ]
    },
    {
      "cell_type": "code",
      "source": [
        "plt.figure(figsize=(20, 10))\n",
        "plt.plot(X, y)"
      ],
      "metadata": {
        "colab": {
          "base_uri": "https://localhost:8080/",
          "height": 609
        },
        "id": "xgqjsUOJZmYt",
        "outputId": "7d081ff7-8f1e-4026-a2d6-1924ab2b06ca"
      },
      "execution_count": null,
      "outputs": [
        {
          "output_type": "execute_result",
          "data": {
            "text/plain": [
              "[<matplotlib.lines.Line2D at 0x7fed90219610>]"
            ]
          },
          "metadata": {},
          "execution_count": 6
        },
        {
          "output_type": "display_data",
          "data": {
            "text/plain": [
              "<Figure size 1440x720 with 1 Axes>"
            ],
            "image/png": "[encoded data removed]"
          },
          "metadata": {
            "needs_background": "light"
          }
        }
      ]
    },
    {
      "cell_type": "code",
      "source": [
        "print(f'This is the starting shape of tensors. Shape of X: {X.shape}, and shape of y: {y.shape}',\"\\n\")\n",
        "X = tf.reshape(X, shape=(1000, -1))\n",
        "y = tf.reshape(y, shape=(1000, -1))\n",
        "print(f'This is the new shape of tensors. Shape of X: {X.shape}, and shape of y: {y.shape}', \"\\n\")\n",
        "X.dtype, y.dtype"
      ],
      "metadata": {
        "colab": {
          "base_uri": "https://localhost:8080/"
        },
        "id": "Bri2E02GclJp",
        "outputId": "cc5f017e-1693-4b60-aa90-596595ca7c20"
      },
      "execution_count": null,
      "outputs": [
        {
          "output_type": "stream",
          "name": "stdout",
          "text": [
            "This is the starting shape of tensors. Shape of X: (1000,), and shape of y: (1000,) \n",
            "\n",
            "This is the new shape of tensors. Shape of X: (1000, 1), and shape of y: (1000, 1) \n",
            "\n"
          ]
        },
        {
          "output_type": "execute_result",
          "data": {
            "text/plain": [
              "(tf.float32, tf.float32)"
            ]
          },
          "metadata": {},
          "execution_count": 7
        }
      ]
    },
    {
      "cell_type": "markdown",
      "source": [
        "2. Try building a neural network with 4 Dense layers and fitting it to your own regression dataset, how does it perform?"
      ],
      "metadata": {
        "id": "BJTENyCXasit"
      }
    },
    {
      "cell_type": "code",
      "source": [
        "X_train, X_test, y_train, y_test = train_test_split(X.numpy(), y.numpy(), test_size=0.2, shuffle=False)"
      ],
      "metadata": {
        "id": "xe-Hwy3Wa2Go"
      },
      "execution_count": null,
      "outputs": []
    },
    {
      "cell_type": "code",
      "source": [
        "X_train.shape, X_test.shape, y_train.shape, y_test.shape"
      ],
      "metadata": {
        "colab": {
          "base_uri": "https://localhost:8080/"
        },
        "id": "lOBdejQffpA2",
        "outputId": "d2e6ff0f-5ab4-44c9-955c-2c86d14af6ea"
      },
      "execution_count": null,
      "outputs": [
        {
          "output_type": "execute_result",
          "data": {
            "text/plain": [
              "((800, 1), (200, 1), (800, 1), (200, 1))"
            ]
          },
          "metadata": {},
          "execution_count": 12
        }
      ]
    },
    {
      "cell_type": "code",
      "source": [
        "model_1 = tf.keras.models.Sequential([\n",
        "    tf.keras.layers.Dense(40, activation='sigmoid'),\n",
        "    tf.keras.layers.Dense(12, activation='sigmoid'),\n",
        "    tf.keras.layers.Dense(1)\n",
        "])\n",
        "\n",
        "model_1.compile(loss=tf.keras.losses.mse,\n",
        "                optimizer=tf.keras.optimizers.Adam(),\n",
        "                metrics=[\"mse\"])\n",
        "\n",
        "history = model_1.fit(X, y, epochs=30)"
      ],
      "metadata": {
        "colab": {
          "base_uri": "https://localhost:8080/"
        },
        "id": "AoFaTWrFf8zH",
        "outputId": "fd85dd59-e29e-41ca-9a3d-0b43d0efcdf1"
      },
      "execution_count": null,
      "outputs": [
        {
          "output_type": "stream",
          "name": "stdout",
          "text": [
            "Epoch 1/30\n",
            "32/32 [==============================] - 2s 4ms/step - loss: 0.9393 - mse: 0.9393\n",
            "Epoch 2/30\n",
            "32/32 [==============================] - 0s 3ms/step - loss: 0.5262 - mse: 0.5262\n",
            "Epoch 3/30\n",
            "32/32 [==============================] - 0s 4ms/step - loss: 0.5018 - mse: 0.5018\n",
            "Epoch 4/30\n",
            "32/32 [==============================] - 0s 4ms/step - loss: 0.5005 - mse: 0.5005\n",
            "Epoch 5/30\n",
            "32/32 [==============================] - 0s 3ms/step - loss: 0.5010 - mse: 0.5010\n",
            "Epoch 6/30\n",
            "32/32 [==============================] - 0s 3ms/step - loss: 0.5005 - mse: 0.5005\n",
            "Epoch 7/30\n",
            "32/32 [==============================] - 0s 3ms/step - loss: 0.5007 - mse: 0.5007\n",
            "Epoch 8/30\n",
            "32/32 [==============================] - 0s 3ms/step - loss: 0.4993 - mse: 0.4993\n",
            "Epoch 9/30\n",
            "32/32 [==============================] - 0s 4ms/step - loss: 0.4994 - mse: 0.4994\n",
            "Epoch 10/30\n",
            "32/32 [==============================] - 0s 5ms/step - loss: 0.4993 - mse: 0.4993\n",
            "Epoch 11/30\n",
            "32/32 [==============================] - 0s 4ms/step - loss: 0.4996 - mse: 0.4996\n",
            "Epoch 12/30\n",
            "32/32 [==============================] - 0s 4ms/step - loss: 0.4996 - mse: 0.4996\n",
            "Epoch 13/30\n",
            "32/32 [==============================] - 0s 4ms/step - loss: 0.4990 - mse: 0.4990\n",
            "Epoch 14/30\n",
            "32/32 [==============================] - 0s 4ms/step - loss: 0.4983 - mse: 0.4983\n",
            "Epoch 15/30\n",
            "32/32 [==============================] - 0s 3ms/step - loss: 0.4988 - mse: 0.4988\n",
            "Epoch 16/30\n",
            "32/32 [==============================] - 0s 3ms/step - loss: 0.4988 - mse: 0.4988\n",
            "Epoch 17/30\n",
            "32/32 [==============================] - 0s 3ms/step - loss: 0.4988 - mse: 0.4988\n",
            "Epoch 18/30\n",
            "32/32 [==============================] - 0s 3ms/step - loss: 0.4984 - mse: 0.4984\n",
            "Epoch 19/30\n",
            "32/32 [==============================] - 0s 2ms/step - loss: 0.4986 - mse: 0.4986\n",
            "Epoch 20/30\n",
            "32/32 [==============================] - 0s 3ms/step - loss: 0.4982 - mse: 0.4982\n",
            "Epoch 21/30\n",
            "32/32 [==============================] - 0s 4ms/step - loss: 0.4982 - mse: 0.4982\n",
            "Epoch 22/30\n",
            "32/32 [==============================] - 0s 3ms/step - loss: 0.4981 - mse: 0.4981\n",
            "Epoch 23/30\n",
            "32/32 [==============================] - 0s 3ms/step - loss: 0.4995 - mse: 0.4995\n",
            "Epoch 24/30\n",
            "32/32 [==============================] - 0s 2ms/step - loss: 0.4990 - mse: 0.4990\n",
            "Epoch 25/30\n",
            "32/32 [==============================] - 0s 3ms/step - loss: 0.4984 - mse: 0.4984\n",
            "Epoch 26/30\n",
            "32/32 [==============================] - 0s 2ms/step - loss: 0.4984 - mse: 0.4984\n",
            "Epoch 27/30\n",
            "32/32 [==============================] - 0s 2ms/step - loss: 0.4973 - mse: 0.4973\n",
            "Epoch 28/30\n",
            "32/32 [==============================] - 0s 2ms/step - loss: 0.4989 - mse: 0.4989\n",
            "Epoch 29/30\n",
            "32/32 [==============================] - 0s 2ms/step - loss: 0.4976 - mse: 0.4976\n",
            "Epoch 30/30\n",
            "32/32 [==============================] - 0s 2ms/step - loss: 0.4980 - mse: 0.4980\n"
          ]
        }
      ]
    },
    {
      "cell_type": "code",
      "source": [
        "# Plot history (also known as a loss curve or a training curve)\n",
        "pd.DataFrame(history.history).plot()\n",
        "plt.ylabel(\"loss\")\n",
        "plt.xlabel(\"epochs\")"
      ],
      "metadata": {
        "colab": {
          "base_uri": "https://localhost:8080/",
          "height": 296
        },
        "id": "_g63ThylvV2z",
        "outputId": "9de20c75-3851-4d2c-cf3a-e9a569eb8f7a"
      },
      "execution_count": null,
      "outputs": [
        {
          "output_type": "execute_result",
          "data": {
            "text/plain": [
              "Text(0.5, 0, 'epochs')"
            ]
          },
          "metadata": {},
          "execution_count": 54
        },
        {
          "output_type": "display_data",
          "data": {
            "text/plain": [
              "<Figure size 432x288 with 1 Axes>"
            ],
            "image/png": "[encoded data removed]"
          },
          "metadata": {
            "needs_background": "light"
          }
        }
      ]
    },
    {
      "cell_type": "code",
      "source": [
        "y_sin_predict = model_1.predict(X_test)"
      ],
      "metadata": {
        "colab": {
          "base_uri": "https://localhost:8080/"
        },
        "id": "a--kmXbDwFy4",
        "outputId": "41b3ae74-6f49-4034-b809-f00208d24403"
      },
      "execution_count": null,
      "outputs": [
        {
          "output_type": "stream",
          "name": "stdout",
          "text": [
            "7/7 [==============================] - 0s 2ms/step\n"
          ]
        }
      ]
    },
    {
      "cell_type": "code",
      "source": [
        "plot_predict(X_test, y_test, y_sin_predict)"
      ],
      "metadata": {
        "colab": {
          "base_uri": "https://localhost:8080/",
          "height": 428
        },
        "id": "MbtYrT9KwOCj",
        "outputId": "a365563a-97f7-4a26-9c29-fe1678ccd4e8"
      },
      "execution_count": null,
      "outputs": [
        {
          "output_type": "display_data",
          "data": {
            "text/plain": [
              "<Figure size 720x504 with 1 Axes>"
            ],
            "image/png": "[encoded data removed]"
          },
          "metadata": {
            "needs_background": "light"
          }
        }
      ]
    },
    {
      "cell_type": "code",
      "source": [
        "plt.figure(figsize=(20, 10))\n",
        "plt.plot(X_test, y_sin_predict)"
      ],
      "metadata": {
        "colab": {
          "base_uri": "https://localhost:8080/",
          "height": 609
        },
        "id": "G3AiaFg5xDiJ",
        "outputId": "f84b5e19-39f2-4300-d5d8-2a4f4b70b0dc"
      },
      "execution_count": null,
      "outputs": [
        {
          "output_type": "execute_result",
          "data": {
            "text/plain": [
              "[<matplotlib.lines.Line2D at 0x7fed7a84eee0>]"
            ]
          },
          "metadata": {},
          "execution_count": 27
        },
        {
          "output_type": "display_data",
          "data": {
            "text/plain": [
              "<Figure size 1440x720 with 1 Axes>"
            ],
            "image/png": "[encoded data removed]"
          },
          "metadata": {
            "needs_background": "light"
          }
        }
      ]
    },
    {
      "cell_type": "markdown",
      "source": [
        "3. Try and improve the results we got on the insurance dataset, some things you might want to try include:\n",
        "* Building a larger model (how does one with 4 dense layers go?).\n",
        "* Increasing the number of units in each layer.\n",
        "* Lookup the documentation of Adam and find out what the first parameter is, what happens if you increase it by 10x?\n",
        "* What happens if you train for longer (say 300 epochs instead of 200)?"
      ],
      "metadata": {
        "id": "GdHRHbImJFVp"
      }
    },
    {
      "cell_type": "code",
      "source": [
        "df = pd.read_csv('https://raw.githubusercontent.com/stedy/Machine-Learning-with-R-datasets/master/insurance.csv')\n",
        "df.head()"
      ],
      "metadata": {
        "colab": {
          "base_uri": "https://localhost:8080/",
          "height": 206
        },
        "id": "u3yfqmU3Py9F",
        "outputId": "c6c9810d-b279-485d-ff48-fd152280b12c"
      },
      "execution_count": null,
      "outputs": [
        {
          "output_type": "execute_result",
          "data": {
            "text/plain": [
              "   age     sex     bmi  children smoker     region      charges\n",
              "0   19  female  27.900         0    yes  southwest  16884.92400\n",
              "1   18    male  33.770         1     no  southeast   1725.55230\n",
              "2   28    male  33.000         3     no  southeast   4449.46200\n",
              "3   33    male  22.705         0     no  northwest  21984.47061\n",
              "4   32    male  28.880         0     no  northwest   3866.85520"
            ],
            "text/html": [
              "\n",
              "  <div id=\"df-7dac3e9a-2629-4b7e-93f2-9242667eb392\">\n",
              "    <div class=\"colab-df-container\">\n",
              "      <div>\n",
              "<style scoped>\n",
              "    .dataframe tbody tr th:only-of-type {\n",
              "        vertical-align: middle;\n",
              "    }\n",
              "\n",
              "    .dataframe tbody tr th {\n",
              "        vertical-align: top;\n",
              "    }\n",
              "\n",
              "    .dataframe thead th {\n",
              "        text-align: right;\n",
              "    }\n",
              "</style>\n",
              "<table border=\"1\" class=\"dataframe\">\n",
              "  <thead>\n",
              "    <tr style=\"text-align: right;\">\n",
              "      <th></th>\n",
              "      <th>age</th>\n",
              "      <th>sex</th>\n",
              "      <th>bmi</th>\n",
              "      <th>children</th>\n",
              "      <th>smoker</th>\n",
              "      <th>region</th>\n",
              "      <th>charges</th>\n",
              "    </tr>\n",
              "  </thead>\n",
              "  <tbody>\n",
              "    <tr>\n",
              "      <th>0</th>\n",
              "      <td>19</td>\n",
              "      <td>female</td>\n",
              "      <td>27.900</td>\n",
              "      <td>0</td>\n",
              "      <td>yes</td>\n",
              "      <td>southwest</td>\n",
              "      <td>16884.92400</td>\n",
              "    </tr>\n",
              "    <tr>\n",
              "      <th>1</th>\n",
              "      <td>18</td>\n",
              "      <td>male</td>\n",
              "      <td>33.770</td>\n",
              "      <td>1</td>\n",
              "      <td>no</td>\n",
              "      <td>southeast</td>\n",
              "      <td>1725.55230</td>\n",
              "    </tr>\n",
              "    <tr>\n",
              "      <th>2</th>\n",
              "      <td>28</td>\n",
              "      <td>male</td>\n",
              "      <td>33.000</td>\n",
              "      <td>3</td>\n",
              "      <td>no</td>\n",
              "      <td>southeast</td>\n",
              "      <td>4449.46200</td>\n",
              "    </tr>\n",
              "    <tr>\n",
              "      <th>3</th>\n",
              "      <td>33</td>\n",
              "      <td>male</td>\n",
              "      <td>22.705</td>\n",
              "      <td>0</td>\n",
              "      <td>no</td>\n",
              "      <td>northwest</td>\n",
              "      <td>21984.47061</td>\n",
              "    </tr>\n",
              "    <tr>\n",
              "      <th>4</th>\n",
              "      <td>32</td>\n",
              "      <td>male</td>\n",
              "      <td>28.880</td>\n",
              "      <td>0</td>\n",
              "      <td>no</td>\n",
              "      <td>northwest</td>\n",
              "      <td>3866.85520</td>\n",
              "    </tr>\n",
              "  </tbody>\n",
              "</table>\n",
              "</div>\n",
              "      <button class=\"colab-df-convert\" onclick=\"convertToInteractive('df-7dac3e9a-2629-4b7e-93f2-9242667eb392')\"\n",
              "              title=\"Convert this dataframe to an interactive table.\"\n",
              "              style=\"display:none;\">\n",
              "        \n",
              "  <svg xmlns=\"http://www.w3.org/2000/svg\" height=\"24px\"viewBox=\"0 0 24 24\"\n",
              "       width=\"24px\">\n",
              "    <path d=\"M0 0h24v24H0V0z\" fill=\"none\"/>\n",
              "    <path d=\"M18.56 5.44l.94 2.06.94-2.06 2.06-.94-2.06-.94-.94-2.06-.94 2.06-2.06.94zm-11 1L8.5 8.5l.94-2.06 2.06-.94-2.06-.94L8.5 2.5l-.94 2.06-2.06.94zm10 10l.94 2.06.94-2.06 2.06-.94-2.06-.94-.94-2.06-.94 2.06-2.06.94z\"/><path d=\"M17.41 7.96l-1.37-1.37c-.4-.4-.92-.59-1.43-.59-.52 0-1.04.2-1.43.59L10.3 9.45l-7.72 7.72c-.78.78-.78 2.05 0 2.83L4 21.41c.39.39.9.59 1.41.59.51 0 1.02-.2 1.41-.59l7.78-7.78 2.81-2.81c.8-.78.8-2.07 0-2.86zM5.41 20L4 18.59l7.72-7.72 1.47 1.35L5.41 20z\"/>\n",
              "  </svg>\n",
              "      </button>\n",
              "      \n",
              "  <style>\n",
              "    .colab-df-container {\n",
              "      display:flex;\n",
              "      flex-wrap:wrap;\n",
              "      gap: 12px;\n",
              "    }\n",
              "\n",
              "    .colab-df-convert {\n",
              "      background-color: #E8F0FE;\n",
              "      border: none;\n",
              "      border-radius: 50%;\n",
              "      cursor: pointer;\n",
              "      display: none;\n",
              "      fill: #1967D2;\n",
              "      height: 32px;\n",
              "      padding: 0 0 0 0;\n",
              "      width: 32px;\n",
              "    }\n",
              "\n",
              "    .colab-df-convert:hover {\n",
              "      background-color: #E2EBFA;\n",
              "      box-shadow: 0px 1px 2px rgba(60, 64, 67, 0.3), 0px 1px 3px 1px rgba(60, 64, 67, 0.15);\n",
              "      fill: #174EA6;\n",
              "    }\n",
              "\n",
              "    [theme=dark] .colab-df-convert {\n",
              "      background-color: #3B4455;\n",
              "      fill: #D2E3FC;\n",
              "    }\n",
              "\n",
              "    [theme=dark] .colab-df-convert:hover {\n",
              "      background-color: #434B5C;\n",
              "      box-shadow: 0px 1px 3px 1px rgba(0, 0, 0, 0.15);\n",
              "      filter: drop-shadow(0px 1px 2px rgba(0, 0, 0, 0.3));\n",
              "      fill: #FFFFFF;\n",
              "    }\n",
              "  </style>\n",
              "\n",
              "      <script>\n",
              "        const buttonEl =\n",
              "          document.querySelector('#df-7dac3e9a-2629-4b7e-93f2-9242667eb392 button.colab-df-convert');\n",
              "        buttonEl.style.display =\n",
              "          google.colab.kernel.accessAllowed ? 'block' : 'none';\n",
              "\n",
              "        async function convertToInteractive(key) {\n",
              "          const element = document.querySelector('#df-7dac3e9a-2629-4b7e-93f2-9242667eb392');\n",
              "          const dataTable =\n",
              "            await google.colab.kernel.invokeFunction('convertToInteractive',\n",
              "                                                     [key], {});\n",
              "          if (!dataTable) return;\n",
              "\n",
              "          const docLinkHtml = 'Like what you see? Visit the ' +\n",
              "            '<a target=\"_blank\" href=https://colab.research.google.com/notebooks/data_table.ipynb>data table notebook</a>'\n",
              "            + ' to learn more about interactive tables.';\n",
              "          element.innerHTML = '';\n",
              "          dataTable['output_type'] = 'display_data';\n",
              "          await google.colab.output.renderOutput(dataTable, element);\n",
              "          const docLink = document.createElement('div');\n",
              "          docLink.innerHTML = docLinkHtml;\n",
              "          element.appendChild(docLink);\n",
              "        }\n",
              "      </script>\n",
              "    </div>\n",
              "  </div>\n",
              "  "
            ]
          },
          "metadata": {},
          "execution_count": 70
        }
      ]
    },
    {
      "cell_type": "code",
      "source": [
        "from sklearn.compose import make_column_transformer\n",
        "from sklearn.preprocessing import MinMaxScaler, OneHotEncoder\n",
        "from sklearn.model_selection import train_test_split\n",
        "\n",
        "ct = make_column_transformer(\n",
        "    (MinMaxScaler(), [\"age\", \"bmi\", \"children\"]),\n",
        "    (OneHotEncoder(handle_unknown=\"ignore\"), [\"sex\", \"smoker\", \"region\"])\n",
        ")\n",
        "\n",
        "X = df.drop(\"charges\", axis=1)\n",
        "y = df[\"charges\"]\n",
        "\n",
        "X_train, X_test, y_train, y_test = train_test_split(X, y, test_size=0.2, random_state=42)\n",
        "\n",
        "ct.fit(X_train)\n",
        "\n",
        "X_train_normal = ct.transform(X_train)\n",
        "X_test_normal = ct.transform(X_test)"
      ],
      "metadata": {
        "id": "8xz6fNXORvJu"
      },
      "execution_count": null,
      "outputs": []
    },
    {
      "cell_type": "code",
      "source": [
        "tf.random.set_seed(42)\n",
        "\n",
        "model = tf.keras.models.Sequential([\n",
        "    tf.keras.layers.Dense(100),\n",
        "    tf.keras.layers.Dense(10),\n",
        "    tf.keras.layers.Dense(1)\n",
        "])\n",
        "\n",
        "model.compile(loss=tf.keras.losses.mae,\n",
        "              optimizer=tf.keras.optimizers.Adam(),\n",
        "              metrics=[\"mae\"])\n",
        "\n",
        "history = model.fit(X_train_normal, y_train, epochs=200)"
      ],
      "metadata": {
        "colab": {
          "base_uri": "https://localhost:8080/"
        },
        "id": "-MeP5U9ZUUvc",
        "outputId": "2e857f16-5d0a-4e10-80e2-7f2d15d6cc3b"
      },
      "execution_count": null,
      "outputs": [
        {
          "output_type": "stream",
          "name": "stdout",
          "text": [
            "Epoch 1/200\n",
            "34/34 [==============================] - 2s 4ms/step - loss: 13344.1484 - mae: 13344.1484\n",
            "Epoch 2/200\n",
            "34/34 [==============================] - 0s 5ms/step - loss: 13335.2510 - mae: 13335.2510\n",
            "Epoch 3/200\n",
            "34/34 [==============================] - 0s 3ms/step - loss: 13313.0889 - mae: 13313.0889\n",
            "Epoch 4/200\n",
            "34/34 [==============================] - 0s 3ms/step - loss: 13267.1885 - mae: 13267.1885\n",
            "Epoch 5/200\n",
            "34/34 [==============================] - 0s 3ms/step - loss: 13186.8232 - mae: 13186.8232\n",
            "Epoch 6/200\n",
            "34/34 [==============================] - 0s 4ms/step - loss: 13061.3613 - mae: 13061.3613\n",
            "Epoch 7/200\n",
            "34/34 [==============================] - 0s 3ms/step - loss: 12880.2734 - mae: 12880.2734\n",
            "Epoch 8/200\n",
            "34/34 [==============================] - 0s 4ms/step - loss: 12632.7324 - mae: 12632.7324\n",
            "Epoch 9/200\n",
            "34/34 [==============================] - 0s 3ms/step - loss: 12308.1250 - mae: 12308.1250\n",
            "Epoch 10/200\n",
            "34/34 [==============================] - 0s 3ms/step - loss: 11902.9170 - mae: 11902.9170\n",
            "Epoch 11/200\n",
            "34/34 [==============================] - 0s 3ms/step - loss: 11426.7051 - mae: 11426.7051\n",
            "Epoch 12/200\n",
            "34/34 [==============================] - 0s 3ms/step - loss: 10918.1416 - mae: 10918.1416\n",
            "Epoch 13/200\n",
            "34/34 [==============================] - 0s 3ms/step - loss: 10415.5977 - mae: 10415.5977\n",
            "Epoch 14/200\n",
            "34/34 [==============================] - 0s 3ms/step - loss: 9920.6904 - mae: 9920.6904\n",
            "Epoch 15/200\n",
            "34/34 [==============================] - 0s 3ms/step - loss: 9453.4189 - mae: 9453.4189\n",
            "Epoch 16/200\n",
            "34/34 [==============================] - 0s 3ms/step - loss: 9039.2373 - mae: 9039.2373\n",
            "Epoch 17/200\n",
            "34/34 [==============================] - 0s 3ms/step - loss: 8698.8945 - mae: 8698.8945\n",
            "Epoch 18/200\n",
            "34/34 [==============================] - 0s 3ms/step - loss: 8420.0986 - mae: 8420.0986\n",
            "Epoch 19/200\n",
            "34/34 [==============================] - 0s 3ms/step - loss: 8211.1416 - mae: 8211.1416\n",
            "Epoch 20/200\n",
            "34/34 [==============================] - 0s 4ms/step - loss: 8066.6973 - mae: 8066.6973\n",
            "Epoch 21/200\n",
            "34/34 [==============================] - 0s 3ms/step - loss: 7960.1216 - mae: 7960.1216\n",
            "Epoch 22/200\n",
            "34/34 [==============================] - 0s 4ms/step - loss: 7886.2148 - mae: 7886.2148\n",
            "Epoch 23/200\n",
            "34/34 [==============================] - 0s 2ms/step - loss: 7827.8594 - mae: 7827.8594\n",
            "Epoch 24/200\n",
            "34/34 [==============================] - 0s 2ms/step - loss: 7775.3364 - mae: 7775.3364\n",
            "Epoch 25/200\n",
            "34/34 [==============================] - 0s 2ms/step - loss: 7736.3262 - mae: 7736.3262\n",
            "Epoch 26/200\n",
            "34/34 [==============================] - 0s 2ms/step - loss: 7684.2314 - mae: 7684.2314\n",
            "Epoch 27/200\n",
            "34/34 [==============================] - 0s 2ms/step - loss: 7641.7002 - mae: 7641.7002\n",
            "Epoch 28/200\n",
            "34/34 [==============================] - 0s 2ms/step - loss: 7598.6528 - mae: 7598.6528\n",
            "Epoch 29/200\n",
            "34/34 [==============================] - 0s 2ms/step - loss: 7555.1841 - mae: 7555.1841\n",
            "Epoch 30/200\n",
            "34/34 [==============================] - 0s 2ms/step - loss: 7510.9565 - mae: 7510.9565\n",
            "Epoch 31/200\n",
            "34/34 [==============================] - 0s 2ms/step - loss: 7466.3232 - mae: 7466.3232\n",
            "Epoch 32/200\n",
            "34/34 [==============================] - 0s 2ms/step - loss: 7421.3506 - mae: 7421.3506\n",
            "Epoch 33/200\n",
            "34/34 [==============================] - 0s 3ms/step - loss: 7376.2124 - mae: 7376.2124\n",
            "Epoch 34/200\n",
            "34/34 [==============================] - 0s 3ms/step - loss: 7326.9653 - mae: 7326.9653\n",
            "Epoch 35/200\n",
            "34/34 [==============================] - 0s 3ms/step - loss: 7279.0679 - mae: 7279.0679\n",
            "Epoch 36/200\n",
            "34/34 [==============================] - 0s 4ms/step - loss: 7227.9526 - mae: 7227.9526\n",
            "Epoch 37/200\n",
            "34/34 [==============================] - 0s 3ms/step - loss: 7176.4561 - mae: 7176.4561\n",
            "Epoch 38/200\n",
            "34/34 [==============================] - 0s 3ms/step - loss: 7124.2534 - mae: 7124.2534\n",
            "Epoch 39/200\n",
            "34/34 [==============================] - 0s 4ms/step - loss: 7068.1562 - mae: 7068.1562\n",
            "Epoch 40/200\n",
            "34/34 [==============================] - 0s 3ms/step - loss: 7011.4507 - mae: 7011.4507\n",
            "Epoch 41/200\n",
            "34/34 [==============================] - 0s 3ms/step - loss: 6953.5488 - mae: 6953.5488\n",
            "Epoch 42/200\n",
            "34/34 [==============================] - 0s 3ms/step - loss: 6892.9531 - mae: 6892.9531\n",
            "Epoch 43/200\n",
            "34/34 [==============================] - 0s 3ms/step - loss: 6828.6680 - mae: 6828.6680\n",
            "Epoch 44/200\n",
            "34/34 [==============================] - 0s 3ms/step - loss: 6760.4692 - mae: 6760.4692\n",
            "Epoch 45/200\n",
            "34/34 [==============================] - 0s 3ms/step - loss: 6691.4204 - mae: 6691.4204\n",
            "Epoch 46/200\n",
            "34/34 [==============================] - 0s 4ms/step - loss: 6620.3262 - mae: 6620.3262\n",
            "Epoch 47/200\n",
            "34/34 [==============================] - 0s 3ms/step - loss: 6546.6069 - mae: 6546.6069\n",
            "Epoch 48/200\n",
            "34/34 [==============================] - 0s 3ms/step - loss: 6465.6489 - mae: 6465.6489\n",
            "Epoch 49/200\n",
            "34/34 [==============================] - 0s 3ms/step - loss: 6384.4390 - mae: 6384.4390\n",
            "Epoch 50/200\n",
            "34/34 [==============================] - 0s 3ms/step - loss: 6295.9102 - mae: 6295.9102\n",
            "Epoch 51/200\n",
            "34/34 [==============================] - 0s 3ms/step - loss: 6208.8784 - mae: 6208.8784\n",
            "Epoch 52/200\n",
            "34/34 [==============================] - 0s 3ms/step - loss: 6112.2490 - mae: 6112.2490\n",
            "Epoch 53/200\n",
            "34/34 [==============================] - 0s 3ms/step - loss: 6013.0786 - mae: 6013.0786\n",
            "Epoch 54/200\n",
            "34/34 [==============================] - 0s 3ms/step - loss: 5910.9199 - mae: 5910.9199\n",
            "Epoch 55/200\n",
            "34/34 [==============================] - 0s 3ms/step - loss: 5800.3223 - mae: 5800.3223\n",
            "Epoch 56/200\n",
            "34/34 [==============================] - 0s 3ms/step - loss: 5688.5947 - mae: 5688.5947\n",
            "Epoch 57/200\n",
            "34/34 [==============================] - 0s 4ms/step - loss: 5570.5947 - mae: 5570.5947\n",
            "Epoch 58/200\n",
            "34/34 [==============================] - 0s 4ms/step - loss: 5452.6567 - mae: 5452.6567\n",
            "Epoch 59/200\n",
            "34/34 [==============================] - 0s 4ms/step - loss: 5330.1743 - mae: 5330.1743\n",
            "Epoch 60/200\n",
            "34/34 [==============================] - 0s 3ms/step - loss: 5204.7559 - mae: 5204.7559\n",
            "Epoch 61/200\n",
            "34/34 [==============================] - 0s 3ms/step - loss: 5077.8120 - mae: 5077.8120\n",
            "Epoch 62/200\n",
            "34/34 [==============================] - 0s 2ms/step - loss: 4944.4707 - mae: 4944.4707\n",
            "Epoch 63/200\n",
            "34/34 [==============================] - 0s 2ms/step - loss: 4815.7412 - mae: 4815.7412\n",
            "Epoch 64/200\n",
            "34/34 [==============================] - 0s 2ms/step - loss: 4684.1572 - mae: 4684.1572\n",
            "Epoch 65/200\n",
            "34/34 [==============================] - 0s 2ms/step - loss: 4560.1299 - mae: 4560.1299\n",
            "Epoch 66/200\n",
            "34/34 [==============================] - 0s 2ms/step - loss: 4442.9136 - mae: 4442.9136\n",
            "Epoch 67/200\n",
            "34/34 [==============================] - 0s 2ms/step - loss: 4338.2397 - mae: 4338.2397\n",
            "Epoch 68/200\n",
            "34/34 [==============================] - 0s 2ms/step - loss: 4234.0103 - mae: 4234.0103\n",
            "Epoch 69/200\n",
            "34/34 [==============================] - 0s 2ms/step - loss: 4137.4351 - mae: 4137.4351\n",
            "Epoch 70/200\n",
            "34/34 [==============================] - 0s 2ms/step - loss: 4049.4167 - mae: 4049.4167\n",
            "Epoch 71/200\n",
            "34/34 [==============================] - 0s 2ms/step - loss: 3969.8616 - mae: 3969.8616\n",
            "Epoch 72/200\n",
            "34/34 [==============================] - 0s 2ms/step - loss: 3899.9348 - mae: 3899.9348\n",
            "Epoch 73/200\n",
            "34/34 [==============================] - 0s 2ms/step - loss: 3843.2402 - mae: 3843.2402\n",
            "Epoch 74/200\n",
            "34/34 [==============================] - 0s 2ms/step - loss: 3794.5806 - mae: 3794.5806\n",
            "Epoch 75/200\n",
            "34/34 [==============================] - 0s 2ms/step - loss: 3759.9578 - mae: 3759.9578\n",
            "Epoch 76/200\n",
            "34/34 [==============================] - 0s 2ms/step - loss: 3733.4871 - mae: 3733.4871\n",
            "Epoch 77/200\n",
            "34/34 [==============================] - 0s 2ms/step - loss: 3711.5212 - mae: 3711.5212\n",
            "Epoch 78/200\n",
            "34/34 [==============================] - 0s 2ms/step - loss: 3697.2927 - mae: 3697.2927\n",
            "Epoch 79/200\n",
            "34/34 [==============================] - 0s 2ms/step - loss: 3687.4871 - mae: 3687.4871\n",
            "Epoch 80/200\n",
            "34/34 [==============================] - 0s 2ms/step - loss: 3678.6516 - mae: 3678.6516\n",
            "Epoch 81/200\n",
            "34/34 [==============================] - 0s 2ms/step - loss: 3673.5259 - mae: 3673.5259\n",
            "Epoch 82/200\n",
            "34/34 [==============================] - 0s 2ms/step - loss: 3670.6013 - mae: 3670.6013\n",
            "Epoch 83/200\n",
            "34/34 [==============================] - 0s 2ms/step - loss: 3664.8999 - mae: 3664.8999\n",
            "Epoch 84/200\n",
            "34/34 [==============================] - 0s 2ms/step - loss: 3662.3223 - mae: 3662.3223\n",
            "Epoch 85/200\n",
            "34/34 [==============================] - 0s 2ms/step - loss: 3659.9290 - mae: 3659.9290\n",
            "Epoch 86/200\n",
            "34/34 [==============================] - 0s 2ms/step - loss: 3658.5547 - mae: 3658.5547\n",
            "Epoch 87/200\n",
            "34/34 [==============================] - 0s 2ms/step - loss: 3655.6460 - mae: 3655.6460\n",
            "Epoch 88/200\n",
            "34/34 [==============================] - 0s 2ms/step - loss: 3653.2236 - mae: 3653.2236\n",
            "Epoch 89/200\n",
            "34/34 [==============================] - 0s 2ms/step - loss: 3651.7617 - mae: 3651.7617\n",
            "Epoch 90/200\n",
            "34/34 [==============================] - 0s 2ms/step - loss: 3650.2385 - mae: 3650.2385\n",
            "Epoch 91/200\n",
            "34/34 [==============================] - 0s 2ms/step - loss: 3647.0088 - mae: 3647.0088\n",
            "Epoch 92/200\n",
            "34/34 [==============================] - 0s 2ms/step - loss: 3646.3972 - mae: 3646.3972\n",
            "Epoch 93/200\n",
            "34/34 [==============================] - 0s 2ms/step - loss: 3644.1394 - mae: 3644.1394\n",
            "Epoch 94/200\n",
            "34/34 [==============================] - 0s 2ms/step - loss: 3642.4534 - mae: 3642.4534\n",
            "Epoch 95/200\n",
            "34/34 [==============================] - 0s 2ms/step - loss: 3643.5076 - mae: 3643.5076\n",
            "Epoch 96/200\n",
            "34/34 [==============================] - 0s 2ms/step - loss: 3640.2810 - mae: 3640.2810\n",
            "Epoch 97/200\n",
            "34/34 [==============================] - 0s 2ms/step - loss: 3637.8965 - mae: 3637.8965\n",
            "Epoch 98/200\n",
            "34/34 [==============================] - 0s 2ms/step - loss: 3635.8452 - mae: 3635.8452\n",
            "Epoch 99/200\n",
            "34/34 [==============================] - 0s 2ms/step - loss: 3635.2659 - mae: 3635.2659\n",
            "Epoch 100/200\n",
            "34/34 [==============================] - 0s 2ms/step - loss: 3633.6333 - mae: 3633.6333\n",
            "Epoch 101/200\n",
            "34/34 [==============================] - 0s 2ms/step - loss: 3630.6111 - mae: 3630.6111\n",
            "Epoch 102/200\n",
            "34/34 [==============================] - 0s 2ms/step - loss: 3628.2310 - mae: 3628.2310\n",
            "Epoch 103/200\n",
            "34/34 [==============================] - 0s 2ms/step - loss: 3627.0903 - mae: 3627.0903\n",
            "Epoch 104/200\n",
            "34/34 [==============================] - 0s 2ms/step - loss: 3624.7549 - mae: 3624.7549\n",
            "Epoch 105/200\n",
            "34/34 [==============================] - 0s 2ms/step - loss: 3623.0212 - mae: 3623.0212\n",
            "Epoch 106/200\n",
            "34/34 [==============================] - 0s 2ms/step - loss: 3621.7302 - mae: 3621.7302\n",
            "Epoch 107/200\n",
            "34/34 [==============================] - 0s 2ms/step - loss: 3620.9084 - mae: 3620.9084\n",
            "Epoch 108/200\n",
            "34/34 [==============================] - 0s 2ms/step - loss: 3618.6228 - mae: 3618.6228\n",
            "Epoch 109/200\n",
            "34/34 [==============================] - 0s 2ms/step - loss: 3618.9434 - mae: 3618.9434\n",
            "Epoch 110/200\n",
            "34/34 [==============================] - 0s 2ms/step - loss: 3615.3071 - mae: 3615.3071\n",
            "Epoch 111/200\n",
            "34/34 [==============================] - 0s 2ms/step - loss: 3612.6814 - mae: 3612.6814\n",
            "Epoch 112/200\n",
            "34/34 [==============================] - 0s 2ms/step - loss: 3610.6697 - mae: 3610.6697\n",
            "Epoch 113/200\n",
            "34/34 [==============================] - 0s 2ms/step - loss: 3609.1460 - mae: 3609.1460\n",
            "Epoch 114/200\n",
            "34/34 [==============================] - 0s 2ms/step - loss: 3608.2310 - mae: 3608.2310\n",
            "Epoch 115/200\n",
            "34/34 [==============================] - 0s 2ms/step - loss: 3606.5820 - mae: 3606.5820\n",
            "Epoch 116/200\n",
            "34/34 [==============================] - 0s 2ms/step - loss: 3604.9058 - mae: 3604.9058\n",
            "Epoch 117/200\n",
            "34/34 [==============================] - 0s 2ms/step - loss: 3601.9023 - mae: 3601.9023\n",
            "Epoch 118/200\n",
            "34/34 [==============================] - 0s 2ms/step - loss: 3598.1030 - mae: 3598.1030\n",
            "Epoch 119/200\n",
            "34/34 [==============================] - 0s 2ms/step - loss: 3600.3425 - mae: 3600.3425\n",
            "Epoch 120/200\n",
            "34/34 [==============================] - 0s 2ms/step - loss: 3597.2612 - mae: 3597.2612\n",
            "Epoch 121/200\n",
            "34/34 [==============================] - 0s 2ms/step - loss: 3592.4443 - mae: 3592.4443\n",
            "Epoch 122/200\n",
            "34/34 [==============================] - 0s 2ms/step - loss: 3591.6770 - mae: 3591.6770\n",
            "Epoch 123/200\n",
            "34/34 [==============================] - 0s 2ms/step - loss: 3589.6880 - mae: 3589.6880\n",
            "Epoch 124/200\n",
            "34/34 [==============================] - 0s 2ms/step - loss: 3587.3613 - mae: 3587.3613\n",
            "Epoch 125/200\n",
            "34/34 [==============================] - 0s 2ms/step - loss: 3585.3994 - mae: 3585.3994\n",
            "Epoch 126/200\n",
            "34/34 [==============================] - 0s 2ms/step - loss: 3584.3484 - mae: 3584.3484\n",
            "Epoch 127/200\n",
            "34/34 [==============================] - 0s 2ms/step - loss: 3584.5850 - mae: 3584.5850\n",
            "Epoch 128/200\n",
            "34/34 [==============================] - 0s 2ms/step - loss: 3581.1113 - mae: 3581.1113\n",
            "Epoch 129/200\n",
            "34/34 [==============================] - 0s 2ms/step - loss: 3579.6560 - mae: 3579.6560\n",
            "Epoch 130/200\n",
            "34/34 [==============================] - 0s 2ms/step - loss: 3575.9749 - mae: 3575.9749\n",
            "Epoch 131/200\n",
            "34/34 [==============================] - 0s 2ms/step - loss: 3574.6758 - mae: 3574.6758\n",
            "Epoch 132/200\n",
            "34/34 [==============================] - 0s 2ms/step - loss: 3571.6262 - mae: 3571.6262\n",
            "Epoch 133/200\n",
            "34/34 [==============================] - 0s 2ms/step - loss: 3570.1128 - mae: 3570.1128\n",
            "Epoch 134/200\n",
            "34/34 [==============================] - 0s 2ms/step - loss: 3568.0986 - mae: 3568.0986\n",
            "Epoch 135/200\n",
            "34/34 [==============================] - 0s 2ms/step - loss: 3566.0952 - mae: 3566.0952\n",
            "Epoch 136/200\n",
            "34/34 [==============================] - 0s 2ms/step - loss: 3564.6709 - mae: 3564.6709\n",
            "Epoch 137/200\n",
            "34/34 [==============================] - 0s 2ms/step - loss: 3563.0688 - mae: 3563.0688\n",
            "Epoch 138/200\n",
            "34/34 [==============================] - 0s 2ms/step - loss: 3560.9512 - mae: 3560.9512\n",
            "Epoch 139/200\n",
            "34/34 [==============================] - 0s 2ms/step - loss: 3560.1387 - mae: 3560.1387\n",
            "Epoch 140/200\n",
            "34/34 [==============================] - 0s 2ms/step - loss: 3558.0388 - mae: 3558.0388\n",
            "Epoch 141/200\n",
            "34/34 [==============================] - 0s 2ms/step - loss: 3558.0161 - mae: 3558.0161\n",
            "Epoch 142/200\n",
            "34/34 [==============================] - 0s 2ms/step - loss: 3555.3425 - mae: 3555.3425\n",
            "Epoch 143/200\n",
            "34/34 [==============================] - 0s 2ms/step - loss: 3555.5137 - mae: 3555.5137\n",
            "Epoch 144/200\n",
            "34/34 [==============================] - 0s 2ms/step - loss: 3552.5759 - mae: 3552.5759\n",
            "Epoch 145/200\n",
            "34/34 [==============================] - 0s 2ms/step - loss: 3550.7520 - mae: 3550.7520\n",
            "Epoch 146/200\n",
            "34/34 [==============================] - 0s 2ms/step - loss: 3550.9812 - mae: 3550.9812\n",
            "Epoch 147/200\n",
            "34/34 [==============================] - 0s 2ms/step - loss: 3548.4204 - mae: 3548.4204\n",
            "Epoch 148/200\n",
            "34/34 [==============================] - 0s 2ms/step - loss: 3547.1279 - mae: 3547.1279\n",
            "Epoch 149/200\n",
            "34/34 [==============================] - 0s 2ms/step - loss: 3544.2854 - mae: 3544.2854\n",
            "Epoch 150/200\n",
            "34/34 [==============================] - 0s 2ms/step - loss: 3543.9531 - mae: 3543.9531\n",
            "Epoch 151/200\n",
            "34/34 [==============================] - 0s 2ms/step - loss: 3542.4043 - mae: 3542.4043\n",
            "Epoch 152/200\n",
            "34/34 [==============================] - 0s 2ms/step - loss: 3540.6421 - mae: 3540.6421\n",
            "Epoch 153/200\n",
            "34/34 [==============================] - 0s 2ms/step - loss: 3539.1902 - mae: 3539.1902\n",
            "Epoch 154/200\n",
            "34/34 [==============================] - 0s 3ms/step - loss: 3540.5696 - mae: 3540.5696\n",
            "Epoch 155/200\n",
            "34/34 [==============================] - 0s 2ms/step - loss: 3538.0027 - mae: 3538.0027\n",
            "Epoch 156/200\n",
            "34/34 [==============================] - 0s 2ms/step - loss: 3536.2776 - mae: 3536.2776\n",
            "Epoch 157/200\n",
            "34/34 [==============================] - 0s 2ms/step - loss: 3534.6416 - mae: 3534.6416\n",
            "Epoch 158/200\n",
            "34/34 [==============================] - 0s 2ms/step - loss: 3531.8130 - mae: 3531.8130\n",
            "Epoch 159/200\n",
            "34/34 [==============================] - 0s 2ms/step - loss: 3530.2424 - mae: 3530.2424\n",
            "Epoch 160/200\n",
            "34/34 [==============================] - 0s 2ms/step - loss: 3529.9194 - mae: 3529.9194\n",
            "Epoch 161/200\n",
            "34/34 [==============================] - 0s 2ms/step - loss: 3526.8113 - mae: 3526.8113\n",
            "Epoch 162/200\n",
            "34/34 [==============================] - 0s 2ms/step - loss: 3526.3242 - mae: 3526.3242\n",
            "Epoch 163/200\n",
            "34/34 [==============================] - 0s 2ms/step - loss: 3525.0120 - mae: 3525.0120\n",
            "Epoch 164/200\n",
            "34/34 [==============================] - 0s 2ms/step - loss: 3523.9390 - mae: 3523.9390\n",
            "Epoch 165/200\n",
            "34/34 [==============================] - 0s 2ms/step - loss: 3522.0215 - mae: 3522.0215\n",
            "Epoch 166/200\n",
            "34/34 [==============================] - 0s 2ms/step - loss: 3520.4053 - mae: 3520.4053\n",
            "Epoch 167/200\n",
            "34/34 [==============================] - 0s 2ms/step - loss: 3519.5627 - mae: 3519.5627\n",
            "Epoch 168/200\n",
            "34/34 [==============================] - 0s 2ms/step - loss: 3518.2869 - mae: 3518.2869\n",
            "Epoch 169/200\n",
            "34/34 [==============================] - 0s 2ms/step - loss: 3517.1255 - mae: 3517.1255\n",
            "Epoch 170/200\n",
            "34/34 [==============================] - 0s 2ms/step - loss: 3515.5686 - mae: 3515.5686\n",
            "Epoch 171/200\n",
            "34/34 [==============================] - 0s 2ms/step - loss: 3515.2317 - mae: 3515.2317\n",
            "Epoch 172/200\n",
            "34/34 [==============================] - 0s 2ms/step - loss: 3513.5088 - mae: 3513.5088\n",
            "Epoch 173/200\n",
            "34/34 [==============================] - 0s 2ms/step - loss: 3512.2603 - mae: 3512.2603\n",
            "Epoch 174/200\n",
            "34/34 [==============================] - 0s 2ms/step - loss: 3511.1365 - mae: 3511.1365\n",
            "Epoch 175/200\n",
            "34/34 [==============================] - 0s 2ms/step - loss: 3509.7036 - mae: 3509.7036\n",
            "Epoch 176/200\n",
            "34/34 [==============================] - 0s 2ms/step - loss: 3509.8630 - mae: 3509.8630\n",
            "Epoch 177/200\n",
            "34/34 [==============================] - 0s 2ms/step - loss: 3510.1174 - mae: 3510.1174\n",
            "Epoch 178/200\n",
            "34/34 [==============================] - 0s 2ms/step - loss: 3507.5356 - mae: 3507.5354\n",
            "Epoch 179/200\n",
            "34/34 [==============================] - 0s 2ms/step - loss: 3509.4131 - mae: 3509.4131\n",
            "Epoch 180/200\n",
            "34/34 [==============================] - 0s 2ms/step - loss: 3504.5144 - mae: 3504.5144\n",
            "Epoch 181/200\n",
            "34/34 [==============================] - 0s 2ms/step - loss: 3502.4468 - mae: 3502.4468\n",
            "Epoch 182/200\n",
            "34/34 [==============================] - 0s 2ms/step - loss: 3501.8572 - mae: 3501.8572\n",
            "Epoch 183/200\n",
            "34/34 [==============================] - 0s 2ms/step - loss: 3499.9729 - mae: 3499.9729\n",
            "Epoch 184/200\n",
            "34/34 [==============================] - 0s 2ms/step - loss: 3499.2869 - mae: 3499.2869\n",
            "Epoch 185/200\n",
            "34/34 [==============================] - 0s 2ms/step - loss: 3498.9580 - mae: 3498.9580\n",
            "Epoch 186/200\n",
            "34/34 [==============================] - 0s 2ms/step - loss: 3496.3337 - mae: 3496.3337\n",
            "Epoch 187/200\n",
            "34/34 [==============================] - 0s 2ms/step - loss: 3496.6519 - mae: 3496.6519\n",
            "Epoch 188/200\n",
            "34/34 [==============================] - 0s 3ms/step - loss: 3493.8318 - mae: 3493.8318\n",
            "Epoch 189/200\n",
            "34/34 [==============================] - 0s 3ms/step - loss: 3492.1880 - mae: 3492.1880\n",
            "Epoch 190/200\n",
            "34/34 [==============================] - 0s 3ms/step - loss: 3493.8945 - mae: 3493.8945\n",
            "Epoch 191/200\n",
            "34/34 [==============================] - 0s 3ms/step - loss: 3499.4358 - mae: 3499.4358\n",
            "Epoch 192/200\n",
            "34/34 [==============================] - 0s 4ms/step - loss: 3489.0742 - mae: 3489.0742\n",
            "Epoch 193/200\n",
            "34/34 [==============================] - 0s 4ms/step - loss: 3489.0200 - mae: 3489.0200\n",
            "Epoch 194/200\n",
            "34/34 [==============================] - 0s 3ms/step - loss: 3486.0342 - mae: 3486.0342\n",
            "Epoch 195/200\n",
            "34/34 [==============================] - 0s 3ms/step - loss: 3485.2639 - mae: 3485.2639\n",
            "Epoch 196/200\n",
            "34/34 [==============================] - 0s 3ms/step - loss: 3486.4319 - mae: 3486.4319\n",
            "Epoch 197/200\n",
            "34/34 [==============================] - 0s 4ms/step - loss: 3483.3501 - mae: 3483.3501\n",
            "Epoch 198/200\n",
            "34/34 [==============================] - 0s 3ms/step - loss: 3481.7427 - mae: 3481.7427\n",
            "Epoch 199/200\n",
            "34/34 [==============================] - 0s 3ms/step - loss: 3480.5842 - mae: 3480.5842\n",
            "Epoch 200/200\n",
            "34/34 [==============================] - 0s 3ms/step - loss: 3481.2698 - mae: 3481.2698\n"
          ]
        }
      ]
    },
    {
      "cell_type": "code",
      "source": [
        "y_p = model.predict(X_test_normal)\n",
        "y_p"
      ],
      "metadata": {
        "colab": {
          "base_uri": "https://localhost:8080/"
        },
        "id": "mldjARf6Vsw2",
        "outputId": "87ab17bc-bbf5-41cf-d876-5b47d07e666a"
      },
      "execution_count": null,
      "outputs": [
        {
          "output_type": "stream",
          "name": "stdout",
          "text": [
            "9/9 [==============================] - 0s 3ms/step\n"
          ]
        },
        {
          "output_type": "execute_result",
          "data": {
            "text/plain": [
              "array([[ 9399.043  ],\n",
              "       [ 6097.839  ],\n",
              "       [44168.008  ],\n",
              "       [ 9349.388  ],\n",
              "       [31887.316  ],\n",
              "       [ 5792.662  ],\n",
              "       [ 1154.42   ],\n",
              "       [13576.823  ],\n",
              "       [ 3625.0923 ],\n",
              "       [10302.734  ],\n",
              "       [35307.258  ],\n",
              "       [ 7842.064  ],\n",
              "       [ 4313.997  ],\n",
              "       [40594.484  ],\n",
              "       [43067.93   ],\n",
              "       [40287.047  ],\n",
              "       [10748.451  ],\n",
              "       [40205.293  ],\n",
              "       [ 8805.448  ],\n",
              "       [38524.684  ],\n",
              "       [ 4047.7793 ],\n",
              "       [ 8102.3228 ],\n",
              "       [  731.337  ],\n",
              "       [ 3137.7595 ],\n",
              "       [10982.429  ],\n",
              "       [11381.08   ],\n",
              "       [12423.554  ],\n",
              "       [ 4915.5767 ],\n",
              "       [10007.708  ],\n",
              "       [  540.23334],\n",
              "       [ 8382.23   ],\n",
              "       [11831.353  ],\n",
              "       [ 2022.2223 ],\n",
              "       [ 5199.5923 ],\n",
              "       [ 2998.2292 ],\n",
              "       [ 8879.092  ],\n",
              "       [ 1914.1418 ],\n",
              "       [ 8001.0835 ],\n",
              "       [41211.363  ],\n",
              "       [36738.37   ],\n",
              "       [ 3109.703  ],\n",
              "       [ 2368.4062 ],\n",
              "       [11789.385  ],\n",
              "       [11611.314  ],\n",
              "       [ 5663.0464 ],\n",
              "       [11741.386  ],\n",
              "       [ 3058.8257 ],\n",
              "       [ 3695.671  ],\n",
              "       [39469.496  ],\n",
              "       [ 5257.5054 ],\n",
              "       [13380.32   ],\n",
              "       [  907.5299 ],\n",
              "       [ 8148.171  ],\n",
              "       [  939.8213 ],\n",
              "       [10966.324  ],\n",
              "       [10649.775  ],\n",
              "       [ 4131.347  ],\n",
              "       [36452.81   ],\n",
              "       [11786.155  ],\n",
              "       [11140.832  ],\n",
              "       [13064.846  ],\n",
              "       [ 5664.5747 ],\n",
              "       [13520.119  ],\n",
              "       [ 8270.168  ],\n",
              "       [10753.428  ],\n",
              "       [ 4149.6514 ],\n",
              "       [33359.418  ],\n",
              "       [10707.474  ],\n",
              "       [ 3172.5698 ],\n",
              "       [ 1992.2406 ],\n",
              "       [ 7266.0933 ],\n",
              "       [10023.801  ],\n",
              "       [ 9200.97   ],\n",
              "       [ 7105.0312 ],\n",
              "       [ 8328.728  ],\n",
              "       [ 5805.822  ],\n",
              "       [ 4898.503  ],\n",
              "       [11254.066  ],\n",
              "       [ 4621.433  ],\n",
              "       [ 9140.219  ],\n",
              "       [ 1237.0927 ],\n",
              "       [43494.793  ],\n",
              "       [ 5445.8335 ],\n",
              "       [34763.773  ],\n",
              "       [33844.613  ],\n",
              "       [40526.383  ],\n",
              "       [ 5053.7617 ],\n",
              "       [10901.917  ],\n",
              "       [ 8823.72   ],\n",
              "       [11395.268  ],\n",
              "       [14613.041  ],\n",
              "       [43686.355  ],\n",
              "       [40280.59   ],\n",
              "       [ 5320.8037 ],\n",
              "       [35959.66   ],\n",
              "       [ 7544.877  ],\n",
              "       [35350.145  ],\n",
              "       [ 1660.0513 ],\n",
              "       [36087.117  ],\n",
              "       [ 6626.301  ],\n",
              "       [ 4810.5337 ],\n",
              "       [ 1095.8323 ],\n",
              "       [ 7226.6978 ],\n",
              "       [12176.472  ],\n",
              "       [12371.773  ],\n",
              "       [ 1198.8472 ],\n",
              "       [ 8366.23   ],\n",
              "       [40186.445  ],\n",
              "       [  707.21716],\n",
              "       [41130.605  ],\n",
              "       [  866.2523 ],\n",
              "       [ 3914.829  ],\n",
              "       [12847.53   ],\n",
              "       [37076.676  ],\n",
              "       [10348.264  ],\n",
              "       [ 1535.7574 ],\n",
              "       [12349.889  ],\n",
              "       [38949.348  ],\n",
              "       [ 6930.068  ],\n",
              "       [ 2437.7607 ],\n",
              "       [ 6440.7427 ],\n",
              "       [ 8022.452  ],\n",
              "       [11939.987  ],\n",
              "       [ 2438.4314 ],\n",
              "       [ 4450.9893 ],\n",
              "       [ 8404.936  ],\n",
              "       [ 8378.521  ],\n",
              "       [ 9861.346  ],\n",
              "       [12250.438  ],\n",
              "       [ 2472.0125 ],\n",
              "       [ 4681.434  ],\n",
              "       [ 6534.8223 ],\n",
              "       [ 6645.45   ],\n",
              "       [ 9242.589  ],\n",
              "       [ 6665.3022 ],\n",
              "       [12221.083  ],\n",
              "       [ 5426.4795 ],\n",
              "       [37594.523  ],\n",
              "       [39396.28   ],\n",
              "       [37420.12   ],\n",
              "       [ 5941.1855 ],\n",
              "       [10636.602  ],\n",
              "       [ 2953.9048 ],\n",
              "       [11584.073  ],\n",
              "       [ 2201.4783 ],\n",
              "       [40067.312  ],\n",
              "       [ 5535.5767 ],\n",
              "       [ 4330.581  ],\n",
              "       [11664.151  ],\n",
              "       [ 5441.78   ],\n",
              "       [42927.734  ],\n",
              "       [ 2509.4128 ],\n",
              "       [ 1089.8887 ],\n",
              "       [36185.21   ],\n",
              "       [ 7567.99   ],\n",
              "       [ 5666.7275 ],\n",
              "       [13062.988  ],\n",
              "       [ 9140.138  ],\n",
              "       [32099.209  ],\n",
              "       [38292.33   ],\n",
              "       [13224.819  ],\n",
              "       [ 1721.5911 ],\n",
              "       [13395.864  ],\n",
              "       [ 2202.7698 ],\n",
              "       [ 3138.5002 ],\n",
              "       [ 8153.067  ],\n",
              "       [44062.047  ],\n",
              "       [42500.52   ],\n",
              "       [39296.04   ],\n",
              "       [ 2778.166  ],\n",
              "       [ 9183.731  ],\n",
              "       [ 7056.084  ],\n",
              "       [ 7409.1255 ],\n",
              "       [ 4516.392  ],\n",
              "       [ 1812.0774 ],\n",
              "       [39205.207  ],\n",
              "       [31298.814  ],\n",
              "       [13418.472  ],\n",
              "       [35924.49   ],\n",
              "       [11399.373  ],\n",
              "       [44255.195  ],\n",
              "       [ 2126.0225 ],\n",
              "       [ 8498.017  ],\n",
              "       [ 5772.398  ],\n",
              "       [ 4932.777  ],\n",
              "       [ 3039.2285 ],\n",
              "       [ 4477.259  ],\n",
              "       [ 3991.8955 ],\n",
              "       [ 9937.138  ],\n",
              "       [10645.577  ],\n",
              "       [ 3358.3623 ],\n",
              "       [ 1531.1742 ],\n",
              "       [ 2307.0305 ],\n",
              "       [35764.84   ],\n",
              "       [12798.564  ],\n",
              "       [10045.636  ],\n",
              "       [ 1659.88   ],\n",
              "       [12002.744  ],\n",
              "       [ 1388.7637 ],\n",
              "       [ 9261.553  ],\n",
              "       [ 3021.2864 ],\n",
              "       [40527.53   ],\n",
              "       [ 5280.092  ],\n",
              "       [ 1763.8674 ],\n",
              "       [32460.408  ],\n",
              "       [33831.305  ],\n",
              "       [ 9240.219  ],\n",
              "       [ 3116.2148 ],\n",
              "       [ 9102.309  ],\n",
              "       [ 2709.2354 ],\n",
              "       [11836.992  ],\n",
              "       [11558.101  ],\n",
              "       [10811.805  ],\n",
              "       [33238.555  ],\n",
              "       [ 7005.491  ],\n",
              "       [ 4694.219  ],\n",
              "       [ 5322.9565 ],\n",
              "       [13099.484  ],\n",
              "       [11986.     ],\n",
              "       [ 6157.23   ],\n",
              "       [ 2351.7156 ],\n",
              "       [ 8282.929  ],\n",
              "       [ 7682.3994 ],\n",
              "       [39168.156  ],\n",
              "       [ 2000.61   ],\n",
              "       [34006.87   ],\n",
              "       [  681.09216],\n",
              "       [ 1118.4688 ],\n",
              "       [ 9808.587  ],\n",
              "       [11499.534  ],\n",
              "       [ 1681.7119 ],\n",
              "       [ 9530.657  ],\n",
              "       [ 4379.808  ],\n",
              "       [37753.316  ],\n",
              "       [ 9813.629  ],\n",
              "       [ 9206.141  ],\n",
              "       [ 3825.3613 ],\n",
              "       [ 7097.0024 ],\n",
              "       [39454.305  ],\n",
              "       [ 1796.538  ],\n",
              "       [12276.656  ],\n",
              "       [35187.406  ],\n",
              "       [ 3364.9226 ],\n",
              "       [ 3524.2976 ],\n",
              "       [  847.88855],\n",
              "       [ 3023.311  ],\n",
              "       [ 4255.987  ],\n",
              "       [ 4685.5596 ],\n",
              "       [12975.329  ],\n",
              "       [  463.3796 ],\n",
              "       [ 1399.54   ],\n",
              "       [ 7836.8213 ],\n",
              "       [ 3359.4956 ],\n",
              "       [11665.096  ],\n",
              "       [ 2025.4006 ],\n",
              "       [ 3370.9956 ],\n",
              "       [11674.299  ],\n",
              "       [ 3571.4944 ],\n",
              "       [ 9090.053  ],\n",
              "       [ 6308.434  ],\n",
              "       [ 8323.615  ],\n",
              "       [12369.858  ],\n",
              "       [33611.72   ],\n",
              "       [43582.8    ],\n",
              "       [11867.478  ],\n",
              "       [ 6815.1265 ],\n",
              "       [42219.297  ],\n",
              "       [10365.785  ]], dtype=float32)"
            ]
          },
          "metadata": {},
          "execution_count": 79
        }
      ]
    },
    {
      "cell_type": "code",
      "source": [
        "calculate_mae(y_test, y_p)\n",
        "y_test.mean()"
      ],
      "metadata": {
        "colab": {
          "base_uri": "https://localhost:8080/"
        },
        "id": "zrmFyvS0V2kS",
        "outputId": "68671668-bbb5-4210-dc0d-7f56919be0a4"
      },
      "execution_count": null,
      "outputs": [
        {
          "output_type": "stream",
          "name": "stdout",
          "text": [
            "This is the mean absolute error of the model: 3168.203857421875\n"
          ]
        },
        {
          "output_type": "execute_result",
          "data": {
            "text/plain": [
              "12968.317062869404"
            ]
          },
          "metadata": {},
          "execution_count": 81
        }
      ]
    },
    {
      "cell_type": "code",
      "source": [
        "plot_predict(X_test[\"age\"], y_test, y_p)"
      ],
      "metadata": {
        "colab": {
          "base_uri": "https://localhost:8080/",
          "height": 428
        },
        "id": "kscMaHWTWWR7",
        "outputId": "d3fd48ab-06b9-40c9-d52b-139d2cc67cbe"
      },
      "execution_count": null,
      "outputs": [
        {
          "output_type": "display_data",
          "data": {
            "text/plain": [
              "<Figure size 720x504 with 1 Axes>"
            ],
            "image/png": "[encoded data removed]"
          },
          "metadata": {
            "needs_background": "light"
          }
        }
      ]
    },
    {
      "cell_type": "markdown",
      "source": [
        "4. Import the Boston pricing dataset from TensorFlow tf.keras.datasets and model it."
      ],
      "metadata": {
        "id": "_ZD4iUY9gJ0I"
      }
    },
    {
      "cell_type": "code",
      "source": [
        "train, test = tf.keras.datasets.boston_housing.load_data()"
      ],
      "metadata": {
        "colab": {
          "base_uri": "https://localhost:8080/"
        },
        "id": "iOpCBJQOgMdA",
        "outputId": "ecb8262e-7108-4285-a782-eb67c6fb9153"
      },
      "execution_count": null,
      "outputs": [
        {
          "output_type": "stream",
          "name": "stdout",
          "text": [
            "Downloading data from https://storage.googleapis.com/tensorflow/tf-keras-datasets/boston_housing.npz\n",
            "57026/57026 [==============================] - 0s 0us/step\n"
          ]
        }
      ]
    },
    {
      "cell_type": "code",
      "source": [
        "X_train, y_train = train[:]\n",
        "X_test, y_test = test[:]"
      ],
      "metadata": {
        "id": "W3SNlwhSgWax"
      },
      "execution_count": null,
      "outputs": []
    },
    {
      "cell_type": "code",
      "source": [
        "X_train.shape, y_train.shape, X_test.shape, y_test.shape"
      ],
      "metadata": {
        "colab": {
          "base_uri": "https://localhost:8080/"
        },
        "id": "fz6UpX3b5afe",
        "outputId": "a6fff300-0cb1-4968-c1f4-736f4b9298f1"
      },
      "execution_count": null,
      "outputs": [
        {
          "output_type": "execute_result",
          "data": {
            "text/plain": [
              "((404, 13), (404,), (102, 13), (102,))"
            ]
          },
          "metadata": {},
          "execution_count": 17
        }
      ]
    },
    {
      "cell_type": "code",
      "source": [
        "tf.random.set_seed(42)\n",
        "\n",
        "model = tf.keras.models.Sequential([\n",
        "    tf.keras.layers.Dense(13),\n",
        "    tf.keras.layers.Dense(1)\n",
        "])\n",
        "\n",
        "model.compile(loss=tf.keras.losses.mae,\n",
        "              optimizer=tf.keras.optimizers.Adam(),\n",
        "              metrics=[\"mae\"])\n",
        "\n",
        "history = model.fit(X_train, y_train, epochs=30)"
      ],
      "metadata": {
        "colab": {
          "base_uri": "https://localhost:8080/"
        },
        "id": "SWLiRmMb57YT",
        "outputId": "6a3442bc-2ca5-4c64-9132-3f820ec64a1e"
      },
      "execution_count": null,
      "outputs": [
        {
          "output_type": "stream",
          "name": "stdout",
          "text": [
            "Epoch 1/30\n",
            "13/13 [==============================] - 1s 5ms/step - loss: 42.9021 - mae: 42.9021\n",
            "Epoch 2/30\n",
            "13/13 [==============================] - 0s 3ms/step - loss: 27.3691 - mae: 27.3691\n",
            "Epoch 3/30\n",
            "13/13 [==============================] - 0s 3ms/step - loss: 20.0607 - mae: 20.0607\n",
            "Epoch 4/30\n",
            "13/13 [==============================] - 0s 6ms/step - loss: 14.3223 - mae: 14.3223\n",
            "Epoch 5/30\n",
            "13/13 [==============================] - 0s 3ms/step - loss: 11.6602 - mae: 11.6602\n",
            "Epoch 6/30\n",
            "13/13 [==============================] - 0s 3ms/step - loss: 10.6978 - mae: 10.6978\n",
            "Epoch 7/30\n",
            "13/13 [==============================] - 0s 4ms/step - loss: 10.1407 - mae: 10.1407\n",
            "Epoch 8/30\n",
            "13/13 [==============================] - 0s 3ms/step - loss: 9.7379 - mae: 9.7379\n",
            "Epoch 9/30\n",
            "13/13 [==============================] - 0s 3ms/step - loss: 9.1684 - mae: 9.1684\n",
            "Epoch 10/30\n",
            "13/13 [==============================] - 0s 3ms/step - loss: 8.9321 - mae: 8.9321\n",
            "Epoch 11/30\n",
            "13/13 [==============================] - 0s 4ms/step - loss: 8.5377 - mae: 8.5377\n",
            "Epoch 12/30\n",
            "13/13 [==============================] - 0s 3ms/step - loss: 8.0323 - mae: 8.0323\n",
            "Epoch 13/30\n",
            "13/13 [==============================] - 0s 4ms/step - loss: 7.7906 - mae: 7.7906\n",
            "Epoch 14/30\n",
            "13/13 [==============================] - 0s 4ms/step - loss: 7.4820 - mae: 7.4820\n",
            "Epoch 15/30\n",
            "13/13 [==============================] - 0s 5ms/step - loss: 7.3644 - mae: 7.3644\n",
            "Epoch 16/30\n",
            "13/13 [==============================] - 0s 4ms/step - loss: 7.2052 - mae: 7.2052\n",
            "Epoch 17/30\n",
            "13/13 [==============================] - 0s 4ms/step - loss: 6.8438 - mae: 6.8438\n",
            "Epoch 18/30\n",
            "13/13 [==============================] - 0s 6ms/step - loss: 6.6467 - mae: 6.6467\n",
            "Epoch 19/30\n",
            "13/13 [==============================] - 0s 3ms/step - loss: 6.5048 - mae: 6.5048\n",
            "Epoch 20/30\n",
            "13/13 [==============================] - 0s 3ms/step - loss: 6.5541 - mae: 6.5541\n",
            "Epoch 21/30\n",
            "13/13 [==============================] - 0s 6ms/step - loss: 6.4154 - mae: 6.4154\n",
            "Epoch 22/30\n",
            "13/13 [==============================] - 0s 4ms/step - loss: 6.3772 - mae: 6.3772\n",
            "Epoch 23/30\n",
            "13/13 [==============================] - 0s 3ms/step - loss: 6.3463 - mae: 6.3463\n",
            "Epoch 24/30\n",
            "13/13 [==============================] - 0s 3ms/step - loss: 6.3252 - mae: 6.3252\n",
            "Epoch 25/30\n",
            "13/13 [==============================] - 0s 11ms/step - loss: 6.0753 - mae: 6.0753\n",
            "Epoch 26/30\n",
            "13/13 [==============================] - 0s 8ms/step - loss: 5.9983 - mae: 5.9983\n",
            "Epoch 27/30\n",
            "13/13 [==============================] - 0s 7ms/step - loss: 6.0132 - mae: 6.0132\n",
            "Epoch 28/30\n",
            "13/13 [==============================] - 0s 7ms/step - loss: 5.9252 - mae: 5.9252\n",
            "Epoch 29/30\n",
            "13/13 [==============================] - 0s 7ms/step - loss: 5.8502 - mae: 5.8502\n",
            "Epoch 30/30\n",
            "13/13 [==============================] - 0s 6ms/step - loss: 5.9150 - mae: 5.9150\n"
          ]
        }
      ]
    },
    {
      "cell_type": "code",
      "source": [
        "pd.DataFrame(history.history).plot()"
      ],
      "metadata": {
        "colab": {
          "base_uri": "https://localhost:8080/",
          "height": 282
        },
        "id": "7FkHT3rr8i_n",
        "outputId": "d621cfaa-c96e-4f22-9848-1b6383bdaddf"
      },
      "execution_count": null,
      "outputs": [
        {
          "output_type": "execute_result",
          "data": {
            "text/plain": [
              "<AxesSubplot:>"
            ]
          },
          "metadata": {},
          "execution_count": 42
        },
        {
          "output_type": "display_data",
          "data": {
            "text/plain": [
              "<Figure size 432x288 with 1 Axes>"
            ],
            "image/png": "[encoded data removed]"
          },
          "metadata": {
            "needs_background": "light"
          }
        }
      ]
    },
    {
      "cell_type": "code",
      "source": [
        "y_predict = model.predict(X_test)"
      ],
      "metadata": {
        "colab": {
          "base_uri": "https://localhost:8080/"
        },
        "id": "XpjQjqPc62V_",
        "outputId": "bfe5a264-9137-4b22-a00d-0f1ea42c96c3"
      },
      "execution_count": null,
      "outputs": [
        {
          "output_type": "stream",
          "name": "stdout",
          "text": [
            "4/4 [==============================] - 0s 5ms/step\n"
          ]
        }
      ]
    },
    {
      "cell_type": "code",
      "source": [
        "calculate_mae(y_test, y_predict)\n",
        "y_test.mean()"
      ],
      "metadata": {
        "colab": {
          "base_uri": "https://localhost:8080/"
        },
        "id": "sjSa2LqO7GZ8",
        "outputId": "fb1162c9-8a35-4dea-836a-bf0eddf865a5"
      },
      "execution_count": null,
      "outputs": [
        {
          "output_type": "stream",
          "name": "stdout",
          "text": [
            "This is the mean absolute error of the model: 6.25892972946167\n"
          ]
        },
        {
          "output_type": "execute_result",
          "data": {
            "text/plain": [
              "23.07843137254902"
            ]
          },
          "metadata": {},
          "execution_count": 44
        }
      ]
    }
  ]
}